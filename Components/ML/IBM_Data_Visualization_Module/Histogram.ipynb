{
 "cells": [
  {
   "cell_type": "markdown",
   "metadata": {},
   "source": [
    "**Histogram: A histogram, is a graphical representation of the distribution of a data set, showing the frequency or relative frequency of values within specific intervals.It consists of bars, where the height represents the data count in each interval.**\n",
    "\n",
    "**Use Age:**\n",
    "- **<span style=\"color:red\"> While comparing the distribution of a continuous variable across different categories or groups. For example, employees salaries across departments</span>**\n",
    "- **<span style=\"color:red\"> Histograms offer valuable insights into data distribution, outliers, skewness and variability. </span>**"
   ]
  },
  {
   "cell_type": "markdown",
   "metadata": {},
   "source": []
  }
 ],
 "metadata": {
  "language_info": {
   "name": "python"
  }
 },
 "nbformat": 4,
 "nbformat_minor": 2
}
