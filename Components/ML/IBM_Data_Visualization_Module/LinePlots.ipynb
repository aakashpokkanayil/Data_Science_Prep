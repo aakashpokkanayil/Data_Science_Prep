{
 "cells": [
  {
   "cell_type": "markdown",
   "metadata": {},
   "source": [
    "**Line Plots: displays data as a series of data points connected by straight lines.**\n",
    "\n",
    "**Use Age:**\n",
    "- **<span style=\"color:red\"> Display Trent Over Time</span>**\n",
    "- **<span style=\"color:red\"> Compare datasets with a continuous independent variable like age or time. </span>**\n",
    "- **<span style=\"color:red\">Line plots illustrate cause and effect relationships, such as sales revenue changes based on marketing budget.</span>**"
   ]
  },
  {
   "cell_type": "markdown",
   "metadata": {},
   "source": []
  }
 ],
 "metadata": {
  "language_info": {
   "name": "python"
  }
 },
 "nbformat": 4,
 "nbformat_minor": 2
}
