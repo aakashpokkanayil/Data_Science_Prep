{
 "cells": [
  {
   "cell_type": "markdown",
   "metadata": {},
   "source": [
    "**Scatter Plots: The data points are displayed as a collection of points, where one variable's value determines the position on the horizontal axis and the other variable's value determines the position on the vertical axis.**\n",
    "\n",
    "**Use Age:**\n",
    "- **<span style=\"color:red\"> Ideal for examining the relationship between two continuous variables like temperature and energy consumption.</span>**\n",
    "- **<span style=\"color:red\"> Investigating patterns or trends in data, such as house prices versus size. </span>**\n",
    "- **<span style=\"color:red\"> detecting outliers or unusual observations such as outliers in test scores or abnormal stock behavior.  </span>**\n",
    "- **<span style=\"color:red\"> Identify clusters or groups in the data. </span>**\n",
    "\n"
   ]
  },
  {
   "cell_type": "markdown",
   "metadata": {},
   "source": []
  }
 ],
 "metadata": {
  "language_info": {
   "name": "python"
  }
 },
 "nbformat": 4,
 "nbformat_minor": 2
}
