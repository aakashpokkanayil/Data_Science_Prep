{
 "cells": [
  {
   "cell_type": "code",
   "execution_count": 54,
   "metadata": {},
   "outputs": [],
   "source": [
    "#!pip install setuptools\n",
    "#!pip install packaging\n",
    "#!pip install pandas dash\n",
    "#!pip install pandas dash\n",
    "#!pip3 install httpx==0.20 dash plotly\n"
   ]
  },
  {
   "cell_type": "code",
   "execution_count": 55,
   "metadata": {},
   "outputs": [],
   "source": [
    "import pandas as pd\n",
    "import dash \n",
    "from dash.dependencies import Output,Input\n",
    "from dash import html,dcc\n",
    "import plotly.express as px\n",
    "import datetime as dt\n",
    "from dash import no_update\n"
   ]
  },
  {
   "cell_type": "code",
   "execution_count": 56,
   "metadata": {},
   "outputs": [],
   "source": [
    "app=dash.Dash(__name__)"
   ]
  },
  {
   "cell_type": "code",
   "execution_count": 57,
   "metadata": {},
   "outputs": [],
   "source": [
    "df =  pd.read_csv('https://cf-courses-data.s3.us.cloud-object-storage.appdomain.cloud/IBMDeveloperSkillsNetwork-DV0101EN-SkillsNetwork/Data%20Files/Historical_Wildfires.csv')"
   ]
  },
  {
   "cell_type": "code",
   "execution_count": 58,
   "metadata": {},
   "outputs": [],
   "source": [
    "df['Month']=pd.to_datetime(df.Date).dt.month_name()\n",
    "df['Year']=pd.to_datetime(df.Date).dt.year"
   ]
  },
  {
   "cell_type": "code",
   "execution_count": 59,
   "metadata": {},
   "outputs": [],
   "source": [
    "app.layout=html.Div(\n",
    "    children=[\n",
    "    html.H1('Australia Wildfire Dashboard',style={'textAlign': 'center', 'color': '#503D36',\n",
    "                                'font-size': 26}),\n",
    "    \n",
    "    html.Div([\n",
    "        html.Div([\n",
    "            html.H2('Select Region:',style={'margin-right':'2em'}),\n",
    "            dcc.RadioItems([{\"label\":\"New South Wales\",\"value\": \"NSW\"},\n",
    "                                    {\"label\":\"Northern Territory\",\"value\": \"NT\"},\n",
    "                                    {\"label\":\"Queensland\",\"value\": \"QL\"},\n",
    "                                    {\"label\":\"South Australia\",\"value\": \"SA\"},\n",
    "                                    {\"label\":\"Tasmania\",\"value\": \"TA\"},\n",
    "                                    {\"label\":\"Victoria\",\"value\": \"VI\"},\n",
    "                                    {\"label\":\"Western Australia\",\"value\": \"WA\"}],'NSW',id='region'),\n",
    "            ]),\n",
    "         html.Div([\n",
    "             html.H2('Select Year',style={'margin-right':'2em'}),\n",
    "             dcc.Dropdown(df.Year.unique(),value=2005,id='year'),\n",
    "             ]),\n",
    "         html.Div([\n",
    "             html.Div([],id='plot1'),\n",
    "             html.Div([],id='plot2'),\n",
    "             ],style={'display':'flex'}),\n",
    "        \n",
    "    ]),\n",
    "    ]\n",
    ")"
   ]
  },
  {
   "cell_type": "code",
   "execution_count": 60,
   "metadata": {},
   "outputs": [],
   "source": [
    "@app.callback([Output(component_id='plot1',component_property='children'),Output(component_id='plot2',component_property='children')],\n",
    "              [Input(component_id='region',component_property='value'),Input(component_id='year',component_property='value')])\n",
    "def region_year_display(reg,yr):\n",
    "    region_data = df[df['Region'] == reg]\n",
    "    data = region_data[region_data['Year']==yr]\n",
    "\n",
    "    \n",
    "    est_data = data.groupby('Month')['Estimated_fire_area'].mean().reset_index()\n",
    "    fig1 = px.pie(est_data, values='Estimated_fire_area', names='Month', title=\"{} : Monthly Average Estimated Fire Area in year {}\".format(reg,yr))   \n",
    "     #Plot two - Monthly Average Count of Pixels for Presumed Vegetation Fires\n",
    "    veg_data = data.groupby('Month')['Count'].mean().reset_index()\n",
    "    fig2 = px.bar(veg_data, x='Month', y='Count', title='{} : Average Count of Pixels for Presumed Vegetation Fires in year {}'.format(reg,yr))  \n",
    "    \n",
    "    return[dcc.Graph(figure=fig1),dcc.Graph(figure=fig2)]"
   ]
  },
  {
   "cell_type": "code",
   "execution_count": 61,
   "metadata": {},
   "outputs": [
    {
     "data": {
      "text/html": [
       "\n",
       "        <iframe\n",
       "            width=\"100%\"\n",
       "            height=\"650\"\n",
       "            src=\"http://127.0.0.1:8050/\"\n",
       "            frameborder=\"0\"\n",
       "            allowfullscreen\n",
       "            \n",
       "        ></iframe>\n",
       "        "
      ],
      "text/plain": [
       "<IPython.lib.display.IFrame at 0x11f46c890>"
      ]
     },
     "metadata": {},
     "output_type": "display_data"
    }
   ],
   "source": [
    "app.run_server()"
   ]
  }
 ],
 "metadata": {
  "kernelspec": {
   "display_name": "base",
   "language": "python",
   "name": "python3"
  },
  "language_info": {
   "codemirror_mode": {
    "name": "ipython",
    "version": 3
   },
   "file_extension": ".py",
   "mimetype": "text/x-python",
   "name": "python",
   "nbconvert_exporter": "python",
   "pygments_lexer": "ipython3",
   "version": "3.11.8"
  }
 },
 "nbformat": 4,
 "nbformat_minor": 2
}
