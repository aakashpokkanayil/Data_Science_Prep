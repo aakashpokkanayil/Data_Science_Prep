{
 "cells": [
  {
   "cell_type": "markdown",
   "metadata": {},
   "source": [
    "**Box Plots: displays box, representing the interquartile range, a line inside the box representing the median and lines whiskers extending from the box to indicate the range of the data, bubles shows outliers.**\n",
    "\n",
    "**Use Age:**\n",
    "- **<span style=\"color:red\"> While comparing the distribution of a continuous variable across different categories or groups. For example, employees salaries across departments</span>**\n",
    "- **<span style=\"color:red\"> examining spread and skewness of data set, visualizing quartiles and outliers, identifying and analyzing potential outliers within a data set. </span>**"
   ]
  },
  {
   "cell_type": "markdown",
   "metadata": {},
   "source": []
  }
 ],
 "metadata": {
  "language_info": {
   "name": "python"
  }
 },
 "nbformat": 4,
 "nbformat_minor": 2
}
