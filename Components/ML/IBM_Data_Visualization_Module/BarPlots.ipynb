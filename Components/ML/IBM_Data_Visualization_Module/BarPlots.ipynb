{
 "cells": [
  {
   "cell_type": "markdown",
   "metadata": {},
   "source": [
    "**Bar Plots: displays data using rectangular bars, where the height or length of the bars represents the magnitude of the data.**\n",
    "\n",
    "**Use Age:**\n",
    "- **<span style=\"color:red\"> Ideal for Compairing Categories or Groups or Discrete Values.</span>**\n",
    "- **<span style=\"color:red\"> Bar plots can visualize data that you can easily rank, like displaying the bestselling books in the market. </span>**"
   ]
  },
  {
   "cell_type": "markdown",
   "metadata": {},
   "source": []
  }
 ],
 "metadata": {
  "language_info": {
   "name": "python"
  }
 },
 "nbformat": 4,
 "nbformat_minor": 2
}
