{
 "cells": [
  {
   "cell_type": "markdown",
   "metadata": {},
   "source": [
    "### 1. [Plots and Charts]()\n",
    "-  [Line Plots]()\n",
    "    - [Intro](LinePlots.ipynb)\n",
    "    - [Line Chart Basics](Exercise-Intro-to-Matplotlib.ipynb)\n",
    "-  [Area PLots]()\n",
    "    - [Intro](Area_plots.ipynb)\n",
    "    - [Area Plots Basics](Exercise-Area-Plots-Histograms-and-Bar-Charts_.ipynb)\n",
    "-  [Bar Plots]()\n",
    "    - [Intro](BarPlots.ipynb)\n",
    "    - [Bar Chart Basics](Exercise-Area-Plots-Histograms-and-Bar-Charts_.ipynb)\n",
    "-  [Scatter Plots]()\n",
    "    - [Intro](ScatterPlots.ipynb)\n",
    "    - [Excersise](Exercise-Pie-Charts-Box-Plots-Scatter-Plots-and-Bubble-Plots.ipynb)\n",
    "-  [Box Plots]()\n",
    "    - [Intro](BoxPlot.ipynb)\n",
    "    - [Excersise](Exercise-Pie-Charts-Box-Plots-Scatter-Plots-and-Bubble-Plots.ipynb)\n",
    "-  [Pie Chart]()\n",
    "    - [Excersise](Exercise-Pie-Charts-Box-Plots-Scatter-Plots-and-Bubble-Plots.ipynb)\n",
    "-  [Bubble Plot]()\n",
    "    - [Excersise](Exercise-Pie-Charts-Box-Plots-Scatter-Plots-and-Bubble-Plots.ipynb)\n",
    "-  [Histogram]()\n",
    "    - [Intro](Histogram.ipynb)\n",
    "    - [Histogram Basics](Exercise-Area-Plots-Histograms-and-Bar-Charts_.ipynb)\n",
    "-  [Other Excersise]()\n",
    "    - [matplotlib basics](Exercise-Plotting-directly-with-Matplotlib.jupyterlite.ipynb)\n",
    "    - [waffle,word cloud and seaborn](Exercise-Waffle-Charts-Word-Clouds-and-Regression-Plots.ipynb)\n",
    "    - [Map](Map.ipynb)\n",
    "    \n",
    "\n",
    "\n",
    "\n"
   ]
  },
  {
   "cell_type": "markdown",
   "metadata": {},
   "source": []
  }
 ],
 "metadata": {
  "language_info": {
   "name": "python"
  }
 },
 "nbformat": 4,
 "nbformat_minor": 2
}
