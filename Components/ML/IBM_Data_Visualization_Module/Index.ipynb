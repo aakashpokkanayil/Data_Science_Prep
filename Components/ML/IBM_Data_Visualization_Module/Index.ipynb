{
 "cells": [
  {
   "cell_type": "markdown",
   "metadata": {},
   "source": [
    "### 1. [Plots and Charts]()\n",
    "-  [Line Plots]()\n",
    "    - [Intro](LinePlots.ipynb)\n",
    "    - [Line Chart Basics](Exercise-Intro-to-Matplotlib.ipynb)\n",
    "-  [Bar Plots](BarPlots.ipynb)\n",
    "-  [Scatter Plots](ScatterPlots.ipynb)\n",
    "-  [Box Plots](BoxPlot.ipynb)\n",
    "-  [Histogram](Histogram.ipynb)\n",
    "\n",
    "\n"
   ]
  },
  {
   "cell_type": "markdown",
   "metadata": {},
   "source": []
  }
 ],
 "metadata": {
  "language_info": {
   "name": "python"
  }
 },
 "nbformat": 4,
 "nbformat_minor": 2
}
