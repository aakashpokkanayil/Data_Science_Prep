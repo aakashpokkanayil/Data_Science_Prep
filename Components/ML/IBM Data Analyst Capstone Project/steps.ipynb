{
 "cells": [
  {
   "cell_type": "markdown",
   "metadata": {},
   "source": [
    "- cover page\n",
    "    -  title of the report\n",
    "    - names of authors\n",
    "    - their affiliations\n",
    "    - contacts\n",
    "    - name of the institutional publisher (if any)\n",
    "    - date of publication.\n",
    "- table of contents\n",
    "- executive summary or abstract\n",
    "- detailed contents\n",
    "- acknowledgments\n",
    "- references\n",
    "- appendices"
   ]
  },
  {
   "cell_type": "code",
   "execution_count": null,
   "metadata": {},
   "outputs": [],
   "source": []
  }
 ],
 "metadata": {
  "language_info": {
   "name": "python"
  }
 },
 "nbformat": 4,
 "nbformat_minor": 2
}
