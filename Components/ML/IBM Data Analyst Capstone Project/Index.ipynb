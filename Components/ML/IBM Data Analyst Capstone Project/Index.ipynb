{
 "cells": [
  {
   "cell_type": "markdown",
   "metadata": {},
   "source": [
    "-  [Review Of Accessing APIs]()\n",
    "    - [Requests HTTP](Requests_HTTP.ipynb)\n",
    "    - [Collecting Data](Collecting_Jobs_data_Using_API-Questions.ipynb)\n",
    "-  [Web Scraping]()\n",
    "    - [Web Scraping Review Lab](Web-Scraping-Review-Lab.ipynb)\n",
    "    - [Web Scraping Lab](Web-Scraping-Lab.ipynb)\n"
   ]
  },
  {
   "cell_type": "markdown",
   "metadata": {},
   "source": []
  }
 ],
 "metadata": {
  "language_info": {
   "name": "python"
  }
 },
 "nbformat": 4,
 "nbformat_minor": 2
}
