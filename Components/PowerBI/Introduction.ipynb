{
 "cells": [
  {
   "cell_type": "markdown",
   "metadata": {},
   "source": [
    "# **Power BI components**"
   ]
  },
  {
   "cell_type": "markdown",
   "metadata": {},
   "source": [
    "### **Power Query**\n",
    "\n",
    "- **For cleaning the data.**"
   ]
  },
  {
   "cell_type": "markdown",
   "metadata": {},
   "source": [
    "### **Power Pivot**\n",
    "\n",
    "- **Create relationship between multiple data sources.**"
   ]
  },
  {
   "cell_type": "markdown",
   "metadata": {},
   "source": [
    "### **Power View**\n",
    "\n",
    "- **To create different type of charts.**"
   ]
  },
  {
   "cell_type": "markdown",
   "metadata": {},
   "source": [
    "### **Power BI Service**\n",
    "\n",
    "- **To share reports(dashboards)**\n",
    "\n",
    "- **Used to publish the reports**"
   ]
  },
  {
   "cell_type": "markdown",
   "metadata": {},
   "source": [
    "# **Why Power BI ?**"
   ]
  },
  {
   "cell_type": "markdown",
   "metadata": {},
   "source": [
    "- **Its easy and very quickly we can creates reports in Power BI.**\n",
    "\n",
    "- **Its user friendly.**\n",
    "\n",
    "- **Eye catching and interactive reports.**\n",
    "\n",
    "- **Its cheepest tool in market.**\n",
    "\n",
    "- **It provide maximum features compairing to other visualization Tools.**\n",
    "\n",
    "- **Data connectivity: can connect to ~ 100 data sources.**\n",
    "\n",
    "- **It covers all stuff like import dataset, clean, create visualizations and publish reports, even we can mail reports.**\n"
   ]
  },
  {
   "cell_type": "markdown",
   "metadata": {},
   "source": [
    "### **Power BI have upper hand in cost and it covers all job in one tool like cleaning ,reporting,publishing, etc. where as tablue can handle very large sized data compaired to Power BI**"
   ]
  },
  {
   "cell_type": "markdown",
   "metadata": {},
   "source": [
    "43:47"
   ]
  }
 ],
 "metadata": {
  "language_info": {
   "name": "python"
  }
 },
 "nbformat": 4,
 "nbformat_minor": 2
}
