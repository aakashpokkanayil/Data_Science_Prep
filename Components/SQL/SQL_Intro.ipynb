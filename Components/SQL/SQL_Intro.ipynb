{
 "cells": [
  {
   "cell_type": "markdown",
   "metadata": {},
   "source": [
    "[SQL Intro](<Session 1.pdf>)"
   ]
  },
  {
   "cell_type": "markdown",
   "metadata": {},
   "source": [
    "### Assignment 1"
   ]
  },
  {
   "cell_type": "markdown",
   "metadata": {},
   "source": [
    "**1. Create a database DEMO**"
   ]
  },
  {
   "cell_type": "markdown",
   "metadata": {},
   "source": [
    "create database demo"
   ]
  },
  {
   "cell_type": "markdown",
   "metadata": {},
   "source": [
    "**2. Create table EMP  with the following fields:**\n",
    "- **EID NAME ADDR CITY DOB PHONE NO. EMAIL.  EID should be like  ‘E0001'**"
   ]
  },
  {
   "cell_type": "markdown",
   "metadata": {},
   "source": [
    "create table EMP\n",
    "(\n",
    "    EID char(5),\n",
    "    NAME varchar(50),\n",
    "    ADDR varchar(100),\n",
    "    CITY varchar(30),\n",
    "    DOB date,\n",
    "    PHONE_NO varchar(20),\n",
    "    EMAIL varchar(50)\n",
    ")"
   ]
  },
  {
   "cell_type": "markdown",
   "metadata": {},
   "source": [
    "**3.Insert 10 appropriate records in the Emp table**"
   ]
  },
  {
   "cell_type": "markdown",
   "metadata": {},
   "source": [
    "insert into EMP\n",
    "values\n",
    "('E0001', 'Aarav Kumar', '402, Lotus Apartments, MG Road', 'Mumbai', '1990-05-21', '9876543210', 'aarav.kumar@gmail.com'),\n",
    "('E0002', 'Priya Sharma', '1204, Shanti Towers, Sharda Path', 'Jaipur', '1987-11-30', '9988776655', 'priya.sharma@example.com'),\n",
    "('E0003', 'Raj Malhotra', '78/79, East Street', 'Pune', '1992-02-15', '9123456789', 'raj.m@example.com'),\n",
    "('E0004', 'Neha Singh', '305, Blue Ridge, Hinjewadi Phase 1', 'Pune', '1988-08-19', '9201234567', 'neha.singh@hotmail.com'),\n",
    "('E0005', 'Kiran Bhatia', '196, Green Park', 'New Delhi', '1995-03-05', '9345678901', 'kiran.bhatia@example.com'),\n",
    "('E0006', 'Anil Kapoor', '501, Marina Heights, Bandstand', 'Mumbai', '1993-07-17', '9456789012', 'anil.kapoor@outlook.com'),\n",
    "('E0007', 'Sunita Goyal', '88C, MGRoad, Sector 14', 'Gurgaon', '1991-01-26', '9567890123', 'sunita.goyal@ymail.com'),\n",
    "('E0008', 'Vishal Singh', '45, Lake View Colony', 'Hyderabad', '1989-09-10', '9678901234', 'vishal.s@libero.it'),\n",
    "('E0009', 'Meena Das', '255, Red Hills', 'Kolkata', '1994-12-07', '9789012345', 'meena.das@gmail.com'),\n",
    "('E0010', 'Amit Rao', '49, Sector 6, Pocket 5', 'Chennai', '1985-04-28', '9890123456', 'amit.rao@example.com');"
   ]
  },
  {
   "cell_type": "markdown",
   "metadata": {},
   "source": [
    "**Value can be inserted also with mentioned columns.**"
   ]
  },
  {
   "cell_type": "markdown",
   "metadata": {},
   "source": [
    "Insert into EMP (EID,NAME)\n",
    "values\n",
    "('E0001','Rakesh'),\n",
    "('E0001','Arun);"
   ]
  },
  {
   "cell_type": "markdown",
   "metadata": {},
   "source": [
    "**4.Use SELECT command to view the contents of emp table**"
   ]
  },
  {
   "cell_type": "markdown",
   "metadata": {},
   "source": [
    "Select * from EMP"
   ]
  }
 ],
 "metadata": {
  "language_info": {
   "name": "python"
  }
 },
 "nbformat": 4,
 "nbformat_minor": 2
}
