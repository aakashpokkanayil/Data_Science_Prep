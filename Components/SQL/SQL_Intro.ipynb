{
 "cells": [
  {
   "cell_type": "markdown",
   "metadata": {},
   "source": [
    "[SQL Intro](<Session 1.pdf>)"
   ]
  },
  {
   "cell_type": "markdown",
   "metadata": {},
   "source": [
    "### Assignment 1"
   ]
  },
  {
   "cell_type": "markdown",
   "metadata": {},
   "source": [
    "**1. Create a database DEMO**"
   ]
  },
  {
   "cell_type": "markdown",
   "metadata": {},
   "source": [
    "create database demo"
   ]
  },
  {
   "cell_type": "markdown",
   "metadata": {},
   "source": [
    "**2. Create table EMP  with the following fields:**\n",
    "- **EID NAME ADDR CITY DOB PHONE NO. EMAIL.  EID should be like  ‘E0001'**"
   ]
  },
  {
   "cell_type": "markdown",
   "metadata": {},
   "source": [
    "create table EMP\n",
    "(\n",
    "    EID char(5),\n",
    "    NAME varchar(50),\n",
    "    ADDR varchar(100),\n",
    "    CITY varchar(30),\n",
    "    DOB date,\n",
    "    PHONE_NO varchar(20),\n",
    "    EMAIL varchar(50)\n",
    ")"
   ]
  },
  {
   "cell_type": "markdown",
   "metadata": {},
   "source": [
    "**3.Insert 10 appropriate records in the Emp table**"
   ]
  },
  {
   "cell_type": "markdown",
   "metadata": {},
   "source": [
    "insert into EMP\n",
    "values\n",
    "('E0001', 'Aarav Kumar', '402, Lotus Apartments, MG Road', 'Mumbai', '1990-05-21', '9876543210', 'aarav.kumar@gmail.com'),\n",
    "('E0002', 'Priya Sharma', '1204, Shanti Towers, Sharda Path', 'Jaipur', '1987-11-30', '9988776655', 'priya.sharma@example.com'),\n",
    "('E0003', 'Raj Malhotra', '78/79, East Street', 'Pune', '1992-02-15', '9123456789', 'raj.m@example.com'),\n",
    "('E0004', 'Neha Singh', '305, Blue Ridge, Hinjewadi Phase 1', 'Pune', '1988-08-19', '9201234567', 'neha.singh@hotmail.com'),\n",
    "('E0005', 'Kiran Bhatia', '196, Green Park', 'New Delhi', '1995-03-05', '9345678901', 'kiran.bhatia@example.com'),\n",
    "('E0006', 'Anil Kapoor', '501, Marina Heights, Bandstand', 'Mumbai', '1993-07-17', '9456789012', 'anil.kapoor@outlook.com'),\n",
    "('E0007', 'Sunita Goyal', '88C, MGRoad, Sector 14', 'Gurgaon', '1991-01-26', '9567890123', 'sunita.goyal@ymail.com'),\n",
    "('E0008', 'Vishal Singh', '45, Lake View Colony', 'Hyderabad', '1989-09-10', '9678901234', 'vishal.s@libero.it'),\n",
    "('E0009', 'Meena Das', '255, Red Hills', 'Kolkata', '1994-12-07', '9789012345', 'meena.das@gmail.com'),\n",
    "('E0010', 'Amit Rao', '49, Sector 6, Pocket 5', 'Chennai', '1985-04-28', '9890123456', 'amit.rao@example.com');"
   ]
  },
  {
   "cell_type": "markdown",
   "metadata": {},
   "source": [
    "**Value can be inserted also with mentioned columns.**"
   ]
  },
  {
   "cell_type": "markdown",
   "metadata": {},
   "source": [
    "Insert into EMP (EID,NAME)\n",
    "values\n",
    "('E0001','Rakesh'),\n",
    "('E0001','Arun);"
   ]
  },
  {
   "cell_type": "markdown",
   "metadata": {},
   "source": [
    "**4.Use SELECT command to view the contents of emp table**"
   ]
  },
  {
   "cell_type": "markdown",
   "metadata": {},
   "source": [
    "Select * from EMP"
   ]
  },
  {
   "cell_type": "markdown",
   "metadata": {},
   "source": [
    "# SQL Operator , Normalization and Constraints"
   ]
  },
  {
   "cell_type": "markdown",
   "metadata": {},
   "source": [
    "[PDF](<Session 1.pdf>)"
   ]
  },
  {
   "cell_type": "markdown",
   "metadata": {},
   "source": [
    "[Code](<Session 2.txt>)"
   ]
  },
  {
   "cell_type": "markdown",
   "metadata": {},
   "source": [
    "### Assignment 2"
   ]
  },
  {
   "cell_type": "markdown",
   "metadata": {},
   "source": [
    "In the DEMO database  create table EMP_SAL with the following fields:\n",
    "- EID DEPT DESI  DOJ SALARY\n",
    "- Insert 7 appropriate records in the EMP _SAL table \n",
    "- Use SELECT command to view the contents of EMP_SAL  table"
   ]
  },
  {
   "cell_type": "markdown",
   "metadata": {},
   "source": [
    "Create table EMP_SAL\n",
    "(\n",
    "   EID char(5),\n",
    "   DEPT varchar(20),\n",
    "   DESI varchar(20),\n",
    "   DOJ date,\n",
    "   SALARY float \n",
    ")"
   ]
  },
  {
   "cell_type": "markdown",
   "metadata": {},
   "source": [
    "insert into EMP_SAL\n",
    "values\n",
    "('E0001', 'Finance', 'Accountant', '2022-01-15', 55000.00),\n",
    "('E0002', 'HR', 'HR Manager', '2021-12-10', 65000.00),\n",
    "('E0003', 'IT', 'Software Engineer', '2022-02-20', 75000.00),\n",
    "('E0004', 'Marketing', 'Marketing Executive', '2022-03-05', 60000.00),\n",
    "('E0005', 'Operations', 'Operations Manager', '2021-11-20', 80000.00),\n",
    "('E0006', 'Sales', 'Sales Executive', '2022-04-15', 70000.00),\n",
    "('E0007', 'Finance', 'Financial Analyst', '2022-05-01', 60000.00);"
   ]
  },
  {
   "cell_type": "markdown",
   "metadata": {},
   "source": [
    "select * from EMP_SAL"
   ]
  },
  {
   "cell_type": "markdown",
   "metadata": {},
   "source": [
    "select * from emp where name like '%sharma' "
   ]
  },
  {
   "cell_type": "markdown",
   "metadata": {},
   "source": [
    "update emp_sal \n",
    "set salary=salary+(salary*.10)\n",
    "where desi like '%manager%'"
   ]
  },
  {
   "cell_type": "markdown",
   "metadata": {},
   "source": [
    "### Normalization"
   ]
  },
  {
   "cell_type": "markdown",
   "metadata": {},
   "source": [
    "https://www.youtube.com/watch?v=CedOasDoe-w&list=PLqxA5hCyKliey9CbxszUJbKl8aooQhSty&index=16   1NF\n",
    "\n",
    "https://www.youtube.com/watch?v=80CcB9_HSxU&list=PLqxA5hCyKliey9CbxszUJbKl8aooQhSty&index=17 2NF\n",
    "\n",
    "https://www.youtube.com/watch?v=aOZ5z7z9y-g&list=PLqxA5hCyKliey9CbxszUJbKl8aooQhSty&index=20 3NF\n",
    "\n"
   ]
  },
  {
   "cell_type": "markdown",
   "metadata": {},
   "source": [
    "# Assignment 3"
   ]
  },
  {
   "cell_type": "markdown",
   "metadata": {},
   "source": [
    "alter table emp\n",
    "add constraint pk_emp primary key(EMPID)"
   ]
  },
  {
   "cell_type": "markdown",
   "metadata": {},
   "source": [
    "alter table emp alter name varchar(20) not null"
   ]
  },
  {
   "cell_type": "markdown",
   "metadata": {},
   "source": [
    "alter table emp\n",
    "add constraint chk_addr check(addr like '%UTTAM NAGAR%')"
   ]
  },
  {
   "cell_type": "markdown",
   "metadata": {},
   "source": [
    "alter table emp\n",
    "add constraint chk_city check(city in ('DEL','GGN','FBD','NOIDA'))"
   ]
  },
  {
   "cell_type": "markdown",
   "metadata": {},
   "source": [
    "alter table emp \n",
    "add constaraint unky_phone  unique(phoneno)"
   ]
  },
  {
   "cell_type": "markdown",
   "metadata": {},
   "source": [
    "alter table emp\n",
    "add constaraint chk_email check(email like '%gmail%' or email like '%yahoo%')"
   ]
  },
  {
   "cell_type": "markdown",
   "metadata": {},
   "source": [
    "alter table emp \n",
    "add constaraint chk_dob check(dob <='1-jan-2020')"
   ]
  },
  {
   "cell_type": "markdown",
   "metadata": {},
   "source": [
    "---------------------------------------------------------------------------------------------------------"
   ]
  },
  {
   "cell_type": "markdown",
   "metadata": {},
   "source": [
    "alter table emp_sal\n",
    "add constraint fk_empid foreign key(empid) references emp(EMPID)"
   ]
  },
  {
   "cell_type": "markdown",
   "metadata": {},
   "source": [
    "alter table emp_sal\n",
    "add constraint chk_dept check(DEPT in ('HR','MIS','OPS','IT ADMIN','TEMP'))"
   ]
  },
  {
   "cell_type": "markdown",
   "metadata": {},
   "source": [
    "alter table emp_sal\n",
    "add constraint chk_desi check(desi in ('ASSO','MGR','VP','DIR'))"
   ]
  },
  {
   "cell_type": "markdown",
   "metadata": {},
   "source": [
    "alter table emp_sal \n",
    "add constaraint chk_basic check(BASIC >=20000)"
   ]
  },
  {
   "cell_type": "markdown",
   "metadata": {},
   "source": [
    "alter table emp_sal\n",
    "add constaraint def_dept default 'temp' for DEPT"
   ]
  },
  {
   "cell_type": "markdown",
   "metadata": {},
   "source": [
    "---------------------------------------------------------------------------------------------------------"
   ]
  },
  {
   "cell_type": "markdown",
   "metadata": {},
   "source": []
  }
 ],
 "metadata": {
  "language_info": {
   "name": "python"
  }
 },
 "nbformat": 4,
 "nbformat_minor": 2
}
