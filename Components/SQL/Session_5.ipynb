{
 "cells": [
  {
   "cell_type": "markdown",
   "metadata": {},
   "source": [
    "[PDF](<Session 5.pdf>)"
   ]
  },
  {
   "cell_type": "markdown",
   "metadata": {},
   "source": [
    "[Code](<Session 5.txt>)"
   ]
  },
  {
   "cell_type": "markdown",
   "metadata": {},
   "source": [
    "# Assignment 6"
   ]
  },
  {
   "cell_type": "markdown",
   "metadata": {},
   "source": [
    "1 ) CREATE A VIEW EMP_SAL_DETAILS TO GET EID NAME DOJ DEPT DESI SALARY AS BASIC. ALSO CALCULATE  HRA (15% OF BASIC), PF (9% OF BASIC), NET(BASIC+HRA+PF), GROSS(NET-PF)."
   ]
  },
  {
   "cell_type": "markdown",
   "metadata": {},
   "source": [
    "Create view EMP_SAL_DETAILS\n",
    "\n",
    "as\n",
    "\n",
    "select emp.EID, NAME, DOJ, DEPT, DESI, SALARY AS BASIC, salary*.15 as HRA,salary*.09 as PF,salary+(salary*.15)+(salary*.09) as gross\n",
    "\n",
    "from emp\n",
    "\n",
    "inner join emp_sal\n",
    "\n",
    "on emp.eid=emp_sal.eid\n"
   ]
  },
  {
   "cell_type": "markdown",
   "metadata": {},
   "source": [
    "2)  CREATE  A VIEW TO DISPLAY EID,NAME, DOJ, DESI, DEPT  OF ALL THE MANAGERS JOINED IN 2019."
   ]
  },
  {
   "cell_type": "markdown",
   "metadata": {},
   "source": [
    "Create view EMP_SAL_DETAILS_manager\n",
    "\n",
    "as\n",
    "\n",
    "select emp.EID, NAME, DOJ, DEPT, DESI\n",
    "\n",
    "from emp\n",
    "\n",
    "inner join emp_sal\n",
    "\n",
    "on emp.eid=emp_sal.eid\n",
    "\n",
    "where dept like '%manager%'"
   ]
  },
  {
   "cell_type": "markdown",
   "metadata": {},
   "source": [
    "3) CREATE A VIEW TO HOW MANY TEAM MEMBERS ARE THERE IN EACH DEPARTMENTS IN EACH CITY, ALONG WITH THERE TOTAL & AVERAGE SALARY."
   ]
  },
  {
   "cell_type": "markdown",
   "metadata": {},
   "source": [
    "create view dept_city\n",
    "\n",
    "as\n",
    "\n",
    "select count(eid),sum(salary),avg(salary) from emp_sal\n",
    "\n",
    "group by dept,city"
   ]
  },
  {
   "cell_type": "markdown",
   "metadata": {},
   "source": [
    "A-1: DEPARTMENT WISE TEAM SIZE AND AVERAGE SALARY OF ALL EMPLOYEES. "
   ]
  },
  {
   "cell_type": "markdown",
   "metadata": {},
   "source": [
    "select count(eid),avg(salary)\n",
    "\n",
    "from emp_sal\n",
    "\n",
    "group by dept"
   ]
  },
  {
   "cell_type": "markdown",
   "metadata": {},
   "source": [
    "A-2 : COUNT OF MANAGERS  IN THE COMPANY."
   ]
  },
  {
   "cell_type": "markdown",
   "metadata": {},
   "source": [
    "select (eid) from emp_sal\n",
    "\n",
    "where desi like '%manager%' "
   ]
  },
  {
   "cell_type": "markdown",
   "metadata": {},
   "source": [
    "A-3: MAXIMUM & MINIMUM SALARY  OF AN ASSOCIATE."
   ]
  },
  {
   "cell_type": "markdown",
   "metadata": {},
   "source": [
    "select max(salary),min(salary) from emp_sal\n",
    "\n",
    "where desi like '%associate%'\n"
   ]
  },
  {
   "cell_type": "markdown",
   "metadata": {},
   "source": [
    "A-4: DEPARTMENT WISE TEAM SIZE AND AVERAGE SALARY OF DELHI EMPLOYEES. "
   ]
  },
  {
   "cell_type": "markdown",
   "metadata": {},
   "source": [
    "select count(eid),avg(salary) from emp_sal\n",
    "\n",
    "group by dept"
   ]
  },
  {
   "cell_type": "markdown",
   "metadata": {},
   "source": [
    "A-5: GENERATE OFFICIAL EMAIL OF THE EMPLOYEE TAKING 1ST CHARATCET OF FIRST NAME , 1ST CHARATCER OF LAST NAME , LAST 3 DIGITS OF EID, FOLLED BY ‘RCG.COM’.  EMAIL SHOULD BE IN A UPPER CASE."
   ]
  },
  {
   "cell_type": "markdown",
   "metadata": {},
   "source": [
    "select upper(concat(left(name,1)\n",
    "\n",
    "left(RIGHT(NAME, LEN(NAME)- CHARINDEX(' ', NAME)),1)\n",
    "\n",
    "right(eid,3),\n",
    "\n",
    "'rcg.com'))\n",
    "\n",
    "from emp"
   ]
  },
  {
   "cell_type": "markdown",
   "metadata": {},
   "source": [
    "A-6: NAME,CITY , PHNO & EMAIL OF THE EMPLOYEES WHOSE AGE >=40. "
   ]
  },
  {
   "cell_type": "markdown",
   "metadata": {},
   "source": [
    "select name ,city,phone,email of emp where datediff(yy,dob,getdate()) >=40"
   ]
  },
  {
   "cell_type": "markdown",
   "metadata": {},
   "source": [
    "A-7 EID, NAME DOJ OF EMPLOYEES  WHO HAVE COMPLETED 5 YEARS  IN  THE COMPANY"
   ]
  },
  {
   "cell_type": "markdown",
   "metadata": {},
   "source": [
    "select \n",
    "\n",
    "eid,name,doj\n",
    "\n",
    "from emp\n",
    "\n",
    "where datediff(yy,doj,getdate()) >=5"
   ]
  },
  {
   "cell_type": "markdown",
   "metadata": {},
   "source": [
    "A-8: DETAILS OF THE MANAGERS HAVING BIRTHDAY IN THE CURRENT MONTH "
   ]
  },
  {
   "cell_type": "markdown",
   "metadata": {},
   "source": [
    "select * from emp_sal\n",
    "\n",
    "where desi like '%manager%'\n",
    "\n",
    "and month(dob) = month(getdate())  "
   ]
  },
  {
   "cell_type": "markdown",
   "metadata": {},
   "source": [
    "A-9 :  EID, DEPT , DESI , SALARY OF THE EMPLOYEE WHO IS  GETTING THE MAXIMUM SALARY"
   ]
  },
  {
   "cell_type": "markdown",
   "metadata": {},
   "source": [
    "select eid,dept,desi,salary from emp_sal\n",
    "\n",
    "where salary= (select max(salary) from emp_sal)"
   ]
  },
  {
   "cell_type": "markdown",
   "metadata": {},
   "source": [
    "A-10 :  EID, NAME OF EMPLOYEE WHO HAS LONGEST NAME"
   ]
  },
  {
   "cell_type": "markdown",
   "metadata": {},
   "source": [
    "select eid,name from emp\n",
    "\n",
    "where len(name)= (select max(len(name)) from emp)"
   ]
  },
  {
   "cell_type": "markdown",
   "metadata": {},
   "source": []
  }
 ],
 "metadata": {
  "language_info": {
   "name": "python"
  }
 },
 "nbformat": 4,
 "nbformat_minor": 2
}
