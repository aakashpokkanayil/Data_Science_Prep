{
 "cells": [
  {
   "cell_type": "markdown",
   "metadata": {},
   "source": [
    "In this MySQL challenge, your query should determine the company's hierarchical structure based on the Position and ReportsTo columns. The output should include the Position of the individual, their FirstName and LastName, and the Position of the person they report to. Exclude entries where ReportsTo is null. The result should be ordered by the Position of the person they report to and then by the individual's Position in ascending alphabetical order. The expected columns in the output are: Position, FirstName, LastName, and ReportsToPosition."
   ]
  },
  {
   "cell_type": "markdown",
   "metadata": {},
   "source": [
    "select Position, FirstName, LastName,  ReportsTo as 'ReportsToPosition' from main_table\n",
    "\n",
    "where ReportsTo is not null\n",
    "\n",
    "group by position ,reportsto\n",
    "\n",
    "order by reportsto,position"
   ]
  },
  {
   "cell_type": "markdown",
   "metadata": {},
   "source": [
    "In this MySQL challenge, your query should return the rows from your table where LastName = Smith or FirstName = Robert and the rows should be sorted by Age in ascending order."
   ]
  },
  {
   "cell_type": "markdown",
   "metadata": {},
   "source": [
    "select ID,firstname,lastname,age from maintable\n",
    "\n",
    "where LastName = 'Smith' or FirstName = 'Robert' \n",
    "\n",
    "order by age desc"
   ]
  },
  {
   "cell_type": "markdown",
   "metadata": {},
   "source": [
    "In this MySQL challenge, your query should determine the number of new members who joined each month in 2017.\n",
    "The output should display the month (in YYYY-MM format) and the total number of members who joined that month. Ensure you only consider entries from the year 2017. The result should be ordered by the month in ascending order. The expected columns in the output are: JoinMonth and TotalMembersJoined."
   ]
  },
  {
   "cell_type": "markdown",
   "metadata": {},
   "source": [
    "select date_format(datejoined,'%Y-%m') as joinmonth,count(eid) as totalmembersjoined from main_table\n",
    "\n",
    "where year(datejoined)=2017\n",
    "\n",
    "group by date_format(datejoined,'%Y-%m')\n",
    "\n",
    "order by date_format(datejoined,'%Y-%m')"
   ]
  },
  {
   "cell_type": "markdown",
   "metadata": {},
   "source": [
    "In this MySQL challenge, your query should determine the distribution of vendors across different regions for the year 2018. The output should display the Region, the number of unique VendorID's in that region, and the total number of entries for each region. Ensure you only consider entries from the year 2018. The result should be ordered by the number of unique VendorID's in descending order, followed by the total number of entries in descending order. The expected columns in the output are: Region, UniqueVendors, and TotalEntries."
   ]
  },
  {
   "cell_type": "markdown",
   "metadata": {},
   "source": [
    "select region,count(distinct vendorid) as uniquevender,count(*) as total_entires from main_table\n",
    "\n",
    "where year=2018\n",
    "\n",
    "group by region\n",
    "\n",
    "order by uniquevender desc,total_entires desc\n"
   ]
  },
  {
   "cell_type": "markdown",
   "metadata": {},
   "source": [
    "In this MySQL challenge, your query should return the number of rows from your table where FirstName contains \"e\" and LastName has more than 5 characters."
   ]
  },
  {
   "cell_type": "markdown",
   "metadata": {},
   "source": [
    "select (*) from maintable\n",
    "\n",
    "where firstname like '%e%' and length(lastname) >5"
   ]
  },
  {
   "cell_type": "markdown",
   "metadata": {},
   "source": [
    "-----------------------------------------------"
   ]
  },
  {
   "cell_type": "markdown",
   "metadata": {},
   "source": [
    "Which MongoDB command allows you to increment a field's value?\n",
    "\n",
    "Ans: $inc"
   ]
  },
  {
   "cell_type": "markdown",
   "metadata": {},
   "source": [
    "You want to update the status of **all orders** placed before a certain date to \"expired\". Which command you will use in MongoDb\n",
    "\n",
    "Ans: updatemany"
   ]
  },
  {
   "cell_type": "markdown",
   "metadata": {},
   "source": [
    "You need to **retrieve** a customer's order information based on their order ID.\n",
    "\n",
    "If the **order doesn't exist, you want to return a message indicating that it's not found**.\n",
    "\n",
    "\n",
    "Question: Which MongoDB command would you use to handle this scenario?"
   ]
  },
  {
   "cell_type": "markdown",
   "metadata": {},
   "source": [
    "Ans:findOneandUpdate"
   ]
  },
  {
   "cell_type": "markdown",
   "metadata": {},
   "source": [
    "How do **KPIs contribute to decision-making** in Power BI reports?"
   ]
  },
  {
   "cell_type": "markdown",
   "metadata": {},
   "source": [
    "Ans: KPIs summarize key metrics for quick assessment and informed decision-making"
   ]
  },
  {
   "cell_type": "markdown",
   "metadata": {},
   "source": [
    "How do **Table Calculations and Calculated Fields differ** in Tableau in terms of their calculation scope?"
   ]
  },
  {
   "cell_type": "markdown",
   "metadata": {},
   "source": [
    "Ans: Table Calculations operate on the visualized data after aggregation"
   ]
  },
  {
   "cell_type": "markdown",
   "metadata": {},
   "source": [
    "In which scenario would you use Blends instead of Joins in Tableau?"
   ]
  },
  {
   "cell_type": "markdown",
   "metadata": {},
   "source": [
    "Ans: When data from sources has a different level of granularity. \n"
   ]
  },
  {
   "cell_type": "markdown",
   "metadata": {},
   "source": [
    "Which type of data is best represented by a Dimension in Tableau?"
   ]
  },
  {
   "cell_type": "markdown",
   "metadata": {},
   "source": [
    "Ans: The average salary of male employees is more than the average salary of the organization"
   ]
  },
  {
   "cell_type": "markdown",
   "metadata": {},
   "source": [
    "The statement that is **executed automatically by the system as a side effect of the modification of the database** is"
   ]
  },
  {
   "cell_type": "markdown",
   "metadata": {},
   "source": [
    "Ans: Trigger"
   ]
  },
  {
   "cell_type": "markdown",
   "metadata": {},
   "source": [
    "You have a table \"Employees\" with columns: EmployeeID, FirstName, LastName, ManagerID, and Salary. You want to retrieve the average salary of employees who have the same manager. Which SQL query would you use?"
   ]
  },
  {
   "cell_type": "markdown",
   "metadata": {},
   "source": [
    "Ans:SELECT ManagerID, AVG(Salary) FROM Employees GROUP BY ManagerID;\n"
   ]
  },
  {
   "cell_type": "markdown",
   "metadata": {},
   "source": [
    "How do \"Temporary Tables\" and \"Base Tables\" differ in terms of data persistence?\n"
   ]
  },
  {
   "cell_type": "markdown",
   "metadata": {},
   "source": [
    "Ans:Temporary tables are automatically deleted after a session ends, while base tables retain data until explicitly dropped."
   ]
  },
  {
   "cell_type": "markdown",
   "metadata": {},
   "source": [
    "How do \"Stored Procedures\" and \"Functions\" differ in terms of data manipulation?\n"
   ]
  },
  {
   "cell_type": "markdown",
   "metadata": {},
   "source": [
    "Ans: Stored procedures can modify data, while functions are read-only and cannot modify data."
   ]
  },
  {
   "cell_type": "markdown",
   "metadata": {},
   "source": [
    "What is the ACID properties in SQL Transaction?\n"
   ]
  },
  {
   "cell_type": "markdown",
   "metadata": {},
   "source": [
    "Ans:Atomicity, Consistency, Isolation, Durability\n"
   ]
  },
  {
   "cell_type": "markdown",
   "metadata": {},
   "source": [
    "Window functions in SQL are used to:\n"
   ]
  },
  {
   "cell_type": "markdown",
   "metadata": {},
   "source": [
    "Ans: Perform calculations on individual rows of a result set."
   ]
  },
  {
   "cell_type": "markdown",
   "metadata": {},
   "source": [
    "You have a list of customers' new orders to insert, and you also need to update their loyalty points.\n",
    "\n",
    "Question: Which MongoDB command allows you to perform inserts and updates in bulk?"
   ]
  },
  {
   "cell_type": "markdown",
   "metadata": {},
   "source": [
    "Ans: bulkWrite"
   ]
  },
  {
   "cell_type": "markdown",
   "metadata": {},
   "source": [
    "What is the primary purpose of a Dashboard in Power BI?"
   ]
  },
  {
   "cell_type": "markdown",
   "metadata": {},
   "source": [
    "Ans: To offer a high-level overview of key metrics and insights"
   ]
  },
  {
   "cell_type": "markdown",
   "metadata": {},
   "source": [
    "Which component of Power BI allows you to create relationships between tables and define calculations?"
   ]
  },
  {
   "cell_type": "markdown",
   "metadata": {},
   "source": [
    "Ans: PowerPivot"
   ]
  },
  {
   "cell_type": "markdown",
   "metadata": {},
   "source": [
    "What does the COALESCE function do in SQL?"
   ]
  },
  {
   "cell_type": "markdown",
   "metadata": {},
   "source": [
    "Ans:Returns the first non-NULL expression in a list"
   ]
  },
  {
   "cell_type": "markdown",
   "metadata": {},
   "source": [
    "With SQL, how do you select all the records from a table named \"Customers\" where the \"Last_Name\" is alphabetically between (and including) \"Brooks\" and \"Gray\"?"
   ]
  },
  {
   "cell_type": "markdown",
   "metadata": {},
   "source": [
    "Ans: SELECT * FROM Customers WHERE Last_Name BETWEEN 'Brooks' AND 'Gray';"
   ]
  },
  {
   "cell_type": "markdown",
   "metadata": {},
   "source": [
    "What function rounds a number to the smallest integer value greater than or equal to a number?"
   ]
  },
  {
   "cell_type": "markdown",
   "metadata": {},
   "source": [
    "Ans: CEIL()"
   ]
  },
  {
   "cell_type": "markdown",
   "metadata": {},
   "source": [
    "Which of the following is NOT TRUE about the ON clause?"
   ]
  },
  {
   "cell_type": "markdown",
   "metadata": {},
   "source": [
    "Ans: It is mandatory in a JOIN operation"
   ]
  },
  {
   "cell_type": "markdown",
   "metadata": {},
   "source": [
    "What is a Cartesian join and how can it be converted into an inner join?\n"
   ]
  },
  {
   "cell_type": "markdown",
   "metadata": {},
   "source": [
    "Ans: A Cartesian join combines every row from the first table with every row from the second table. It can be converted into an INNER JOIN by adding a WHERE clause specifying the joining condition."
   ]
  },
  {
   "cell_type": "markdown",
   "metadata": {},
   "source": [
    "You need to remove a document from the \"customers\" collection based on their email address. Which MongoDB command is suitable for this task?"
   ]
  },
  {
   "cell_type": "markdown",
   "metadata": {},
   "source": [
    "Ans:findOneAndDelete"
   ]
  },
  {
   "cell_type": "markdown",
   "metadata": {},
   "source": [
    "What is the difference between Nested & Correlated Queries?"
   ]
  },
  {
   "cell_type": "markdown",
   "metadata": {},
   "source": [
    "Ans: Nested queries can be executed independently of the outer query, while correlated queries depend on the outer query for execution.\n"
   ]
  },
  {
   "cell_type": "markdown",
   "metadata": {},
   "source": [
    "What is a Case Function?\n"
   ]
  },
  {
   "cell_type": "markdown",
   "metadata": {},
   "source": [
    "Ans:A function used for conditional logic in SQL queries\n"
   ]
  },
  {
   "cell_type": "markdown",
   "metadata": {},
   "source": [
    "What data structure is used to implement a MySQL indexes?"
   ]
  },
  {
   "cell_type": "markdown",
   "metadata": {},
   "source": [
    "Ans: B-Tree"
   ]
  },
  {
   "cell_type": "markdown",
   "metadata": {},
   "source": [
    "What does the SAVEPOINT command do in PL/SQL?"
   ]
  },
  {
   "cell_type": "markdown",
   "metadata": {},
   "source": [
    "Ans: It creates points within the groups of transactions in which to ROLLBACK"
   ]
  },
  {
   "cell_type": "markdown",
   "metadata": {},
   "source": []
  }
 ],
 "metadata": {
  "language_info": {
   "name": "python"
  }
 },
 "nbformat": 4,
 "nbformat_minor": 2
}
