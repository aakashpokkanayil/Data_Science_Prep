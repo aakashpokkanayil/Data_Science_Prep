{
 "cells": [
  {
   "cell_type": "markdown",
   "metadata": {},
   "source": [
    "[pdf](<Session 3 .pdf>)"
   ]
  },
  {
   "cell_type": "markdown",
   "metadata": {},
   "source": [
    "[Code](<Session 3 .txt>)"
   ]
  },
  {
   "cell_type": "markdown",
   "metadata": {},
   "source": [
    "# Assignment"
   ]
  },
  {
   "cell_type": "markdown",
   "metadata": {},
   "source": [
    "1.CITY WISE COUNT OF EMPLOYEES ARRANGED IN DESCENDING ORDFER\n",
    "\n",
    "select count(eid) from emp\n",
    "group by city\n",
    "order by count(eid) desc"
   ]
  },
  {
   "cell_type": "markdown",
   "metadata": {},
   "source": [
    "2. DETAILS OF THE EMPLOYEES WHO DOES NOT HAVE AN ACCOUNT ON YAHOO DOMAIN\n",
    "\n",
    "select * from emp where email not like '%yahoo%'"
   ]
  },
  {
   "cell_type": "markdown",
   "metadata": {},
   "source": [
    "3. DESIGNATION WISE TOTAL COST AND NUMBER OF MEMBERS ARRANGED IN DESCENDING ORDER OF THE TOTAL COST\n",
    "\n",
    "select sum(salary) as 'TS',count(EID) from emp_sal\n",
    "group by desi\n",
    "order by sum(salary) desc"
   ]
  },
  {
   "cell_type": "markdown",
   "metadata": {},
   "source": []
  }
 ],
 "metadata": {
  "language_info": {
   "name": "python"
  }
 },
 "nbformat": 4,
 "nbformat_minor": 2
}
