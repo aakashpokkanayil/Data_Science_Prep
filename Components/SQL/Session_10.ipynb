{
 "cells": [
  {
   "cell_type": "markdown",
   "metadata": {},
   "source": [
    "**Candidate Key**"
   ]
  },
  {
   "cell_type": "markdown",
   "metadata": {},
   "source": [
    "its a set of one or more field which can identify a record uniquely in a table.\n",
    "\n",
    "there can be multiple candidate keys in the table.\n",
    "\n",
    "candidate key can act as a primary key.\n",
    "\n",
    "It must be unique and cannot contain NULL values."
   ]
  },
  {
   "cell_type": "markdown",
   "metadata": {},
   "source": [
    "**primary key**"
   ]
  },
  {
   "cell_type": "markdown",
   "metadata": {},
   "source": [
    "its a set of one or more fields which can uniquely identify a record in a table\n",
    "\n",
    "only candidate keys are eligible as primary keys\n",
    "\n",
    "    - value of a primary key should be not null and unique"
   ]
  },
  {
   "cell_type": "markdown",
   "metadata": {},
   "source": [
    "**Alternate or Secondary key**"
   ]
  },
  {
   "cell_type": "markdown",
   "metadata": {},
   "source": [
    "alternate key = candidate keys - primary key\n",
    "\n",
    "alternative key is one of candidate keys which is currently not a primary key\n",
    "\n",
    "if a table have id,email both are candidate keys, but id chosen as primary key then mail will be alternate or secondary key.\n"
   ]
  },
  {
   "cell_type": "markdown",
   "metadata": {},
   "source": [
    "**Super key**"
   ]
  },
  {
   "cell_type": "markdown",
   "metadata": {},
   "source": [
    "super key=unique key + candidate key(alternate key + primary key)\n",
    "\n",
    "its a super set of above keys"
   ]
  },
  {
   "cell_type": "markdown",
   "metadata": {},
   "source": [
    "**Unique Key**"
   ]
  },
  {
   "cell_type": "markdown",
   "metadata": {},
   "source": [
    "Unique key can identify a record uniquly, but it can have one null value.\n",
    "\n",
    "A unique key can be a candidate key if it meets the criteria of being unique and non-null."
   ]
  },
  {
   "cell_type": "markdown",
   "metadata": {},
   "source": [
    "**Composite/Compound Key**\n"
   ]
  },
  {
   "cell_type": "markdown",
   "metadata": {},
   "source": [
    "when we dont have a single column which can act as primary key we create combination of multiple keys as primary key.\n",
    "\n",
    "this primary key is composite/compound key"
   ]
  },
  {
   "cell_type": "markdown",
   "metadata": {},
   "source": [
    "**Foreign Key**"
   ]
  },
  {
   "cell_type": "markdown",
   "metadata": {},
   "source": [
    "its a field in a table  which uniqly identiifies a record in an another table."
   ]
  },
  {
   "cell_type": "markdown",
   "metadata": {},
   "source": [
    "**Window function**"
   ]
  },
  {
   "cell_type": "markdown",
   "metadata": {},
   "source": [
    "window function applys to aggrigate and ranking functions over a window.\n",
    "\n",
    "we use over function to set the window\n",
    "\n",
    "example i want to know max salary over department.\n",
    "\n",
    "i use partition by to set this window inside over function, if there is three category partition by will create 3 window.\n",
    "\n",
    "if i did'nt mention anything in side over()  then sql will take entire a data as a single window.\n",
    "\n",
    "    - use instead of group by: when i need to aggrigate a column still i need to show other column as well , then i cant use group by on other columns, so then group by cant use then we use \"\"max(salary) over(partition by category)\"\". over make max awindow fn not a aggrigate, so group by is not required.\n",
    "\n",
    "https://www.youtube.com/watch?v=Ww71knvhQ-s\n",
    "\n",
    "https://www.youtube.com/watch?v=zAmJPdZu8Rg"
   ]
  },
  {
   "cell_type": "markdown",
   "metadata": {},
   "source": [
    "**What is normalization**"
   ]
  },
  {
   "cell_type": "markdown",
   "metadata": {},
   "source": [
    "Normalization is for reducing redundancy in our tables.\n",
    "\n",
    "**INF:**\n",
    "\n",
    "every cell in a table must have **only Atomic value**\n",
    "\n",
    "**2NF:**\n",
    "\n",
    "there must be not any functional dependency or partial dependency\n",
    "\n",
    "for example R(A,B,C,D)\n",
    "\n",
    "here consider A,B are candidatekeys and they together have a relationship with D, ie A,B-->D\n",
    "\n",
    "and B alone have relation ship with C, ie B-->C. this is a partial dependency\n",
    "\n",
    "here C wich is not a candidate key and its only depened up on one of the candiadate key only instead of A,B together results in partial dependency\n",
    "\n",
    "so we split R(A,B,D) and R(B,C)\n",
    "\n",
    "**Problem of Partial dependency :** consider A,B together is primary key so even though both A,B can't be null together alternatively A,B can be null, thus for D there is no problem coz D can be defined by either B or A. But C can be only defined by B so if B is null null C cant be defined. there sql integrity will broke\n",
    "\n",
    "\n",
    "**3NF:**\n",
    "\n",
    "R(A,B,C): here A is the candidate key/primery key B and C are not candidate keys.\n",
    "\n",
    "so, transitive dependency exists if B--> C there is a relation ship between non candidate keys.\n",
    "\n",
    "so we split in to R(A,B) and R(B,c)\n",
    "\n",
    " \n",
    "\n",
    "\n",
    "\n",
    " "
   ]
  },
  {
   "cell_type": "markdown",
   "metadata": {},
   "source": []
  },
  {
   "cell_type": "markdown",
   "metadata": {},
   "source": []
  },
  {
   "cell_type": "markdown",
   "metadata": {},
   "source": []
  },
  {
   "cell_type": "markdown",
   "metadata": {},
   "source": []
  },
  {
   "cell_type": "markdown",
   "metadata": {},
   "source": []
  }
 ],
 "metadata": {
  "language_info": {
   "name": "python"
  }
 },
 "nbformat": 4,
 "nbformat_minor": 2
}
