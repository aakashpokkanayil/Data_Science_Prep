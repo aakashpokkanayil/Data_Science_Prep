{
 "cells": [
  {
   "cell_type": "markdown",
   "metadata": {},
   "source": [
    "**Candidate Key**"
   ]
  },
  {
   "cell_type": "markdown",
   "metadata": {},
   "source": [
    "its a set of one or more field which can identify a record uniquely in a table.\n",
    "\n",
    "there can be multiple candidate keys in the table.\n",
    "\n",
    "candidate key can act as a primary key.\n",
    "\n",
    "It must be unique and cannot contain NULL values."
   ]
  },
  {
   "cell_type": "markdown",
   "metadata": {},
   "source": [
    "**primary key**"
   ]
  },
  {
   "cell_type": "markdown",
   "metadata": {},
   "source": [
    "its a set of one or more fields which can uniquely identify a record in a table\n",
    "\n",
    "only candidate keys are eligible as primary keys\n",
    "\n",
    "    - value of a primary key should be not null and unique"
   ]
  },
  {
   "cell_type": "markdown",
   "metadata": {},
   "source": [
    "**Alternate or Secondary key**"
   ]
  },
  {
   "cell_type": "markdown",
   "metadata": {},
   "source": [
    "alternate key = candidate keys - primary key\n",
    "\n",
    "alternative key is one of candidate keys which is currently not a primary key\n",
    "\n",
    "if a table have id,email both are candidate keys, but id chosen as primary key then mail will be alternate or secondary key.\n"
   ]
  },
  {
   "cell_type": "markdown",
   "metadata": {},
   "source": [
    "**Super key**"
   ]
  },
  {
   "cell_type": "markdown",
   "metadata": {},
   "source": [
    "super key=unique key + candidate key(alternate key + primary key)\n",
    "\n",
    "its a super set of above keys"
   ]
  },
  {
   "cell_type": "markdown",
   "metadata": {},
   "source": [
    "**Unique Key**"
   ]
  },
  {
   "cell_type": "markdown",
   "metadata": {},
   "source": [
    "Unique key can identify a record uniquly, but it can have one null value.\n",
    "\n",
    "A unique key can be a candidate key if it meets the criteria of being unique and non-null."
   ]
  },
  {
   "cell_type": "markdown",
   "metadata": {},
   "source": [
    "**Composite/Compound Key**\n"
   ]
  },
  {
   "cell_type": "markdown",
   "metadata": {},
   "source": [
    "when we dont have a single column which can act as primary key we create combination of multiple keys as primary key.\n",
    "\n",
    "this primary key is composite/compound key"
   ]
  },
  {
   "cell_type": "markdown",
   "metadata": {},
   "source": [
    "**Foreign Key**"
   ]
  },
  {
   "cell_type": "markdown",
   "metadata": {},
   "source": [
    "its a field in a table  which uniqly identiifies a record in an another table."
   ]
  },
  {
   "cell_type": "markdown",
   "metadata": {},
   "source": [
    "**Window function**"
   ]
  },
  {
   "cell_type": "markdown",
   "metadata": {},
   "source": [
    "window function applys to aggrigate and ranking functions over a window.\n",
    "\n",
    "we use over function to set the window\n",
    "\n",
    "example i want to know max salary over department.\n",
    "\n",
    "i use partition by to set this window inside over function, if there is three category partition by will create 3 window.\n",
    "\n",
    "if i did'nt mention anything in side over()  then sql will take entire a data as a single window.\n",
    "\n",
    "    - use instead of group by: when i need to aggrigate a column still i need to show other column as well , then i cant use group by on other columns, so then group by cant use then we use \"\"max(salary) over(partition by category)\"\". over make max awindow fn not a aggrigate, so group by is not required.\n",
    "\n",
    "https://www.youtube.com/watch?v=Ww71knvhQ-s\n",
    "\n",
    "https://www.youtube.com/watch?v=zAmJPdZu8Rg"
   ]
  },
  {
   "cell_type": "markdown",
   "metadata": {},
   "source": [
    "**What is normalization**"
   ]
  },
  {
   "cell_type": "markdown",
   "metadata": {},
   "source": []
  }
 ],
 "metadata": {
  "language_info": {
   "name": "python"
  }
 },
 "nbformat": 4,
 "nbformat_minor": 2
}
