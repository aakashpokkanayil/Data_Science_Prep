{
 "cells": [
  {
   "cell_type": "markdown",
   "metadata": {},
   "source": [
    "[PDF](<Session 4.pdf>)"
   ]
  },
  {
   "cell_type": "markdown",
   "metadata": {},
   "source": [
    "[CODE](<Session 4.txt>)"
   ]
  },
  {
   "cell_type": "markdown",
   "metadata": {},
   "source": [
    "[INVENTORY STRUCTURE](<INVENTORY STRUCTURE V3.xlsx>)"
   ]
  },
  {
   "cell_type": "markdown",
   "metadata": {},
   "source": [
    "# Assignment 5"
   ]
  },
  {
   "cell_type": "markdown",
   "metadata": {},
   "source": [
    "1 ) EID NAME CITY DOJ DEPT DESI SALARY  OF THE DELHI EMPLOYEES\n",
    "\n",
    "select emp.eid,name,city,doj,dept,desi,salary\n",
    "from emp\n",
    "inner join emp_sal\n",
    "on emp.eid=emp_sal.eid\n",
    "where city='delhi'\n",
    "\n",
    "\n",
    "2 ) DETAILS OF ALL THE EMPLOYEES WHOSE SALARY DETAILS ARE NOT AVAILABLE. \n",
    "\n",
    "\n",
    "select emp.eid,name,city,doj,dept,desi,salary\n",
    "from emp\n",
    "inner join emp_sal\n",
    "on emp.eid=emp_sal.eid\n",
    "where salary is null"
   ]
  },
  {
   "cell_type": "markdown",
   "metadata": {},
   "source": [
    "# Inventory structure"
   ]
  },
  {
   "cell_type": "markdown",
   "metadata": {},
   "source": [
    "create table supplier\n",
    "(\n",
    "    sid char(5) primary key,\n",
    "    sname varchar(20) not null,\n",
    "    sadd varchar(50) not null,\n",
    "    scity varchar(20) default 'delhi',\n",
    "    sphone varchar(15) unique key,\n",
    "    email varchar(20)\n",
    ")\n",
    "\n",
    "create table product\n",
    "(\n",
    "    pid char(5) primary key,\n",
    "    pdesc varchar(20) not null,\n",
    "    price float check(price>0),\n",
    "    category char(2) check(category in ('IT','HA','HC'))\n",
    "    sid char(5) references supplier(sid)\n",
    ")\n",
    "\n",
    "create table cust\n",
    "(\n",
    "    cid char(5) primary key,\n",
    "    cname varchar(20) not null,\n",
    "    address varchar(20) not null,\n",
    "    city varchar(20) not null,\n",
    "    phone varchar(20) not null,\n",
    "    email varchar(20) not null,\n",
    "    dob date check(dob< '1-jan-2000')\n",
    ")\n",
    "\n",
    "create table stock\n",
    "(\n",
    "    pid char(5) references product(pid),\n",
    "    sqty int check(sqty>=0),\n",
    "    rol int check(rol>0),\n",
    "    moq int check(moq>=5)\n",
    ")\n",
    "\n",
    "create table orders\n",
    "(\n",
    "    oid char(5) primary key\n",
    "    pid char(5) references product(pid),\n",
    "    cid char(5) references cust(cid),\n",
    "    oqty int check(oqty>=1),\n",
    "    odate date\n",
    "\n",
    ")"
   ]
  },
  {
   "cell_type": "markdown",
   "metadata": {},
   "source": []
  }
 ],
 "metadata": {
  "language_info": {
   "name": "python"
  }
 },
 "nbformat": 4,
 "nbformat_minor": 2
}
