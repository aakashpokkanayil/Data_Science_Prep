{
 "cells": [
  {
   "cell_type": "markdown",
   "metadata": {},
   "source": [
    "# Topics"
   ]
  },
  {
   "cell_type": "markdown",
   "metadata": {},
   "source": [
    "## 1. Statictics\n",
    "## 2. Machine Learning\n",
    "## 3. [SQL](SQL/sql_index.ipynb)\n",
    "## 4. Mongo DB\n",
    "## 5. Power BI\n",
    "## 6. Tablue"
   ]
  }
 ],
 "metadata": {
  "language_info": {
   "name": "python"
  }
 },
 "nbformat": 4,
 "nbformat_minor": 2
}
