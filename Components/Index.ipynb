{
 "cells": [
  {
   "cell_type": "markdown",
   "metadata": {},
   "source": [
    "# Topics"
   ]
  },
  {
   "cell_type": "markdown",
   "metadata": {},
   "source": [
    "## 1. [Statictics](Statistics/Stats_Index.ipynb)\n",
    "## 2. Machine Learning\n",
    "## 3. [SQL](SQL/sql_index.ipynb)\n",
    "## 4. Mongo DB\n",
    "## 5. [Power BI](PowerBI/PowerBI_Index.ipynb)"
   ]
  },
  {
   "cell_type": "markdown",
   "metadata": {},
   "source": []
  }
 ],
 "metadata": {
  "language_info": {
   "name": "python"
  }
 },
 "nbformat": 4,
 "nbformat_minor": 2
}
