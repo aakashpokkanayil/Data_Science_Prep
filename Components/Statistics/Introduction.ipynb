{
 "cells": [
  {
   "cell_type": "markdown",
   "metadata": {},
   "source": [
    "# Introduction"
   ]
  },
  {
   "cell_type": "markdown",
   "metadata": {},
   "source": [
    "**Statistics is a mathematical science including methods of collecting,organizing and analyzing data such a way that meaning full Conclusion can be drawn from them.**\n",
    "\n",
    "15 min start."
   ]
  }
 ],
 "metadata": {
  "language_info": {
   "name": "python"
  }
 },
 "nbformat": 4,
 "nbformat_minor": 2
}
