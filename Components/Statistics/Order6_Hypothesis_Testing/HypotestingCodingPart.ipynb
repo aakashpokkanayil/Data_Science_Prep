{
 "cells": [
  {
   "cell_type": "markdown",
   "id": "a22b753c-d779-43bd-b643-36593cf2ed3f",
   "metadata": {
    "jp-MarkdownHeadingCollapsed": true,
    "tags": []
   },
   "source": [
    "# One sample T-test"
   ]
  },
  {
   "cell_type": "markdown",
   "id": "616f58a5-cbe0-47c9-8e51-8fc09d0634fc",
   "metadata": {},
   "source": [
    "1. In One sample T-test determine whether the sample means statistically different from known or hypothesized population mean"
   ]
  },
  {
   "cell_type": "code",
   "execution_count": 5,
   "id": "cf3eca32-6de7-4921-848c-bab1d831006f",
   "metadata": {},
   "outputs": [
    {
     "name": "stdout",
     "output_type": "stream",
     "text": [
      "T_val 4.202342128279004 P_val 0.0003400445281994391\n",
      "H0 rejected so, mean is not 20\n"
     ]
    }
   ],
   "source": [
    "from scipy.stats import ttest_1samp\n",
    "import numpy as np\n",
    "age = [20,25,30,31,23,45,32,43,32,23,24,19,28,24,30,30,23,22,20,20,20,20,21,20]\n",
    "t,p_val=ttest_1samp(age,20) # 20 is known or hypothesized population mean\n",
    "# ttest_1samp returns t value and p_value\n",
    "\n",
    "print(\"T_val\",t,\"P_val\",p_val)\n",
    "\n",
    "if(p_val<0.05): # ttest_1samp is already returns pvalue from right so, we no need to calculate 1-p_val\n",
    "    print(\"H0 rejected so, mean is not 20\")\n",
    "else:\n",
    "    print(\"Failed to reject H0 so, mean is 20\")"
   ]
  },
  {
   "cell_type": "markdown",
   "id": "fedaa84d-83a4-44d5-ac07-f9daed2f61f9",
   "metadata": {
    "jp-MarkdownHeadingCollapsed": true,
    "tags": []
   },
   "source": [
    "# Two sample T-Test"
   ]
  },
  {
   "cell_type": "markdown",
   "id": "ce57099b-eaec-4d68-b041-2517f0094085",
   "metadata": {},
   "source": [
    "1. checking that whether or not two population means are equal.\n",
    "\n",
    "2. suppose we need to know mean weight of two turtle species are same or not . Since there are thousands of turtle in each population it will be time consuming for counting each turtle in each population.\n",
    "\n",
    "3. Instead of that we take 15 simple random samples from each population and find mean of each.\n",
    "\n",
    "4. virtually there will be different in each sample means, but we need to know that difference is **statistically significant enough** for saying each populations have different mean.\n",
    "\n",
    "5. A two-sample t-test always uses the following null hypothesis:\n",
    "\n",
    "    **H0: μ1 = μ2** (the two population means are equal)\n",
    "    \n",
    "    \n",
    "    \n",
    "    The alternative hypothesis can be either two-tailed, left-tailed, or right-tailed:\n",
    "\n",
    "    **Ha (two-tailed): μ1 ≠ μ2** (the two population means are not equal)\n",
    "    \n",
    "    **Ha (left-tailed): μ1 < μ2** (population 1 mean is less than population 2 mean)\n",
    "    \n",
    "    **Ha (right-tailed): μ1> μ2** (population 1 mean is greater than population 2 mean)"
   ]
  },
  {
   "cell_type": "code",
   "execution_count": 19,
   "id": "c7258ab3-49ec-48e5-8988-96e7ce4ab5d4",
   "metadata": {},
   "outputs": [
    {
     "name": "stdout",
     "output_type": "stream",
     "text": [
      "0.03794210142419935\n",
      "H0 rejected so, μ1 ≠ μ2\n"
     ]
    }
   ],
   "source": [
    "from scipy.stats import ttest_ind\n",
    "import numpy as np\n",
    "data1=np.random.uniform(20,25.3,size=(20,))\n",
    "data2=np.random.uniform(20.5,26.5,size=(20,))  # data1 and data2 are the two samples from two populations\n",
    "\n",
    "t,p_val=ttest_ind(data1,data2)\n",
    "\n",
    "\n",
    "print(p_val)\n",
    "if(p_val<0.05): # ttest_ind is already returns pvalue from right so, we no need to calculate 1-p_val\n",
    "    print(\"H0 rejected so, μ1 ≠ μ2\")\n",
    "else:\n",
    "    print(\"Failed to reject H0 so, μ1 = μ2\")\n",
    "    \n",
    "\n"
   ]
  },
  {
   "cell_type": "markdown",
   "id": "1d15c43c-3d01-405d-af57-6031b06c82fc",
   "metadata": {
    "jp-MarkdownHeadingCollapsed": true,
    "tags": []
   },
   "source": [
    "# Paired sampled t-test"
   ]
  },
  {
   "cell_type": "markdown",
   "id": "51c506f1-1fdd-46e0-9584-59809f98cf7f",
   "metadata": {},
   "source": [
    "1. Paired sampled t-test :- The paired sample t-test is also called dependent sample t-test. It’s an univariate test that tests for a significant difference between 2 related variables"
   ]
  },
  {
   "cell_type": "code",
   "execution_count": 25,
   "id": "5c10c6d1-88fb-4c48-85dd-867e7e7a9782",
   "metadata": {},
   "outputs": [],
   "source": [
    "import pandas as pd\n",
    "from scipy.stats import ttest_rel\n",
    "\n",
    "data=pd.read_csv('blood_pressure.csv')"
   ]
  },
  {
   "cell_type": "code",
   "execution_count": 29,
   "id": "da5785ce-fe1d-4f7c-9b4c-3d1048324225",
   "metadata": {},
   "outputs": [
    {
     "data": {
      "text/html": [
       "<div>\n",
       "<style scoped>\n",
       "    .dataframe tbody tr th:only-of-type {\n",
       "        vertical-align: middle;\n",
       "    }\n",
       "\n",
       "    .dataframe tbody tr th {\n",
       "        vertical-align: top;\n",
       "    }\n",
       "\n",
       "    .dataframe thead th {\n",
       "        text-align: right;\n",
       "    }\n",
       "</style>\n",
       "<table border=\"1\" class=\"dataframe\">\n",
       "  <thead>\n",
       "    <tr style=\"text-align: right;\">\n",
       "      <th></th>\n",
       "      <th>patient</th>\n",
       "      <th>sex</th>\n",
       "      <th>agegrp</th>\n",
       "      <th>bp_before</th>\n",
       "      <th>bp_after</th>\n",
       "    </tr>\n",
       "  </thead>\n",
       "  <tbody>\n",
       "    <tr>\n",
       "      <th>0</th>\n",
       "      <td>1</td>\n",
       "      <td>Male</td>\n",
       "      <td>30-45</td>\n",
       "      <td>143</td>\n",
       "      <td>153</td>\n",
       "    </tr>\n",
       "    <tr>\n",
       "      <th>1</th>\n",
       "      <td>2</td>\n",
       "      <td>Male</td>\n",
       "      <td>30-45</td>\n",
       "      <td>163</td>\n",
       "      <td>170</td>\n",
       "    </tr>\n",
       "    <tr>\n",
       "      <th>2</th>\n",
       "      <td>3</td>\n",
       "      <td>Male</td>\n",
       "      <td>30-45</td>\n",
       "      <td>153</td>\n",
       "      <td>168</td>\n",
       "    </tr>\n",
       "    <tr>\n",
       "      <th>3</th>\n",
       "      <td>4</td>\n",
       "      <td>Male</td>\n",
       "      <td>30-45</td>\n",
       "      <td>153</td>\n",
       "      <td>142</td>\n",
       "    </tr>\n",
       "    <tr>\n",
       "      <th>4</th>\n",
       "      <td>5</td>\n",
       "      <td>Male</td>\n",
       "      <td>30-45</td>\n",
       "      <td>146</td>\n",
       "      <td>141</td>\n",
       "    </tr>\n",
       "  </tbody>\n",
       "</table>\n",
       "</div>"
      ],
      "text/plain": [
       "   patient   sex agegrp  bp_before  bp_after\n",
       "0        1  Male  30-45        143       153\n",
       "1        2  Male  30-45        163       170\n",
       "2        3  Male  30-45        153       168\n",
       "3        4  Male  30-45        153       142\n",
       "4        5  Male  30-45        146       141"
      ]
     },
     "execution_count": 29,
     "metadata": {},
     "output_type": "execute_result"
    }
   ],
   "source": [
    "data.head()"
   ]
  },
  {
   "cell_type": "code",
   "execution_count": 42,
   "id": "413e99a4-1244-4e07-8a01-0e06eff04d1d",
   "metadata": {},
   "outputs": [
    {
     "name": "stdout",
     "output_type": "stream",
     "text": [
      "0.0011297914644840823\n",
      "H0 rejected so,  there is significant difference in BP before treatment and after treatment\n"
     ]
    }
   ],
   "source": [
    "t_stats,p_val=ttest_rel(data.bp_before,data.bp_after)\n",
    "\n",
    "print(p_val)\n",
    "if(p_val<0.05): # Paired sampled t-test is already returns pvalue from right so, we no need to calculate 1-p_val\n",
    "    print(\"H0 rejected so,  there is significant difference in BP before treatment and after treatment\")\n",
    "else:\n",
    "    print(\"Failed to reject H0 so, there is No significant difference in BP before treatment and after treatment\")"
   ]
  },
  {
   "cell_type": "markdown",
   "id": "b0c95b8a-d078-43e8-8887-dc5d3f43bcb6",
   "metadata": {
    "jp-MarkdownHeadingCollapsed": true,
    "tags": []
   },
   "source": [
    "# One Sample Z Test"
   ]
  },
  {
   "cell_type": "code",
   "execution_count": 53,
   "id": "87edad1b-be34-4672-8a46-d51b98ac6bb1",
   "metadata": {},
   "outputs": [
    {
     "name": "stdout",
     "output_type": "stream",
     "text": [
      "P_val 0.014185854025524306\n",
      "H0 rejected so, mean is not 159\n"
     ]
    }
   ],
   "source": [
    "# same as One sample t test\n",
    "\n",
    "from statsmodels.stats import weightstats\n",
    "\n",
    "Ztest,p_val=weightstats.ztest(data.bp_before,value=159) # same as one sample t test.\n",
    "\n",
    "# 159 is known or hypothesized population mean\n",
    "\n",
    "print(\"P_val\",p_val)\n",
    "\n",
    "if(p_val<0.05): # its is already returns pvalue from right so, we no need to calculate 1-p_val\n",
    "    print(\"H0 rejected so, mean is not 159\")\n",
    "else:\n",
    "    print(\"Failed to reject H0 so, mean is 159\")\n"
   ]
  },
  {
   "cell_type": "markdown",
   "id": "41ccaded-139e-4dd9-a05b-fd34a99d9509",
   "metadata": {
    "jp-MarkdownHeadingCollapsed": true,
    "tags": []
   },
   "source": [
    "# 2 Sample Z Test"
   ]
  },
  {
   "cell_type": "code",
   "execution_count": 58,
   "id": "5229a756-4c36-40ee-b7aa-5fbd90149176",
   "metadata": {},
   "outputs": [
    {
     "name": "stdout",
     "output_type": "stream",
     "text": [
      "0.002162306611369422\n",
      "H0 rejected so,  there is significant difference in BP before treatment and after treatment\n"
     ]
    }
   ],
   "source": [
    "Ztest,p_val=weightstats.ztest(data.bp_before,data.bp_after) # alternative 2 sided test\n",
    "\n",
    "# H0: mue1=mue2\n",
    "# Ha: mue1!=mue2\n",
    "\n",
    "print(p_val)\n",
    "if(p_val<0.05): # it is already returns pvalue from right so, we no need to calculate 1-p_val\n",
    "    print(\"H0 rejected so,  there is significant difference in BP before treatment and after treatment\")\n",
    "else:\n",
    "    print(\"Failed to reject H0 so, there is No significant difference in BP before treatment and after treatment\")"
   ]
  },
  {
   "cell_type": "code",
   "execution_count": 68,
   "id": "f835dae6-6667-448b-b738-d49395da86de",
   "metadata": {},
   "outputs": [
    {
     "name": "stdout",
     "output_type": "stream",
     "text": [
      "0.001081153305684711\n",
      "H0 rejected so, bp before treatment is greater than bp after treatment, so bp reduced after treatment \n"
     ]
    }
   ],
   "source": [
    "Ztest,p_val=weightstats.ztest(data.bp_before,data.bp_after,alternative='larger') # right tailed\n",
    "\n",
    "# H0: mue1<=mue2\n",
    "# Ha: mue1>mue2\n",
    "\n",
    "print(p_val)\n",
    "if(p_val<0.05): # it is already returns pvalue from right so, we no need to calculate 1-p_val\n",
    "    print(\"H0 rejected so, bp before treatment is greater than bp after treatment, so bp reduced after treatment \")\n",
    "else:\n",
    "    print(\"Failed to reject H0 so, mue1<=mue2\")"
   ]
  },
  {
   "cell_type": "code",
   "execution_count": 72,
   "id": "0d26817c-597d-47b4-ab03-65947552b2c3",
   "metadata": {},
   "outputs": [
    {
     "name": "stdout",
     "output_type": "stream",
     "text": [
      "0.9989188466943153\n",
      "Failed to reject H0 so, mue1>=mue2\n"
     ]
    }
   ],
   "source": [
    "Ztest,p_val=weightstats.ztest(data.bp_before,data.bp_after,alternative='smaller') # left tailed\n",
    "\n",
    "# H0: mue1>=mue2\n",
    "# Ha: mue1<mue2\n",
    "\n",
    "print(p_val)\n",
    "if(p_val<0.05): # it is already returns pvalue from right so, we no need to calculate 1-p_val\n",
    "    print(\"H0 rejected so, mue1<mue2 \")\n",
    "else:\n",
    "    print(\"Failed to reject H0 so, mue1>=mue2\")"
   ]
  },
  {
   "cell_type": "markdown",
   "id": "442c7958-0637-4e91-8220-f4fe46a47ce7",
   "metadata": {
    "jp-MarkdownHeadingCollapsed": true,
    "tags": []
   },
   "source": [
    "# One-way anova"
   ]
  },
  {
   "cell_type": "code",
   "execution_count": 82,
   "id": "4eb7b179-4687-4caa-84e4-00d851564190",
   "metadata": {},
   "outputs": [],
   "source": [
    "df1=pd.read_csv('PlantGrowth.csv')\n",
    "df1=df1[['weight','group']]\n",
    "grps=df1.group.unique()"
   ]
  },
  {
   "cell_type": "code",
   "execution_count": 84,
   "id": "190ba59f-da4a-40b0-9c2a-7ef685b5404a",
   "metadata": {},
   "outputs": [
    {
     "data": {
      "text/html": [
       "<div>\n",
       "<style scoped>\n",
       "    .dataframe tbody tr th:only-of-type {\n",
       "        vertical-align: middle;\n",
       "    }\n",
       "\n",
       "    .dataframe tbody tr th {\n",
       "        vertical-align: top;\n",
       "    }\n",
       "\n",
       "    .dataframe thead th {\n",
       "        text-align: right;\n",
       "    }\n",
       "</style>\n",
       "<table border=\"1\" class=\"dataframe\">\n",
       "  <thead>\n",
       "    <tr style=\"text-align: right;\">\n",
       "      <th></th>\n",
       "      <th>weight</th>\n",
       "      <th>group</th>\n",
       "    </tr>\n",
       "  </thead>\n",
       "  <tbody>\n",
       "    <tr>\n",
       "      <th>0</th>\n",
       "      <td>4.17</td>\n",
       "      <td>ctrl</td>\n",
       "    </tr>\n",
       "    <tr>\n",
       "      <th>1</th>\n",
       "      <td>5.58</td>\n",
       "      <td>ctrl</td>\n",
       "    </tr>\n",
       "    <tr>\n",
       "      <th>2</th>\n",
       "      <td>5.18</td>\n",
       "      <td>ctrl</td>\n",
       "    </tr>\n",
       "    <tr>\n",
       "      <th>3</th>\n",
       "      <td>6.11</td>\n",
       "      <td>ctrl</td>\n",
       "    </tr>\n",
       "    <tr>\n",
       "      <th>4</th>\n",
       "      <td>4.50</td>\n",
       "      <td>ctrl</td>\n",
       "    </tr>\n",
       "  </tbody>\n",
       "</table>\n",
       "</div>"
      ],
      "text/plain": [
       "   weight group\n",
       "0    4.17  ctrl\n",
       "1    5.58  ctrl\n",
       "2    5.18  ctrl\n",
       "3    6.11  ctrl\n",
       "4    4.50  ctrl"
      ]
     },
     "execution_count": 84,
     "metadata": {},
     "output_type": "execute_result"
    }
   ],
   "source": [
    "df1.head()"
   ]
  },
  {
   "cell_type": "code",
   "execution_count": 92,
   "id": "0dcf16f9-7981-4552-b5ae-2576c8a74dc0",
   "metadata": {},
   "outputs": [],
   "source": [
    "data={grp:df1.weight[df1.group==grp] for grp in grps}"
   ]
  },
  {
   "cell_type": "code",
   "execution_count": 96,
   "id": "41646a91-174b-466e-973f-656448bedb55",
   "metadata": {},
   "outputs": [
    {
     "name": "stdout",
     "output_type": "stream",
     "text": [
      "0.0159099583256229\n",
      "H0 rejected so,  there is significancy in groups for weights\n"
     ]
    }
   ],
   "source": [
    "from scipy.stats import f_oneway\n",
    "\n",
    "f_stats,p_val=f_oneway(data['ctrl'], data['trt1'], data['trt2'])\n",
    "\n",
    "print(p_val)\n",
    "if(p_val<0.05): # it is already returns pvalue from right so, we no need to calculate 1-p_val\n",
    "    print(\"H0 rejected so,  there is significancy in groups for weights\")\n",
    "else:\n",
    "    print(\"Failed to reject H0 so, there is NO significancy in groups for weights\")"
   ]
  },
  {
   "cell_type": "markdown",
   "id": "f5f97992-240d-4269-b42b-6caa33b621b6",
   "metadata": {
    "tags": []
   },
   "source": [
    "# Two way anova"
   ]
  },
  {
   "cell_type": "code",
   "execution_count": 108,
   "id": "ef6e2f7a-8586-46e3-8723-58326324135a",
   "metadata": {},
   "outputs": [],
   "source": [
    "#create data\n",
    "df = pd.DataFrame({'water': np.repeat(['daily', 'weekly'], 15),\n",
    "                   'sun': np.tile(np.repeat(['low', 'med', 'high'], 5), 2),\n",
    "                   'height': [6, 6, 6, 5, 6, 5, 5, 6, 4, 5,\n",
    "                              6, 6, 7, 8, 7, 3, 4, 4, 4, 5,\n",
    "                              4, 4, 4, 4, 4, 5, 6, 6, 7, 8]})"
   ]
  },
  {
   "cell_type": "code",
   "execution_count": 112,
   "id": "b95aae8f-07ec-4054-841f-3b30e3006145",
   "metadata": {},
   "outputs": [
    {
     "data": {
      "text/html": [
       "<div>\n",
       "<style scoped>\n",
       "    .dataframe tbody tr th:only-of-type {\n",
       "        vertical-align: middle;\n",
       "    }\n",
       "\n",
       "    .dataframe tbody tr th {\n",
       "        vertical-align: top;\n",
       "    }\n",
       "\n",
       "    .dataframe thead th {\n",
       "        text-align: right;\n",
       "    }\n",
       "</style>\n",
       "<table border=\"1\" class=\"dataframe\">\n",
       "  <thead>\n",
       "    <tr style=\"text-align: right;\">\n",
       "      <th></th>\n",
       "      <th>sum_sq</th>\n",
       "      <th>df</th>\n",
       "      <th>F</th>\n",
       "      <th>PR(&gt;F)</th>\n",
       "    </tr>\n",
       "  </thead>\n",
       "  <tbody>\n",
       "    <tr>\n",
       "      <th>C(water)</th>\n",
       "      <td>8.533333</td>\n",
       "      <td>1.0</td>\n",
       "      <td>14.532751</td>\n",
       "      <td>0.000762</td>\n",
       "    </tr>\n",
       "    <tr>\n",
       "      <th>C(sun)</th>\n",
       "      <td>24.866667</td>\n",
       "      <td>2.0</td>\n",
       "      <td>21.174672</td>\n",
       "      <td>0.000003</td>\n",
       "    </tr>\n",
       "    <tr>\n",
       "      <th>C(water)and C(sun)</th>\n",
       "      <td>24.866667</td>\n",
       "      <td>2.0</td>\n",
       "      <td>21.174672</td>\n",
       "      <td>0.000003</td>\n",
       "    </tr>\n",
       "    <tr>\n",
       "      <th>Residual</th>\n",
       "      <td>15.266667</td>\n",
       "      <td>26.0</td>\n",
       "      <td>NaN</td>\n",
       "      <td>NaN</td>\n",
       "    </tr>\n",
       "  </tbody>\n",
       "</table>\n",
       "</div>"
      ],
      "text/plain": [
       "                       sum_sq    df          F    PR(>F)\n",
       "C(water)             8.533333   1.0  14.532751  0.000762\n",
       "C(sun)              24.866667   2.0  21.174672  0.000003\n",
       "C(water)and C(sun)  24.866667   2.0  21.174672  0.000003\n",
       "Residual            15.266667  26.0        NaN       NaN"
      ]
     },
     "execution_count": 112,
     "metadata": {},
     "output_type": "execute_result"
    }
   ],
   "source": [
    "import statsmodels.api as sm\n",
    "from statsmodels.formula.api import ols\n",
    "\n",
    "#perform two-way ANOVA\n",
    "model = ols('height ~ C(water) + C(sun) + C(water) and C(sun)', data=df).fit() # (effect of water+ effect of sun + effect of water and sun in together) on height\n",
    "result=sm.stats.anova_lm(model, typ=2)\n",
    "result"
   ]
  },
  {
   "cell_type": "code",
   "execution_count": 144,
   "id": "50c10588-774e-473f-b7f0-e3b6144b1952",
   "metadata": {},
   "outputs": [],
   "source": [
    "result.index.name='features'\n"
   ]
  },
  {
   "cell_type": "code",
   "execution_count": 150,
   "id": "1e355be1-6e27-48ed-86c5-c4e6d6b919da",
   "metadata": {},
   "outputs": [],
   "source": [
    "result.reset_index(inplace=True)"
   ]
  },
  {
   "cell_type": "code",
   "execution_count": 207,
   "id": "40de1e6c-82f3-40d3-b8da-6688216b3cde",
   "metadata": {},
   "outputs": [
    {
     "name": "stdout",
     "output_type": "stream",
     "text": [
      "C(water) Has effect on plant growth\n",
      "C(sun) Has effect on plant growth\n",
      "C(water)and C(sun) Has effect on plant growth\n"
     ]
    }
   ],
   "source": [
    "import math\n",
    "for i,j in enumerate(result['PR(>F)']):\n",
    "    if not (math.isnan(float(j))):\n",
    "        if j<0.05 :\n",
    "            print(result.iloc[i]['features'],'Has effect on plant growth')\n",
    "        else:\n",
    "            print(result.iloc[i]['features'],'Has No effect on plant growth')"
   ]
  },
  {
   "cell_type": "markdown",
   "id": "8437b212-66bd-400b-972c-703931c71cd5",
   "metadata": {},
   "source": [
    "# Chi-Square (Categorical Attributes)"
   ]
  },
  {
   "cell_type": "code",
   "execution_count": 215,
   "id": "63f62ce7-bc85-4f9e-8141-b26f44453356",
   "metadata": {},
   "outputs": [
    {
     "data": {
      "text/html": [
       "<div>\n",
       "<style scoped>\n",
       "    .dataframe tbody tr th:only-of-type {\n",
       "        vertical-align: middle;\n",
       "    }\n",
       "\n",
       "    .dataframe tbody tr th {\n",
       "        vertical-align: top;\n",
       "    }\n",
       "\n",
       "    .dataframe thead th {\n",
       "        text-align: right;\n",
       "    }\n",
       "</style>\n",
       "<table border=\"1\" class=\"dataframe\">\n",
       "  <thead>\n",
       "    <tr style=\"text-align: right;\">\n",
       "      <th></th>\n",
       "      <th>Gender</th>\n",
       "      <th>Married</th>\n",
       "      <th>Dependents</th>\n",
       "      <th>Education</th>\n",
       "      <th>Self_Employed</th>\n",
       "      <th>Credit_History</th>\n",
       "      <th>Property_Area</th>\n",
       "      <th>Loan_Status</th>\n",
       "    </tr>\n",
       "  </thead>\n",
       "  <tbody>\n",
       "    <tr>\n",
       "      <th>0</th>\n",
       "      <td>Male</td>\n",
       "      <td>No</td>\n",
       "      <td>0</td>\n",
       "      <td>Graduate</td>\n",
       "      <td>No</td>\n",
       "      <td>1.0</td>\n",
       "      <td>Urban</td>\n",
       "      <td>Y</td>\n",
       "    </tr>\n",
       "    <tr>\n",
       "      <th>1</th>\n",
       "      <td>Male</td>\n",
       "      <td>Yes</td>\n",
       "      <td>1</td>\n",
       "      <td>Graduate</td>\n",
       "      <td>No</td>\n",
       "      <td>1.0</td>\n",
       "      <td>Rural</td>\n",
       "      <td>N</td>\n",
       "    </tr>\n",
       "    <tr>\n",
       "      <th>2</th>\n",
       "      <td>Male</td>\n",
       "      <td>Yes</td>\n",
       "      <td>0</td>\n",
       "      <td>Graduate</td>\n",
       "      <td>Yes</td>\n",
       "      <td>1.0</td>\n",
       "      <td>Urban</td>\n",
       "      <td>Y</td>\n",
       "    </tr>\n",
       "    <tr>\n",
       "      <th>3</th>\n",
       "      <td>Male</td>\n",
       "      <td>Yes</td>\n",
       "      <td>0</td>\n",
       "      <td>Not Graduate</td>\n",
       "      <td>No</td>\n",
       "      <td>1.0</td>\n",
       "      <td>Urban</td>\n",
       "      <td>Y</td>\n",
       "    </tr>\n",
       "    <tr>\n",
       "      <th>4</th>\n",
       "      <td>Male</td>\n",
       "      <td>No</td>\n",
       "      <td>0</td>\n",
       "      <td>Graduate</td>\n",
       "      <td>No</td>\n",
       "      <td>1.0</td>\n",
       "      <td>Urban</td>\n",
       "      <td>Y</td>\n",
       "    </tr>\n",
       "  </tbody>\n",
       "</table>\n",
       "</div>"
      ],
      "text/plain": [
       "  Gender Married Dependents     Education Self_Employed  Credit_History  \\\n",
       "0   Male      No          0      Graduate            No             1.0   \n",
       "1   Male     Yes          1      Graduate            No             1.0   \n",
       "2   Male     Yes          0      Graduate           Yes             1.0   \n",
       "3   Male     Yes          0  Not Graduate            No             1.0   \n",
       "4   Male      No          0      Graduate            No             1.0   \n",
       "\n",
       "  Property_Area Loan_Status  \n",
       "0         Urban           Y  \n",
       "1         Rural           N  \n",
       "2         Urban           Y  \n",
       "3         Urban           Y  \n",
       "4         Urban           Y  "
      ]
     },
     "execution_count": 215,
     "metadata": {},
     "output_type": "execute_result"
    }
   ],
   "source": [
    "df = pd.read_csv('data/Loan Prediction Dataset.csv')\n",
    "df = df[['Gender', 'Married', 'Dependents', 'Education', 'Self_Employed', 'Credit_History', 'Property_Area', 'Loan_Status']]\n",
    "# fill null values\n",
    "for col in df.columns:\n",
    "    df[col] = df[col].fillna(df[col].mode()[0])\n",
    "df.head()"
   ]
  },
  {
   "cell_type": "code",
   "execution_count": 218,
   "id": "f172ad8c-f095-4891-bd96-5f283aca7efe",
   "metadata": {},
   "outputs": [
    {
     "data": {
      "text/html": [
       "<div>\n",
       "<style scoped>\n",
       "    .dataframe tbody tr th:only-of-type {\n",
       "        vertical-align: middle;\n",
       "    }\n",
       "\n",
       "    .dataframe tbody tr th {\n",
       "        vertical-align: top;\n",
       "    }\n",
       "\n",
       "    .dataframe thead th {\n",
       "        text-align: right;\n",
       "    }\n",
       "</style>\n",
       "<table border=\"1\" class=\"dataframe\">\n",
       "  <thead>\n",
       "    <tr style=\"text-align: right;\">\n",
       "      <th></th>\n",
       "      <th>Gender</th>\n",
       "      <th>Married</th>\n",
       "      <th>Dependents</th>\n",
       "      <th>Education</th>\n",
       "      <th>Self_Employed</th>\n",
       "      <th>Credit_History</th>\n",
       "      <th>Property_Area</th>\n",
       "      <th>Loan_Status</th>\n",
       "    </tr>\n",
       "  </thead>\n",
       "  <tbody>\n",
       "    <tr>\n",
       "      <th>0</th>\n",
       "      <td>1</td>\n",
       "      <td>0</td>\n",
       "      <td>0</td>\n",
       "      <td>0</td>\n",
       "      <td>0</td>\n",
       "      <td>1</td>\n",
       "      <td>2</td>\n",
       "      <td>1</td>\n",
       "    </tr>\n",
       "    <tr>\n",
       "      <th>1</th>\n",
       "      <td>1</td>\n",
       "      <td>1</td>\n",
       "      <td>1</td>\n",
       "      <td>0</td>\n",
       "      <td>0</td>\n",
       "      <td>1</td>\n",
       "      <td>0</td>\n",
       "      <td>0</td>\n",
       "    </tr>\n",
       "    <tr>\n",
       "      <th>2</th>\n",
       "      <td>1</td>\n",
       "      <td>1</td>\n",
       "      <td>0</td>\n",
       "      <td>0</td>\n",
       "      <td>1</td>\n",
       "      <td>1</td>\n",
       "      <td>2</td>\n",
       "      <td>1</td>\n",
       "    </tr>\n",
       "    <tr>\n",
       "      <th>3</th>\n",
       "      <td>1</td>\n",
       "      <td>1</td>\n",
       "      <td>0</td>\n",
       "      <td>1</td>\n",
       "      <td>0</td>\n",
       "      <td>1</td>\n",
       "      <td>2</td>\n",
       "      <td>1</td>\n",
       "    </tr>\n",
       "    <tr>\n",
       "      <th>4</th>\n",
       "      <td>1</td>\n",
       "      <td>0</td>\n",
       "      <td>0</td>\n",
       "      <td>0</td>\n",
       "      <td>0</td>\n",
       "      <td>1</td>\n",
       "      <td>2</td>\n",
       "      <td>1</td>\n",
       "    </tr>\n",
       "  </tbody>\n",
       "</table>\n",
       "</div>"
      ],
      "text/plain": [
       "   Gender  Married  Dependents  Education  Self_Employed  Credit_History  \\\n",
       "0       1        0           0          0              0               1   \n",
       "1       1        1           1          0              0               1   \n",
       "2       1        1           0          0              1               1   \n",
       "3       1        1           0          1              0               1   \n",
       "4       1        0           0          0              0               1   \n",
       "\n",
       "   Property_Area  Loan_Status  \n",
       "0              2            1  \n",
       "1              0            0  \n",
       "2              2            1  \n",
       "3              2            1  \n",
       "4              2            1  "
      ]
     },
     "execution_count": 218,
     "metadata": {},
     "output_type": "execute_result"
    }
   ],
   "source": [
    "# label encoding\n",
    "from sklearn.preprocessing import LabelEncoder\n",
    "for col in df.columns:\n",
    "    le = LabelEncoder()\n",
    "    df[col] = le.fit_transform(df[col])\n",
    "df.head()"
   ]
  },
  {
   "cell_type": "code",
   "execution_count": 221,
   "id": "fd61e7e6-b504-425c-98a8-d2f30014138d",
   "metadata": {},
   "outputs": [],
   "source": [
    "from sklearn.feature_selection import chi2\n",
    "X = df.drop(columns=['Loan_Status'], axis=1)\n",
    "y = df['Loan_Status']"
   ]
  },
  {
   "cell_type": "code",
   "execution_count": 224,
   "id": "c89670c2-b7c7-40bd-80fc-29ab87212ab5",
   "metadata": {},
   "outputs": [],
   "source": [
    "chi_scores = chi2(X, y)"
   ]
  },
  {
   "cell_type": "code",
   "execution_count": 227,
   "id": "543e2740-73e0-4c8a-b1b6-bbbd89a7f309",
   "metadata": {},
   "outputs": [
    {
     "data": {
      "text/plain": [
       "(array([3.62343084e-02, 1.78242499e+00, 8.59527587e-02, 3.54050246e+00,\n",
       "        7.28480330e-03, 2.60058772e+01, 3.77837464e-01]),\n",
       " array([8.49032435e-01, 1.81851834e-01, 7.69386856e-01, 5.98873168e-02,\n",
       "        9.31982300e-01, 3.40379591e-07, 5.38762867e-01]))"
      ]
     },
     "execution_count": 227,
     "metadata": {},
     "output_type": "execute_result"
    }
   ],
   "source": [
    "chi_scores"
   ]
  },
  {
   "cell_type": "code",
   "execution_count": 230,
   "id": "c692800f-e1ba-4ce9-bccd-c1ac98b1a091",
   "metadata": {},
   "outputs": [
    {
     "data": {
      "text/plain": [
       "<Axes: >"
      ]
     },
     "execution_count": 230,
     "metadata": {},
     "output_type": "execute_result"
    },
    {
     "data": {
      "image/png": "[encoded data removed]",
      "text/plain": [
       "<Figure size 640x480 with 1 Axes>"
      ]
     },
     "metadata": {},
     "output_type": "display_data"
    }
   ],
   "source": [
    "# higher the chi value, higher the importance\n",
    "chi_values = pd.Series(chi_scores[0], index=X.columns)\n",
    "chi_values.sort_values(ascending=False, inplace=True)\n",
    "chi_values.plot.bar()"
   ]
  }
 ],
 "metadata": {
  "kernelspec": {
   "display_name": "anaconda-panel-2023.05-py310",
   "language": "python",
   "name": "conda-env-anaconda-panel-2023.05-py310-py"
  },
  "language_info": {
   "codemirror_mode": {
    "name": "ipython",
    "version": 3
   },
   "file_extension": ".py",
   "mimetype": "text/x-python",
   "name": "python",
   "nbconvert_exporter": "python",
   "pygments_lexer": "ipython3",
   "version": "3.11.5"
  }
 },
 "nbformat": 4,
 "nbformat_minor": 5
}
