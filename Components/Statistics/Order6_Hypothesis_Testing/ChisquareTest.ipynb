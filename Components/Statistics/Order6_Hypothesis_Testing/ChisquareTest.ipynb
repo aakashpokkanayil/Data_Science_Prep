{
 "cells": [
  {
   "cell_type": "markdown",
   "id": "2cb781b4-559b-44f3-8a67-5da9f811a195",
   "metadata": {},
   "source": [
    "# ChiSquare"
   ]
  },
  {
   "cell_type": "markdown",
   "id": "6f1bbdfb-053d-47a2-98bc-e7c26aa4982a",
   "metadata": {},
   "source": [
    "1. its a non parametric test means we dont have any assumption on distribution whether its ND or not\n",
    "\n",
    "2. its used for checking significancy between two category features.\n",
    "\n",
    "3. degree of freedom = (r-1) * (c-1) where r and c are row and columns.\n",
    "\n",
    "4. Example https://docs.google.com/spreadsheets/d/1xSE6h_RFaVe-g-IDTmLvm8HHStSa8wRU4jNZQXe1KJc/edit#gid=1653460621"
   ]
  },
  {
   "cell_type": "code",
   "execution_count": null,
   "id": "641a5e88-5636-44c8-8161-8593525441bf",
   "metadata": {},
   "outputs": [],
   "source": []
  },
  {
   "cell_type": "code",
   "execution_count": null,
   "id": "7ff792b0-ba99-4caf-ad7e-d659e5b1b93f",
   "metadata": {},
   "outputs": [],
   "source": []
  },
  {
   "cell_type": "code",
   "execution_count": null,
   "id": "c97063ed-7092-4e69-b352-b08eb9bf319e",
   "metadata": {},
   "outputs": [],
   "source": []
  },
  {
   "cell_type": "code",
   "execution_count": null,
   "id": "e9608d40-55bb-4017-9eef-a34958d6895b",
   "metadata": {},
   "outputs": [],
   "source": []
  },
  {
   "cell_type": "code",
   "execution_count": null,
   "id": "a787ba86-7c12-44d9-8705-287f869b7771",
   "metadata": {},
   "outputs": [],
   "source": []
  },
  {
   "cell_type": "code",
   "execution_count": null,
   "id": "0be4befd-9c93-46bd-b3c0-fbd1a6ad86df",
   "metadata": {},
   "outputs": [],
   "source": []
  },
  {
   "cell_type": "code",
   "execution_count": null,
   "id": "eb6d5380-8934-49a4-af6b-c65e189df001",
   "metadata": {},
   "outputs": [],
   "source": []
  },
  {
   "cell_type": "code",
   "execution_count": null,
   "id": "d8b8d0d3-e64b-49be-a550-ee961322dcf9",
   "metadata": {},
   "outputs": [],
   "source": []
  },
  {
   "cell_type": "code",
   "execution_count": null,
   "id": "a2442051-b124-40d8-beca-7d4e477b49bf",
   "metadata": {},
   "outputs": [],
   "source": []
  },
  {
   "cell_type": "code",
   "execution_count": null,
   "id": "84eed952-d7d9-461b-b9f9-81464637fab4",
   "metadata": {},
   "outputs": [],
   "source": []
  },
  {
   "cell_type": "code",
   "execution_count": null,
   "id": "6a82d695-fe16-42a0-9855-2346d06b770d",
   "metadata": {},
   "outputs": [],
   "source": []
  },
  {
   "cell_type": "code",
   "execution_count": null,
   "id": "d1767278-d245-4034-a897-7c38495f1b25",
   "metadata": {},
   "outputs": [],
   "source": []
  }
 ],
 "metadata": {
  "kernelspec": {
   "display_name": "",
   "name": ""
  },
  "language_info": {
   "name": ""
  }
 },
 "nbformat": 4,
 "nbformat_minor": 5
}
