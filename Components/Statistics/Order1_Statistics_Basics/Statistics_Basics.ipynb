{
 "cells": [
  {
   "cell_type": "markdown",
   "id": "14c04bdf",
   "metadata": {},
   "source": [
    "# What is Statistics"
   ]
  },
  {
   "cell_type": "markdown",
   "id": "226b04bc",
   "metadata": {},
   "source": [
    "1. In Statistics we collect --> organize --> analyse --> interept --> Visualize Data. "
   ]
  },
  {
   "cell_type": "markdown",
   "id": "a0118688",
   "metadata": {},
   "source": [
    "# Basic Concept"
   ]
  },
  {
   "cell_type": "markdown",
   "id": "3552331b",
   "metadata": {},
   "source": [
    "1. Population: Total number of data points or things.\n",
    "2. Sample: Small subset of population used for study.\n",
    "3. Sample Size: Numbers of data points present in sample.\n",
    "4. Variable: Any feature or attribute of object under study."
   ]
  },
  {
   "cell_type": "markdown",
   "id": "275a766b",
   "metadata": {},
   "source": [
    "<img src=\"what_is_stats.png\" width=1200 height=1000 />"
   ]
  },
  {
   "cell_type": "markdown",
   "id": "f61334b6",
   "metadata": {},
   "source": [
    "# Statistical Thinking"
   ]
  },
  {
   "cell_type": "markdown",
   "id": "94a12fa5",
   "metadata": {},
   "source": [
    "<img src=\"Statistical_Thinking_Part1.png\" width=1200 height=1000 />\n",
    "\n",
    "<img src=\"Statistical_Thinking_Part2.png\" width=1200 height=1000 />\n",
    "\n",
    "<img src=\"Application_Of_Statistical_Thinking.png\" width=1200 height=1000 />\n",
    "\n",
    "<img src=\"Statistical_Thinking_Assignment.png\" width=1200 height=1000 />"
   ]
  },
  {
   "cell_type": "code",
   "execution_count": null,
   "id": "a4fc7414",
   "metadata": {},
   "outputs": [],
   "source": []
  },
  {
   "cell_type": "code",
   "execution_count": null,
   "id": "83ddcaaa",
   "metadata": {},
   "outputs": [],
   "source": []
  },
  {
   "cell_type": "code",
   "execution_count": null,
   "id": "99e007bc",
   "metadata": {},
   "outputs": [],
   "source": []
  },
  {
   "cell_type": "code",
   "execution_count": null,
   "id": "45036a70",
   "metadata": {},
   "outputs": [],
   "source": []
  },
  {
   "cell_type": "code",
   "execution_count": null,
   "id": "4649e041",
   "metadata": {},
   "outputs": [],
   "source": []
  },
  {
   "cell_type": "code",
   "execution_count": null,
   "id": "568d6f57",
   "metadata": {},
   "outputs": [],
   "source": []
  },
  {
   "cell_type": "code",
   "execution_count": null,
   "id": "b6a8323e",
   "metadata": {},
   "outputs": [],
   "source": []
  },
  {
   "cell_type": "code",
   "execution_count": null,
   "id": "2375680e",
   "metadata": {},
   "outputs": [],
   "source": []
  },
  {
   "cell_type": "code",
   "execution_count": null,
   "id": "de71607e",
   "metadata": {},
   "outputs": [],
   "source": []
  },
  {
   "cell_type": "code",
   "execution_count": null,
   "id": "52aa9d7d",
   "metadata": {},
   "outputs": [],
   "source": []
  },
  {
   "cell_type": "code",
   "execution_count": null,
   "id": "c251396f",
   "metadata": {},
   "outputs": [],
   "source": []
  }
 ],
 "metadata": {
  "kernelspec": {
   "display_name": "anaconda-2022.05-py39",
   "language": "python",
   "name": "conda-env-anaconda-2022.05-py39-py"
  },
  "language_info": {
   "codemirror_mode": {
    "name": "ipython",
    "version": 3
   },
   "file_extension": ".py",
   "mimetype": "text/x-python",
   "name": "python",
   "nbconvert_exporter": "python",
   "pygments_lexer": "ipython3",
   "version": "3.9.12"
  }
 },
 "nbformat": 4,
 "nbformat_minor": 5
}
