{
 "cells": [
  {
   "cell_type": "markdown",
   "id": "8281b45d",
   "metadata": {},
   "source": [
    "### Q1.Suppose all household incomes in California increase by 5%.How does that change the mean household income?\n",
    "\n",
    "\n",
    "### Q3. Suppose all household incomes in California increase by 5,000 USD. How does that change the mean household income?"
   ]
  },
  {
   "cell_type": "markdown",
   "id": "ff0fb417",
   "metadata": {},
   "source": [
    "Mean will also increase 5%, 5,000 USD. Mean will effect by any arithemetic operation done in our dataset."
   ]
  },
  {
   "cell_type": "markdown",
   "id": "510ad427",
   "metadata": {},
   "source": [
    "### Q2. Suppose all household incomes in California increase by 5%.How does that change the median household income?\n",
    "\n",
    "\n",
    "### Q4. Suppose all household incomes in California decrease by 5,000 USD. How does that change the median household income?"
   ]
  },
  {
   "cell_type": "markdown",
   "id": "f5b0b33f",
   "metadata": {},
   "source": [
    "median will also increase 5% and decrease by 5000 USD, median will effect by any arithemetic operation done in our dataset."
   ]
  },
  {
   "cell_type": "markdown",
   "id": "02a4c181",
   "metadata": {},
   "source": [
    "### Q5. The median sales price for houses in a certain county during the last year was 342,000 USD. What can we say about the percentage of sales represented by the houses that sold for more than 342,000 USD from below options?\n",
    "\n",
    "a. the houses that sold for more than 342,000 USD represent more than 50% of all sales.\n",
    "\n",
    "b. the houses that sold for more than 342,000 USD represent exactly 50% of all sales.\n",
    "\n",
    "c. the houses that sold for more than 342,000 USD represent less than 50% of all sales"
   ]
  },
  {
   "cell_type": "markdown",
   "id": "04b8b472",
   "metadata": {},
   "source": [
    "Answer is option b, coz median cuts through center point of data. Percentage to left and right from median for a normal dist is same 50% "
   ]
  },
  {
   "cell_type": "markdown",
   "id": "7bf364d6",
   "metadata": {},
   "source": [
    "### What is the main benefit of Central tentency?"
   ]
  },
  {
   "cell_type": "markdown",
   "id": "ae83a01f",
   "metadata": {},
   "source": [
    "Central Tentency is a single digit number which gives over all idea of our dataset, its points to center of our data."
   ]
  },
  {
   "cell_type": "markdown",
   "id": "92292c2c",
   "metadata": {},
   "source": [
    "### Why we check Variablity? Is Central Tentency enough to measure our data?"
   ]
  },
  {
   "cell_type": "markdown",
   "id": "39db9ec3",
   "metadata": {},
   "source": [
    "1. Variablity gives us Spread of the Data, but CT only giives us central point of our Data.\n",
    "\n",
    "\n",
    "2. Diffrent Normal Distributions can have same CT and diffrent Spread.\n",
    "\n",
    "\n",
    "3. Spread gives us the idea how data is distributed. \n",
    "\n",
    "    a. high dispersion means data is spread in to wider area there will be more extreme values to both end of distribution.\n",
    "    \n",
    "    b. low dispersion means data is more closer to CT, and most of data is gathered around mean.\n",
    "    \n",
    "    \n",
    "4. Example1:\n",
    "\n",
    "    <img src=\"PizzaDeliveryTime.png\" alt=\"Drawing\" style=\"width: 600px;\"/>\n",
    "    \n",
    "    we can see blue company Take wide tange of Time very least and very much time also, but red conpany is more consistant in keeping time so red company is more reliable.\n",
    "    \n",
    "    \n",
    "5. Example 2:\n",
    "\n",
    "    <img src=\"CricketPlayerRunRate.png\" alt=\"Drawing\" style=\"width: 600px;\"/>\n",
    "    \n",
    "    here run rate of Blue player is more consistant he dont take less than 80 so in critical situations we can put blue player for more result.\n",
    "    \n",
    "    \n",
    "6. Example 3:\n",
    "\n",
    "    <img src=\"HousePricePerLocation.png\" alt=\"Drawing\" style=\"width: 600px;\"/>\n",
    "    \n",
    "    we can prefer green location here it have wide varity of price ranges , helps also for budget people.\n",
    "    \n",
    "    \n",
    "\n",
    "\n"
   ]
  },
  {
   "cell_type": "markdown",
   "id": "64626c48",
   "metadata": {},
   "source": [
    "### Why we find Varience First?"
   ]
  },
  {
   "cell_type": "markdown",
   "id": "119fc093",
   "metadata": {},
   "source": [
    "we can use varience to remove -ve values when finding sum of avg distance from mean, so the avg value wont be zero."
   ]
  },
  {
   "cell_type": "markdown",
   "id": "ebc7024e",
   "metadata": {},
   "source": [
    "### Why Standard deviation?"
   ]
  },
  {
   "cell_type": "markdown",
   "id": "695835af",
   "metadata": {},
   "source": [
    "Unit of Varience will be 2nd degree,finding sqrt of varience bring down unit of feature itself."
   ]
  },
  {
   "cell_type": "markdown",
   "id": "e49bb07c",
   "metadata": {},
   "source": [
    "###  Why we use n-1 in std and varience for sample?"
   ]
  },
  {
   "cell_type": "markdown",
   "id": "e72ac362",
   "metadata": {},
   "source": [
    "1. we use n-1 when we calculate sample std and sample varience. this term is known as **Bessel’s Correction.**\n",
    "\n",
    "\n",
    "2. **Bessel’s Correction** state that when we inter population based on sample, there will be bias in out infering. Its because sample is a subset of population , spread of sample will be less than population so , we increase the spread of sample by dividing n-1 then we can match spread of sample and population up to an extent.why we take n-1 only not n-2 or n-3, its points to a concept degree of freedom.\n",
    "\n",
    "\n",
    "3. we assume that sample mean == population mean in that assumption there will be a mathe mathical restriction for calculating mean , that is n-1 th item will already decided or its dont have the freedom to change, so as per degree of freedom we only consider no of variable that can varry or that has the freedom to change in denominator."
   ]
  },
  {
   "cell_type": "markdown",
   "id": "a3b9332c",
   "metadata": {},
   "source": [
    "### What is the diffrence between Range and IQR?"
   ]
  },
  {
   "cell_type": "markdown",
   "id": "90343373",
   "metadata": {},
   "source": [
    "1. **Range:** Range is heavly effected by outliers. example [1,2,3,4,5,6,100] here the range will be 100-1 which is 99.\n",
    "\n",
    "\n",
    "\n",
    "2. **Range** Cant Use for Outlier dectction.\n",
    "\n",
    "\n",
    "3. **IQR:** IQR shows the spread around the median. we can compare who distribution's spread with IQR to know how diffrently both are distributed. Coz 50% of middle data is enough for comparing two normal distribution, most of the data is situated around the CT in ND.\n",
    "\n",
    "\n",
    "4. Since IQR is spread around the median its less effected by **Outliers.**\n",
    "\n",
    "\n",
    "\n",
    "5. **IQR** can be useto identify outliers."
   ]
  },
  {
   "cell_type": "markdown",
   "id": "a492ea4b",
   "metadata": {},
   "source": [
    "### Why can't we use moduless function in varience inorder to remove -ve numbers"
   ]
  },
  {
   "cell_type": "code",
   "execution_count": null,
   "id": "d7773435",
   "metadata": {},
   "outputs": [],
   "source": []
  },
  {
   "cell_type": "markdown",
   "id": "ed3b5ee5",
   "metadata": {},
   "source": [
    "### IQR VS VARIENCE VS STD"
   ]
  },
  {
   "cell_type": "markdown",
   "id": "13140dc3",
   "metadata": {},
   "source": [
    "1. In IQR we find difference between Q3 and Q1.\n",
    "2. It gives spread between Q1 and Q3 means spread of 50% of Data around the median.\n",
    "\n",
    "<br/>\n",
    "\n",
    "3. Varience and STD gives spread accross whole data.\n",
    "\n",
    "4. Varience and STD gives spread around the mean by calculating avd distance from mean from each datapoint.\n",
    "\n",
    "\n",
    "<br/>\n",
    "\n",
    "5. Varience is not good for Convey the information, mean while due to STD have same degree of Unit of feature , STD easy to relate wi Feature. example Feature A show distance in km. STD will show spread in km (which is distance itself same as Feature A) itself but varience will show spread in km^2(which is Area of a distance difficult to compair with distance)"
   ]
  },
  {
   "cell_type": "markdown",
   "id": "b724be4a",
   "metadata": {},
   "source": [
    "### Calculate the mean and standard deviation for the following sets of numbers: 1 2 3 4 5 6 7 ?"
   ]
  },
  {
   "cell_type": "markdown",
   "id": "e248664c",
   "metadata": {},
   "source": [
    "1. 1,2,3,4,5,6,7\n",
    "\n",
    "2. mean=4\n",
    "\n",
    "3. ((1-4)**2+(2-4)**2+(3-4)**2+(4-4)**2+(5-4)**2+(6-4)**2+(7-4)**2)/7 ==> 4, Varience=4\n",
    "\n",
    "4. sqrt(4) ==>2 , STD=2"
   ]
  },
  {
   "cell_type": "code",
   "execution_count": 3,
   "id": "7e0f2582",
   "metadata": {},
   "outputs": [
    {
     "data": {
      "text/plain": [
       "4.0"
      ]
     },
     "execution_count": 3,
     "metadata": {},
     "output_type": "execute_result"
    }
   ],
   "source": [
    "((1-4)**2+(2-4)**2+(3-4)**2+(4-4)**2+(5-4)**2+(6-4)**2+(7-4)**2)/7"
   ]
  },
  {
   "cell_type": "code",
   "execution_count": 5,
   "id": "6fad7d67",
   "metadata": {},
   "outputs": [
    {
     "data": {
      "text/plain": [
       "2.0"
      ]
     },
     "execution_count": 5,
     "metadata": {},
     "output_type": "execute_result"
    }
   ],
   "source": [
    "np.std([1,2,3,4,5,6,7])"
   ]
  },
  {
   "cell_type": "markdown",
   "id": "0a48f310",
   "metadata": {},
   "source": [
    "### The mean for each of them is 10. Your job is to play like you’re the coach, and work out the standard deviation for each player. Which player is the most reliable one for your team?\n",
    "\n",
    "   - Player A: Score 7 9 10 11 13 Frequency 1 2 4 2 1\n",
    "   \n",
    "    \n",
    "   - Player B: Score 7 8 9 10 11 12 13 Frequency 1 1 2 2 2 1 1"
   ]
  },
  {
   "cell_type": "markdown",
   "id": "523094d8",
   "metadata": {},
   "source": [
    "## Mean of Grouped Data: Sum(Fi*Xi)/sum(F)\n",
    "\n",
    "1. Mean of player A: ((7*1)+(9*2)+(10*4)+(11*2)+(13*1))/(1+2+4+2+1)= 10.0\n",
    "\n",
    "2. Mean of player B: ((7*1)+(8*1)+(9*2)+(10*2)+(11*2)+(12*1)+(13*1))/(1+1+2+2+2+1+1)= 10.0"
   ]
  },
  {
   "cell_type": "code",
   "execution_count": 6,
   "id": "fd352631",
   "metadata": {},
   "outputs": [
    {
     "data": {
      "text/plain": [
       "10.0"
      ]
     },
     "execution_count": 6,
     "metadata": {},
     "output_type": "execute_result"
    }
   ],
   "source": [
    "# mean of player A\n",
    "((7*1)+(9*2)+(10*4)+(11*2)+(13*1))/(1+2+4+2+1)"
   ]
  },
  {
   "cell_type": "code",
   "execution_count": 7,
   "id": "03189dff",
   "metadata": {},
   "outputs": [
    {
     "data": {
      "text/plain": [
       "10.0"
      ]
     },
     "execution_count": 7,
     "metadata": {},
     "output_type": "execute_result"
    }
   ],
   "source": [
    "# mean of player B\n",
    "((7*1)+(8*1)+(9*2)+(10*2)+(11*2)+(12*1)+(13*1))/(1+1+2+2+2+1+1)"
   ]
  },
  {
   "cell_type": "markdown",
   "id": "3da648cd",
   "metadata": {},
   "source": [
    "## Varience of Grouped Data: 1/n* sum(Fi*Xi**2-X')"
   ]
  },
  {
   "cell_type": "markdown",
   "id": "0df752cf",
   "metadata": {},
   "source": [
    "1. Varience of Player A: 1/10*((7**2*1)+(9**2*2)+(10**2*4)+(11**2*2)+(13**2*1)) ==> 102.2\n",
    "\n",
    "\n",
    "2. Varience of Player B: 1/10*((7**2*1)+(8**2*1)+(9**2*2)+(10**2*2)+(11**2*2)+(12**2*1)+(13**2*1))==>103.0"
   ]
  },
  {
   "cell_type": "code",
   "execution_count": 9,
   "id": "758cd43d",
   "metadata": {},
   "outputs": [
    {
     "data": {
      "text/plain": [
       "102.2"
      ]
     },
     "execution_count": 9,
     "metadata": {},
     "output_type": "execute_result"
    }
   ],
   "source": [
    "# Varience of player A\n",
    "1/10*((7**2*1)+(9**2*2)+(10**2*4)+(11**2*2)+(13**2*1))"
   ]
  },
  {
   "cell_type": "code",
   "execution_count": 10,
   "id": "e77809d0",
   "metadata": {},
   "outputs": [
    {
     "data": {
      "text/plain": [
       "103.0"
      ]
     },
     "execution_count": 10,
     "metadata": {},
     "output_type": "execute_result"
    }
   ],
   "source": [
    "# Varience of player B\n",
    "1/10*((7**2*1)+(8**2*1)+(9**2*2)+(10**2*2)+(11**2*2)+(12**2*1)+(13**2*1))"
   ]
  },
  {
   "cell_type": "code",
   "execution_count": 11,
   "id": "161cc8d0",
   "metadata": {},
   "outputs": [
    {
     "data": {
      "text/plain": [
       "10.10940156488009"
      ]
     },
     "execution_count": 11,
     "metadata": {},
     "output_type": "execute_result"
    }
   ],
   "source": [
    "# STD of player A\n",
    "np.sqrt(102.2)"
   ]
  },
  {
   "cell_type": "code",
   "execution_count": 12,
   "id": "a4f30985",
   "metadata": {},
   "outputs": [
    {
     "data": {
      "text/plain": [
       "10.14889156509222"
      ]
     },
     "execution_count": 12,
     "metadata": {},
     "output_type": "execute_result"
    }
   ],
   "source": [
    "# STD of player B\n",
    "np.sqrt(103.0)"
   ]
  },
  {
   "cell_type": "markdown",
   "id": "738aad8d",
   "metadata": {},
   "source": [
    "# Why 1.5 used in IQR Method?"
   ]
  },
  {
   "cell_type": "markdown",
   "id": "6c83543a",
   "metadata": {},
   "source": [
    "1. As per Z-score method out of +/- 3*sigma, its considered as outliers\n",
    "\n",
    "2. We can find Z-score value if we know the area(percentile), which we will update here later.\n",
    "\n",
    "3. by that calculaltion Q1= -0.675 * sigma, and Q3= +0.675 * sigma\n",
    "\n",
    "4. if we know Q1 and Q3 we can find upper limit and lowerlimit\n",
    "\n",
    "5. for example lest replace 1 instead of 1.5, then we get +/- 2 sigma as upper limit and lowerlimit. but as per Z-Score method we need to get +/- 3 sigma\n",
    "\n",
    "6. For getting +/- 3 sigma we can only give 1.5 thats the reason we are giving 1.5 only."
   ]
  },
  {
   "cell_type": "markdown",
   "id": "e63af43b",
   "metadata": {},
   "source": [
    "# Can we change this 1.5?"
   ]
  },
  {
   "cell_type": "markdown",
   "id": "96905568",
   "metadata": {},
   "source": [
    "1. Ys we can change this value, it depends upon how much outliers we can afford.\n",
    "\n",
    "2. if we can afford more than +/- 3 sigma outliers we can decrease 1.5 value.\n",
    "\n",
    "3. if we can'nt afford much outlier then we need to decrease 1.5 value."
   ]
  },
  {
   "cell_type": "markdown",
   "id": "e8b5edbf",
   "metadata": {},
   "source": [
    "# Why Covarience only gives direction?"
   ]
  },
  {
   "cell_type": "markdown",
   "id": "4ef2d3f8",
   "metadata": {},
   "source": [
    "<img src=\"data:image/png;base64,iVBORw0KGgoAAAANSUhEUgAAAmAAAAELCAYAAAB+sDrUAAAAAXNSR0IArs4c6QAAAARnQU1BAACxjwv8YQUAAAAJcEhZcwAADsMAAA7DAcdvqGQAANBRSURBVHhe7P1nl1xZdiUIbtPazLWGRiAQOiNSMZNks3qK1TW9VnF1d4k1P6fmn8y3+TA902t1VVexySo2mcVMpg4tEAENOFy7m5vWZrP3ue+5GxDuAAKOiIC42/3Y01eee+6+4t0XGQw7owj4F4ngfug45nY9PDw8PDw8PDyeEAOMRkN0um10mjXbjwZXPDw8PDw8PDw8viN4Aubh4eHh4eHh8R0jipGGGcXDNOSo7fi+h4eHh4eHh4fH0wZZ1jjxGpcH54R5eHh4eHh4eHg8DYhpBRgnXJ58eXh4eHh4eHh8WxgjYB4eHh4eHh4eHt8FPAHz8PDw8PDw8PiO4QmYh4eHh4eHh8d3DE/APDw8PDw8PDy+Y3gC5uHh4eHh4eHxHcMTMA8PDw8PDw+P7xiegHl4eHh4eHh4fMfwBMzDw8PDw8PD4zuGJ2AeHh4eHh4eHt8xPAHz8PDw8PDw8PiO4QmYh4eHh4eHh8d3DE/APDw8PDw8PDy+Y3gC5uHh4eHh4eHxHcMTMA8PDw8PDw+P7xiegHl4eByL4Whkwn8glCE3A+4MnYzsOoXnD64H94x0jx6WDPsmI17kHnq6VffbdT3s4eHh8fLAEzAPD4/jYcRqaKTJMStHttx5x50OiJlE5w5vtXvF1SSjEWnXqEvSNSABGxkBG1CCG7Xn4eHh8dLAEzAPD49jMKKBGCBGqhQN6BLpFP+G6EUjaEVg0qcMIiMMoxTuS3R3i5yqGYmizXu7dj5mHC1CssVDDw8Pj5cakcFgMIpEIpB4eHh4HIJ0aUgqNRrQUpCKUbqkYrXeCOVOD5VOl3dEMJlJYjKdRDoWxag/RKfbR6XV5fU++gmeTycwnY5hKjZCiu5FozH0owkbhkzQi7jcF3jew8PD48UEG7Aj2cc2Os2a7XsC5uHhcSxGIkejEclSFC3aiEpvgI/ubOF2uYpqn/QrFsdMLo3XTy9gMRfH3m4Na+vb2Ko0UOlH0EnmkMum8cZ8AW/MZjFNEhZXbxji1lMWMQJGKib7E/EEzMPD40WFJ2AeHh7fAOqb6pEktbm9V+vgk7vb+PTuJnZJvrqJFPqROLLJJN65uIKVQgxXP7qC2n4FjVEMzXgW9USBhGuE10sj/OXlZVwsJJC2+V4xEjDanWCYk+zLEzAPD48XGF8nYH4OmIeHx7HQW4oaKmz1hri9uoWbt26jNFHCG69dxOnlRSRTaTQiOXx+r4nffraGeqeHU6eW8IO3X8XZc6cQTSTRHEWxSxZXo2MicxrZVM9XVFubFRac8PDw8HiJ4AmYh4fHsYiwlRbHEAm23ibTEbyyMIF3z83hR6eKOJsHSoMG0OuhWtkHuk28fprXXlnCu6cncHEmhYloC9FBGw0NYVJE5kYB6VKfu/W7e/Ll4eHxEsITMA8Pj2MRIzlKkjYV40O8ujSBn18+i9ens5gZDpCul5Fs7SFBElaIj3BpfpLEawans1FMoIcizxdHNaTRRCQRp2Mxkq2oUS+jXLb8hLakYRIPDw+PlwiegHl4eByLyCiKyDCOaCSGXCqBuWwcMyRQseYAjXYEtXgWg8QQS5NpvLE4iaVEArkhKdagj5bmOox6iMSGyKeAXCyKOJ+NRKMYRAfoRocYqA9sQGI29KbIw8Pj5YK3eh4eHsfDeqfUa0Uixl2t5EXehGazj0o3glYii3QmieWpHBZzSaQHJF+83u4NUW51USexiiWTmE3FUKS1SdJJrQM2iozQp7ieMF7wPWAeHh4vGTwB8/DweDjIjRz5krmI2TyucqOJRruDaCSKuXwap6eyyMftboxIphrtPvbqbbSGMaTjaSxn0yjFI4hp2HE4RJRbe+dRvCsUDw8Pj5cInoB5eHgcD1kIStQYUhR6cbrFvb1uF7VuH9HBEAvpGE6lI0jrlUkytT7vrXX62O8M0R4mEIskcTqTsR6w8M1HuScCJlfVASY/PDw8PF4meLPn4eFxLPRZRw0UatgwOopgQJNRJenap3RJpkSiJvlTIJOKkYCpg6vLh2rdAdr9CIaRBBLRBPKJhJEt9Z71I45xxeieETD+aFFWDw8Pj5cJnoB5eHgcC83VGkWGbqUII2AR7LT72O310ItGkU1mMJVKIqNFVXUPr7d7A1QabXT6QyQSKeRzeUSTMSNua+0OygOtrB9DZBh1zzjH9bCHh4fHSwNPwDw8PI6EKNEw+BuN3OT64XCEnWYXeyRgg1gchUwOpVQG6t9y69qDxKuHWquNfr+PdJL3FLKo09J8tlfHb+6s4fpeFR3rLRNpo9ukYyPra/Pw8PB4eeAJmIeHx0Nh7ypaB1UEfRKx3WYTlU4bg2jUvvNYosRtWDFi/7pVEiGpig66aHe6+OReDb+5vYkr5Sp2NHxpY48Sua1PEbnBTg8PD4+XBZ6AeXh4PASOTmme1iDi+qrqjTp6JGFJDEi+Isgmg74vm8cVQSqZxEQ2C17CoL6PzY01fHH9DlrtHuZmZjE3WXKETWTNnnF+eHh4eLxM8ATMw8PjSIgbxfgb5V8vBjQpLRKl4qiPlSgl1sFsok+iNeTNA948su9pF5IJnCsWcSGXxWKsh3yvivkE8OdLi/iXlNdTSeR5u5uLT+pmH+EOetA8PDw8XhJEBoPBKKIJtFrox8PDw2McI33BX4OQEXt7sa0hyHoH9V4fiCeQTScwn4wgQxIWG5FIjTRMCVR7Q2y0Otjt96EBxmIyiRneOxWPIsProlziXEM+NyB5E8mLubMeHh4eLyBkS4fo6AshzZrtewLm4eFxPIaaea/hRQ0yqrdKS0vIlBzO2oqRRMW5F9OCXryo2/u8pxMZoa17KUk+myR5S/GhuDrMZG8OCFi4Lph6wTw8PDxeRHgC5uHh8Q0wEpsSywrNgy0ZIbitLg8jUY0k2jphEbtfPWYjEqsh+sapIrxO4bUoCZruE6FzBMwRtHBhVg8PD48XE18nYL7J6eHhcSwGZFbdQESm7PuNERoSzfmK9MmjBsalDhkaQeKl8zEamJRJHwlKXEONek4fkwyInKbv68/Dw8PjZYMnYB4eHkdCFEnDjD3yI61g36No6FGfGiLF0iITNiR5H306IGM8H4kGi63qHpkairrKxNjcLSa6ol0PDw+PlwmegHl4eByJkCPpG9uOPrk3IqOjGElV3ET7GlI8IFFGrnSkpyQaWEyQzMVI1iRxioibI2+COsMORjY9PDw8XhJ4Aubh8UJjjNl8Q5Kj2zW5PmnDiCMKqdQwgjgJV0xzuQYRRAbq4dL0/CEJlVsvzIiVkSsJiRZF7zn2TfQ2pZvIb8EJnnVr6B9CR+6M23N/4TkPDw+P5x9+Er6HxwsJUhUSJ7eNkeeQ4oi9BLxIRMmuHVAa95ajXScOztpE0UHwQHBRCG8QNKeLsOeDe+zXnNebk26y/UE3FzeHd7qnMHJEzYiZxB52xMxd13mtSqZJ/LrTQWZLnzHS3bqmv9BlDw8Pj2cH/i1ID4+XBGIsfaMmg1ECrf4Ize4QPcdUHJ8y2qI7eMDyL5Jm1/ijK4L2opGAyOnisXjUdWL8cuhB8Fx0QEpFEjaMjmyivxuXpL80UqSPiPOefDKJdFSLVYyQsEcZUj3GOLhY2ACpuefh4eHxbMETMA+PlwTqQxrYxPkGKcyNch23dvbR7Gv4T7O5dMuIhIzERSxGNiCgLwaSId2jtyCH0YOz3wrkT7JPojXU0hX63BEJVcCjokMaKZ6fSifwzmIJc5kkYgxrXN15noB5eHg8N/AEzMPjJQEJmAgWycgOy/Zv1jbwuxt3sS8ChgRJjSbSRzGKxTAUkRkNEBtona4Boty3lSLoila/70Q1if7bsw/q0UoO6L+IFMM6UJgoDI5b3JU7Z0tp/KtXpnBxusD7SMD4nPXTad6ZJ2AeHh7PPDwB8/B4eTCADTmWyVY+2K/j13fWcGu/RVKWJm9JUuIY9NtIkuwU0wmUKFnylwQJmHqY4twOSGZ69gbjt2gf6JdIVKffR7XdRbXbRUd0LMKAR0j++sDFUgp/dSaD1+cnxgiYY4megHl4eDz78ATMw+PlAImXFu8it0GbbGV1OMJHO3X87vo97LaBYSyPwTCKFNqIDnpYmMjjjbOzWCkmkacp0BuPcRqImE2cD22D9oVxW/HgueOOBZ178NidaVHKvSHW9qu4trmLzVoLjYGGS9MYDWM4U0jifz5fxKszQQ+Yeu30JPmWJ2AeHh7PPjwB8/B4OSBWo5cXJTESHPKSje4Af7xTxgd3d1B21AvJyBDxQYeka4jXV2bwzukpLGXiyNIcxIcDJEltNERoTO5bglzuR2JoRaKoDYFr+3V8srqFWztVNIdJ8sgEThXS+J8uTJCAFT0B8/DweA7xdQIma+Xh4fGCQS809km8+hqrI7IkNkvxGN6YKeDCVAHJURvDSBcNNrw6iRSJzxC3Nndwe7OMeldT993cLNEb+6N735ao7Zek/4XBEDM8uDCRx6X5WZRSGdoskisFI+q/FOnh4fFiwRMwD48XFL3ICL0Y2Qu3Wiw1xXOLhSReWZrAfCmOGFro0AI0Y3E0kxls9Uf4fH0Ht/abaPB+TcDvR6PoRROUpEk/Eoj2TRJj+08omudFJqaPdScY3CL9PE0Sdmp2Csl4wt7aHGgVfRct4nDP7ZLB+V4vDw+P5wyegHl4vJCwj/8gjqEr5VEtMwFkYhGcncrgrYUSlqMdpHpVnu+jF0+iEs/hVjuGTzcqWKt1AppjK4HZNmYkScN/FNu6Dw1pSPAkEiXBGsZjGCQYxugA6cgQM8koTpVSDO8A/SHDp7cd9SFvQfPSjG/pxyI3Jp6IeXh4PB+QxfLw8HjB4KiJ5kXdT0lEmibiUbw2M4G3lxZRIqlJ9DUrf4BRLIlOJIHrG/v49NYGdjp99G09MJK5kWgYCR0dO6A7BwTsZGJGKJiHGiG5EmlM0Z9iMoFCOoZ4bGjE7L6er/vgYuvJl4eHx/MET8A8PF5gjFMSoylDIEWZSSXw2uIszk+XkO62keh1ERn0MRhF0BrF8NXmPr7YrGG/rwnufEAz+nndzernsU3Kd71jx9Gix4WFS5Pq6VAoUZ7MpuMo5VJIkyTGhlrR7KQ+eXh4eDw78ATMw+OFhGjNOP0iRGwoSUqWRGspm8SPzizi3EQOhVEXiT5JGG8aJLLY7sfx8UYdX+420ewP7C1DraxvBExbO9aHjJ4OLLQidQoj99UzlolFUUrGkR6SIPabvGfcN/nu4eHh8fzCEzAPjxcUjn7dT8L0xqFIWIIcqqA3DotpvLk4g5lEBKlB13qibPX7RA6rrSG+2Chjvd5CU99pjGlB1sAhI0BPiwSNu+U80LsDmWgUs5kklkkUNScsSUJmtE//4e0eHh4ezyk8AfPweEGhaff6M9YlXqPSHohWddAHrSejEVyeLuCV2QlMxkdIjnru+4rJJGqI4Valjc82q9hoD9DmcZ/PhCTpaULEahROrifL0+T8AgnXK7OT+LNXz+JHZ5dRymbdZfsjFC8PDw+P5xSegHl4vKCIkMhEgy4rfVJxFCVxGRNRmfRwhNl0HK8tTmNlIo9MhBRr0MFwNECf5Gy3P8IXO218tdvCPi/1I3HyI7oZcB9z5oSwkNC9YSByX+6muV1Ip3B5agLnJorIJzMHpCvw3sPDw+O5hSdgHh4vKERSQqKiPqNBRMOLkqHJSKvgDwfIkOwsFlO4tDKD2VIG8VHXvhEJXu/GUlhvRfDpahl39tro0mSM1EVGh0O3nwYZ0qwy9a4NA4flZpwn00OgwP0iiVecIrKmXj0jbX4c0sPD4znG907A3GdENMn3aLGJv2ZuTwiz2I+Q5wWai/wwscnMEu6/LFC8pSpBGoRJ4M5zR2JLqns4hGkhYkOSE43g4lQGl2cLmE1HkSDVGhpZ01uREWzWW/hyu4LVTh9N3t8XCYoMENGXsodM5CDd7ytP4/IYsOHSA+EvNzGJLdCqdc3cZ5GivGAT9sccdk88Aro9DOdREirNobMezxIO8i/IpzDjtK9zYT6eFHrLlw0TJ9p/wH2JvPd4NhHml/KRmSUOcZ/oRaIwP3WbxO2ajO9923gGCJj+lEjHyXeXGM8VHjAG9yuR+3upEETebDF3Qy5mqaAfFbiXDQGXcRvNq4oifiBuGVTEeJaEJsdEWibb+cF0Dq9P5VCKseyxAoqShMW4r29JXtkr4w/rZdwhma3zmYEZsg7Tlymt5B2XbwCFTeFJUBRGI2IKtKyTRCyM/iV4kKTojijDHYny4gO3PhIK21i5kYRBdqJfj2cWRrwkYSZSIkFm2rWnAPOCbh6I3Na5cKubPJ5pWF4po6QboahWcP3sloc6dWRe6uSRF546HstmfZuQ8ZTBPf4vvMvjAKwURzHS00D6UfJ6So/J1JUwvdRzEUz/eTnA+CtNlA4aZtPK6UoLpcmAFfiQ8t0UqWcTUoVDOSxZA240FEk6ZQugzuUyeH15HmcnCij02kjx3CAatwn4+90hvri7iRubNdT7ah7FaOOOMCHO6W+EMEwHj7qAHgjV2YxVeOqJwAc192283Jjw/Etbbp4jqDnej7rhc+2HEGke8JyuaXtS2HzEKG0GFc4J/YsO7tt6ov7sQi/z2DxXbg+hQi0JrYiuUUKiFpJrQ3jvt48jrOd3C5ncKI34cRKhPA2oUD1KnheYgkX6FBoDExklGSFXmfRUiXxHCvSsQCRiyDRx6aGuZhlpGWRNHCfRoEEdUTzGYHrEtNLEe26jlDTPLRdSeHd5FuczcWR6HaYniUksgV48jXJniKv3drC230KLtdMomuDz2tK90LYdhQPj9n0ijG9Ybgau4rayE+jJS1ZunidoSLzH/JKdM6hDQ8LD8Jps4Ulh+k6ddhLoBd13OiMbo/LyTCi0xxFwUyeUX87sWMOOFby4hBOVcSoO89NK/IgN0KH7Xq6g5qjku8jh752A0Rq6VArEkVEayvtirwQ7Oehq8Hfg3YE8LbiwO3kYHvc+4cH7jF7xODJipUmJUYHiPKfFK+M8r8/GPJ0Ue3Yxnn4ubRRnrcvO9GDxiTNNNG9In97R2lZupfVHp/XLBaYd00viDNHA0q1I5bk0mcM785OYTaiBxBY/KyV9lLsdTWG10saVtT37XmSbldRABEzFOJD74LLme8GhbhxCOqAy48qNKysqNya6Znd5PItw5XvoyrKNKDG3+qxQWdO6Mk495vakcJ0CrmPAVdyyHU53zPYyDN+bUns8FMoVZ81EpKQOzDHqh+upN+2hveKxZWhwJ+3bQX5y813m7ndubx40itoLGaexTiWYRNe4fZIgyv3BgK1bivnHc+o0Hug8RfthJ3IoRyW6nh0O2ap6iDyIr8XvCDdChPeO338Uxp+1++19ffUQasYMhfsxOpuQDEZIUUQ8XvRG2kF68G9IXRmaIY4y7jGSryjTIuLShBJjmrzo6fEkUElwW5U1zQqj/vDUdDyCy3NFXJwpIocuYv2u3dePJFEdxnFjt4ar21XsdIa8yvMUUTn7e5CEfU84qmyFrWCVHZsTx8BKP5LUj2SgK15Pnk2oJrCybB22PJIE44TRYczyUkT6pIjSD/vYvAltK/2JSW/oumYrjkZxKtczouQeX0NghbhnfV88QR3hofhFl/nWofQiMXJ3LSwdNL+Un99DuZdOf2cYN4jaGqnQvjHSQKw8aUu2qnH4J0yXKJ+X3A8VGkfuhgoLt6EcB/eB4OPlQYyfD+M6fr/kqPMPg+IRPidSqcquQ8WREvVYkfRJNEYUt+4TOT7TNUJ5kTGehvxlwYqiFYmjQwOpPjDQIOs8b3TicSSoMfyVAQrSjHqklEsxyRayKbx7ahqvTWVRGrZIaPuIJZLoJFNYa/Xx0cYeruw3ScikkyP0KP2Dpg3xPSd7WLZkZ6xBNhyRLEbRpZ70GMtenzZGFTjLjesZY7mx1rDHswjrjdJYMct6P6avNdAOUrRenRrrMTVIVZE+DZCQ07haB4nKh+ysdEbfSW1xa28Be7vyTEIaIKvmRj2cDRC36DK7NNezRX2pRqJoMB+7rEOHxhMkelJ5Khvw3diB2L//9//+/xkaqm8bR/lj4+3ahsL4WwcPzyspJGHSfFOEBWQkA6xt6CYdsytjfsj9B/15nAI2Hh/dH8qjED4X3vuo9A+va9ul7DGhNtt93N3ax16tjlgqiUQ8zvC7lLTb9RM896JB6aa00Lbb7eHm3j5u1jtoMvoi73EWMr3dZxlq3c28YMmhXPZwcFRJJMxErR/uKY1GmhPBdEvENaA7QKPRQr07UF8YeVrclVsSMr3SPZuNoZiMI6a0Vb4c/JkXDpYPbve7xHj5kg3Ypxpstge4t1fDBnUmmoghkUrY254KrFkE05vvIbAeDwfzUja80h/hy90KbnV6qMRFxiJW3mX9XJk/Wd6Zzsgvuiu+16bbFTYyNho93GKDY7vZRyEVR9q8cn6F9sjj+4XLgWC5Gh6FNk11fofndtod3NgpY7vTZ97GbG1BiTXX9XBYV5gtOLBiTwnOxgxoNwc9jRuMTkrA5OA4HnDDLrt7FB0RKxnBDk81acwrrS72211UOl1UWYnWWKBqvQFajL+6CmXk5SL138iRcGQox/3hM/KjxwLR6g/NTflTox+1Tht1SpfuK/FhPUtyU5kVZJi5wutqLff6aPV66LA11KK0TYY8HqLb76NPYhfT6/AKJ723p/mvkHQYnxbj6J5hIWYLvMOEb/cZP7asemKaIglB75YZfotCEILAHUOwo8nODbqz1uzi850Gvljdwu1795hWfUxOFpFJJxCJyl2KnDGycRinEKG7dl4HD95AHHP6xHB+hyE4xNdD+XXc91Rg8AbMgy7T9MutHXy0sYtVGuZau4cByeiQ5CFKIxpVemh+iLwICFiQ4gew+td2gu1LglDrHQmzBHIXgl2tEZYhudI8r+1GG1W2lpS2Vs5GLAvtJjL9FqbyGWQSSStPMf5YKuvAtsFucPitQdk85ofqUWuP0PMW9WSLtubL/RY+u7eFm/fWUW3WMTFZQi6bQowBjgQk/bHLjfDATTr94HMeQphgDu7o/pQ6KJH33+rAW5Wfekliizb9w/UNfLCxgTXZdtYZ0WgMSeplgvbU5Z4ccQ6FDW8dH84D5bkx7w/v0M/QRjY7VIoyT2ywofvV5r7Z21vbO1Z/rRQzyJn95pN00557IOO/rkFfh/P1aDz66RcQxyZIcOERieLucgTMJttbJjsi3eHeZq2Bq3fXcHtrH9vVDrrq8Y8nkCKRZ1XBO+WC68BwdlFwvwbzgD8Hp8auPRJ6+H4CFhkMBtRPemQW8ptAjonqaKtnHYUZh94sAA2fbGCPBaPG7W5ngG0yrL16D7uVJolYm2SkQ0VWBclwJNJIpIuYyKQxl45hKRPBYiZKZedlsllXuBzks4GESAVLBE+tlR1GbpuFZqsxwE6VBbTRZRh6vIeRZkWczeYwOTGJ+WLW3J6J8ZwVbX0dj/GgOy0SqFUy5VWFMZ5BK5ak++riHiBJibHSmUxE8MrSPCbZgo6rx4Bh0FtVHcb57tYe7lY6aKUmGCYSI/qfHDbofxS9QQbFJHBxLo85+p9l7a/hD6csLoYyAHr7RsQgThKnNQHLjPFHrDQ+29rF/lbD1m5aYuXxyvwkzs1NIM/WvDF5nldaaE/Vqs6FiSUvwlxz88TsRt1qCA91XbvB4clAx8x7Oqatm3fkhqp0rFx1IT8eunsc6tUUgVVPjUjY7WoLX+01cG9jDzXmXbSUx9LKDC5N5XGBhrRIMjyI0xUyCueXpuu7/kIdadV188Il4EsBlxcOVnLHT1he8UANEW5uk9T+/R1WejsV7KuvIZJEgmQs1e1iJTXEj84t4c2lScyxCKVYDpSysgd95zJYVL79ZGVmKj979FJ+KU8jbOw0uX+l28JHe3vY2Kwh0Rva55cuTBdxaWkGJZYbEU2FVG9Q0ZpwP2gVB+mhjfXMcxvjwcFQV7AZLzeCi7XHAcy+MXWYTpoErXSUlii9wopOTWeld9h+PEhMHoT2TPM8qyzv1/YrbITqbdwqGwJxTBencGFxHpdLKSwx8RNDZ+uHtNs9kjP5l2QYYsM2HUvSDLNRwfvkrq7qBQzlvOy36pk+z97jxU8qXdxYr6K1vY8SbfhcMYozK5N4lcS9YGvRuTgoagqn7btduqA5YxbwIxHav4dBevjSQImhjAoRJo4UIkgtlbOwrB0J3mp6RIc08V6v2MgOkeXYSFu908HqRhl3d+u42WygmoxifnYG78xO41I2gUkqoN3JuiLMRRM+b95amILKQg21oEH/eNCcdPIDcp5Os2b7JyNg6lWwEOlZBeT+wFjLYDCwITN9U+5apYUv2ZJYJ/Ns0jAONe+ECp+I9+l/z3qn2pEMhokSUozYFBX+jZk0/uzcFGZIcmJMBBm/0CiatxRVwkNKlX7drdVxZW8Xt0mcdpsjdHpxxEmg2Ignw+2h3aqT8LGA5kooplJ4c6GE92bTmCchika01KNLaPWcfbm2hffvbmK1G0U1nuVDaSZYF2kW7gm6dXEqh/fOrWAxl7aJ7xrG0OvKLTLcr1Y38P7tHdwZ5lHTsyR58UGNxE1v6OVwYbaA985M4VwxjkKELTgRCqWf0oQhCNf1UsZrUmi1NcCnuxX8srzJlnwb51JFhn0G50sZzCRjJKgiMVQeprVafCJvqgIZbUszyyZteF7XdKhJq19Tn+CaRN5LTowxv53bbrq2K21SeJkqhfR4uOJ3NHS+zZ9qZ4htkt6ruzV8sLuDdnKIV+em8afT03glQWaQpL9MDE3QVzprzSe1jJTiVEGnVzr4WqK8xGDjhkULVVY0n9Wb+Mfb93CtXEd7mGJ5ylCno8jQDiyko/jZuTm8t5AzfdZbuWqH9liOVTklmc7ferLSIxZDm+fBgmAvpvQ7I3xFY/vrvS1cbdQwk8ji7YVZXJjIYo42pch4iXzpET1jSw4w7ArrfS+y8Ly75sqN1OQ+8Jpulcgticch7AUoblUJNmnrGv2+jQKI7EozlM6yD2oQujeXtR+kKc/3mSFap04fj0/RmLfoXpkN7VvUxatbVdxl4yuVL+HdxRn8cDqDuSQplL5pSgLWjSXodwRpNZwHLZqdNIt/3Ii6CJh9ZYEtXA2121pi9KnSieC3JF2/Z31VrQ1xqVDCD2azOD9FW5sZIcfn4xpFUfgekBCPJmCS8Sfuh5582PMvHGQoXJXAfFGXhUaORqj3mC88tjnhds/xaXYAKo/dxW2UeZtNsJ5lHaC3vAfdISrtAT5vNPGrrS3sNNo4kyviZ4uzeGMqy7qU+hDr0RzIDdYbQZ0sfXRQy44BNfL1NUvwEDxtAqbEOlCg8efdORWuNvfXWj18ulbGla0aI9tBu9NFgYVoZWYCU8UccmSenW4Dt7dFnEjEokU+FUdm0Mbb83n8j6/O0cAnWFBYMBXvMS9VOJVRu90+yd0ePl/fxj0mbI3HyUgcc4UilqYmUSxkSJCG2CE5u7Wxg12WvkE0iaViHm8vFfGDxRKmmEGsR1j4SdyY8dutDt5f3cEfV3ex2Y9hIAI27GGSXOHVuRLe5jNni1mU4lG2uEgkGC5V6CrK1VYbn22V8Zt7NdxuR9BiKwyDJg0I8EppEu+cncPZUpJ+jpDmE8pPV0UpQx3dkBJ2mcllVoJfblfxxxu3sd3u4jRbeu8szeJMIY1SjAaJfsuI6GlVIlrvKtBjM2RBA+Igvewat3aeW8HSlPuHShYguH4SqMyEzjjnw9CFQgMcGLPjIDeOgy7Z9w25HdCi7pGI/W5tH5+ur/G5Pt6cm8dPl+cxk4uS2MvYMjy8Ty1gGXaRbustkUOurHmEUC8CDUWb+bPD9LlSbuDX19Zwe7+NfjJPXaNRY8Mn22/bZP2/eGUBZwuJoFfX6aHsZTwY7v82oSrevdjDsqoed5bh29U2fn/1Jlb3a5iemcZbp+dxcSKHCZbZDAOWpLC4MM8Py43EGno6LZ2QUE/sGk8enNf++HYcusnjAFaZUppM7zvMi2vrG9ZT3adeydbLemlflZ3KZ5j+SlbZ1CGNVSE6wDtTaVyYm2KDOmnXGjQMq/UOPrizhxu0t5lEBu+dnsNPVjK0tfblUuqClhPWm4x0l/YbQ/pH/VDZlx3U6EWUDWO1y7oMwm6Xes666tc3bnK/iwvLp+jeLM5lEiiQHcqmqEc3StschtFwsBNCOq87jobd/rVnDmFPHv/4iwfaGWmKmuQ91t0NZshqpYVPVsvYpU3vxVM2XyvRa6s4Hgk9q5dsVP7VjxkftZGLdGyU6PL8NHI6x3vIDrDHtL+638LHdzewvruLhUIOPzmzjFenCsizQMdjou2qEJyiKKukL2YJ2MgcG196THydgJ1gDhjvt9AEYvsWxINzamHcpmKLwHx0dw9rTb2FFMcsI/r2mXn8yfkZvDqbw+liGkv5LCYLWTLeCHZqHbaO2GJJkyDNlHBhMoO8JlrSVREws4SEvNTw005viD9sVfD725u4Ue2gwcRNpbJ44/QS/uQcycpCAecn0ljMp2zYMUHju9/qosom7X5ngD0y4CKJ2BT9MwJGtzUnJJHUeEqGFXqf9/fRJBFS1BZKWbx7fh7n2IouMFxh694mb7JQqkWdTpKUZdLYarWwXm/T8NC4syX2yvwU/uLcHFtSKRRpEZIszKoArKUjA8R8GEb7JAj0axRHnU5+sF/HL+/dxr1alX7O4menlnChlHZ+M1NlimRoDMpH5Sd3D8hXCPPHhVVQZRIkpbsQYGz3gYOTQU6ZMOPsjwXMRGcfoX/uuWB7hFhhi6hYRZGLx1DIpjBg/m7T2K/XGuhmcpjMpUgMmD+MuDVglGZMIHuejrtwBA56GAY0NOoTkI4mqZ8TKWrbKIlqo4s6dbQTl7GT3rJyrdesKi3kNB8sbgP6MfU6sFy4zwZ9uwnr+lgYVv61h1FcabTwD6t38OXOFmaybOGePo3Xph350jSCFIOjRpnhiHJjoR0rPzqWWLmxiwS3uiW8doD7DjxEwkWkNPqwUW3gxvomtqpNlJtujm653cN+e2B2tsJGps0NppSD/X1e77Limk6D9UeWZTxhy6WkaUvyqTiyuTTqvOc2Gwhb3OYycUxk48zjPmLMYy054vr7NXzOgPBfa0HZIJX1iHOPOlqnCn2x3cBvb22hXK/iwtI0fn5hGRdyJF98Rn1aUZYDvajislg6wz/ZNNkVbUMJdOo4mD0L9OwoMRzsvAQwo0z2S5ujt0xFszbqTXy6uoV7lTa2qR911tdNnqup/j5CKsz7vfYI5daA97TRaNbRbzcwQdu/WMqzfmd+M021/ESWeb6QYmMxkcQG77tZ2UWD+T+VL2GSZFufbDOdYV6GkKq4ThZljaNgjw9ZClqppzUJP+yVcE/ygIzOTtEt9d7s9wb4xdoO3r+1iT2ysVE8w4TI4Z0z0/jRSgErLEx5RiVNEqJuv3xKXcNJ7LJ13eazRSbahcUizubiZK7q+qfTFge2QuipuiQr3QGu7IqgbGGdGdSLpW2O1+VT8/RjAhdzMUyOekgP6Q9DV0ywgs6mUWEKilXXWJm0mNSpZAorLGR5XtecAL2OLq8GsTj2WkNsVZr2UeJYIoaFYgavzxUww3vTrIRiA7JhxleT5C0ZrRXeRYPb25UGNkQoowlMTk7gx6em8M4k/aGyiTzJODhuLePANOLzriJRd30Mdxt9/HJjA59XdzFRKOLnKyt4nYS1GFcPH/2mH1ERQz0fVnKSMK0CjO2GlwO/eGxnCaWr7ejM4RM2lBxk9pPoSYj7nrQM1BmKhdmdPljb60H/DoNjCC4H4AHzOBrRPD8aVZaSTCyGTCqFGhu8t2p1bNBdEewZ9XLSTVv5WAWeeidDrMJkhS0IkoeDSoEGilSBJZlnKaUtK7w6y86+pgzwHn2qSI3Xbq9H0ttDiqRsMp+msWN54QVLTiNp327ChuWGZg0brMh/t0Xbs7uJSDKJHy2fxrtTRetxTkXdgrORvsw8ETR8TKhK95WbsSAfqKK77X7oml2XLmrLTaDHT6PsPG9QnMP4Kvoqb5pWo56jJFu3Jdro5bkZnJ6fw2luz8xO4+LcJC7MTuC8Gt1zJZyjnA9lludmi1ieymMynbIpKjZtmG6rwZtkgxe01VtsdN0mwRv0W6xr0iil9Y1RkXJV7jHbO8gFK/fcqEYlNHR9u9bG++tl3KK9X5qasLmNF/NJ1j89hp1uiKjRbslah/Fz+sL9IN8dgh6TIP8fN+9NVXSrucXn1PJ5mcAkVl2mP/UuxWnHS2xMn5FuzFMPZgo4Rz04S50484Ccpo6cpu6cnynildkCLs7mcVG6xPNnmJdT1Juk6hwWYNn8JPNda0VmUjE0k3FskODvMP9HgzTr+BwyUiyXiQqUMtzKvoIocfTsm+SPOfY034J0cAroTLWbfxRFVcRop0JitEsiJgVki4QJ8Napaby9mMUCDWGGlWZcNIPGUB3RMvKaULlXa6HB1sdUPoFLCyx0TKAMfVAhsrdYlC5UzAZ3b+408D7J17Vm39b4ySYTeGVhEu+uMJNSURRIvOIDXdGIPP2I9llQNSQYx1qti12y5V40iWh/gLOFJKazYr7WIS4Pba2tTd53c2PPDSMyU+Z4z0W2pI2AMUwqI4q3MsjCx0pdhfkuDcFnLMw7bc1zS+ACw/XefAZLMUe+rNfFkl3PhuRJxxp+jJEkRvDpdhUfbmyhw2uXF+bx49kpzDMYSbbs1Hqz12ytAtFW4p4XuVG2hAqj28KKQ/nl/D3cCpr7YvfaX3AhVL4xfFNd0d3hExamQEyReUG+2S/9CkU43OpqEJ8xGXfYQqxuCwOLLtMiGY+hw/21ZgcbbdLs/hDLbAUV9MaL7jcCRnEKbPFyUQtD+3LjMJ3d8I2SippmPcjRRJwtzjalxTLrdFdv9IpA99l4ymdSLO8JG/K1OiQkOd8iNFQqCqahi6vlFu3CJlvNPZybmcbPlxZwSuWV5V+fXLKeV5Vnxeig3BCMpy0EzWMrC9yG5UY4KDsUbQTNS1GTS/dI9NyDNvXB45cBiq+VYYoatNGBbPzIeqinSdDnC1kscruUZ+M3m8SZbByn2dg+JcnHKG7/NBvGOr+US6KQSiLJfJONtk/ImD/UMSpZnDq5T4OyUW+g1WwiQ+I9X8ghyyyWv5rPo7d5pcvKU1kUy09mmDoMytRd2dvPNnetDntjaRZvsMKfor1OUGcsTqpJlJdjf3TFCd20ELEcuPrAHjGEtmxcB6QnpmOhuFsOntOx4vXSwBIhxvyIW/nUiFeOebdAArzMnVO5iOnEEmWZ3GDZtk5WqC9um8BZ3ifRvcuFBJ/PoMSGd4oJawvqMm+VY1Z/smEQoz0bsVG52+1hq9KiTRtRP9lYI3lX8utuV+6VF9QjyxJHEWk5vgEsgvcRsG/2/HGQBssAMZSaLNdgAG+wBfHhnS2SD6p+VAkQxw8Wi/jxYhrLSU2IlKrqORk/RUU9XEMqe4SFLYmVFHAuCyypxaoCZqqtJo++gTiylvdao49PNyu4sd9ChxmXot/nSmm8O5fDefphM8ms3CT5HLOT10WQMvRyOp1EMcnWESvtIQ1Dk4a61Wf4mUYypxol1vCJ/BYTTrPVpgpGBU13qBDrsz/2+Qsz+zqrXGI60P0aydONvSZWaz0WbhqSiQLemU5hmQplxsOe0K8qABe24CQdiqJNudXo4au9KhqM55n0FN4sTdmnYdRrdvCsZWG4FeQ2ryscPFLjTkPBIoT2YWru65yuia+EYmAYbPIjr9v9B6eZboF8Y4RuE9pVSsn9jsLEaHe4r8nNgoyU/NDSHuEiujqnPxE1vRl6IMFzFh/KiGlITeE5UnrmWYR6kiVjWCmkcX66SPLQxZ1KBdcqDdTkIp+RzppOcWuFijIW3JceShLTK5uEqgRj6rCMakbNqWISb89P4HyG5WjIhtSA9J0VYyuSwN16B5+u7+FOo2MLBqvSC137VsFM1YKZ650hvizXsFvtYiFexA8m57HERlxCXSaq1azMKU7aMmxB3jv7clhuNEcoLAvat3Kj+3iDEVIKD01nXcPTrdFnC4PyPC88WZl5ATAe7zAttK6WGs5KcnVY5ZiQJV6dZp5MU6cmaEuLoz7tdo/SR8H2eY77xSGPNdeQjmkkRDZ6QOM+SAxoDwZskI4wS5v/6lQKZ0opdDoj3NrrUAeB5ijJu0XBZDddHjrIVqpCpd1neFbZiP+yUsd+v4N5unFhKosZ2v4EH9CXNtxLO0HejkHuSTeU913Gr237PB/YszAtzJaZ/rl9aZqeOxDpGMXmsnJr6WV3vyxQojnREK4afKpjUxohoz0vUIojvQA3oPQPhSlW4j3a6jgf6SGDLrLUoxzv1XzUFPOFSep8kdvyRwU5Ts2g/sySoF2emMZUKotNNio/2Spjs9E1vVBd41qRTl/kjkRnToowTE8OkQG1DhgJfYHc3nhs93GVEVitddEaJmms1HpJszWRxXICVsg0fCbi0aPB7keTTHM34lrU0g5zJfz81VN4d3kK80mrVqnEVEsTFbgRqmRKN/fquF5mhTpMsHjFMcvK4LWZPC5mo5hkhZvsa0iKSSY/eId6lTRMKBolEpbk2SQLtnqxIsMB2r0+zxAqJDzWORXbBMlXXAPH/FdmKBMk6rmz9SG4DUmCwtelm6ssyNcZvuowhUS6gLMkAa+whVcYBWFiePUFR71xowmiTuiv/GZF0qSzN6oNVmZtKmAGl9KTeCWdQs4qCYVSsSDpsDjxEflt4PMMg8IjgtJmq67JeNW7XUoPzb5bSZ93mf5JyU2Z5C3/Ogx7ney82mvzuQ76jF9oNJ4Yetzcd4ZGYarTmO4zXHpztUVRz8n4iv9CeNwfDNHu9y0eoehN0656W3irDOOQ+arplR3mWFvPMJ200MQ0K97TpYy9OLHfbuHq7j52OszngxLk8lKiP4/7cUjQmWBUkoj1INEgkoFcnMyxTE+w4oshyfyIsjU5iCdRZz7c2qvhq41d7DKv1At5qJ/fHtSv2SM7v9to4Wa1Tj1K4GxqCq9nczTMNJw0zI54i6yr3IyHS5E8LMdd6mCTOlezctO1cqO39lj67FaZLyNgFD2pdQcbfZabbpvlp40ObY90WhgnIy8LwqkEgn41fWOP2202dncpVV7Tm8uyB6IiKn+ygfo8TId1QY35uM8WYLknW68J/MovWnk+oDmFetu8bdJnHcIbNM2EBO5UJobzbIQnYwls0oFbe126o5Xrmed8zmwsoRyxXKEbal80efpmuY67zQZGZIenJlJYysSRUoZTafpIMAz6goJCSihrKdqnWlhjVWvN7dN27lIHKrSdXTVKgjQY1wGd05cZtH5hh9tQZONaLC/uixLOTff0ywPFV2V0QPuiN11Vz5fZCtrpxqg3si1q/tGY2+egAtGx5S/zh4a9OYihxrJfoUMVFuYaHQ0b+uIOZseojwOSqi4JmOa5an7f+XQWS/kSBsk4blT2sMY6XAt7uzLP59RpxGM1vtR8O8zRJ8eJhiD1hBsSdJWXKkF1/9/ab+GDu1vY6rNFHGMrgi0TTYTXkhIlGnDRDvln/VpqifI598IuCxcLYCYdx1Q+hQkWgAwZgrumZKBC09MeE3e9PsTH98q4qgnWqRTSvO/iZBbvzZewkNAQn0gbH9F6LwyTeoHU8lKlrJJTZ27c3NVbmayqWdFrfP8sn18ppt2woqm/0j2J7WoP17f3sa9eGWbgPMN1UXMRSMo0q8DiIseJCI3LXltv4e3hs90mW2gZnJ8t4oeM/+mUJo0yE2lgLDCMlZPxPRXoqM1n+/3mnq1DNpvK4d3ZKbxSokFgPNXlbr1mDOU47Hn+KC80MbpK43W3XMPnG1uUHdwgIdwjs4uzkkwl1L0akA/pFvfKNAhflSv4dG0LV9fK2OX9WvojnU6TgNIvhd3udPfbjvPyeIikGkHV8LIM6hBf7uzbWmZfbZKk7zbQ7tK8JRM2hGC6GPihnw6N0vo+83l7i5VqA3dqPdyudLBRayuHGTatYq5nXDjUQlXoYoyUEQfmmYzmdq2GTVr8EQ37QjGPaeZhkjfILz2pBoDS02mh+X4kdLf9UNxna4bUYcXP6ac+aB3cFWyfROQGTbAaG9xXfuq88snC6jYPCeXThfwxv0LGYa3JKFKxOLJsOTY6WlRZcySH6DAPe7xnSELW67DxkEqipEVa+YxshYtDiLEYPIXIyOlyf4gPtivUsQqysTTemprGO3MpZIwxUSyfZT4fAAOmnmP11jVotO9VW/hyYxtfsNxc26lhq97hPUmkaZzjgd5IVCLqzPNr1Ro+Zrn5cn0Pmyw3A+ptOsNyE6d/4+XGEoDC/4fpmeERl+9LymMQ+PZYIoT5IzurXWmi8LCg6D6VBOmp0tDqBHOHVlsVIG3Otb0G/rC1h09p0+7ss9FM2xSnbsiuxJk3GknQsJ8+DbPVBu1DEx/ozfmdKm101xbLzOt+ucrAaL02Z8lFrGWH3dCi3pJr9Qa4U2mbHU4lklgspDHJRoItE8QwqQfNRUi2SXGkve1G8Ju1bTZ4G5hjQ/7HM0WczWdt3qP0XY08EXZZXNF3N0fYnW/xlq1ml/XJPr5Y38JXtG+r1J9Gd0i7Rp2Ja1iNPlv5oTvcdFlmbu1W2CCsUtc69rbfXerQeqPGRgzLFsOtt/UU5hAWZB4qSILSXHikHukh+5UWuiOXXw7huZPIuHvac8Eeu4MnnH4Ix4RXCaMsYRqJNN2sD/A5y/Enm/v4ssz0aUXRIhEupdQwj/J2uePyRbqz1xrg5uYurpWbuNns4yb15ma1jbJWRND8L9bXyrugq8PqfdXysgb6DmyEdcNul3Vmh42uThNTqQSmSznkrRc0TD3B1RH0lr/fBHpe5PtpzQELwuPSgYWNDLTaGZGs1PAFE6Ec1crYCaxkR3h3MY9TOUd03JIDKjKuylMBOviEBEV1fZJKn9B53TdUsaM/0QELS4wthThubnfx+VYNG7EhWWwf82Sy7y1M4xJJVJaKrtXPh3RIrSZNZNSwlfpFYiO14OVGDDd3mraqfJvOx/j8+akiLhaZUYyYurWtxdUjk97v4/P9Csos4ZqgP02CeGaygAkZYwbZVkOWgVd6tGK4vtPHf9tsYp0WYjYzws8WMniLrbK84k1yFWG4wtS2pBv7s9Xuee46DcgVGv5Kp4PliSwuz2WxmFVPn+5SnChKrsARV0mH+2T+JJhfbLfx/u0NvL9dxqeNIa40o7hTHSEZz6CQ0/poIrcUGUkahA/3avh7Gr0PdqnI2wnQHmCSClicyNjwrgylI8LyRz2KblcY270PMnlW9BhvliES0zb+kYTwfabntXIXm2WSI5LgqCrpXNLyPMmo6O00Fepqr8dK8B5+t7mOj+o9fN7J4ItKjEa8zVZ2D7NakZoGTgVEBss+rsznNE9DhVLrUCmcdbZm7lR5jpWyPpszR4KvN2tltCPUW6WpvURhf0fDxYP3O8vPE6qAtc6dPtGjryEyrjS0ItBKKd3yZKK87KFPXZWBkMtWVhQRiu6hFxbO40P7dGB+6EcBMIWTBqoykz5ESMBYptnI2W82sNtrop6IoEdyr4ZPmxWQvp2XyeWwwEaYepPt5QcloqBNUJto1/w5AbTStS15s1nFJivSqWwal+byOFdiZUbHZXds/of2ea/5Z+LyVY2iGhP2y0off7y1hj9u7OKzOlhuEiT9zF3anYk8dVQfyqR+Sms6JBKfVxr4u9Vt/JbM4epeAiy2SGfZiJwu2IRzo3z0w3KOW5UI0zPlZ5AUhqPif9Q5wpLuEWJ6QgnV9WGiGy2Lg4eVLeqdUk+MgnAEZT1A6IdKg30lUY0QlimV+UqTdme1hd+u7uF3u2XcqvaxVh2g3ByRnGRsnmCedig+ktUjgW4M8Om9Jn53r4M/7g1whRVogxXWPMv5PMss1c3yz/SPvumtZ1oys+nKW5WRLlt61+pNbLGSkx1YZOW7kGW+8VmVG/WiaYhPMY+yYujw4IvWCO+TOPdbXbxB4vzOZA6T3NJJE8VfOmT2XsoybJpbNer5KoneB/dq+PDuLglDE1frMXzJemCVjYFUOmNrWGoYTCMXPdk1Ptiu8xkSi1/R3l6tRPAl9ezLZgu3WmUooIvZLIr0VfWW7I6CG+aNINVR3kiTnNU6DmMP8S7ltcurw7wf339yCS290ofWT92CEl1lwF3DQyGwmNj+1yCH2EDvsO76sjLAL+5V8futMvcbuFXrUoZoD2OYycaQSzn+kJCPdFtDvvdIXv946xbrvRqu1vr4knKF5HaX9U6B+aBFz1MaaYnQqrIxZvU79dTeipf3rMfVM7ux38J+t4NoMoq5Qg6zKTbWeYOtC6ZhYeqB+yOOicrRUBowncYImOJwQoRBYdFjqS3XWlhnC0CvG0tzMzTIC9NFTLLwWMshuNcVd/2GgbAYmlHUscSplu5VS0oVmyvidSr8GltGlVabhYCFjhXg/EQOS5P5YKyXT8shc5N+Bm4aeKBQsJGEXp/u0U2RJ7VOYtajpaeoqAx7GNoMW1/ZtAojCwSf0/IG2ip+WgtGmmO9IXRrr93DNbaE9liYRCbOThZxfqJoS0ZYzxVbNyGCEB5IuNdmwdXyCXXGTy3EQkGEKaXOHF5W3A7d0COKn0TqL9vQJeO/tlHB767dxPUtfaqIgWVLvBdLYpst8482N3GDBEYWVkvP1lmJfHR3B3/88g42duv2qY12hmSlkEAqS0JKqzPupXn6mJBRVK/CRneAf6IR/tW1a7i3u8P0Yr6TCNXJlu51Wvh0dRN3SToZFOc8rytNE7EYZqdmsDSzwJCmUK53sM10qVCJ9cWB4UDGm3kn9/iY8k8Uwf1Jf6JsgSYwmcvTLZKCTg/lat2GMTXfLdS0x4mTu1tt6C5FBDGKbZb8P2w18Dd3avjru138zWof/+e9NqV5Amnhv6wO6WYPf0fC+sedDrbojwildE0LCoc9tN867kua8CBMXdUVESxPp/H22UUsZZLItjvIU930yovNY6Qef3hzDWs0apZqzE97kPGQxppzxIEXJ0CXBn+7woZfpco0iiGfT2NyIm0NOlfuXZk2hFFRGAL0+wPcY4v79zdu4ou126j3uxbefiwBfUPy050tfMrGTJdJr3lBWjLn2nYd//TZTdwh6dO0gXaK2sEKIp5OknyFjUxClZG8Mu/szFgYxraPCd2uDhUbDnmEiAA+TFyZoZvKkiBb1Fko93U9CO2xUFhCt6QXmudFrootGsnfbu7gH+7eIPHaQZJlNUs7pGHGDZbhz9e2sN7o0D6xwTJKYoPp+pv1bVaiN7FR2+N9PYwSPUTS1PkMHWRARAxVbF3NIFEahxSEOslNgYRrghWnGsaVeh27LO89+u3subtPkdSf9jusB1a3KySLTSQTJM4iP+q9pOJEKRoy1BNKI0sLHiiOmu+11uzh/Ztb+Oj6DWwyzKNkDINkwhrR96okY2t72KXNUnURQuQxw7KyMjuFhakJEsYhdthA3m6S0LFe7qpeIol0/rmSZi9bSYJ9V/rCeD8O3H1hPCRqqIrAhHl3MnGTajRv2giqpa0gH12d6+R4iGw2k2Cjp4pfXL+JK/fuotXrmI2RdFkeV3d2bGpDheljycE6Vf5pLbdSKonTC3MolCZsHdAKbVGDhbXD/T7TVFW0pULQ6AvTwtKXeZIgV5mwkTcGggHdrWkeaYO6w/xQueADDwv/k0BReHK4eFiolOZ9JsJ+p4Nyxw0PKXITZPN6dbhAxTyMdiiPBxUdG0tniovkVVh57tEPsV5laZqXZvIZFPXWgh4wBbg/aoc+qqcuYhPuOzS4WqFZ4VcmamLoYaiCJ/ifYBySIk7qfdAiftIUXjBFY+ERa1ChaNDNL9jy/qpWYVr0sJTL4PK05sgkqCBqH2hmkmu3HAddUYbXWh10Ol2MSMYKmQQZP4sa/TvoPTgCUiLNvdjd28OVO9ex09rH/NwE3j63gguTJZSorOqG3e2rQm+ThQONTgSflZv442YZm5UuW11pzJPxZxI1JJMNI9DKx695q+Pjg3IIJk+bhPmrDRrWtRvoxLt47dQ8frw0j2VWVMN4C63UCJvNBraZdm3qEKPPNFZ8o8glUjg3PYs3Fk8zXEVbdNZmdNA4L8wxTqzo2ID+uiJb+BwpU+slT6OaoHHVm3J1Gtpmm5Ur9UCtmTCrHwv6nJX1tajnS62uHn5zcw9/d3Uff3O1jv90rYX/eL2M/3B954nlP17bw3+62sD/ea2B//rVPn57u4LVuuZS0XvVijarSnTmcTLg24WSLcVEPqfh/4UFnIlQV5td+9zPiMSlzjReoyFb3a+CdQzsRRA9aEVIVk1H2p48LirLNeZrg2VnxHKZI8GfoI6p3XNcuQnn6Ah1VtZX79zE6t46JtiYe+v8Cl6dncQ0GyBJMpnKqIc7nab1eg16MdysdPC79T2sVfvIjFJYSWdRSrSRStQxQWOiN7cTdF5ZZhWlhYPliXJfxTm2+9hQsBV2a/gdLfaWIEU9Eo8Sa0BaPhw+ryVu9GKUq1CPh9LXCJu6ZRg3NVFqTKsbtV18sn0Le8kWzpybxU9J0rV4dDLat7lb26xct1hB1vhMtZfA+9sN/GGvih3azmxuiPlcG5OjMiajbZRIwB4eCsJlNNIpLV2QpT+sL9hQa/ZZCasWoc6ptz80Zo5WyXwPsV+ro8U6RZ8407B5UmtAHgMGl6Q8iX3a++skkbdJFFIp4FXG79LpGUymB0gMGpZue3RXK62rxOplLJFFs0k0Sudms3h7ZdJ6Ad181yTyqUkslKZR0HQMFo2QZLv8DoRQVO2LAdp3p46E4sgcPIiry2+RJArrJCeHevDkEjSClbYm5h0DFxIvycNDq3mXV1sV/G7jDsvUjnXc/OjcMt6YncAk9SXNRmez18WN3Qr2ukNrrMsr/Whdv/lMBm+sLGF5doZEOsV6QtygjwWSqoVC8PF03W6/Y+EIWh5KqTTZZEbTc3imQxumeoLZDLcciM4GT4bxOyGci08IG3aTAbXyGjG2uVZrUDFJM6ilUuEJKtpcmsaIoXaeBcMzlgb8sdgcDym7dfkxAdTN3CFp2Ky3sENy0tfYOm8oxhOYYatHE+s1LGCtA5a2UOlc4jL7zc8oMy7K1i0TV8yW2SQ3yDOMgIlsHMI9r3H42LDPOJIIshC5dpdrg+hZxYnOYavexmcaxydTz5IMvkLiebGUQU7hp5KIgLnplcdDFYI+It6kiIioF62UCtauoqJr9Vyl+lH5r2dFwIYDTWrvY36qgHfPncLPzyzix/PTWCGJTFOB9THxCt3XJNebtQ5+ub6Fa6y0svkpvL0wjz9bnsZPlot4baGI6ZyGPc1x/ri4ahvuucrlIWD6jKjBbfrbp8U4vzKHPzu/jD9fnMWlfBq5WI8t3QEqDPce9UcTLzX0oe4+2zDN9fpwhqQ3wUKnFytyZFyzpRRmCloPSGFgTsu6jsPOySC4PNV8pTSNasxaUizI9MsKsPUquRg8NB4G5T83zAvppCoaFc4O09J6VKnUXW0pGgZ5ciFpVVc880fr4emrDDJOpjmB34e6/X1DLd8BJllLvD1bxFuTU5hmOsQYbqXtMBqj0WTDrNlGi3kp+ureEpTiUJNDOSHomvUcNJluZjB5nGclprlnqiBEKHTPw+DKTg+lXBo/OH8af8py8ydL07iYpp5aY43lhmVnn/mz1uzbHM1PKlVEMgW8PreA/25lFj9fZoOH5WZFi4Uyn2LMO4ueec5QUU+drjobqKGZR4XrOJgeqHxRrDFBNx8Us7XB9SMlvI9uhaLenQMdYyBdaX8EFAm6J1FFS3W1OYDp2BDnFybx47O0K2fnSGgLbFRplcQ+qkzPHZadPWbYtc0qPlzdx0ZrhKmpCbx7ehY/WynhTylv8ZlpNhxVnzwyJExsvdmeZ52QidJWMy412uP9juw3yY/yg2FTqlu2MJ7tLu1Tt8/04DU+m5KdUE9tgK9Pz1GPHZuB1IMB66E8/dAq6z85u2Ar5l8oJDFBAqo6osGbtLyBJvn3me/6M9f4k2Ya5AakZr2WpVcylsZcboL1ZRpZ+qmp/2ZfJcEzIXTObBvlUdAt7rZAI0hWrC6xM6qPmc3jOvEEouFmpYtE5V4jU3or2uyr2VjF+8F0vB8Kj2znkHmxlM3h56dVpibwgznWQ1rIINJFfdjFNo2IesA0UmN5RhIZYZ2XYPlNKzLUJ9WFqrPJu3B2OotpVhRqqFtkLT+dXpsOUKQ3OlJjPUteoXpC4wyyJ9IPXXVwsXh4TB4fSpknglNg/SnFeMSCut/q4R4JSJ3XVVmoACzpczksObbwobRMGcRfF/FHR0X3Km81lKWdDmunLZK8Mls2LREj3jCXYwJnklTosLXg3HWMW76oIuaW13TUZVi1+n2LQdfifVKNdDxuQ22ObEg5AwNEt7Qqvc1/4vmDJAv9kZJFE8yoCO7ut3CbhKbBiwulNF6dyWFWhoP+MaT2mPYehJQlbInrjb8aM7xlz0TYmnbM3YyPbnFB+por4fNqSRUKeVw+cwbvnT2Dy5MlnKYyXUrFcYqKl252EGPmqKv7q2YPfyjv40v12DH9LpyZxU9OT+DPFov4l/qKwNIcW3N6v5Tu0k/z3AqTg4XnUWBgM0zbc2yVvHfuLH64PIeLJJSnGc6LbLEsMH5MIrR4XO31SYw1z0/xc5GUt4pao9VHjwUzznwv0ahfnJ9yY/PUJGt1hTcLtisD5kiyJEVdzGepIcxHVaSNLoko9VYFy9WHLscfBt0x0Bu1MTZ3NX+A/k1nYri8kMd7S1n8dDGFn83H8SfzaW6zJ5AM3UjgJwtxvLeo+X8ZTKU0WVkmQvPaUjQONvvhe4fSTMOhegNtIRXDG4uTWGEFmtA8MKa1CLQtoCwFCvOHOAy79kL5ZgjLjQnLqCY9N6jbmtuRpM5lYlo81pV9KzPMY23HMV656mWTCyun2Oo+hzempnCWz1+kMT7LhkueFa0+iq/5KXfaA3ywX8Mn+2XUqQRnFmfwo9OT+Pl8Dv9iZR5/sbyIZeqa5jIeVuOC80sxlYVxzTHNnZEdHYv/Q5LjIL7807NNOnkgdL/F+GhSuCQ8r2WBjhW6KZHNtmOWBT2j5/XmmHp5VR4fBosPn7Nv9dE+aCHkPPXzbK6Eny2exp/NL9D+JFjWgdP6dFtCa2mRjPNeTXq+Venh83u72NmrYzKZxdtLC/jp8hT+fGkG/+L8Ofxwbh7TTEm9kSjS8ShIJ5X3uYTKyMje6K6QhOktVlt+wNxwBExkvcGanKpj+qEhyJQm7DMuoW5oO64n2qMJwkQ8iUtzM/jxuTN4lw3Kc+kETlEfLpHAL5HARUguGT0S9gGJg/xSXUKx/GOO83y/3UG31yHx79hk7wtsNM8yfTScp08eWSDpBoNuu3zcbfmj6ohOPR54n6t/g3hT1IfeYLzqzIc63f2abnxToSVo0i2J9FA99noBSgTNiLzCwHPHIcE6YIWNmR/PruCfrZzGe6UMzvKBU7QrM7kkWM2iw7RpRpPWeaDPHNrcMtoeJYRsQJ8ZqWkmfe5rvvdiMYMzk3r5T50Z9J9+uDpMIdEJPmoBs5rAhjqLqldI4LVyQpNlvUnyrvQXWX/aONEkfA2oWRf3gK0BlsA7tRY+3N7BHgM+GLEVkGRLcqmEM3lWfhG3pIObvC0SRj/phvP1cO9B8An6IqKlFHBvOny6XcPNNlsVdEc9IK/NT+CN6Twmmbhm7PUcE9ISlrBCa0LV4zM1lrovNmu4rY+CMzya+7U8mcHlqTwrEbaayKjdJE0aimEMrc4Qt1o1rHY0Dy2OOVa6r5BczVAxVCmqe/lepYOPV/dws85WDQvij07P4M2pHEr0Vy0hYwGBBqp4udjfD+WBelPuNge4vtdEhSShkErhNbYAV7IJGnQWSouXa0U96IKeV8stnkwinyf5YyUwRX/TJC1R6ugWDdxGha2tZAb67tpOq0njtwd9oPqNlUX8iHl1Nh1FiW4V6VZeLQH6JYKkeQsSCze3JiEeDMg4WBCU/jmtQk/ju0RDXGQ2iNTJIG5WG9hQC5SpVKJ/y/ksZph+rruYDzJPNbT75V4DN8s162VdnMzhBzTQp0lK8upKl/+8TwXEBcUymw64gqZzDfpxnbqzU68hQxM0lyf5K2m1Y/VmOr+C2NnR0YhQ59ViFClVW5aGngZhlvE6N0WiNCUdIvHWdpLHTyh6/rWZFHUsg/MzWZyeyBrZzDA+ynl7sSAIw3Eh/e7gqIQqXZWVCMvGHiu/W/UGdbmLFEn1WRKbN5ammU5p9zIHy7JLc0F5FMi4Tn0DOEICbDB/v2K52Wq0rLfzwnQBF+lnRraDzuu1c/3JtwehhoveWMzncpimzDIOaRIurSNYqbXtW5Id6sqQDbYaGwl3KvuosWI/Oz+Ln7Gs64sbE3Q7T6+KdCvF8iV/RDzdW8uqLByB1lb2RUspHMSZYbQXBNyRgw7GTiieIfqsvDfqHVzZb+NevYt1yhplg42qtYaT9WCreUraf5joPg2nu+foVqVtb4i3aNfTJNMaZj4WDKMRA4pskGIhgpKLJTGboZ1MavkclnnGVz2gejN7h/Z7yEaRHqpXm9jZ2bZPz/3g9IK9Mb5I0lugWznaswwbuXHplipypYfkOLAi1fSX7RZok1vY7zRBc0j7Tjcz1AUFktoyYABFRNQrtl4d4Avm786giyk2RF+fKpJAJ2j3jvFIecWGsr5vmuf9c4WMvZiVo9/6+sNIozTlBtYZ2SGNZ55uzdFGzDAdE6qCaMdFWCusT67v1HG10kSH8Vxh2f/xYs6WatJiC1IgvThi/IX75P6WxjpWGoTqc1wwD6D7uJGNU53YZtilz1f3qmxMDHGP9c0G8/wovXhcWatTf6R/5k6L9XTXSK2m79jLC1YEwgC7YD0IxSfDSM+mMpgnidXSEFpfUMZiu9PBzUaHDQW9UMM6WCQ3lyCxcj3wqgT0qb9N3vMJ+cFWu4ssGdfryzN4g+laoqfGIeimyp/UWU1HUyl6HCE/0X6HdmxHb1AyT1pM7GmS+NOlPKaycZKzMJyHNcVxcTka9F+6x/r4KbwFqZZbzypXEbAeteNWvY1PqlVUWbCGgzgDn8SPT09gngUgpYrSDAiv0S8pv6NhioP7PQoyrWrpqWdLhUWJ82m5jlWmudYcy/Da2wuTuGyGlm7KYbnFRLXE5ZH1fumsKi4Wml0q/uebFRqcPjos3PqMxYX5SVwiCZuy2pyFWMrPEGrlXHU132nWcbvVYViA2XQM50muVOh0u8ajv1iv4QpJXZvEU997/OFyCfMsSAkacZuobwGQnigsomQ6cT+UB5qQaQSMBVhko5QRAStZ70KcaRgOE8jIjbswnn/ajzGeTHaSNloD5pMMwWarh1UqaCuSgr4wv92llaIyvD45gZ+dmsHpLI2tiDLTS/NUZIAUXhfmR+TVEadc7ilDelYAczQmaWuF9kD1QJvpsl5u2ueWGrxWoD9LJI0LOQ0n0ycmm+K62Wzijzv7tr6TJja/uTyLt9StzLDq+48KmSb6K2wuGNIznmUc3KvKjoBdpXHYrtVtXoC+J7c4kUeWht6RgbCTWb9HRsZAVTCdVwVjW4aPnNJW1y/SIb1skVOPiQmsVev2tT3u+Ovncox7Lqm3DCkkA7aKM/1UnJQmzGQjsceH9LuC7ABTZaC0J/limnzBCvV6bR8DNiCWGcqfLi/h1fm8feZLb6uSxpgBZApSlPoqH4qTnXxibGiuIQnYLstphgTslWk2KPJJpIYstaZLTkec3w6h7RO50VY9H/rMjZ6JjLpsnESxzzJ5u8YGEc+3+fxuq40O43aWjZyfrczQ9iSZX2pxaz6NzDr9CeNjdoilgPvyXzFXibDjIMKmtwqH/QWQCtvzdmQIwyh0ej18ur6Lv7uxiS+2yri2U2VlXsFVyrXtCq5TtNXx1WD/ONE9X2lJhOD5qyxr1zf3ScJa6MUyJM5JNo7GAnIEGDQLquwho2udEmq8Ua2pASqLjC339SLJFivr7ZrWGIyg1W6jVq8iwjL05so07eYkCUjcvvOo3DIHLceC1HG7x4NlW0vR7DUjJHokAu0mYskRllnWT2WyyIjFiKTFHVEbkAmvV3sksnXskx5Oyt5O5t0b50FaHwUbDWHjUj0qLo7Me3ORDSQ20jUacrc1ZPqRIFA39P3gFRLMlCoQJpDql9VqF59u1HG3TX3Np/HmYhHvTKZQku4pjCT7qrNkwsK5k5qeIf1R0Oi1bR8STMsLEymU3KBoWYb3V9fwq5v38Hm5iy/YMNeHzEOdeRK5Sv37cpekjrpza6eMLQ3NM/zTbFBnGFDNhTSdNgWxoH0NVseI2DJCMeqbmruRSMeW+lJP6c09fVM5aT1dU9SX00XW16xYtDD5iJxDnSkKx8frZTSZaItTeby5NIUzrKdTdFfui3xZQ13JEaStUlQvV6m26o5i2CaRvEHdr1E/Z+IJnGVDfTonAqabGcbgz3BMXI6GS4Sn+BZkWMEyCtQOjd/q0z1dkhoNzWVTKRRZiSQYWzM7YSZQwt1HQfeojR32ZnU1J4bK32OmDtliTdOPPIme1seyuR7muO6Vjw+kDt3QiwKVRhNlttBFTXSfWjKlXNIqY3mjJHYVt0seLcJq7HfYY6Yxo0ggtNCiFl9UN6tWzL22vY8K03QiVTDDP09Sl9bbalQQcjhzU5WNqvtH5Zm6qtV1K4sVN6FCWvSV3hbDh0KGWuRANjOirq94B4NkH4mZDOJU2i4v2iKISGCpOIOfzy/g9ZS+t9lAJ9JAM95j4Q/c4V1uttNRYHoH+XIUdKXPfOmqG4FbOsuNM361GOl7OoFMOoMkrW+UBajbYYubxkjZp+TXpGpSRxrsCo0ZiT3TvjhRxNnpAiZZGJIDpdKAfvA+hUOBDAMqz43s0U86plR3wwoiDLyf1wYU3XaI+4++DhpThl8vVLiPpcs7FWvqGgvuQC9oyFqo1UqdsjkQJtp/2PH95/S8NXnppnpcR9xqjRqLIv1NsHbT9+3k8/cPpQAbIiTGahDd3W3g6uYGDWWHxDSCN5bm8M5inuWCpIb5aQSM6W4ZbAXDZZjy/KRQirj3U5nfTEvNnxRJpeuWUqEch7DcaKhClTTiJGAsN/GJJGITGZYNlZuIvd05lSnhJyw37+YzmBy1GI06Wipn5qHipq3bVU+X6l1pqxZ13Sqzhb5bxj6Jhy3YypvNxrknDvHACZEvhdEtcgrUmY7rJBB3WDmtcnuX5CKUO5TbY/t3WPMeJ/YMa/jb3DehHbvFRuUtEoh1XtPQ5sMgvdT8Gon2TXWZiENWkkZ0EkMMSYL0AonWH5zNUx+iSTBpbb20Ds9PnV7Aq2emsZTWnE/mJCNob1PS/pmtVze8uPrDg0JYH6NVlklVtHqe9YIWbh5PYTnD4No82w7rlJ56Wlj29Fka2YmHgpE0y0QbpoU9NYIQ0bwO2nstHRNjAz1GIhdj/aQ5kNVuBzU2pg99Z+Nz0MFavYO7tS7ajF+plMZZ2ucSG5Qxui2d0efnmPwmmrdbZkN0s1LBxn7F3FOMFIdxd4/E2A3SwxZTaJ86fI96c6M3wnVWBqYnYzrxjYXP3yarvCnd0SoFnQHKTFyVRwb9MQLJWxjPIfWll2R+sLIYpJhmGndmHZpnPTEZzyFDpdIIVaNRR59lR7xAIh3Z6fVxp1q3tx8T5ARz0xOYyabM5kQ0nKtWgfwJPbsPVusbP1Rdrx5x2WMNUfcZD5W3x4jCNwa9enJYPwyVRE3zLivYOpW8z8xgPYkUE01vIKmHSkaN1QaVUeIirh4RnVeiMMltXo7xpz5/yNCZulZBSmFU7ug8DY/G6sUg5QcLGd0ukDjpY5qqBhgYJ3JX+cb7ourrp7LplNZfaZEErO/3sMuU1fpfiPYwxWeX+FxJDzEzVWg1vKOV7qXieolY9jhFhVXTdZ9n9dX8KNnXsDHEjW22PrstdDMRXJ6N47VSDHm5w2cs4xRlBY2bhyW5jKvuVxyUttrVpHvJ12FX7VdXZUjUM2LsnqK5GyJZioHWZElSaadJeCbYshuwctSaankaiktTBZs0mlSm0XImR/pgqftmmlpdct+6XBUJk8BDiUVMdIYVlfnEU/aj6/JXbiqMjHOMokwXseOP1vDJcm+WTaNZ3pdj4W3QvR2GvaFCRT3QhNkmKwJ1PW93tYBsDKcmslhkuPXmq1JUekWHqYLURXqn08x262FQ8OiUiZEve4TGXMFyQRuDrtodD4HSl89pe7CvtFfFT5WlH6p8pLNaoPEkMmQFZsNU9ElD/e6FF0GBljwqrE8LgX/aMAh6EUWvyCvtmIS2jdGIy9B+1mzhl1ubbJA0UeS5y+k03l0qkqyoMmQuUaz4i2BKJ2yfok2wfVKEZUe5HBIVKzvuqv26rRP9urxz8VC5USDUKKvrHIMnB2NsdJXYmJphuYkMmMs05HrL7sxEDq9MpFGgEdObtdGRetpSdIcNCT4bckuVCxHOhPRNQ+nbFfxvV6/j//XRF/jbq6u4w8abdMc1clguTRgKKbMU9wgofkrHKZbniySHGva+zO2rk5SJxIFc1raUoD2iFI+X1ylvUN4sSJJ4eyprwzYXSnHMp9ynpx4Kl6QuQSlq84XZaWs+Km2VOawwNRKiz8ClY0neq3UU9TIN03KuhDk2pkWcRbak/0bk+Kjlk7ZyJnT4IdAt7jb+8l/Py/txhIcuj3gPb1Cahs+pjNtzgRzsmPAu1mURNhrDZzTvUAv1Rpn/mj6hT8bpU3jqKWswLxvMX+mJxieHND6Vdt9GI8rUiQJt4yuFFFaoZ1qDUvWPGupa01AmU/Z7q1LHL67cw//64Rr+96/28fFeh/Y9bHJYCB+OIDKaKqDw6XvGl0n4fjAVx3szqrOO1o3Hlok43pxKUHeoS5MpW09zkeUkR09loQ3Sg0dApEccYcBy1We66VjrvJUSKcyRVKXpXiea0gQwNuhdrWNElEZ3b7+L2yxPHabnLHnBqUIaRRF32U4RCLppw42BX/fjMA1V9G3Uiqf0NrWMnBoEeu7g2cdI8seB/HpCiCK4NwLVPdNhBFtKBWZwlKUlzv0kGYoKr4yiXsGVyNDJ/KpHRz0T9lafuo0ZIxlD6ai6diWKo7VmeZ8jACyIvEkFXOvwaEK2rURvDynTKHTcWkv6t+csOSmuYtxrsmW3T8WPJNBiIUmSAJwrZXGalXuWCm2M2jJdJEHRYdhIMJMsbGlbgiKGGuPR4nVV4pvbLVzZ2UaZgSrREL5GAraQ0mux9JWtPFX4VkhN+GNh0fYY6D5tAkVRGoTDaIL2LDZWmLUTbA5vIXhgN/KK4i9DN4ozfowDT9lbMGxp5HMxzNPoZlhC1G0/jKaRHKSR6jFfed+A6WjkyXJMuUgEfrqAaUfWVunPg/FrAbTOWIqGyfoi1FevOWr8y49iKDGPZ9lynOXzKbagGrxrhw83ZC35PyQp26x38eUeyS1rxMVc3ubpTbGAaT6JxvyHMnp0T/qgYCgkajHKWFui0x0LN3/VkjFia+f4Z/nhrlk6mYTnjgHz097skaHg8zXGYa3Rxq1qi9LGtWoXN9iqvVntPLHcqFEY7+t073a9jfVml4Sf5UPhDcL8iFA+RSgzlR/aHu6qwupTB43AsNCt64UOloMrjRrzIIazyTx+OjuHU9SxOMuPKwP6cWl3WCjoZignhDkTOClQMy3042lm81DCuBD3Z7dItcqBDDtBBqCFOjO8KUe90ZC+qmXyB8yw0tGQqrW+Y2nel0aiS22n7RuRacpdiVZsNx2k8RmyAbfV6uNKu4fPybFW+wnaTZUNZxPVuz4U8VK5vS9cDiKVSkNJnOXo4kwJf3VpEf/2tRX8L68u4l+/uvQ1+TeSy8fLv+V1yb+j/D8uSejeKwv415cX8FeUny9ljEw8FLocSLirKDCXWTI1R4elTlFi+NWs1JQP2ei27iARm0hnsZzSYqVKhbg1/kS+ZIRkg1WB64o5/JhQL+FAdo5pZfNY6V+gBgewcFJitCd2SXnP56TbDK7TnQAH+3ZBbol8xcy+6T1xpx0kkDyvhuV8KoqS2JNGS6gz1jlhSsXGCgvNur7oUW1Y7/3piSLenJ7ANPNU69dpEWO5I1utt2hZwFCttXB3n/alnsCdYRGVZJb1mWq0JsUcfgRcbBVSfZj6nYVZ/KvLZ/FvmNf/9uKs6cBR+vHYwuf/9Suz+F+oP//z5RX8DxeWGaciCRDTR4lMHKThMbBywHpBda+joDGqgPuUYTYawwTr6gQJpz5fqLqhz/JkA7+qy9mKWdtu2Hw0zSU8y8aR5k1nqENa1NsIB5NWOnB08XJnlPMumwLSFdwb6rPd9aiIfAMESfPNcRgB7SnpSJUUYB45pdbcKjeOrkJn1ykaJlS1LhGMIGn4hnfprZueKn0ZMJ7WPc4w2Z36sQQR+dBQjBUuvcWopjWhjzBreK1DxW8zwfuU8NtPMpT6BuFqtWldvw26rHFjreS9Mp2mEVBv3qEiOxflN0laMo4UW/MjkjSFK83wSj22yY4/2N/FaqeKHMNweaJkcw0SLPBKEcVcz8sxF4evw7XUneheTXRXdGS4pAQahhM5dSFzjljK0Q+X2s6ohRKmreY5pUdsHfGWAYlVfZTCXVbuG/Um00WLo/K8vWKr1+ulYM7YmUJwXzmieQ2KhfPXEp674ZYhUtoqjpKwJtMpbeixVUCWj4fpoABpX38a+s1l0kinssa55YZ9wkZGkNfq3SGubjawWR0gz0J2aZrpyxa6WnDmD7cuDR4C3UPRdyN7fbVCqZt0W+u6aWj38GntPdwt00ema9zWAhsa0dNCkr+6uYn/44s1/G9Xdih7+P9+uYv/9asnF3v+yj7+P1/s4j98tY1f3iljlQRHPZIKYpRh0JuHCs+3jVCjwrTRr95gU8+1Gj7So21WGh9uVXB9o4xhs4+ZWAqXZ2fwynwRGZZBdf8fhDV06kF5QqjcCHJC4RIxl1+qRNWD7sqNabWD9DI4dnv3l5skdT431BdFWepIDjRfUh/9X69rPhTPkjj29XablRvntyMILhLqydJcsNB4m6u6RC+10Gui28UcTyxpiCSTRJF6aPOdFFAZF7oke3hUYyD8NqpELwxMseycK+RwofgI0T3HyHle/7pk8cpkERdpyxZJjDJB3I6Dgmm9tQy2tirz+jyXyGQoGk4cxpOo0tjc3i+jzDTWG209Vqy9Hu0fCakarZorpJc0rMKjHJVHD4e7k06S8DBRqaNJ2so0/TmwQQG0q3ZAinZdtkjGQW+hK1/193A4GyY3nAR7Cjf9yWZTSGVcQzHGROk1B+iQLw2iCeyROFwv11FptGyJoXML05jJJay3KwhVsHWxteWPOi3kBi3Mxzs4nRthgfWVDbGazujehyBwMlQn2b8SSe9icRIrhQmcyZdw/gjd+Cai588WCjhdLOBUqch6sIgpLeLNBDZv+aPkfygssi64EuW69vSXYqVY1GgXy1aKdUSdBWaH284wRkIbZ0O1hWv7FZKyCMPA+Kihrg4W5qW4lytTksPwHML5GGqY6Q5Jr+ZCq57Qt6CVpxa+4O6nBcXwieDCEmQ+D1SBW8VAhZdSJ5MppDNZ8gQFl9FiwrnrMk5qm5rFoWjCfgIN1i5lni7z9rYIGImYHrWJx0oYKZv98YT1tNE9Fqp4Ik2/SIjolJJPfWmaKt9lk9O6MFkA5ItIzF67jVvlMvYY1n48zUIXx2yeLbw8WxvxsUpiDGbsmAFqJclddXdmyMj7ZOBfNVv4sLuHSqxLpcvhtULW3oCy+PK5sHJ4FML7tFVGpxj3FHVFoe5qjgSVwX3jUGRHf+bDgSa4dV0UflbKtGSsIliYG4gP6kytEWqsVq5Ve/iMFeSOXiRgEAc0Tm1W6hUNgdBftRLVhpP5Um2gCaUagnW+CS4VbWgkKoPKyk1pqxYb00OBUYVjYeOPeqA0lCZi/WAqhJWISHqGOpLKkoDxJin8QGvmsJJqMHx3SZa/3KqyzZPD6ULJ9X4xfa1bnn+uwIwhTI/DXQuLzaeQXrDAKqmVn1awmA5KZisEvM8MVPjgMbB0tjRWJQ+SxAHu0pheLzfxVbmDLzWplS1VfYrryaWFz8t9bgf4Yq/DlnIPeyTLon2W74p/oDPfNlwaB+lMfTAdkL6ZLozYsh/gw0oLf9iqodoaYYJ05FKphFdn8yglWYZt3qSee7pQWbmvfFGfNO9Hb6FFqfWa06Nyoz4CNVZMj5nBFhfLY+2pQRjkZ1BuYqMWEoMK9wdoskTcrgOfbOzjnlZTZ3z1cfpuu4/9WhtNVtaaFiHSYC8YsUzoQ+Ui6VYWFDx6ZqSN+hZLRbHEium9hUX87NQKLs9pkVfqIXXdPt1ilamaXto+XBEVH5E+LUx8UkmSFEn0wtChDJEg0UzwupmihyCIppV5t5Vd0NnQxjPdmD8VunRtT9+aXaU+syHI9NBUiRrtUL1GS8Hb1eOjrUZH7I+PK5+UH6Zzj4Ry3y2BoIkRypYUbUaWDXWLR1DY9edSm9dpD2yCNfNBw8TK02+KcV0UUTYCxpaiyHiyT+LeUIOS9oLxulXr4Pp+w7L49FQBZ6b0rVQ+x2M7ybSyVOM5jUJobtp0MY/Xlqbx45Ui3p1NYiXFcNP2RjTK8hBYfsgdysG0DJ5Xr6Tirvmsmpt5lF58E0nTDb0El6Wo584RaQadYlBiS+T5IzH+EHOKz2g+aSlLAsa6P9PvocY6aJ1bTQXSkkpXqFe3Wg3kk2w8TEzgdN69RSkC5kbP6FZAVp3rjhcoOBYk3qNyZ9NJmFAq55r/LOIncXkjm/F0oRA9IZwxsxxlJEWsSKVcpc0M0dfeNeSjFnIYYRluM+C8T+e0PogWp9uq9fHZ3TI+ureDm7UGDZ/roREUwAN/uCeCJ3/0Zp6GL2VoR/RHLFcZrnlhrj/NVf1WUfHZNhP1dqVG5a+SPbsCOEHFVq+KvhFFU2Dufw32vDbqXWPcWIqjbMHssJL8cGcPt0ZtpAtpvDE/iQt644oBDgnGfRXEY0IZnWWGZ1Tw+Lx9IZ/G0FX5dJdOKuwHLoeVolU1bL1RRBLdvKyeDZXebozw8VoNN7fLiNLgZ+2jtjRnbHVWSCD04VMpnq1kzfCzUUFPlHZyX8Ifi4t6FGRMYRNEW6zYukpp9cZZ/hxCd8tkyhha/o1hvPJUL2mOhUWtUA0jdlpaNLGHdRKxr/b2cZeGKpsu2IrkK5q0z8dkoB3ud/drkD/cKHU0X0JpKX+VtCK5GlmJ6Q6FxQUn3DwEymBXJSl92BDFdDaKxTywlNMCgn0sZ4ZYpvF9UlnKcJsdYik/wlwWKPFY4XWBY3qy4aD+ygfT9duCSxP9ugpVWqC8bfLwbq2J329VcK/NkA3jbAmzglhSyzrBssAQknw5suhc+bag8qYyk2XWKE+7JNvj5UZBvy+1LM+pGSRL0hBWvUG50XGHz0Wxzlr8060GrrHh0qZ7maRegdewZIyNBDZsaOd6Kjes3eR22HFlUyIszoLROrRZsIepOJbmS/jh+Xn89MwcXmHlW5Atov2y2lG6RbHeY3v2eCik6hu3nugTiuXRgTiiY1MglH+W55LjoXJg5Ilib4Gas7LVsleMExNG3wS9Ue3go7tr2KpXzVjH+IDWutKiw3UaFWaXpYOST51XOlay6PRhXj0qZZSOsvdaS1FxAW2GvkoQVKJm2yiE6gfZgDTPyW6rp0k9YJpaIm/G7dQ3hRZzLdBhzYFOMG6tJm0tg7/WHeLKbh2bzQ6mCjm8vljEAj23KSvmFQPEfxFYxVtzEnskiJMzk3jj4in86MI83prNYIYVnlvV3zV+Hwa5oyhZOhLKL9n/FFNAYi4EuvCkIp3Xu1YmPGUdJ0HSqWrQrnqlHw3eo3TnHl3lVnFzL1QUUnpTfoiMyjaVTNNV1GmzWmnjq+2KDcaeYTq9Op3GjIgTw2CNdaubXNkKYafCZLMASu/ER6g7LI9d8oqQgCVoV8Zvf5o4DNETQIkj1qicVe+FfRCZot6UHiv2Rqtnbw1p3SLNq7ISECiWREMqWjX/Cg34+zfX8OnNdWxV2TKiu7ouHw5/Cd4fp5bqtdOw4mxpRXwmmDI7Rtamr5pnqAxaGFIsXImvgrxZ7+CLjT3sdPskG32k+k2cySZwzibq0U0zZgc+3Qeji1QAkRdFodNo4w7J141K1RYsPDc1jYulInLMKGtr814hHDJ4GHRdPUHhveoezifVYnNks9OjstF7Rw9dPMeD6Zx3J2RuuoxJi0VKC3X2oylsdWP4bLOBG5tlI8cX5qdxulRAmpXGkIZBK+KXaXikbkOmH+tRVBmGViTOdGKemXKa8y7PuF/nfXtMrj2eqLDFaG8UBtctqXQ/80bqZfpxDGTcFO9cgsJSq+95tRnRXVZ81ytN3NjdpbsDrEzkcW6S+cTIqkDJE/NCu4Slie247bjoHpntNltOWo1frzArXXPJmPUyWo+shd65+TDour1IEtFUUBpNRu1UKY1/9toK/uqtZfxPr0/j37w5jX/7xhL+3YlkEf/2zVn8a8q/enMRf3FxDmeCoVfFacC86VPc0XcLpRKzH136v9thZUK9urPvvrU3RYLy1uIszk6kqL9qJKlClw6JmTzdsKqsSHcOhMe5oNyoh7zbY+ODeW1v+zK/pY+ugnMQwXA5KnukvmOSJJabruaXxFLYHyZZUdKwi3x1uzg9PYHzc1PIM9+jLDdam06ruGsITXGTBjW42yI51pt7Yc+7frSQ40a9jXt6maQzQr3DNKEbWkHd5i6qjFg6qbw8Zjqp4PP5HiMl0VyiUB7nODynyc4DptmhML2oWuPnNHz4MOgqnTHiZRPwuR2KOaiRwLzvUzbqfXxybxe3tnahBTdfWZrFfJaElhWdXqza67AhyGelW44C07bblmnLNDIbLJvC/4fD1UlNVtIN6oAeyceTyMc0U8uyioFkHvJItpr1KxukrDdIcnRzX2/ZU/S2vDyzPznyCI+lj6FOaqtPvhXpuHqEtIZZiwm7w3S51ejh1l6F9yVxekrDf2nkGIYU3VAaCrKjGgZtMvzbda2x1bdvwVaoM2KmGWpbmjpuxP0JypamBan31IR6p7KjUZGj9ONhx+Pn1MNGZ5zQj/Gt7ZiKa+fhcNOYlBCOfElUVJV3WpKnmHYfxlZ9tc/KSEs2XSWhLTfbJGhJnJ1OYSGveceuiaoS5TDmt4VJ55V+bte+JsEzWtlAb1FqeRT1ZGdYT2TZcFL715TpKYPJ8jTAyMbJTrUaPRVZVYMipjHuKluK/LeWqFsHR917NFzMGX0bTpOWP9ir4VZLby9krLdDie0CRuPI1KGtMyOgDMyk2bJOaMjRdf832JLYaZDs8R7po1YajlPZE1pHge5r3Z47tTbeX63idpUGmQYzEenibBb40VweZ9hKUResTawez6QxSEE16VWGQ0xfQxv6vESNlc5sooAfTy5imWHSei9mfU4AKaxaY0nG22wC/azROLXprC1XwHB+LZR8SL1QbbaGKsModnnv/iiLnUEOn2x38MmdXfRIPl5fnsJfXJhj3FMo0tJpaYMdKpvWN6vxGb3Ft8bK4tNqHXdZufaskj+EiNZapYZ/unoD/+H9K/iPn9zB+7d3sdNyw2OHcIqvFHX5eDSMcFKKbKpMJUgZZXS6cXy+3cL7a3S328Z8KY73llNYtF4gFscg8sxqK4TKs7AsCdroljCNZJtkt/Qaulo1MqZapFOL5SqNpZHhw4ETD4F6M/iEDAkDIh3U2l/ncyQeE1n8aCqD96aS+OFEnJI4gTDOpSh+wv0flZK4lI1iikZOQ1XOCLhGzHeFg/S0HZGVhLU8P9uqslFTw6DdszXZfjA/idfnMyiQTEdsfTaFlTr0GK30pwFVepqLqXk36kWqs7HVpM6qx1Bv41kIxjOZJ2STNOOrqnLDOFWQxv6wiE92+tTtstmw09MF/PnFBbxayGCCxijB+JQ7PdzhtRqd0RDjbm+IT8p1XGXjrEYS12VjTaRhwIK7emcbv/34Kv7uk6v4m09v4K8/uolPbt4zkujCwYAwfNZI5TOqClx18HCN1J0qYU6LD+VxjsNz1vAaO3e0PA5cbstO6wsTWvndPtvEc7drXfzhzg4+Xd9mIzaBd8+ewU8XZnCehLnEBpD+VltN3GODvck8rNKNO/UubpabKLcHVlfYMt7cPjQsukj736XfjT4bXOrKYli0IPgUK2cVWxGFkK846zEyApalTQgb603aRFvigNdlL9zbi/bIY0NLoMymUpgk+VOYKv0B/nCvgT/e3UGr18ZSIYfXZoqYo7EXSbPOAnuS6Ug/W90O7q7dw+8//wJ/T93564/v4G8/uYsPb21ir65lT5gz0hfTHXvwWCieYZ3q4nz/I5ZsPHOUfjzs+P5zTMnQ4XE53DwGLMXdLmFu0m25IDf0PfZ8jmU5wTOsn3aoH39cK+Oz3bKF4ofL83h1JuV63g/cCWNNOQiP80d/YXq4e2I2HafBsqzORS2fpW8hk9aY7hxgfP+EkK9PBfr0x0Q+j1wmZb0MUuQqW33btRYa6tKTctM7FaQBDaI+hr2616QRL+OWhtmyeeQnZjCRS5syWvcqE4jOmCjJlA35bAazbDnog6mqjLQg4l22KO70+qix8IqIqFWgPi2tZHun0cDvt7ZJRBpssaasRazX4n+4wsqilMakMoH3iS8fDfnKliqZsD5XJBKmb1CqtZtMZ/HqxBzeSOWQZ0EfRrvMOIX2yaFYp2i8J/JZW+NMLcIyDX1dK0fbVd7DOEgsUSgayu0xzmUStfdvbpAgbeHzcg+/WyeRuVtBtRexr+6/uTiJszR683x4Uq9R82+n08RqrW5zecqtPj5a3cUvb9zFx5t7qNCSudg446r8Uze6DOOnm1V8RLlO8lxhRaK5HOG9GkNQMqi3SgXfhfpoxBnXKRKMmRRzjGnYGqZwl8xcrxNH2UJ+lfl0oQDkoqI+9Jxb9W/bvIbADUuLEPTM/FMwTEiYqY/7zYYtXqmFE/M5En3qTziZXOG1Bx4JFVj1mDEMGg5RPPmYa0/HSci0VEHC9MnNiXxSYRTJGrW0ht7x1CKs6ll2a9n02DLr0jdV3ifTtceB0tKlr0sfK1fUt1t7LXy+USdJjiHPu7R6+DuLJUyTTGvlKNJd/qkyUUPoqZmZh0JkvkD7k6ONUG+1FjIusyI/yF3+HMTHRDkZQ41J+cX6HsvNOj4m+f/DJuXuPrbYsCgW8nid5eYiDf8iXZpluYkzf2usoNdJGsqyOyRZX2xUrdz8fnXLVp5v8l41HkX7cskskyCN1WYfX1Qb+IKt9V0GROtTqdISsVDAZO00ECqKqybrw/LXxYM6QnHLFTy5yNY+TNwQzvGQddD3XLuxAZpU3nutFv7p+i384/V1vL/VwG/XK/h4p8JrMawsLuGNhXlcYIN1kTYnN5BdGzIt60yfJhuPQ5b/Dj64tYHffH4TX2lRTdYfGvNQSVNSHQ9LFXuxqEq3uiRgCdpsfZJIX2BQ79FgzD5bRcx/2fTJYh6ZlD5mF0Wz2bIeEDMguu/hnh4JDfHNJFi/UPR0lXbmWmUHd6u71M8EXpsvYSUbR5Zh0qiNyrzuk5eiD1pXL8WGsl5R32Sj+Iu9Hj6vAKu9FFoxrZQWEFIXxGMhXTcbFUh4bJ4R2tXBUXrxTUQ2UPqu+bYmdFkNEDcXMJTHgbsvDJc9ybBqylGaZTpXzGDEOizRZV1R7+BGZR87bOydnZnBuyS0MyTTrouConwTczKhS5q/rNeRZb/HyxY9oKZzh/U6iZ3shtI/zTpfXzqI83k3jeLAkpjzTwNPwTK6iOrjlTPFHM7MTmJCvUGDPuqNJj6/s4kvd+pYp5Ha0rICrFjucf/Kdg0f3N7Atd0KyoyXVjNJMWELGnNVWjlNJKiOFlnHatVzsTI7gfl8mm1VJij9ubO7jz9s7OEqW1DrdGuXBl+ft/l8t4pf31nDhyRg2/qy8SiKhUIB755exJtzrCzI4TQsp+5/K+A25Ca/5Z9AH130bK6PKkHNE+ixEGvWyHwuh7fmpmiUmek8byp3+PCTgY9rFfg5tpBy2bQZ6X22qqs06vSC1/Vjqq1b7X4RzoFa8BpmXd3BH2+u4Vc3ttjq3MNWrYMSydwrS9M4ZR8G72M+GWfLTA9T2Rj9e7W2rcj8x1t7rIh2bKK+eg7DdcDcr+JGgkvy3I2l0Unm0IxT2HLXfBlTaYu7lNRRRRMLXxBMin7MoOs27qvSnEyTvCcd8ehFkjS4CUYzjoWJEiu/acwyrOpONlZHB/W45YvcE3TMDeuKAyjPdI/CpVX/yzWSAhpkdSlrQmueaaB2WxgQ7T0Kct5WcScRsnk+ppgi+5p5qKVRk8wjrXWnBRhPJiM286wT3XqP1IOjoqpQigAqxdWn/BQgJynB5kAMBwf8CcqjeiPW6318zkpVn60ZxOI4S6P47sIklkhS4kOFzemntCAkF98F1OswXchikqRJb0DWWZFXKiRgymKB+qOQWY6bElEDWHZq7YG9wfnBzXX8E8vNb2+XcbfSRpwV9wWWm/OzBRSjQ8zRPi2w8hQJV4NjTV/+WK+ynO3jk7tb2GLFrTcl1ZOsSkgJJrs4P1PC8vISEoUJNFkhd2mDslPTdJ95rbSh4itkut+qHOlWcHwseMlVqiL7Ty4iWGow2DcKj5OHBEOQzRuwcutyq+9K3q038MHqOn59+x5+dXsLH27rrcc+ZkjSX1lZwCJJ8iTTfjGZxAQbzaxXsd/r4MoO82Bjn43GbdzkvqZesIVm5Vi9Qmb6AtHmvlSyHx5zW6P9UnlXvhfZsJ+kLdUQo5La3ly1COlIMrKe0+WZvH11RAvj7rKxVuu0zS2tB8UUYD6pA8H5dwA5MxYIRzl4wH01Pksk61nmsXrdWsysBsuGlsM4pXSYoU6xaKvBpTwPQ2M2hZLgc/PTs3jl9Apyk5OoJzKUAuL5Ehv+KfT5XODtI6HojougjdKV2Ws4Sje+mcgtR760tSF4SfDn4nhf6h0NuqX6QaIwOiLn7InmYhVyaVslPzbgWTrXZjqks1lcWpjFCuuRtM374wWmoRHUA6FjDA8VmjsU7spNc5/XFDp98Waf9WWlxdqPz0yxITeVz5h+GizRAnlKCJ1+IsQUH/6JwIihTpLQvD2dw5sTacxEehgNuviU5OgXd3fwt3f38Ner+/hPNFb/x61d/Je7u/ig0sAWiVKMxCzHlv1kvIc8Q2Q9E0wATeCUgbCJdPKHHqbjQ1woxPGj6QwusYFQ1BsR9RY+pB9/d3sH/5l+/EdWDv/7ahl/fWcXf9jUd8dGKCQGeGsqgX++Mos/JWla1JAi46C3+TRxwTJtyEqZ/tlIIk9ruE9XVNlmhi0kei0WSrVRu5hmON6dyOF8jsRNdSQNrdYw0UJ3J4GCkx5EsEBjUKKx1/DZLiuIcouVn435i/qpd4HhkIKTeEVUwskvm82BfT5hh89ca3Sx1e5jIjPCOwtJXJ7WFwMU0BiVKobZbJctv7Y9f68ywj+s1vCP2xUaiQFemZ7Aa7NFtgAYfzqtRUDd7DJV+jJEbp6La60rvpY7FIbvwExp30E2T8ZMV7QvVhQ2RFQR6puTmg+joT2tpp7sDXEukcKPJqdxjq1SrcOkT0JZQmsoSWlN36hu3BL03JKAW/ljecfTPZ5r8l4Nke7WeW7YRS7Zw1JR8/6oWwoM/dOSF0YUHgnFkz5raJb6ozxXWKRHthSBnKCfKrwnFTlm8eS+DZ6JgJHsmNi6avLxccL8ECiRAlFSKH8O8iiwUzJySlPTO14od0b4aLNl3yCsR6lf+T5+MJ/GpQlNP6AGqAywaZSgJPWygoKoTDphUB8HeuNpOpXAVE7rMbHSaw1IwEgMpGdUigFtUpdKp3JjFrnPlKXStJtDVBkvvYF9s9XFHR4nGLfL03G8OZPEVEp5HqPxT7ABx2vxhunaFtnGr9Yb+K9b+7jX7eA0Gwxv6yPxmbhNblaPboSVboIGTGVJyRBjgk6wETlXYAPS8lon+cO8VlUfZ/odaJTy/DjoOUqweWKxH3nzMLEbj4cay/pMmr7QoPm4ZaUnMtgbxLFabWCfaTNbSOC9pRwullLI0j0tTzDHRvRMipVmnxnEwnqNRu6fSNg+39zGgOl19uwcVuZIVhkGWxInMCKmqxSZkLCf0HSWJ/WVlLVGA1VWpMl+HFPpNO1dijyONswqX8LKlKLGFKfBTbBeWcnEsJhQo7OPu8M21vvuY/0RDUFQ5I/m+4p4yyurulU4VGCkX9yXPdRrH+p11zzBHAmYRk46KfUO9pHlfedTBbwzM425NP1VeDSMGKaxhC6rLlUPmr6LuMQzmRhdpZBfYCHhJqKPolqWhvY/CM9DEbo9JuOH5v0D576pCNLcUBxtPfy7/85joMgE9ZmeV03XjnRJXnsss2zeMq1mkxkUGONenOU4NsAkG6tvlaZxqZRFLkEyra/PqHJh2jwYJxdT5rwatfRHBKxFd9u8V/Vst0/drbVRpr5q/tcp1j0zrIc1T/AglQPGaunudk8EheiJIL9DvTElYiTSVIxT+SR+dGYG75yeo7FK83QfO7u7uHrrLj69dhufXr+Na3fvYWu/zMLaR55G5jSZ5hskRWcnslbYZI9CH5R55g8PVTGpIGp9j7cXJ/CzC0t4da6EEtO0x1bL6uoaPrt2Cx9cvYlP6d9WuYJUPIWLi4v4ycVl/Pkr8/jBXB7zrHwTTEhTDBoCV/lSVMkfaLTohES+D2k4u8jTmGa6LRRYQDV5//XJNMPvHrPKWMbzKeSK+lSKLLgrpQINSAoNMnK1tneoV32lNcOne9zIO0NKP2n7MOj02TKgopJExZi2JVYcby1P4t3lAgu85ubpbs3VS+EMCdapbByzvC9Ft9s1fcseuLywgJ8uLeIc78kyT0UIzfBRrKUspjNkJUujRJvmiAfD4epYqTRPWqBcMgZJKRtmBtOZQJ41i+kUvx9Nop/M2Rpw0VEbcxkSeX3fc7qIHPNGWqDqy62qbYltYZWfEvNLJ7gNh/DkvN5o0er6G80+Nmpdhn+ABbagFrJpqwScPXapqNDw1GNAHrEAa/I180KqozAoHVRQA15md51EFE25I7ftWB6Zn6qYRT3lI889DcgZissRSnCsg9AHzZUq90b4fKuKz9f3UO8Prbf6tZkcXp0pUl+ZQ3JDBJlhi5swn8IIfQeguhqRXy5mMZfL2hIuq4061jpDe2tXcRkvN4qdOpsGZGiRXp82YcCKs4c0W2CX5ov4yZkS7ZkjUyrbaTZglme01lECM7QHmWYb3VoTvV4Pp1mp/mRlCZdy+pyMCIn8Y4BYuauV3dT3I3m/CNhUmqTOyiNDoEAzMEa85Y/luK5IHpFwikSYvt+muMQ6Fpauiiq3w97A7JCGadNMgwxt5ko+g3dX5vHmdAkTNrGVecAHJktprEznMc0CW+qwgUdp12psLCdw+cwCLtIGTNAOWkrwMZvEHeSjyrj8tMa5yjG36n3REkN32CCvMb31DdWFQhKTGdoq3mTPBY0Cl9oE92UzJnn6HO3tBO1ehbpwu97BHvVd/Er56CzEISxXg7yTQ2qkinxp4RPtyx4N1YAla9JC3tFBB4upDN6am8X5qSx1jIRSQ2IKxJjBUDG3sNFpSb9Bvel02O4c0p5HMcUyp5GfmA2n3R+mI6HwPShjkLcH54MwPImYvaIjIfkKxeXWuDwEvKzlp8iNuK86RSseOL3SKX3sP05Sz9obQ6aDvrZznsTrnbkcGz2uTpAbR/uis+YKdxUy7dkYg12yTwpSb9fZYGjTHkyRfJ0q5lFKuFgcPq+8lj1025PiBB/jPoRTTpUCEhW6o/k1k/pQJiMwrQovn8VSIYtTE0UjFacnCzgzqW/6TeD87CReJ5l6jYl4Op+wDzInaBUt0qaNdP1glwWBiqfeqgRrugIr0mIhh0m6Lz8W6ceyhH7Ifbl9kS3Sy4uTeJVKP59JsFXCjGNwVXhDPxwBYwaGtbg7pJ3QTcE9OsXKb7JQwHkakouzJZwmCZN7qgoPjHpgJJ4U1i0qiyJFpNGvVpvYqVYwoid5VizTjEOavolMqevXyiC900Rgtco1bDLHlvi5mQm8wXi/RsKpD3lrdWYNoSoxY/EYUqkUWwxJzJPgnWKanSvlcXlugsSWlU6W+cD7k7zX9QY6C9dFkkRwiBt7Hey3NScrioskzRdpRPXmpgbNNDHd6ZLSksIAylCF3cjKQ7tHZxjHNsvDJm3Jh9st3KnVEaNhemM+j58sFeyTQ1G2SpgM5uZxyarTyiHlgb41aQaZRyKra+0BPt6ssnVdsbT70coiXmGYc2rd8n4F8SD/zSXn3ksFRlhlLFClAyhZ7Jg/WnLk8/0Gfn13F3frbGUO+3hjNo+fLc9ghaRDhtLKC2/WcOlJ7MmTg3kvFshWcVXTEar71kuXLmQwk0siR0XSW4ehSdWP4q1yA5aJyVweZ2iTLs2zHCxNMF5xa2C5b8nRWepTKplEmq3wGdqe0yR551luLk2VeD9tTSmJopwyuyEDLz2PotEDvio3cGO/ZhX6Mu3HW/ruH/f1gk8QmuB3DDrxtZPPIMwIqXTrXXK3CFCSZHWR8TxPO/Ta4hRem8pjLh63+U4qd1Zhs3JLZzLIs7KbTadxlvXCeTa6XluawaW5ImaScXvzV5WkyrbKqYYCBRv2En+xsk6iQhvR5KUr9S4+uLeParPFdM7jBysTzCcSQetylz1SD20I5StTn3Zf3/vVd4x3SXh2aHM1nWC+VMK03rojqYpSj0TibL4Ta9+B5vuSIanBYWSL7o8iWpRHiINUG3e6A3y2X8VatYY0WcWfsGH7g0XWV2nZHvXUqFkpynKYyWbngn22B3Bto4r3K01UYkmcKTA+UymSDdlYhmkUZz0WWK1DJ55baOjSvVHp6geVO/vijTo2mKbkxbhR6eED1j+NbgvzuRTeW6FuTaRdWdJTyo8gj8fTdRyuk0DpxzKqHjfmwx7rg892q/hiawfd7oi2bZZ5NYlJkl6R/DCXZC9sODrIp0Ndehy4cjL+Me7IYDCgXtOxQLG/CczeEq6CpgKO1AXLwMUSVK8YK2yqGe/R54P0Wm+oXGZ0uCOuIpHx1mu4Il5RBs59DJVFjgnjCp0SQAlKf0Z6O0XvzURZYBJkrlGb4K/eYL1dKb/kS4KFOxy7lU1WIlq/gRIz7Iqhxyo86tRR2qhHxyDvKTaiz61c1CcqNF9KfqkRp/kmeh3W7D2fFak4MKb8f1KIqGiYhK6h0Yniw7v7+L/u3sUeC/ebJA///NQSzjNiafVKyfBRZAhEh/SR4BYLrUWDYVT8Na1UiyZobo4qAw0RifjozVK9LcQGq8Wfh9DCpJrrlqTbWkDQMkkOWXjYuqSV++XtCn7LMG33hsiT0Pz3Z9jyX8qx1aoWrwyUnuMj9pzaGDJSzC+F085QBkwl+tFjpbfd6+D32138w7UdVPtNLE9l8BfnFvBeMYcSHxiJgDGhNZfmYcmqFLDJ8epqG8bpVwz7jNTvtmr4h1ubWO/38cPpHP7vFxZxhoY9OaCmyoJTMdwityq0gTF7WaBMD2CGRVt3aOlg9Sr1Xl+QuEPC/V+Zjh9vN9CPkHzQMP2Lc9N4d1ateT7He0M78iS25GmAGmXhr7OV/NFWA397+w5utGs4NzuFvzp9Bm+xYaiGiBVYRs4NS0bRYbmxF4VY2Gm7xcUOyo2G1dRDInIhGqCy0mJCqfxIlG6yARmKFqOM6k1buj+kkdCH20d0+15jYNMj3t8qk3TE8PaZJfwPZ4uYpR/WaODWiAC3B1BEdOK+k88qpDnq+9G6gDE0WaxkW5Q26hWWndTinEmeD2o93s20oZ6okdljumsUUpfD9Kc5sXSRvVAayfYrF+ST9bbZatK6w4q7vRS1QVvyi3tV/P7WHhvyPfz4zCz+9NQk5uPuDWst4NCnB6oDlLw6Y6pAdxTWLdqk397bwz/d2cI+WfnPaYf+/FQJy/EBw8PaTA/pC+PShRhJGp8ZUqOUc3qXVsu/qg9oMNDE+Rj+r619fLy2ycZABxen5vEvLy7ifJbkVB/tjnSYNuon1is2dOgBqL4hf8PffXIP/3l3D9VsET+bn8W/oq1dTvdo81nzjTLWK2SV6NedeO6gHFYfogh6XPWpMpvxE6lqUFfullv4bze28Lu9PrJUph+dnWADcBKnqWAp1fssywMNQRD6PS5JxB5G5BHqpUWPHIIV5ZVuB39/+x5urFF3ojn85Svn8O5CGlnqlniB9EQOGknUlgfiLZLHh/wdotNVb3jN9p0GPyVIkWSMZLRSrPAL3E4x4JqkvshILrA0zlPmmDqz9HmKz0wxckUWvjQrdK3KexAgpV4oIZQI5ovUfGQtkxwjNcnkmOGD8mMlFcMSS+80C5z8lh8l7ucZ2RSVWpPlzU2XTw7mLvGAf6pIFB4phAhAiZGbY07MMBOK9FOEQ70+Mg7KSyNrY88/KUTCNHSrCaparPECW5Ka7XB7b4et6Dr2SR5EGuRzOLQnpUpRY6eoEfMM9BzPTTA9NQQQ1yrfTANBwZMyyTDmNIae7GOSFqnE52yuhawMbxjSyok06dNOmkul1+3vtJq4Xa9hr9diRTLA4nwBK2zJa+FYS05VvCwEzhcJf5Xc1FiRLmvtyWCw1SHD22Ger27t4nO9Wt3oYjabwFsLBVzMJ5EjabPKSZaYbgXBPwa8yLyQ2Ly9KIkoz61V27i7WUajUcN8MYvLC5OY0QsivNUNFbs0FKxXTp483KOXAkoB6ZR6hjTnZafTxycbZVzddYskF9laeostzwulDDIkHKYyTPPvk3wJqqDVbaAPAJ8tpvHK/CRS1O21yi6u7+yjzBrNmXfXglXZ0ZqAGs6ZpA4vUDXn6c4U7VZ2oEq7R70QLXBaIpGeZ1nOSnGVG25ZTjRvVSRDJVdlR0VANkHPaRh8v91DmaImgtYqmtHH5HV7qG+20f3PKxRbV0Zll/NMJNmhaV7RW+YTvJqmzSLvChrfvJ/ppYa03uYtMA8mmaYzvGFaaUuHMrw3SXttL0kRoqnmB5+xBAugYiw9rfDe6+UKbpL0UCVxZrqAS2zMTTKfrFGoG/kv66THuesQ7KjXfILhvjSZx/mpKWZjHDc2dnF1rwr3XQS9EGNPEwwJlUcL8irOeuPf5g+zMo/04mh3gJs7FXyxuY1au4WVfBbvLU3gNFm6pnWo0laPylgoDuBeNnDxa/X62OhowWPNd2V9QJubYxhFNMwV3Rbc+zwijOtBnPmvHr040zZii9ElmNIiX2BDqodf7uzg4/Ie7x3i0tw03pqdxCL5cErdMNHeYXI+kCT2fU9KmK7KLnUOuRomYl8zuaF5nHtlW3j1tYVpXJpOWVob+bKnguSm7to2+D0pQrdPBjO6sjoyT1QtKruGyMRinbjhLy20KdHkVInOuZ4jjYe7gubcGhf3exhdBVnqy+pc/pjbIm9j7vIO653itfCcvW3CczbnQgxEzjjnbdc63cblYFckzImMgauoxVwV7mCfN8qouDC6UJ4EFjvGTcZsOhcncZjGxckp9BstfHlvEzdqbRoFfe9SC6dKkZgO9N8WwlVcmZSaa6L38ty38Rgutsi1Ro9siNLByI0MCeNAysI4KH0UehEvVsAs5BrC036b5zaadVxZ38BGbZ/ZPMDSdAZvLOexQC1N0k0Rb6t8rfaRHnDfIOPM9iEdUstYbcQuw9Hg/s2tKj65tYW9/YbNi7msdaQ0T4QZGA7jyE23oOej0lWxSJAw6GPpEeux+WxtG1vb25ghMX9vfoKt0Jy9YRrmtQpTSGQNTLOXCaqTQrFiwXNKCTUANG9Ji2HuMU2+2qvhq+0aGj1WjLzx1ZkcLs9kUWLGq3zYH9PR8v97hMLBIFtZnyDJuTwzgbfnFpChgb1+b8OGAXcZN61Kb2/56gnquPo0zI4EWzUgE7QRSg9XZlzZUfQUQze06MqNfetPiUex+SssZ2olq1TqZrWW96iL5VYPbG/Y9IyZTML8FCzMbuc5hmJBe8yyL7uvuGm0QesxJVW6ZDPdbW5rv4FNtT1dd28WO1HVqHlOssvuvvDP7TudVVuuy0yqMM/0jd9ra7tocHsqn8M7S9M4oxcdpBARvVmcpLuyqwyPijlPK5c0nGRzueivwj2fS1C/CzhHAt+o7uPz1XX7OP4+CZbWv5OttREDkS8ShLbsGh/XiA+bwGj2Yri+XccHt9ZQrtQxnc7Y4sSXJt10FVMVxkKvgGl2m0uPQ4QkQduG3ubUPDQ+lxXhT5LI8gFb3JYpa0sufc9l7iQ4yl4MSDY7LDQ9NtK1gLv1fLH8fMCG9MdsRDWTMZyfzeOdZU2ViRuhlQUXoVdaiOTb9CKXjAdQeh4SMfrDeqIdjWOfSXh1r4Frq9uI0J+zpSLeXCiyPhKHUd0eODQWVPkn/dT2pDjRHDAFwD3FXz0vhWDQxkWVnN10lAgHx/wxhWIRs7AoTPxVYga3uOuH95mYPzonCW78mvDnPhm7FjqpxLRzzl/bDzYmltaHmWFES1vbF/Sr9HB/Tww6E77aa/MdaNC1+GwmTp7f6mKr3kC1R+OUiCOZSpiBUm+WVvWyOWFyw35ceNwQroiUunKD/CD06/ZcGoZhVto7lXZ3WDiotOtsHXy1umWLwi7PTuHH5+ZwuZBgy3Vkw8dBLtivuSV/+K9hmu1mD9dYeNYapHLpNA1WBDd3W/jj3U1cqzYQjWfx+vws3l0p4hQrzqy5x+qQ4bWQRFhVWrjly1Fw4dUMjH2WxNvtAf7AAnVjc8veNHpzcQbvLU5hhoU3RWfCsGooVgTTXJZhVpKxsnUK8HJAUVZswxhLrzXgLF1pDfu4VWvid3fLuFsVXYnjlak8fnZqAhdIvNNMsEGUzQXr/Qoc+B5h+ccWhvvqRtSWAJhOZdBr9LFTr2O332Oes8HA8qSvT6iho3Lj5oOGkCOOiOvtWFVyGgIJ5x4d3ictd/p4UHa0tV1pI4kEn2uyIvlqp4kruzW103FmOo83SWAnqXuhHgqu1By6btDhA6eeXQQxsLR01iMwmkEdEAgjrat2GP65h4J7gvInEbh1f9zlbcoz5bEaTiLSIl+3SLo+urWBNRLsmVwJP1yexTuzaZQi+i6nyrhbN0vWRN8mNaPN55WnEssHEjA5zTrZ9EYT+MuNGtbN3pKYxzLIJKk3NLaq7DVsud8e4dPtCja7fUSTSZuj9NXGPn5Fu3aj2UUhncUbi3N4d2HCljBRKOidxUbU07Y6cQT0YsdWuYr3dwfYp+YsluJ4Z6qIpWTK0q9jtjFwRU4c7cwzj/H4d/pD3Nlv4xrTtBUj/SHB0uK8H6/t4QuS61ovisXJEn5yegpvTqSsh1UNJldOXeePrVsnx45JE6vfKKortlk5fcpy+cc7W6jU2tbz+cOVeVyYyNjokBr+Qqi/5hx10DovrONC55wNeDyoPNBmjs0BO+EkfFfAwthasTN3FDAX0fsK3wOia2EhkMHX1u5nweINQfmVIQsLtPNjXHTfuJtHiVqvh/6EokfV8nLNIblm1sHcDH+JMIpEGB/rieZWN7kktav262J+8PQ3hs0FYQtAHLtLxdJUB33HrBhjqzmexi4Nxd36PvZZMeqebJyEhVZDMwkULNkWSz/3z7CytcS07fFqyNl12ciaIqJJiNoP/hyJc3/hEiDqMLSWySCGidIk3jg1a4vYzo46SGsIhw7KL/tlumhfkF+t4QhfUMl/ff0Wru1X0aAhW28M7LMkX1XrqLO1qkX0fr48yRZrFDmSLVWNNrlVblketeiuK2DHQd/kk0H8skxit7mHK9s7iLOifX15Hj8kAVvR0KMSiGJGnGEOh6EUXvWS2rBkWAG8ZHAxJv2iQVOaSDZqZXx4b4dGqocGW/sL+QL+5PQ03p7Qq/Bd3qNPVqnnQxXBMwDmn8pEj+VGuqflSyYZsmwigzIz/2anhp1qzd4YTtHA5ylaCkL6rQSQndCW/3SK5YVlR+VGQ4e6JbgclBFnfsO/gyPTIf3TE+5rEeQvt+u4vt8EWIFfmCng8mQaSRrgVrtljRt9ZUMwO2x7AXRw34lnFwcciillqcUD2VnpiMqZ+3qE0pgb29XdrkFo9/G6Ww7G1QMSZ0uUpvao9VxJdE1fPtki8flyp4LP7m3j3l4dpYlpvHtmHu9MZzAdHUDzXrWeXpf2UbZPIwrRoRZYZXpbpe30PKxQNVdVk7M1p7FEEjbIpLETiWO13EGjrmfZ0E3QVlCGtIVXd+r4+xt3cKPeps4lqFttvH9nDZ802+hPTOGt2Rm8Mx/01DAEWh7BdIz+2/pqipVs0hHodru4t72Hj/aHJCMdnJlJ462JEib57H6jgzrvSdKmaaTHnOD2eYbKwW69id+v7+G3d9exQ3tcZfn8cqNsvVPt1giz+Wn84PQM3ppOYo6RtjmF1AXlr+YeqgwezONWojyQJpomIfumqS87TMNPqTu/XNvAVkcLuc7jx0uzeJXkK09HYrRvrpNFDjnH5JwTki812HVk1x8XdI/yLRGwMYQhJWSPDo6PEF030qX/QARt3K4SQQeHZ45EePkoOQLu0gGFC3B/rjkCOA4+cV843H54Jswmd+YJYXnk/CE3smjrQ636zuSE3uTKp8wA7Vcb2N7aQaNSZ8GO2Nf3taq8vXFopEVhOTRwQhhGmfvQqAU3HiYzJUwF2/K8hhYybHlNTxTtsyxL2YS97aUWnVuokGJ+hBIoJ5W0SmX/dLeBK2zNrbPA3Gy0bR7bTqtFghTHebY4fn5qEpfzMeTooYaBFEJVpOYaA+CGp3XlsJpXgZWfKlB6+UIf7f6ApO7j26ssyHXMTZfw9pkFvDk3YW+BpkZdlhW6yGfkrramm/RJhMxcVhyCe14KKM8pMjSaHcVUdTrPWlLzXn59bwsfblTQ6KcxkU7jvRVWcPNpzMRIuoc0UDR8IsoaSDnMmSeBAiGPVQnKvEl05GBhssDqjJlFg9Ox4EDP69/yUNfUOtZ8VDZecgnk2GAAK6ymPl22tYvyXlmtCuRYySbYiHHlRm5L86T5QYOQe3JLZ6zcBBL6Gx6b8Meu8UfuaP7KbiuCa7t13KO/0XQKS7NFTOXiuLW+iy/urKPVH6BQyDNo8tWVW8FKkDnqjp8bKLOCRFAcwjwUgqwxObzN3ScJn7HTD4iDy4+afT94F79nWb+yto5ub4DT87N4h+TrstagpK3U8JEeHJEYqXEvN2xIyc7TlhjZ466ErqrYhxko66M17fL5DLKlAp9JoFEuY2dnC+VmDYN0khwqiS/1Ka5GA2vUvTskD7fK+9imXUsXS7i4OIc/XyjiDPM6R4YvN7XmmGmRCJh2LSEoY5A9E0TAbm9s4RMyrV4yaov5zk0UsLvfwsc3b2OPJG9qsoAU48GgPujMcwHFNRTZ8w02yH+718J1chMtCXG7XMfG3j4ToI+FQg5vLZOAzWcwlxjaHErVeyFhV95ZDaHkk50wW0Eok7krvdJcwb12B1c3tvHhjXv4ittRPIlLS4v4ORuWFwtJm88ZierrDOqtVIk/0FhTDweXR05fdO1xoeeeKgHTMwpEsHlAxi4dKwq+onl/VN2PGVhziGe5tfOEtgfCH5MHzz8goduHIvf09+CZw2fuOwjEbY760/NOTgw6oXyVUZBS2bwzltg0C9scK5HFbA6xVI75F0Flv2zd1SWSIy0tYa05MzQMkykHK0e6o/SVWxLFQT9hHpm4Ww/k4FpASNTLlU1EUWBFoV4DVbrmvoyZ+XOYfiG0cOdeo4cr6/u2FleNxlAf8NaK2UU2M9+aKeLP5idwmYROim9BMDfZmgnC4Fy0oqWrFAcV2LBFo48lf7axiS8qVatMX5ufxk9J7C4Xsphi5G0+T1zhVd8ajR8dltvyT+TrIOTm4aEfLzqsEiTvUm+wPiWjqfdRsv4u5YtKD3+zXsYGCcQ00//yTB4/XMljMa23f9WfwHQjUbO3ip9KuslgigRpPo1CoiP5wrwze6frFKu55BevOQatG92PBYPh4tZVSjTufFjkZppyKs3WbaaA/iDChksN1WqF5aaEjFbX1jPmI/WKehK6E5YZidNPJ0EQjhQ3h478jvq+3xnh7l4Dm2wU9FmRJlmpl9tDfHRzE+vVDtL5PGZUkbLm0HILLsaqWOiQ+38+EMT9cMdKlJXacft+cJU/QRStDB7K1+893HEkeavZxMd3VrHJxlxpYgKvLs3h3aVpvEKiPcEHpY8aFte6ebInYQ+ts4nMSV470BOd1/0mukOhIPgjezvFRu0i3c1T0btsxO3ZV0JSvCuJVTaAV+sNlOlQmWFr87FZ6tiP5mbxZ3MlvEqjpkals2WKkdx2fpsnoYwhJGCy6bc3N/F5i7oUSyOSyqMyiuPTNerN3g6KmQSWpyZok92C4g8481whJGH3dvfx8V4bu4MkWmy490is00y8UxNZvKue98U85pIaEXK9XUxI/R+UUyvzFNeTGTQm1cVJyK5oIV3l18f31rBLt+enZvDjpSX8eLqI02ykZ0wZnI6pXnMTFFx+yd2DRDZPmZ/3nXwcKED3E7ATLUPh8d0gLJTKI+1p0Th9vqnRGaDKFoLeHl2aniCpSVIRNYFVlZWURBr13edrGF79rrPF9psbG7i930Q9nkA3FkMum8R5kq/XWakvp2MosATJiDwJRMQ6bCHdJPnaGWotpyxmM0l7Y5UNJUsL61OxQqVCozTxMDBJNPVFKjKk0VKvTZutcw2X/Zfra/i03kGcJOvNYhHvnZvBq5MpFHlfJkKKNFTuMi21qvSBMXpCSF9sDo6Mn03HtrC46pBbhZFb88O80U8gCsaDsHvkrLsY2jYRu32eq3aHqO/X0Ws0sDQzgal81uYKhm/cnbTcuFcYRMP00W7gn65t4Td311BlRFKsMPO8J06dPT3LSuXsAs6W0jzXZxgUZzWh3DR/BVvVtofDiHZOb8BpDcLbOxUM01lMTuRJjqLIM+3SNnlfiXbCMk5/aFisd0WiRXw1lUJvsmqdMBHkZG+Em6sbuFproJHJoE/bNhksKH5pIoXZRAQFBeUbqlGos+12G5/fvof/350q9hkcfbYqyWhlqcXnSNh/cGoB5xj3HBsWIh9Prq3PBtTjd+XOGn651sCW3oCkTdG3GBeKWby+NIlzhSTJtabEsGSYvQkePAJaEEWlUA1Ee+ueDTWNJjWpI9sk0Gu1OqL6QDvzS2/FqzxqlEnlTYvoah1OOa9XJVgK5eRTwteXofAE7DmCCqfEKikpjM5ZvcXWM89ZS04nwspKpf97yNfQiMjvBlsam7UOah1WSGqRsvBkknGUMhEaTr1erWpKrZdvZjTDIUjbp39tGsieiBzP2eJ9A1ZmB1FneBQmNZFUeD0M4lDqqbF5ExR9kuMmicE/0PBr4muXLdFTmTT+7Mw0Li+UUOKNWRo3G96x3ifLOebzww3iIyF1Uf7Q8GkoMPwTFZHDPMXr8uN+HTnsACNh0+Pcl0o8GJSw3Og+t1KYc3M0oO7xgRh1wjVtJMQJy41eY9BEM72tJkL75XYDf2Blvdlu2PmpJBsgc7M4OzeJmYze5NKyn1roQP6KfLm+OIXAa+shRpq8RxlSF/pau4sKoG8rSv3sTemRKl4dP2lzLoDWlaD9oAfUMTpOP8L5ogffYOyTCOqzNWwEDxNJFoUY7VoUk2xQhsuSfFNiFOqpIPu2U2vir29sYovbAUlhin6cXWBDaHEaKzn3pRJbBklh/EY+PTs4KJuUarODjeYADc1LVgNa5CgVs0+B5ZksesPfDBXJ6HHR1R1a8EWlXeUpquHeoXqUeZ6i5Yk69Et1h1Y40lBmkhkbljP1mGv5JTkvq+BK4dOCJ2DPJcJCqTxy+5SQaJmCBKLrVFKddesyced7QFigRLZkEqXwQxYCG66iSNmjGleKqrWh5Rs1MChz9fgI00TQnr7RKdNoJJTHbnhqXCx5wl0PQv00mmqa6rMyY0ZtslL5xe4u/nF9jcQ5itlhCn+yNIOfrOiTWBrq6BlhdmRFZEh5xtx8CoomF91addJr0UKK9Jnua0BdIr+kNvJNk2AdYbP+Td7tjKhCFYbmqHJjRk++KczcqBK3FrU7a8+ePDoiYBSm6zCSQIVlcrXdwX5PU/q1Tpa+xZpGQUOSDL2+O+f6vBQO0luSME/Avg71LErcN4KZ06pRTS1Y8qO8RlGf6Te1JQ9CxNxaJ6Ei0A9bqsJaAtIZp6VD6o59ize4TxvbtSF66aKrwr8JQp3VtsNw3Gl12Xhls4HH8RgJXi6DyZQm9Y+oN+rxI/Tq5jf051lCGGc1pJVy+mC6rLnjvsxRJra9JKU80b1JEuxjoiuX3ELmjoCpB191gcqTkTBe1xCjWRS6ZfWRxiflIP3SSxIi2jqjtNX26cETsBcEqjrVGnRky7rKnUo5ReO5sHr8vnLVChV1Sm0RfThcb46lqOhuOIlQV29sQBuqUOtzH09uNF0BdsZZhUxp4GKuVDATZUfac0ceggxdh6mWGETRomX6cKeJv127h6utKnKxBP5kahF/vjyFcyVNQ3Y0Rxp2mJokCtQ9HZ0U5qryUb0c0m2e0eTpDv2o90do90RUoiiwNax5IeqFcy9nqDLUGkzULQbk4UZT5UVNgvA5V17CHieFQc+ffE6NDC1DJEs+ilvPbJOqqKkDcl/DHVqfSqs5Wc+NfJbn5qsmjeuMJ2APQtWqKlcNDCVIwOwtbiUd07BPw9LnVl8KPIktERwBEJgDRrok0jCnJTpy12m5GAb7hJ3CwTOuB0X2WTlpM2XtzieBwqGFkFUaFBYFJbTrpvEqK6q3Na/tBP48KzBCwjzUVgRKtlwwC8ODML8jGmI+JrpKd62mr+eVVtIV1T3hAy7flI9ad4536wErZRTVo0zP75KAyQ+P5wzODEhR3Pon6kPSvBlVLaE4Rfv+YKReW4bU1JvWI2LNDQq3Kku2LpkVk5OpuTUeTBwJFU1QX0M4mdtV5x4PQqmuhSk1OfV6s4sPtveww22aFuhMKol3lopYLrpX3c2QBSbNqgANByrNvw3ILpKs90cx7HVH+GSjgn/88i5+f/Uutho9VsLSHd3EnGX4RepD1XpUiFRuQh2RqNxIP55muZHGq/0dNoH0NmaGovXtTLhvvcG8ZpXKfemqcuP6wr6l1H2uoR4u5Z++zqFOMH2GaBBjnpouKg1PlmrMFquE5Z4qYumGdEJ+jutNYNV4H69R8US87BNU1Mvw2kkhm5mir+rtylLPMzynBW5dLOnxyaL6zEF2XOlvUVN9YSnvGtZKZ1uqJKZGn246GroUliZXhuiiGmqyF9wedFO4jLvvTgM3Y0ffOk6uJR7fPaw1oA+xSmLWCrPuVhPXgpdaPQtQ6zBJSaiiUclRN4WMJcmSxucTjIPCf2KwMOnzIRIZaVVhMlKqmFUBap6TyqHHIWRkNF9uq93B73a28Xm9ik5/hHOpAn6+sICLxSSyrFTccK4jyyIWbmtmzNx5arAWqYTZSZ3Qtxl320Nc2Wrgw7UKrm6XUR2ObORJwxWBfbatXuK0/OXp46FyEzvQE/vsiYTnn2a5CfsKLYUZHtl+uSv31fulIRWdO0xPLechCdNUkdCeth4hlF8piuyJyndImpXOyscUbcBJbYnTdJdf0onQmmg4UQ0QaYvsboLML242x+WZrXVGEaFWGBKq3E+YfS4sbF6P1MRmiaN7EjlrOqb5gqYzLwpUXpjyZsPVl6l0VxrIkru/x4F6vOyj6UyYw9KkXkkVvNBIhDnMLdPwoF4i9BvKt42TaavH9wJViBresO+RUWzBVIre+jNR1yblWSiZKgT6DqTCaa2OQLX1Z+HWNavgTwZLE31zUm5yX8TCfUmfxUwfah0EQz0vGRRjJ4d/+g+l1erj+vYuruzvokwDlU2ncXlmFm/OlDChRXFH6m/SrWqPhhWN4z6H7h44d2JxP64KVO9UpTciQRyhxrZ/J5HAMKFKh5cZDvVU8Jaxhx8B3mMLYD5QbkTOk1ZuSImeUrk5CFKwY+WAu4qZaTt1U+npyJoT7Ydw8+E8xiHSGmUZV97ZAtE6R1HaKh9jwbWTQt8Ldp/Nk7uB2w+IhYNiNo15qZDIBoXXzD6P5eeTQ3pAeUAfVA5Fyw6I/osARtHsOAlshARWjSXXYCL15XnN1VJv96Nia27wXm0dDtPOzS4TXJ6FdsSJXeBZVzK/C3gC9jxCiqKcC+VAccJTVFRKcPr7hwISyjjCAD8NBG6pTlavV9i+Meft2oOev/iQoZHI5AQd+bZv8ytoX8i98IfGEO/vtFBvjFDiuVcmi7i0mLe3VCPDDh3QvDoNrXA3SMLQXSeO1p5EZOrUk2Hf2Av0QY1S+dnu99EcdNHRCxtxVnBxabasMOOg1n80xkYzb7TJhZJHQHGQHxLtU4JNcPrk5UbPS//MwaCRLYReBh7ZvvQ1ODzw17a64PF1MFmUMpL7yrgwnognwRFuhH6a6CfItPH8kxzcZAcnhRwKe2m0T3CjPcX9sJ//BYEichAZ7SgRg/iLVOns40ZWN45n1IEEGhNm3JHu6eSRF546FASP5w2hfhwn4Y7tf89QGELdD4J1pJwU435wa2UvFJGvsS7mlwUhwXFwe0NyFC1honWN7jV6+M12DXcqbWTYYr+QStl3CvWBda2L5VqgNHy835LxAdG5p5WiLqyhRyJXI5KvISqtFrojfcOR4aEdjpNsOb8dAdM8SCNtFkgRMLl0DMIAHyfhju0/OSx95IzcCRJLhNKc1U8guj52eCAPHnkEUHI45nFfCh2ks65pe1JYxki0f4wE4dB+eOt91xQOO3kSBI5J8U2J3KnQvzAILxwsnoqk4jwu7vIjEeZfkAmOpo5JmICBPHB43963DYXQ43nEuMYcJ88CHham484/KR7lx4PXXmCIhoR9Qm5oJIpY0MXUYUKsdXv4eHsH93bKGHW7mEtF8c5iCa9NpjBFMhO3IdskHUgYt9GwzLcpWmBRM6KURRoO0PBjtdfHVq2B1mhkk2/jsbhVOPdlZ5inD26PQ/jgw+QpwJx5wM2D3WAnPB4Xj4fggcQKdw1j558Kxt17lIzvPnD+5Agce8DNBw5fHIQRs8iNHYztPhL33Tt+MCbh7vcMT8A8PF5QWH9Q0DEUEfkaupkN+yQ8n5Yr+GhnB81OD/lEEudmSnh1No+ZxBCpUY/3j/ismyCu7n9jdN+SGMHjjtqqpGMMZhQt7m832/YJH33iRUONicjXCdgzYEM9PDw8ngiegHl4vKAIOY6RFO5oX71J1ysNfLi1g9vtHhBLYWl+DhdX5jGTTbmhRz4wjMXR5U5Pq4BHv33pkVppza9WJIYatxsM27WdCvZaXV4jNSMBS8Xj9iahZnGItAmegHl4eDyv8Auxeni8gBA/0Tpo6vLSm1w60aHcanfxizub+MPuLmqRJOYiefzg7BzemkthGl1kBnq3KsZnRcDYPqNZUCvt27QOCqtEX3/RZ0D2ml1c3yzjy81dbPWBRjxlH0b+k8ks/sfXFjEXGyGplwNGMQyDLz5EtSaYXLH5Mt6WeXh4PGv4+kKsnoB5eLygGJKPaNK9oLWz1Kv0/uoefre2hdVhBINkFnOjBJYncpjKRBDvNZAgkYmqV4oEbHiwwjZFDOlbhHzR2l4dBni31sBWvY4Ww9iLJdCLug+2/3y2iL+8NIuZqOaMaV0fT8A8PDyeF3gC5uHx0mA0GLm3HuMR7PYH+HxrH7+9uYbV9giNRAH9URQTgy7Jy9CWfNC4nt4ojES0upAm4bteJreE6Lc7W0EvCmi+Wl/hJZGylc0jJFckWMPBABOxCP50cQp/cXECkwxnfMi7SBA9AfPw8Hg+4AmYh8dLAxEwLTlRJ3n5fK+B399Zx1c7NTQjGQxiORqACDLDlt2jXqZBlIRG/IWGwj5wNeqSGGnh0xTPfbv2QQsn6kPqbsFXHsse0UDRdwZngLlkFH++VMDPz02jyHNabFgv4Y9IwBQ0kUW3IpknYB4eHs8ivk7Avt1mrYeHx/cG9WZ1KRudIT7dquOrch+VSAHtSJqchq2vYR/taBK9eJL3Jshbooja51XiwDCF4ShHqpOhQ3oTkmQnEPe5kMPjh5171HF4zr69p54vin6HNsToCGSf14ZRkq54g8RsZJP2hySMEW5lwDQh3xE3O7K4e3h4eDzr8D1gHh4vKAZsYdVJTj7bquHvrtzGrWof/VTOrsWHQ1t7axAnCQpIi/qPxq2AjoXw3HHHwnHnHnUsuHMkhGJShH7dvW5piiHDOk8e+Jfncnh35TTSkRhIGe2LB7qu+7VShuBblB4eHs8m/BCkh8dLg+FwZCvef0UC9uHqJrbbI/CfJEXkpU8ZYRDT/K7vG2JSRqPcYQCFXxgxnDPZOH52YQrnpmaRoK1SqEMCZvcE5stbMQ8Pj2cTnoB5eLw00AT8HslLrTfCTruPJo9tkr0RMC15OiJx4e8zUfTvJ1/CAQHjNpuMYCodQz6esPAnNFzKa+JtCr4nYB4eHs82PAHz8HhpwPINTVUfkqloqw9eh6XczZZyg3zPBr5OwOxMcFqhlI0y0shzmrBv5yjR8Uefleh4eHh43AdPwDw8XhqMExjbSoJ5Vo6ocN8On4Gy/6gPaSuMbo0MWzIjvFMhFwGzaIXReAai4+Hh4XE/vk7A1BD28PB4ASFOYn1cI8qQra1Q1IVkV9WLdNiT9P1JEEZtjxNdD4hWyCHDWBzgvgMPDw+PZxuegHl4vKAQ+XI9S1qkVMJ9I1+6FrUzIR6gOzwxJjp+qjKOw/NuVtqhOPMUyEF4Dl3wfMvDw+N5hidgHh4vJESj9BnrHhkLiVeUBCdGYhPTgqskX9aNRAo2bJCW9dDicZXMpkkRZTuYNBYsMH8S6HENG5pEhyajKB2PSAJiGOkyTB10GY5uhGHUc1rdfqiVwRhurXAfMi9ChutwAQ0PDw+P5w9+DpiHxwsJ0Z42RQQmQYlzTz1LIZ8aIDrqo9eu48ZuG9cqPfTiKZyeKuLSZAalUdRxI5mF8JOQTwj51w+aem7Fen3qSFvCFn3VTht9nuhGMiRqcVvpXh/c1tM6VthFuMIWo3XMBQiHJA0nCKeHh4fHtwc/B8zD4yWCmJOtmEWSEkGUREdrZ8VHomMiNjGsDgv4zVYP/+3WHn57ZwfXqw3UhkP0YkMMY/1wsa0Ti5yRyODolNtT+LhV79YwhdggjUg/hk5niGZ3hC5JoFbId71iWjKDtwcytvvAgYeHh8fzAU/APDxeSOjTPOo50meEWMyHETeBXaN9w5FtRzy/2Y5gqx1HJ55DNJ1HKpshU9IQ5QDDKFtslPu7mL45jBvJ74OJ9ApLjBRQX5y0r06SbCVQ6cRwa6eDP14v45M7e9hsdtHm0/o498lC4OHh4fHswRMwD48XFJoFZp3cIjw8duSHEvyp8JdIb5aTQ1wspHF5Ko8z+TTy+saipiTo49xaqNXcenLRT9hBpY9uR0j8HPmK2iBpeTDCtXobv1rbw9/c2MDf31nHBzu7WO900OF1DT1qEFXPe3h4eLwo8HPAPDxeUGgOvciPjSLaPCt3rN0B2deAB4NeF1u1LmrDGJKpBOZycRT4gEiPJr9rBlnwXuSBjdCngb4JRPqiJHLmOZ+lwWHYImjweKfZx63tKq7u7+JGrYmdfhzdYRRnJ1L4Z+fn8N5kFkWGIqYhVJuI7+2Uh4fH8wi/EKuHx0sDI2CEI2Aac3S9WT1yobYV9xGS/Q4GkQQ6pFwxnsuRLcWHmvyu+VcU3hvl+RNbB4VB1I9EasD9cruP2+UGrm2XKTvYHjRRS6fQSBTRj6RwOhvHX56bw09KSUyOBojpFcpY3BMwDw+P5xSegHl4vDTQ3CkxH333UfOvNOerSwK01ezhbrmJSreHfnSA3iiOVDKNc1NZEp8IsiQ8URqHUSROcqaV5+UOXVLPF/+jMfVmfRO4Vb3MwigMgwGubuziV1duYq3VQ25+AXOlNBqdPq7sdVAfJbA4kcJfnJ3GjyZEwPokYHxWHw73dsrDw+O5hCdgHh4vCUYs7hpAdORHxImlHO1BBHf2Gvj07hZuVVu4MdKwXhKLhRx+dm4Gb03GMRXpIab1w0iE2sMo6t0uBiRAQxIwfR87ckDAHDFzluM4+zFCnLallEkiZjYmgh4dW6808dHdTVRjcSycWsCZVAJ72y384vom7raHmJ3M4M8uzuDdqQRKjElCXpEQegLm4eHxfMITMA+PlwSiXprl5eZbqXTbvK5RHzUN/+018f5GFf+53EeK5OoHE3n880tzOFeKIxtx7ybaW5LNIT5ZL9sz5EUYROO2oKvcj7hXKREdyfX7SZmgs4PhEDOZOH66MoVCMmFhEIvTMGSlo4VXo0inE8jRjZubDfztjW18WW1jcbqI/+7CDH4wnUAhMuBziomWrfB2ysPD43mEJ2AeHi8JyHBG6gOLoBcRfdH6XyIyXTu3047g16v7+H+v1pHr9vDz6QL+8tV5zOfjiJHw2PR7EqVr1Q7+85e3sVFpkCzF0YtqGFBkS65oMVW5rGPaj4B7aahSojcpB8MBzuZS+HdvnsNyMUv/SaN0H2VoBJHgo5FhFF9s1fE3t3fwxX4Lp6Yn8c/OkYDNxJEj0ZM/MaNv3k55eHg8j/g6AQubrR4eHi8gtObWIUh3NIxIEtMZjGzOVYQEKRWPIJ9KIBmP0iCop8kxKbXJUskYpidymJ3IY2m6hOXJApZKOZKpPFYop4o5LIXC8ya8X/eZTBQwT0nEre+LpM6CYDRKb0ZGo1Fr/N1Hq8YO7jvv4eHh8QLB94B5eLyQUBeTW0SiR5IjSpUYaTCyh/Yohpv7ffzi6gb+sd7FciqF/9vKDH6ynEchLmLkPgGkufedYQT7/SHafS0f4Vamj41E1LQ0hFyHfULIUbZD0KjwWoRBGCJNYpdPRJHkuTgJmFp9Rse4I36oliAbh/h8q+F6wCotnJpyPWDvzmhI1PeAeXh4PO/wPWAeHi8JRFQkIkuO8GgZCPU+9UmgKp0Baj0NSQ5RTMUxmU8hGQ1nWbmJ+1HemxkMsURnzvGe88kELsbjOEdCdSYWx0osgZVogvsJnE2MSTyBc7x+NhbjNoEFbhNay4LuqZ2nXQ8PD4+XHZ6AeXi8sFAXkyNSUTEvQj1OPe6WWx3sd3qIDgfIpWIoZkiSeC0kX8aRIlH0SbaqkS72hi3sjrrYYStuJzLELrdl9LCnaxFu0TfZpeyMeryvh90Iz0V7qPDe/lBzwuSoBSnwIIQO7jvh4eHh8cLDD0F6eLyocCOJ9ilIjSdG0OWpAba6cfzi+i5+fWcX9Vgff3J6CX95dhYrCX3yZ8h7JcBwEMVW///f3t1+t3HddwL/ziMAEnzSA/VgS5ZtyXFqN23cpm6S3eS0aXdf7Iues3/j7tt9s5tt97QnSduc3TpnkzjHjmNbsmRREklRfBAJEMA87/d3ByApWpZIS8aawvdDXWJmMBgAY3Pmi3vvXOT4/fYmtpMUpd+or4JkRLMmSL8q3PhiNmCrq9oaGo2Ubze2+FQY4O25WczHkeuAv9eQyF91EyQXuibIYSd8NUGKyAtHV0GKTI5hAHOZxYWqDBlD09JuiZ9d38Dv1nZRNUr84MpL+PHLCzjvW8hhqLIqMx4P8gz4tJPhH27ew+pOD3kQI2MAg/Upc4GuDmAWx/Y7+9sVkPWU9f/yfA+XWgH+8xsXcKHdYsCzPmS2eft1MIB5DGAdBrCNAwHsNL57OqoDGNd/XAAbPpXz6D0iIt8k6gMmMjlcwLHO88NaLaadvAiw0y/xMCuQ8q//bCvEKRaf2SZhnEkZmmyMLjeUhKvlKhHnQCPjbZojHiRopimaSYpGkrMULBliztclQyPdL02uE/JxlrfqsMTXAfuSJHs9FuAYruwOLvItMCJDFaR8vQnCskLEZYHdZyPAjl6Xe2326ux3vV0rtmURkZNCNWAiL6g6mNhvC0B2VaOP3dzHb1a7+Mc7G7jT6+GdhRDfe/MKTjVCdDe3EWYpLpyaw3wrdv3GtpjG7uwm6DFceZ7vBlb1j9mLvsX1L8/O1FdCulBng7zyddlLC0Ju00c58PDB2g7++8oSPkl2cXl6AX/36qv4s7kIkW3EauUCa4i0B/HAxeOVTdXXYdZsaq//mojIN4qaIEUmhoWc0mq+XOhhMKkCdBLgvaV1/PzeA6yWFb51ZgF/8sY5ZDt93Ll+E3MB8M6br+PSQhsxDwk5H2ed9i3VWLgZTh5byAfZcLB21aXVelntFSMdX6N96ZGHbgr8n+Ud/NPaClbKHOeDKfzk4kt493yMKT7YBtKYYrGrNHmwctv0+ThXezZkS909X+UFioh8rRTARCaHNdUxgNmPqxkqA/QYwN6/t4F/XlrG50mO5swpzLenUHZ20Eh28ebFs3jntXM42wwRM9z4zG8He17xmFEnsWOyCwHsEDNqOhww/N3e2MTadg/dwsN60cBHnQE+42tIgwgLZYxrcROvzMXwWwVmm8AfT4U4155hmPPda7KvQHLv60AI209hIiLfJApgIpPDBmK1ADZMKH7po7Av494e4H/fXsbvN7awG04zyJQ43Yzx5oXTePPcHC4y6EwzJEU2dAQD1/6hwbZz/OOEe3ZrtuS/ksV6gNkYZL+9eRuf3r2PbU53gyZ2ogZ27XsmGRRncx/tQYbYz5FGKU7PR/jxy2fw+uJ5NPzQBa/6ikrb6PBJ7KW5RMYiIvKNogAmMjksgFn9l2UazoZuwkMnr3Bzu4vPOx0Gnrqv15mpBl5ZaONMw8c05+PSvqaoTl+VG0n/qx8feHThb0tGdU2YBbA+w93NjYdYftjltIci8Pg6A64cIGBIbLFEhX2XZYY0LNBs+bg6N43F9iwirmdNqtYcqQAmIieDApjIhGAiKawGrELh2xj4FsC8uhaM07u8v8sDQDZszosZXJpc1vRKRHZgYABzX+bthygDGx3sqx8fLCT5TF5WEVc3iQIpy4ATfS6zQGavwUYYC6p6mAorxmrvrNbM3oeN1B8wDFrGsvvtdq8fmBV7iaMiIvKNogAmMiGYSAr+wbsA5tt1kC6A2XcxmsK3TvAV/+6DupmRywKua+NtuZovl2gs/DCwWc3UM6Qat223OatH47Zd3zSruLKRxIbfL8nnct8tOQxTJR9Q2DHJBTILWfY+7C7bBgPd8Hh18FXZ9MF5EZFvDgUwkQnxuADGIFRYgLFcwxkGGq+K7Lhga9s3D7kEY82ENj/yrEcGt23bSGnhzp6MxW5ty54N7GpNj8NnsXDG50/4utNh7VzT1dwxDDI01qvZ40bDUOyzu4ZvQUTkG+aLAcyOVyLyInKJyprsfISMJT7nPevkzn82Qr370GVpxfKPdaiqV69DDZdbLZXd/TyKYxPWGT/gE4YMflbs9YzCl926Ufbr1xrzATZyvnuZ/BVwmXsPnHabGhabHhURkZNCNWAiL6qqrh+yQDPimvic0cShv3vOHq5Veq6Gr+lRjz6LBb+D3Kw97DEv5vDWnvvrFRF5LlQDJjI5LHgNa4tGZX+Gv1w5uIzlwORw9vnae96DxZbvl0Oztb2JRz12XRGRE0ABTERERGTMFMBERERExkwBTERERGTMFMBERERExkwBTERERGTMFMBERERExkwBTERERGTMFMBERERExkwBTERERGTMFMBERERExkwBTERERGTMFMBERERExkwBTERERGTMFMBETqiKP/Z7dLNnNH9wmYiIHMHw4FmNyoFF7ma04Nl5RVFUnufBioicDPbnX/An4AHCq/g5yg4OQX2fV/JvmaXyudCKiIgckR0z7bjKm4LHUju+2hIuKO0YW+XwXWaymePUYRXMcyWSdICk13HTCmAiJ1CBEjl/R6VlLJ9zPhIeC1IGsggeIh44fDuQ6M9aRORYcq/k0ZPH0sJnSOKHWWatLLTl4IfeHCHDU+iHwxB2VApgIi+E0v1U8BnA7FPYTg7c3u1j17e/Zd8FMKsdcyFMRESOZK/iyz7IuuOrhzSokNoShq8FZqULU03MRgF4uD0GBTCRF0LlAhjxSJHxAHGnl+O//foDrAcR8qDJA0XIdfgH7xVufREROZqwtA+xAY+snqv1ykIeb70McbKL78zP44evvIzL8zFCBTCRyWPV4yX/gCseKAY8SHzayfBf3nsf98MGknDaBbAozxFVBe8VEZGjcG0GVcBbfohlLrLaryQoUJY9zCR9vLtwGn9z9RKunYoQKYCJTB4LYEVZcmIYwLZT/Nf3fou1MEYaTQNlxE9xOQ8hqgETETkOrwz4IdZCmAUwIA0tgPXRTnp499QZ/OTaJbx+KkY0XP9oFMBEXgiuD5hdAVn6yHmQWOqm+B/vf4hNP0QZtIYHj9xdCaleYCIiRxeWdiGTD7/yXH+wLODR1EsRZ3380ewc/sKaIBeaaoIUmUQ2BEVWWhMjP6l5AXp5hdUkRZ9/xoEXInIHkIOd8Ee3o7/zw/PGlh2eN097jPmydUbz5mnrHOcxxpYdnjfHfcyTtmGets5o3tiyw/PmeTzG2LLD8+Zp6zzpMUfdxogtPzxvnrbdr/IYc9R1vq7HmC/bzrgeY2zZ4XnzdTzGfNk6o3nztHW+7DGP24ax5YfnzZdt1zzuMU/ahnnyOhk/uFrfr5gfcG04itS3ZSXvrjDL5afiEK2QAe2RbTyNApjIC8GGocgqC2AeAh4kKs9HzoNEzgNJaMus5dH+pI8zTI2IiKD0rHtHxeMoD6CFjanooQg4GVirQ2a9w9wHXWgYCpHJY5/XrBnSxll1AwYybTF31faWcfI4xwcRkYlnB08Wq/CyS81tIFbmIzfetR1whxc22XA/GohVZEJZ7y73VztKXgcC2B79WYuIHMPo02t9c/AgWh9qh8fdYx9cvxjAjhPfROQbhB+b3O/RzZ7R/MFlIiJyBMODp1VKuXJgkbsZLXh2CmAiIiIiY6YAJiIiIjJmCmAiIiIiY6YAJiIiIjJmCmAiIiIiY6YAJiIiIjJmCmAiIiIiY6YAJiIiIjJmCmAiIiIiY6YAJiIiIjJmCmAiIiIiY6YAJiIiIjJmCmAiIiIiY6YAJiIiIjJmCmAiIiIiY6YAJiIiIjJmCmAiIiIiY6YAJiIiIjJmCmAiIiIiY6YAJiIiIjJmCmAiIiIiY6YAJiIiIjJmCmAiIiLHUA5LZTP2a1SGN3v3H7hvtMwtLDlV2h0yyRTAREREjshiUzn8qSoGqWHAGt5R5ys3OVpQ32d5qxg9pmCxECYTTQFMRETkWDyGKg8eyyhnuYTF9OW5mar+XfEUa/c7tozFswV7C2WCKYCJiIgcESMXAv72WfYCmPtVlzqAWSbzHrmrnqvq3z4fp7PvxNP/AiIiIsfgMWP5Ll3tqzxGL+aqnKfVjPMpS27L3Z37wazgOqVVjHF9mWwKYCIiIkdlicqyVJ2nnJJhqmBJfB8dLr8/yLCWFuhz5b2+YLwd1olxfV8BTOAVRcH/DzxYERERkSewDGU97SvPdfuyWq+UZZfL1pMcn29sY2ntPtpTbbzz0nm8Ot1A0zre+zkK3zri1w2Y9W+ZHIW7ACNJB0h6HTet//4iIiLHwZOnnUCtOXHA2fW0wB/Wd/HPN1bwy1ur+P3DPm53e9jIctcc6eq9GNB8loCT1nzp+uLLRFMAExGZUNYl/OCP/XNleLM3O1xm6mWP/tg/V4b2J0d3HLjzJHjCy3X97q3J0ffQYcBa2ujgt5+v4Vc3V/CHjS7ulgE2wykMGg2kge9CmgU2C2CeBTBu20KYLZbJpgAmIjKhbFyqPnIkLDaulYUECx92Yx3IB1xW2Ix1YWKxm4Ir2No5p+yHa3DJgcdynbrYjC0fFrf0BNh/A3ulvqn7c+V8n5tMYZ/tFvi/yzv4xaer+LfbG7i+M8Amg1k/9pGGXK/0uTZj1t6wEzYfuql63vaJTDIFMBGRCVRHgIrxKWNh3DoQtKxUnK9Dh80MH2DrDGesNsc6QfllCe/AoKJ27z6bs/seXXrycD/w/eZFgW6a4LcPtvGPN5fxy89XGMQYYOM2/MY0At9HxH0ZMXBGZQDmsPoka8NOeFbvFaByHfC5T9QGOfEUwEREJpA1gVlAmGJpMQ8E1rY2ZNkg4rIWl0UWtPyMxQZYKFwTWlQwXGQhwjSEl0bMWDyV2HosHkNZXbi9qg4d9almf/snTcn3YwGsu9vF9Vu38OsbN/Dx6h3ujQFePz+Dd187h++cnccid0G7B0znMfeT7ZPhBhx7//U+eGSxTCwFMBGRCeUzYAUMU35pTWM+ct9DxrxkV+tZZycvs8FGGRcYvuAV7oo/Cw/WtOYK13HFq4u7x0LYXsKw9azp7eSfargnUBYlth9uo9vrYWGmje+9cRk/uraI719s4O35EGf53qOE+zRnMOV+EXkSBTARkUlkwcoFpAiZF+IhZ+8VOe7mOVZYHpalG17BApY1NRa8HbBsc721ssB9FFhlKHvgV+hwlZQBzEZ/5wZZSvcYYw2Qo+B2UtVDNQHt9gxeu3IFP7z2LfzNG9fw/fNncK0ZYLFKMVv0GGQTJJ6PQRDX+0LkCTQOmIjIhLB+XSM2ZeHIQtVmluPWThd3Ol0khfVfqnCuNYWrZ+ZxkQGjUeYYMFjYAKNLnQ5WOz30LJAxWbWbTVydm8arM1OY9T035pX1C3NZzLerAPk5n9Mn5so/FyBZDrzYyrPecBZWK7d/7H2HnJ/mHgzKFGmR4aMH2/j7zzfxQd5C3pzBt1se/vrKPL670MAMA6uN+uX6f7kh9AvO2RPYXpHJ8MVxwBTAREQmTN3BHthl0Lrdz/HJ2iaus9zv95HxDi8vsNBq4u1XLuHdC/NYYAC5t93DRyuruL65hQdZhp4fuvDWjBq4OtvGn720iG8tTOMM140Y2CzF2HceFn7AKd8FlpMbwOpbV5vHYi2yPvcdT6C2s5AwcH64vo2fLq3j93mMvNHG2w2fAWxBAUyGNBCriMhEG9WC8cM31re7+N3tNfzmsxXc305RlFPIiiYSfxpriYcbnQSrDBq3Ojl+fWsVH955gAe7OQqvxSTSYBCJkCc+bq538PFGB+tZgcxyhbvKz/qN2TCkVhhUXKo5+awezHMjqfI9Mj9VQciQ2UAO7o8yRDMv0cpzt57IkyiAiYhMGAtfm5ub+Pj6TVxfWoYfNPGda2/gnTeu4eWFCwiqJmNTAw+Zpj7ZLvDL68v4+P4mphfO4rtvvY0f/NFbeOvsJVzEDGbSCEnVYGArsV1Urt+YO7O4nvhWX2S1YRbAXhyln6OMclQRY1YYIAsCvtMGGkWIdlpxnxSuhkzkSRTAREQmjHU5cc2QZYGzUzF+eGURf3uxiR+d8fHaNNAMrfkwQGc3wx9ub+KzzW0sLC7ge9cu4McXp/FXizH+8vwUzk57SIKsHvHdatYyBg8b+r2MgaqFCi0+2+MbH8vSvs6HzzMsec5Qw9djTTN232j6WYptoyi53UeWHyEYffHlOnbCrE+a/F2FbsrYdZ4WNAsGs9yvkOnMKkeg/01ERCZEHWxKF8Dm5ubw+pVL+NNrl/HtxRmcC4C2NZ0lXRdarL9SkuTY3tzCmYVZvPXaBby60MTZoMQ8WIIKYcSwwVu7yjFiCGu6gUg548bAsv5N9pXTgTvRfEmmcQq+JusV1S+s1J37B5y2275NHyqHl33ZfMLXkZYBElvG7WWct870T2R3HyqPztpP/b48bs+1Rg6bJa2zvvvC7WD4IJEnUCd8EZEJYbU/owBmdTbWCX+X022WaSaGO9sD/M9P7uL9ToZB0EJYFng5rvD9N87j6uIUTvkl2tbBvopwYzPB//psGR92E+RBhD85P4f/eOU0rjVCxNbyyFNK6UKJ9YeyT/tWY7R/nhm9DtNPM9ztl1juZmCG23PwvDSaGtVfHZ43h5e52i6b4XZ8bvjMbBOvtHy09jd7bLY59/Y4YV+ubbpFhQ/v7+DnN5fx2YAhrDmFV6dj/PjV0+qEL0O6ClJEZGKNmt/s1krO437K+QaLjXD/0cYufsoA9mkSIGM4OBNF+PPz0/jBlTnMNjy0rGcY00dWRAwcu/gHBo7rWYXQ9/AXF0/hPzCAXYoYtaz/E8NGHcAsbFi906MBbPRa7NzzsNfHT1e6+Ld76y4o2T223H/G89LofVrYi+MYb115GX93NsZpq6H6iuy1KYDJ8ekqSBGRiTf60B2yNBkpwqpAxtC02Rtgh7c2Ir6NjX++3cKbZ2dxLvbR5gnEhhe14JAzgTy0ddMUJbfRYKaYDQM0+DgbjtViig3dUMeTxxuFI2OP2CkK3E9SLPf7WGG5nyTPXFa5vZVBgnsMeKu8Xc/tWy+f9KpExkc1YCIik8oCUFm6SLKdFvj50jp+sbKF9TLC6TDCv7t8Fj+6OIVzEdfw6qEkqjLARg/4lxur+NnKBjbjGJcbDfzktUX8+bkW5q3Gi+mr8iL3FZH1+PhWrLZn/zxjtVIWwKzGazfN8K/LPfyOz82TEZ+Gawc+77P1R4Fp9NjD88aWHZ7nb3sdfI6iyF0N2JXzZ/DXF2LMqwZMxk5NkCIiMuICWOUCxd3uAH9/cwW/2eqjy2DwWruF/3T1HP50rokm04Z1MC95miiYqu5sDPAvn63gva0OtptNfPfUHP6WYePaTIDpKmU4YfDxG259C1++e4b9AFaHonpoiiAIuM0K/dzDblIhDOuX9VxPSdyexZ5W7KPF7T9D/lIAk69ITZAiIrLHQgBDAW+7gxxb3T4GNsdcMBN7mI/8OiJUFqEYlFhy5oftXoJuP0HJtBSyzLYamG1w2qLJMJQ86ouJx2q+XH8vrh8wbU2HBRanKpxqVjjdqm+fW+H2bJtTgZ30Hvf6noMvbLZ+z8+Q9eQFpwAmIjKhKv4UXuk64neS0oWwgkEijICp6QAN3loDpY1tVQ5/esxYqwxq60nm6nFihqg2Q5j1/7IgZ1875LZdFnUYc82AFkP2o4i1uFj4GrW81MM3FCjCjM/F7X5NpWSx53purCqMxWdxm3Xv1d4731cVwGdwtQHz3ReTD9e1akHP2mbdPpFJpgAmIjKhSqaD3MvRZ+ra2S2R5RFPCgxesY/pWaYv/ksDu1rSopU1LWboWWf5NMUWA0ThBZhn+LKrJWMLHgwdpW99vyyI2HAVdRipGEQeZxTEfM9H6EV85hghy+h2NH2U+aOtY6OUPXvwscZTy1SjDGW1eC6iVrY/6/2V+9wXfH+2jxkvbUfY7nCPK7g/LLzKZNP/ASIiE8pqbayWJu0XDGADFwysxmYmiHChOY05hqJG4SHksoC3VspBjixhmCgY1Uofp5pTeKkVYZbbC7m9tCgx4Pp54DOIFAxpNqhr3d/rSayP1MEfmz+47Gnz9vO0der5Zw9gFrasxq6yryQKCuR841nA8BXy/XI+Y0niAj0u7/sMtmGGIsrc8pTzVupgJpNMAUxEZEL5DFB+5mO3l+FBt4fEWs48D1NeiNNBjCmGrCj3EbJ4RQCP61YMa1Va7jWvtVsNzLUCRHxsd5Di1v0tLG3tolN5yGwFL+EzWSMnp18EVYWoKhGVhfu+RwuxNi5+6HEfcH/GObjPuH9Ke78W1UbNslaLmCNEhhgDBJW+sHvSKYCJiEys+hrFh1mG1byPTqNC1QjQDAK0fQavgmtYjrBKI2te5LoJQ4cN4FoGPmNVibLh83HAUlHgvTtr+PkflvD+3YfYZO6qGE2sE3/AwPKisBo0Pw9ZYoDF43TeZ7Ta9hDscr/1G5gfNNDcKtHcBRoMrlHVdF9wHpcxYobYMGUks852MtEUwEREJhWDVZ/haCNLsIEBun6GIK4wMxUhDDxmrgpFCPfl0vbd0yXnM79E7prbGKoY2Nb6XfxqfQv/tLSMX93fYpALkQRt+H7gati8gkGljLiBZ2/6+//F+njZuGVWUgbNh9xna5xeZQC9mZZ4f2OAD7b6eFBFSFpt9L0IncTDrQcD3NjKcDf1sMwwu8bQZUN8FLx/dLGCTC6NAyYiMqGsYup+N8G/Mjz9Yu0+Njwfi9Mz+PeXLuLdxVks+tZsZp3oPcReiawscPNhHz+7sYqPtnbRC3xErQBNa39MUrQYQK4unscfX1zAazMB5vgcMUOH59rpGDhO6GnGdbK3yxtpq9vD+zsD3O1lGOSF+9LvjX6OB7sJdhiyirhpY9timsFsIc5xdtrHbDvm2w+ZV0u8vjCFb59uY87nvuP+1pl3UmgcMBERGbKTf5XlqJI+2lWBM2WFSzwtvNqIMWt3ejxpMHgF1n+J4cu+suhUM8Ll2RkshgHmOd/q9+F1EpxttPHOpQv4y8vzeGPGd9uzpsci4KnHrop8AZKGhbAsz7C0fB+ffL6Ej1luLS9jc2eT9/XQjhLMeV1XGmEfRdnFWmcdH68s4/07d/HBvWUsdbbR5X4pLZSqD9hEUw2YiMikKoDuboYbnR0sZZkbGmExaODNM23MWcuhnzIihIjLkCcL60hfIPVi3OuVuL7Rw1bK+6scYRjh3Mw0rsw1cSau0Ki4LpeXQYTEmiIZ4Zr8fVLPMgdrwHpJhpsbfWzspij4hixcums8Aw8+Q5X1qrPmRetu79vYZtwPCR+aeRFaXPeVmRhXWaZ5zvX9R7+gXF5kX6wBUwATEZlUJf+xJAwO/eGiiPNTgXUQZuiwGjCLTzaOlw2s6pYFDGE+ekWFfBhKfJ4/YgaQJk8joV3dx2KXB5ZcL+P6NvyDjTB2kgPYiE3m1tRoi/iG3JirnHanUL5n+6Yhu5K03ltW3Chg7gIG5i/35ectzrl9wXAqk0IBTEREnhMLGEZnj6cb5jWZWOoDJiIiz4kFCoWKo9F+ksMUwERERETGTAFMREREZMwUwERERETGTAFMREREZMwUwERERETGTAFMREREZMwUwERERETGTAFMREREZMwUwERERETGTAFMREREZMwUwERERETGTAFMREREZMwUwERERETG7EAAq4a3IiIiIvJ8PD5feWWRVPC84ayIiIiIPF8lc1iFJE2Q9LucZPRKB1t2y5nS7hMRERGR565ClmUoitzNedtb9yqrHXO/RERERORr4Wq8hrytjTtKXiIiIiJjpKsgRURERMZMAUxERERkrID/B4MlB4m+8WWyAAAAAElFTkSuQmCC\" alt=\"Drawing\" style=\"width: 300px;\"/>\n"
   ]
  },
  {
   "cell_type": "markdown",
   "id": "5a99c32a",
   "metadata": {},
   "source": [
    "1. As we can see COV is the multiplication of two variables from the mean diffrence of their own means.\n",
    "\n",
    "2. when xi increases towards to its mean, then yi also increases to its mean(or wiseversa) then first half xi and yi will be less than their own mean so, -ve and -ve cancel out then direction will be positive, in second half xi and yi will be greater than their own means so result will be again +ve shows positive relationship.\n",
    "\n",
    "3. when xi increases towards to its mean then yi gets decreases towards its mean(or wiseversa) from the mean then first half (xi-x') will give -ve result since xi<x' and (yi-y') give +ve result and in total result will be -ve, in second half (xi-x') will be +ve and (yi-y') will be -ve and result will be -ve itself, so -ve result shows -ve relationship.\n",
    "\n",
    "4. Now why strength does'nt count in COV, we can explain with an example suppose x and y are km travels if dependends on direction of travels we will get +ve and -ve relationship. But multiplaication of both (xi-x') and (yi-y') both gives strenght's unit in km^2 we can compair direction (km) with strength (km^2) thats why we took only direction but not strength. "
   ]
  },
  {
   "cell_type": "markdown",
   "id": "cf7c452c",
   "metadata": {},
   "source": [
    "# will COV effect by outliers?"
   ]
  },
  {
   "cell_type": "markdown",
   "id": "48f47563",
   "metadata": {},
   "source": [
    "1. Any calculation based on mean will effect by outliers. Since COV only gives direction outliers wont effect as much as its effects Corelation(rho)"
   ]
  },
  {
   "cell_type": "markdown",
   "id": "32bfc6bc",
   "metadata": {},
   "source": [
    "# COV vs Varience ?"
   ]
  },
  {
   "cell_type": "markdown",
   "id": "9e29fabe",
   "metadata": {},
   "source": [
    "1. we can say Varience gives relationship to itself(Univariate), but COV measure relation of two diff variables(Bi Variate)"
   ]
  },
  {
   "cell_type": "markdown",
   "id": "178d8357",
   "metadata": {},
   "source": [
    "# Why Corrlation used to calculate strength which COV not?"
   ]
  },
  {
   "cell_type": "markdown",
   "id": "bdfc9349",
   "metadata": {},
   "source": [
    "<img src=\"data:image/png;base64,iVBORw0KGgoAAAANSUhEUgAAAVoAAACJCAYAAABtjPBDAAAAAXNSR0IArs4c6QAAAARnQU1BAACxjwv8YQUAAAAJcEhZcwAADsMAAA7DAcdvqGQAAGJ+SURBVHhe7V0FgB1Ftj3j7m7JJBN3JUIMEpLgbklwZ9nFFhbYBRZb3F0XAuwuTogSJ+7uNpNMZjLu8rz/Pbffm0xCCOxfJhDok9R0v+7qsu46devWrSq/yvJ8AxYsWLBgocXgV1VVZPjBDx7jh/jW33u0YMGCBQsH4fEeD8JP/8hf4VPD45IfJq/61TdUG4GBgb7fh4GPBZinFixYsGDBCxImifbIAqrT5YTLXi98a5KxX6Ot1ggJCdEf34PIuhbRWrBgwcLhaEa0KsYehCHSrN1uh6Oxtolo/QP8A8TfYT4tWLBgwcKP4wjUST719/eXk4M3VaINDQlVFua/Q2BJtBYsWLBwBHglWr9DOdMntNpsNjhsByVaP5u9zggJDlGi/T4sorVgwYKFI8Mt7iBvUlD104EwwOFwwNZYA8NDP8Kkdke9ERwUbHrysvFBWERrwYIFC9+HV6LVo4nmGgEl2oaDRGvZblmwYMFCC8O/iYQPkrEFCxYsWPhvQQ71ucMgEi1VAxRsfY6/m1+zYMGCBQuHgmpVn2q1ufPypsHzg6pYucIfPlKl8wXgO7dgwYIFC99Hc75szpvf504/u91uBAcHq9WBjphZsGChRcHp7g0OD2rtbjjcnv+32o71NSLYH2FB/gj090NAgDirDv9iaG65ZVodVHqn4VpEa8FCi8Lm9KCiwYnSenF1TpSJKxFXWG1HYY0DdUK2/0+eVXJNiQpCXFggQgL9ESqEGyrHICHc4AB/vRYc6IfI4ABEhwUgJjTQdOKfBO1v1fefFRbRWrBwDFHd6MKa/bXi6rC9tBEltQ6UC9GW1bv0WCX3nZ7/L70eHcK9TUSrTog2gkQbGoCoEJNseU6yTQgPQlJkEFKjg5EVG4JWsaFIEuImgVv472ERrQULLQjWr6JaO5bk1mD+riqszq8zJVhxtTYXWohT/ydQmg0REqbaIVyImFJvpBBxQkQg2sSHon1SODokhckxDK3jQlVatnB0WERrwUILwOHy4JO1JfhgZTG2ljSgxuaGXa453T/OrJQ6s2JC0CYhVCXOH4JbWNru9khccpSwDzmXY40QeZ3D/bOROSmAEm2Tk3SGBfojUyTeLqnh6JoSga6pEXrOawGW9NsEi2gtWPiZ4BJGaxBim7K5HI/N3octRQ3eO4eCJOXrtlMf2jYhDN3TItR1E9cpOVy77x4Jz/9/JCuSbmWDC2UiQVMf7FNR8Dd1wXkVNuRV2nCgxiHph8bJtoCDcjzXa81I4qeAKaYKondGFM7tnoCRHeKQLsQbLMTsI2nm6/fEKBbRWrDwP4LWAfmVdszbWYW3lx3AqvzaH5QiU6KCMbB1FEa2j8OQttFIE8mVXEqdKfWkv5QU6BQJmCoODsIVVoursWN/lR17ymx6XufwaCPS6JSjuEY5twkL/1A+m4M5SosONhuTdDYokdK4hCIuPBCx0qDQHU1y/y3AIloLFv4H0AyLEuw7QrBL8mrUkuCHwBo0MDsaOUIyQUKszUHrgLaJoUrEyZHBSOcgVFyIWgf80qAapLjOoVLvASFhHknIxbUOlYxpMVEi93mk9PxT5F/qfZm/Linh6JYagQ7JYcgQqTcrNhQZMcG/inz/nLCI1oKF/yf2SZf7lYWF+HRdCfaKRPu/gsIsCTctWgjHS0Into3BSe1iVer7tYE64goh1iISsEi9PgLOF0mYZZNbblPVBCXgHwOJt3U89dJh6Jwcjt6ZkeibFYl2ieFaLsc7LKK1YOG/BOvMjG3leGpOPpbvq9XuNKsHa8hP6Ur/VFCXmRHDgaYwjO2UgPN7JurvXzNIvtU2l5qpVdS71LoiTwiXA4Jbi+uxXY5UTRxtTJCDgcmRQTqgRn318JxYDJUGh4ODx+sAm0W0Fiz8F6Cq4JWFBXhjcaFKbqw+1DX2SIvA7rJGFAiJNOcQ8kKv9Eic1D5WSTJe/B4O2s1uK27AuoI6kYzNgal6x0EpkFWP+luaVv1xaAYu6ZN83Og0WRZOtwc2p6E6XZvTrRLw0r01mL+zCgv3VKNcpOIfAhsbmpZR0j+xTTSu6J+KkzvEHXdSrkW0Fiz8RLhEDHtxwX489O1eJVySALv1Z3SJx5tLD2CLkKUPtEG9uFcS7jgpU7rCEWoK9VNBfeeUTeX454oirBCJmUTsq6ckmEuFaF88tx0SIoLMi8cxaNmwvrAOs7ZX4ltxnMjBGXFq9dC8xWqGdomhuG1YJsb3S1HrhuNhFptFtBYs/ASw0i/cU4U/fbELu0Ry7SlS6o0npqna4P5pedpFJih5dk4Ow19GtsI5PRL/ZxKgpPvk3Hws2F2lki7jI07Mjsaka7v9Jsi2OUqlkVmUW4M5OyqxeE+NSLumKZov3z6wWFvHheDqE9JwZrcENZGLEtL9tbKURbQWLPwEcIT97m/2YJYQwPk9knDVCSn4WqTOp4QEaavK2kGd4uUiZd0+IvNnJUDqPTceqMfbIjV/saFM00J8MK4TLu+foue/RTQ63ViWV4vpWyvUZG6nNHBsbFgePrDcaSp2ofQexnaOV9tdSrm/NlhEa8HCj4D1+uNVRXh5YSEu65eMYTmxeF+69a8sKtRJChyg6ZURgT+cmIHzeya1WEWnbvPmL3biayFbVscZN3THKR3jvXd/u2AZ0055pZDtsrxqtVfeVNSg15uD04JP65KA8X2S1Wrh1zRwZhGtBQs/AtaR5XtrVHfYSrqrJFgSLfW0rMzsxv99bDYGtYnWFbJaCusL6vDHL3fpANLojnH44qquOlD0ewLXh9ha3ID1hfWYsqUc3+2qVisHH6g3758VhUv7JuGS3slIigz23vllYRGtBQs/ARycKa934em5+XhjSaGSLHFCqyi8c3EHdE6N0EreUmB3mZYOd0/eo/HMuqkHTmgd7b37+wPXjKA+d/neWrUCWZRbDYfXZoxURbvjIW1icNdJWdoAtuS7+Sk4GtFaS/JYsOCFxwNM31p+CMm2TwzD11d3Rff0yBavyJScY8MDdTWt6wenoYfE+XsGbW3TY0JwTvdETLuhO/59eRekRpnSKzmNM9Q4Y2/0Gxtw65c7UddM6v21wZJoLVgQsOJ+taEU136yA5WNZoXlrC1KlazsxwqUqqm+CAsKUKKxcCjKRMJ9dOY+fLKuVC0VmutwaYP73Nk5umgPG6tjDUt1YMHCj2BPeSNGvbYBuRU2/U2zohfPa4ezuiZqN9XCrwdUsSzJrcbz3xXo+r++hpHgwjb3jMzC5f1Tj/mU5qMRbcD999//94AAk/0torXwewS7oLd/vRuLc2v0Nxd7uWdUKzXxCv6NLXzyWwDtllvFh+LE7BhEhfrrTD0uD0maY29gc1GDqmFoofBLza5zu91wuaTRNkzbYOsrsvC7x4erivDlhjI9Z3f9jK4JuLBn0i/S/bTw00CRkIvy/GlYJl44NwfD2saYNwScNv3c/P06qMnVxn4NsIjWwu8aFfVOvLu8SHV9rLx9MiJx7cDUX43JkIWjgxLrKR3j8NbFHdS21gdO+HhzyQHc9tUu3cPtl4ZFtBZ+11i9v05nIhHx4UG4emAa+mZF/US9LDur7BrS0UqBx4N6OvP3D4H+mvttKTAOpk0cu7HeKH2x+9zBk4M45P4xg688DwdT4bvnc2bKqPJslxSO1y7qgNuHZyDIax1SY3fj03WlGP3Get1p4peERbQWfregCdd7yw+ojpZIiQ7CaZ3jf3ztAqnfbrcBl8sFj8cBj9EIt4fOJr+dcs8Dp9MBp8spfszfHtp/kheUG0gSJD+TKFoWJFjqCqUxEaIl17pcHl08x2UYsLldkm7Jh8sBt6S5saEe9fX1cMp1mrs5xY9TTtzNBnpaDr5ykSPjY5S8RKc/mBcHXI5G2Bsb4HTYpYxdkhemDwgP8tdJJQ+f2hqRIf7aQ2FPZcW+Opzz7ibsrbAdkxI/EqzBMAu/W8zeUYl3lxXpEn4Ugi7rl4ILeiV57/4wDP6TGusxXPDzF/Iy3LDZGlBTU4OSknJUVlajuroKDocNbiE1ahQD/AMP7g3mx+pOx98tXecYj5kGqe5Sx03ZSoVbjd6Av2TG3mDD/v37sXDBQqxbtx4ZmZkIiwgXEvZIuk3SavkVtHxpJZhOb3zedPIeyz5vTy6++vJL1NU1IDQ0DCEhoeLdzBd3teiUEq7mcVwYiI0pn+SCQAUi1Q5qHY3o0Ja3Rjh8MMwiWgu/S9BE6JtN5ZixtQJ2EYdY+d68qP1PXiiGpjyGxw27zYYdO3Zi9uy5+Pqryfh60mTMkfNZs2dh1aoVyN2zFyHBoUhKSkZQkLeCH0Oi1ZiEXA2/ADkXwpQ6zmULWdX9pYEIECmxtqoK8+YtwGuvvY6p06Zrknr17o2EhATNJ9sHpvLYLVWosZlHX5RaZgJJz47tO/HeP9/H9OkzkJeXh5iYaKSkpIgfyZ8QbkRIIPq3ikJceJAuVEOylSzr/mjcPqdvZlSLb6NjEa0FCwJWuveWF+l8emJo22jcNjxLz38KqA6wCcnOmjULL774MqZMmaZSbqdOXZCamorc3D1CvrOxauVqtM5ug969eonk5R1gO6ZE6ydUKkRL4mqq3yRatyRDJPG6Grzzzrt4/Y13tAs+fvwEjBs/TiTaDAQKaRl8Wh6jTHts+MFbJl7JuwkatZ+UsR/ipAHo3q2rktj8uXOxbPkyJCYmITunLfyEy9ggcD0KbovOfXgX7akCOxbcnp3b8GTHh6JdYliLLkhjEa0FCwKu/v/W0gOoslEnCDx7do52OY8Ej3SfVYIlkwp4pA52+vTpePzxJ7B9+y6MGnkK/nTrbRg7diwGDx6EnJw22LN7N0pLy3D+eRegS5cuCAwMlDrGxa594TEsDVLrni8OOl+chO+379x3nfDdMyVV89j8OZ56mtVrnpJ6PW6X6ji/+OQTPPX0c4iIjsO99/1V0j9GpO9ESSs5gWoDpTcJzHye8KWlOUgsvM6jLw0/xif070ur+Yye6jkbMj7uknLmb3M7dObRD4FBQSrBdurYAUGBfpgzaw5Wr1uPLt17ID0rU4mWk+q4EHvXtAjVR/tspDm5YZ80sie1i2vRdX4PJ9qWlZ8tWPgVgluHc7Ft2lsSXVPDdem9H4KPMHyk5vG4kZ+/Dw8++Hfs3LkHw4edjNtuux19evdFXFw8YmPj0LNXT/To0V0krURkZWVJGGZVI0eZfPJ9wvQ5VtLm8MVvDr6ZZOYjO1+anE7TXpR+CF84htyjAM0QSJiUYlVKFWlu65atePX1N1Fd14hxl12OYSOGISIywvs8iU7883mN6yD5m6R4ML1mmZj3ePSlj7+PhuZhmHnj8yQpPkfnQYAQqSTAG6ecqh7DLMvk5EScd/45OGXkCGzeuBGvvfYmSsor9Z4PnB12/5jWGJETq7+pQuCOFm8tLdRFa44VLKK18LtDo8ODQiFZVjpiUHY0go+yroCP6Hikq66uwcMPP4Q9e3ajXU4HXH/9Dchp217uBYgUFSBk4UZEeDguueQS9dehQ3uEhAQ2EYVP10liIUHqdE2brYlIOfjUnITsdnsT+dIP79PxWnNipT8eiYP+RAKU34FyOUDu+Qtpkauqamvx4SefY8PWXIwafQYuvOgS+AcEmpKjN58sIMNg+BKPkxKwE42NjRqHj0iZfp4zPuaD0/kJX5kdDfTD53xheEjQkk1aRfBxl4uWG3bYHTbU19dJ/C7Y7E5JjZShSNx+0hikJibghhuuQ0Z6CqZOmYJZc75TCwnvq1XQ1vbl89vp4uEE9fNcK4EN7rGCpTqw8LtDncONaVsr1IaWGNk+9qiLa/uIhXBLl3vevLl4+ZVX5bofzjn7PIwfNw6hocFCamYlVklMiJvd2w4dOiI8LFyeE6nGX6RBoQCb3Ya8vFzMn/8dJk2ahO/mz5fzedgiEmZoWBiioqIQJN1jxsv4Kisq5P58fPzxx5g5cxYcQkzZrVtrfW1oaMDixYsxceKH+Prrr3RwqF27dgiTcAiGQWlKpVk/SYQ4qi62bt2Bt9/5AAdKKnHXvfeiV+8eSsBsBOiXXV5KtDRR27J5Mz755FN8PekbHfhrLXEzjSyTktJSzcOXX36p6Rg4cKCqSHyNwdHAtJXK83z2008/xarVqyXfwVJuSVp+HsOJ4qID+OrLrzBr1jwsXLRE1QCtslvBHNqjmsKjadkhPYsVq9bB4x+E08aMQlhIsOTjICJDA3WXjLk7q/Q3B8juGpGF0KCWkTXNRtDS0Vr4HaPBaVY4H9H2SI/QabcH4ZOHlHLUkVT4q6aqAu+8/TaWLFuF5NQM3HnnnWjfrq3UHfoXn3IMDBQKUMIVsuFIuFwjIbDSNdga8d2CBXj2+RcxafI0OIR0o8JDsGfnVnzx5RfYsn0HMltlIzUlVQmroLAA77z1Jr78/DPMnzcfc+Z+J9JoA04aebKE58Lkbybh/Q8mYvWaNViwYBE2bNyEIcOGIyszU+uz9rSZNE2EmRuPkOf06dOEmKcgOikDd/3lbiTGRZpemGo50WfE7/p16/DqK69h5rezsWjRd0J2i5CQkInefXsIyRbhvXcn4vXX38KcOd+KVG7HhAkTtJFg3N/nE4nf/K+9icKCQrz08kv498cfYfWK5Zg9azZqGhwYNHQIoqMiVM1RLeU9dcpUvPvuB5gxYy6i4+IxauQIhJDM9Y1IAyKkXFtXrZYTdpsTQ4aciNS0VI3R9waZEqqLpm6p0OvEXSdntdg068OJ1lIdWLBwCMgEJimyEvtIgfC4nSjKz8NGIR+nJxDd+w1Cx66d2CcH7Wn9AyjJmp79A4JMJ1Kdn79brjvltxPLly3Gs8++INLXRow59Rw89tjj+PuD9+LRh/6CgSf0xNJlyzB5xixU19mUrDmivmHNClx49uk4Y+ypIqlGo7CsFna5V1pWgoUL5qFnj+6459770L5zVzQ4PKi3u2D4yFKkRhIsf3tA9UUAnA312Lt1M+qqK9G9Tx/EJsYiQJiA6zywkSA/Mm6HNEjz5i9GXYMTd97+Z4w6eTAaG+owd84yVNY04Nu50/HlV1PQvVtfjB59Mk4/47QmSZqgxHoIpLHialZstOwOJ5YuX4EF3y3ATTdejwmXXoQI6RUsXbMaeQeKJa3SSEgrkZWRiTEjT0FqcipCw6MwcPAghOmuuJJg/2Bxoary6N27KxKiQ9BYUYwd23botudUtmgK5F1yAgY3gfSB5l3M87GCRbQWLPwIVDJkr0+IY9PGDSgoKIDhH4ihw4cjNj7WlAS90qIPB6U5dsGFuMWxG/zqq69j7ZoNInUNx2WXj0NO22yEBQVqd3yYSHJ8btPmrSKh1SpJd+7cGX/9219x5tlnISmRSzYGqMRLdURiYgKuvfZqcdei/wn9ERERiejoGCQmJYk/M3ZTouOJnInjv9raGk0LB8oysrIQJFIdvTc58cdeboAQ2Bgh97vu/ovGP2rUCMTHRWPL1q2YOm0mPv7Xf9Cndy/8+c+34ZFHHlYVCsmVz/uOh0PJV1yAsFy37t3x8MMP4+ILL8TokSehVWY6ykpLsWfPHiF6krKkRbxTf011S0+Ja/DgE1RKbwJ7DFJOCQnxyEhLQoOUW97efWikvpr/vOngouDcqcGHjJhgndxwrGARrQULPwJWWNZtTqfNzc1DXV0dwiOj0K1bFwQKGfk62t+DEizlKo7+GzrKP2f2fMTGJmO4dO9btUqHPyVIIVp//wCR1Dji7yfd5So4hChItJ06dUSvPr2VTA4UFwnh2NGhQweEh4cpqfbrfwIyMzOFOItRWlKK/gMGSLgZGo4SP8nuMMKrra1DRXml+PBHelqakt7hIDlRdUGztJ49e0h8oWiX01669NHS0OTi2WeeFuk1EtfdcA26duuM9u07SjqypIwOLuByuERr9g/YQzDLs23bNhgxYgQioiKRKQ0NGxtHfR12b98Bj4v65AAhWQe2btuO+oZGnH76WCQnU5d+aLgEG4YoSZvd4ZByKFHTNUbPAUfiQK2jST9LcKPNY7mxo0W0Fn6XaF7FuIbpUSF1lUTZUF+Pgvz90n22idSYiM5dOgkhGab09b3Kz9/Uz5kd2Abprk+ePBmNjXa1VBgwYKDag9IbpTa3xw/l5VVwSrefFguBQr4eg2ZYpgVCXW0tKssrxLM/0tJSERAYINdJ5KbEt3DhQpWCzzn3HERFRrKXrlA/hxAe01Kn6xkwbM6q8pmeNYdPEiSB0Z+0A2jTthPSM1pJuriugxtXX3kDevXqhaAgqhskvVJGvkG8w0mWYBlyII7E7i8uQAKlhQYJnbPQWmdlqilZnki0tHLwF6ItOFCCpStWITO7FU4Zc5IOlh0CRiMuMiJCJ4owr7bGBnjcpkTsS8t/1pSh3mEWCtudi3olH9XS5OeGRbQWfnfgrKGkyIPG6jU/tteU1EcSRK1IskXFxXCI1BYh0lN4WKgQhZ9WapfTCbdcp4kS9ZtqriSOgyJ0FdIlXrJ4ueowc9q1EbJk954j66bkRpOmwsJiOOVIO9zQMBIKu9jShReiI8lXiaRLck5PTxHyM0nCkLg3b96MuXPmYuiwoRg2dLDqHqnpoBTsR4Y8RKKVbr2kj2k0hOF18oSXlJuD5ETpVAmTLYFI5xHhMUhKTIbL3YCuXTvjxBOHajyMAobZIPie9TUQLAPfkekJEFJlvtVJOkmyBM3C0jPSpUyDUbQ/XxuWBpFiV6xahd3SizjrrLNFUs+WEjHj8EGzJn8YH03r2ABwoRnGJ5f0neRV2PDq4iLzAUGv9Ej0yYzSQb9jBYtoLfzuECYSWOv40Kb57vN3Vx91zVKfZGcSIyU9ICY2Wmcl0QyJEhrVB4YQKkFSpNTLnwYJSIisjkRZXa0EmZWVjogIDhqRkCQw8VhdUaUmVwGBwULEOXpf9b5eIqmoqFCijYuNle5zsklqcr20rBTffPONdK3rccmlF+toPa83kZm4wxEkpBYYSMmTUbuEmA8lL4btyzMJi+l0OmxYt2YDcnPzlSC5gE5tjU3iYh6YUfEvjOt79vB4TeLlEJdcb3af1/k7OCQY2dmtERcdhTJpzKoqqlFRWY3JU2cgKzsHJ40ciajoSE3v9yBB0RbXLF9/hIZygMwMl2/kibn7mzbb5ApfZ3VPQIp3k8djBYtoLfzuQN0c57tnxZqbLtbY3Lqb6g+B5EEXJMQTFRmh3XauxkXS9RGejzCoIvjmm8n46utvUF1VLxxAU6dAkQ45W4rWB35C0gzDv4nERCjG5vUbsWXTFiSKxMhZZdTBKhdJ8PRXXlqGciHb+Ph48RMv1wxUVlZgspDsokWLMHrMGPTv31+lxqPDEBKPQLSSlltXG6Pqozl8RMn7zBelwi1bNuK9dz/QCQWRUWHYm7cXuXv2i2+nlAElX1Mf2vxZTqDwTUbQctJWoxm8/E4JmwNv6ZmZSIyPQ1FBgao2Zs6agw1SJmNOOw0dO3dSM64QnRp8EBqs/KFulo0RBy05KOgv74fYWNSI/6w1d88g+mRF6a660aGHhtPSsIj2F4B+G00nTb+arh/ePbLw86OVkGyOd6YQ8foSTsk8Qh9aoHwn7ylcCColJU26qEEoKixATXW994WZ74tEs3LlKjz11JOYM2eeEA1JRp4WaY+DXbQY8OOkBS7ookfzudqqakydPBXVNXXo3qOHDj4Fq66TUpgQsZAWJVaOvEdGRSIqIhS10rX+7NPPMXHiR6onveD88xATHd2UlqOBOtwEITSmvaSouBnRamYkCFPtwVlgJLzdubl4772JqKqsw/U33CCSZ5ZOoti2ZZuqTfLz85G/fz8cDrvkCTqQt2njRrzxxpv46ON/4YDEYTZIZiwaTTNQfaGWA5Km1KQkuJx2zJw5E//693/Qo1dvnHLKKAQHS3lIOfgkYR9YhrzSIGktK69AoE54SFZVBAl80qZK1HrXs4gJC8TpXePRIfnIa1q0JH4lRMuSN1s9Oh0plP88Ugqg+97bOc7B747mNfCINCCO0wFpG0lLPw+ke2Tw7LeV518TqDoY3Ca6afO+NfvrsLtMusKstuwb6wCRdnS9/GAgNCIKXXr21tWjDuTtwNSvvkBNVaVKfPWNNixeuhRPPvU0du7chTbZrUQ6i1GJ0M8/CDHxKcjIagW7SHhcbIY6Wz9559XVtfjPp19h8uy5yGydhfPOPg3tWmciUOJX6VC+A5d8/24JxxBJ3Gmvx/JFS/Dko0/irTcmon37brjiiqskvmzTNlS+KcpyPjpS+1lxUpOksrvkugsR0fGIT81UNcU+Saut3gGnkB31mx6PXT7ARvks6/DqK8/jkUcfwTPPvYD5y9bh9AvOwymjT0b3Du3hqa/C+hVzsWr5Krz06rt496N/webk4uH18j03YOOG1XjppVfw7IuvY8/eA2i0MVwpU0PyJQ0PDTJYwqwDtInlPK+YuARkZmbIRQNvvf029uUX4qqrr1GVQrA0VOzsU0nj0XlhrBusJw4hYBcKC8uxv7gageGxyMzKQnRYMPLKG3UGoK8WccWuMR3iEeZVGR1LHPsYjwC2nk3dKDmwJSLYeJF4qZchMf1WwLyo8ETlnduhZMua4ZQ/Tsk753DLDfVroWVAUhreLla3FSccbgPzd/vMf0x6Nf8K5IXxnXECwohRo3HyqFHSDjbi6ccfwXNPP4WpU6fihRdewh133o0FCxfpN5ueloLQUE5YMJ9LScnEhMuuRGhImE5ZfeO1VzF9yhQ88vCjeOTJZ2AI6d10y804+8xTER5sznoiQ3Bx8QDOtBIJjfP7t23dhHv+fAc+/OdEnDh4OO6572/o1r0bgqjOkKQGChnzyIrNHJDAqBkl9LuSShUUEoKOXbojLj4BWzauQxklTvqmNyFbUll9bTU+++Q/eOXVV/D1N1Mx9KTRGHX6KUhIiscJPfsJ6bnw7bSv8Ieb/iBd/AXo1qsnwkTSDgwwJA0uuOwNqKmtQ0lZta73GyT5U8YTktW0iNM8qhDFC36Iio1FSmqq5Nkt0mk5Lh4/AQMHDRDpPlDzFcRGS1NHYmZgIoxwhwupTGtWbUBVnR2R8YnoLj0C+n932QHsLGvU4GlhcEJWFLqncenEY49fxRRcfsR0po6HH6Zp8EyoRCAtnurAfiPQ703++Hv4oUj3UjLtkg/QaWZZpBmpGnKNXU3zk7TQEiDZzthWqaPSfB/cMfWCnkk6WHYk8J1QvzlgwAC1+SwuKsL27dtVR0oj+0jpkp9wwgm4+uqrcdZZZyFauvK+OsVj9+7dRTrL1vn9a9euxfLly/X8lFNOwd13342zzz5bB3J8PTtaG7BrbA7ABartK1UQXbt0wwMP/A1XXnkF0tKS5Z5ZT/iM+d0c+s0oicqRdrN+9CPnXFNh6fKl2LJlMzp36YzePXtqfMJi4jEABQVFmDV7HpJT0nH+hRfi5j/chIz0dATJt8kpx3vz9ohEHCRSeBvc/KdbcfLJJyOU3XWXTZco3LhxK76d/R2SkjNwyaUXIi05UWQHlzYWB2H2WJl203LDheUrVmLj5i0YOvwkPPzwA1KGEWodYKZfnpBzugCqDFQgMVBbU4eXX3kNm7btxKixZ2D8uAt1csIrCwtRWG3uB8cezHPn5CA1+tgMglFH3XwKrp/dbjdUn+F9Sb8ETGW5pEn+cPsPOupsqNBmS0jbvCMZVR+vYMXh4hj+bjuK8vdgf2ERbH4haJCuVWZGGjpnZ8hHz9FcfhS/zDv5PYDv4YHpebo1daPTg5jQANw9Mgu3Dcs8ZA48v0uzx2WCvznQQ5KkHpNEwW+URxIxHesUTZfol84HPldWVqY6Vj5DP3FxcfqMT5jwPcOffn7Sm5NrXLmKdrYOOUaER6oJGL8NWi1Q39scPsGJYNTKnepIsqxrNFWrxfMvvIDnnn8BffsNxCsvv4YOXLNB/bAeOrF33z4Eh4SqpBnORWSEPILleT/prldXlOlWMkHhUYiKF7IX0g2W9AYaDaitKsNLL76GF9/4EKeeezEefPB+tE2L1y1z1NysCb6yMfdYW7N6NR595DE02B34xz+eRO9+fXTgkWlnybCRoEDsJtEyHSKkuJw23dHi5lvugN0IxPOvvY7eA4fg/im5+HRdibxjxgPcOSITz5ydY/5oITR/z7oiW2Ol8KxpJfGLSLTNE0S4XC6UFJdgw/r1WLDoO8yZOxsrV0rLtmEj8vftR3lZJSIiww+ZR/1LNQo/B5h72jE6bXVYPH8u3nr7HXz0ny8xfcYc6TqloW+PbjoybhqS/+/59JU3j4eXm9nIGSgpKcF6KX8ew8PDm5a7I47nsj4amK+MmBB8K1JtWb1TV+DfX2lX05+cxDDpbprE5wP907G8SJKxQkBcb5aWADynC5FuOesTna/cfM8QvE7Jl8+RYOlMQeJQ/yRd/ck/wi40x+LMJ8ZBUqYfFT68r4bhMwy+Tx9hExqERM1gKBeaNMr0ByIhMV4k2g1CcOsQGR6NHj16qETN7472rpx5RkIPk2sMhGH5y5HfZoQQL1UPEVEx6lcnITBCtxOrlyzBv/79KeJTM3CDSMKdO7ZHaJDErtIdQ2FZcOJEg+aD0uy2rdvxikil23fuxm23344RI4brFFktC3GaTWaC6Vf1htn4Ud/9ykuvijS7HRddOh4XXHIJpm+rwfsrilDnnaBA3SwXdk9swYW+D8fhEu0vTrRs4deuXY+33noXEyd+gLXrVklrW6Vrfc6aNUfcXCxdugKdO3eS7lor7wdopvNYpffnhn5mrBBwIjomQiSccsydvxjllXW46JKL0a1DO3byVKr/X+EjUh5ZXoeXmc8Mh7aYDz74IDZt2qSj2CQCPnekZ35LSAgP0gkM326r0J1UKxpc2FJcj9iwIHRMDmuq7M0dv0Hfd3j4bx4PJ83mfpr7be581w69b3ILpUBzFTCfoz/vc3r+/TCbg7/oKA1q11vOKc3HRkcjOSkBq1auwqaNmxETE4OsVq0RStMyCY/5oDmaPi/xBUpZUL1gWlCQ5M30MG7GwGrtlt7oskULUVxajquuvxEDBg9CqDQ+gbSyMLjjrilRNzY04p/vvafql/KyCrz33j+xbt0GXHzpOJx//nnSGEWY5chvkGEz7RIL4Xba9XvOF4n7gw8+wLQZszBk6DDcetvt2FAdgqfn5GOvNJhEWnQwXjy3HYa0jdHfxwq/CqL1VXpKsgsWLJBuwlP4bsEidOnSCTfffD0uvPBcDBs2FMFBIVi5Yg1sDQ5ccMF5aJ1tEu1xTwBMNyUDPzfCgoN0/vy8hcsQnZiGG2+4Bmny8euslf8xf3zZW7du1emZLDdKT7537QPfRWVlJd59913d44rG8FywmpXOB7Mi/TbBIu6cKl19IRQOhrEyl9e7sDq/Tkl3QOv/biO/n/pNNv9+f/gZXifNmERmOh8kpXrp0Ge/HxYrulv9KsHKfXanuZZukEiiWenpaNO6NXbu2C6N/XwUlZYgKjZepNU4Nany066vaVZlOvkpf0z6E6Jl2jRsCVQC5tfF9WQHDB6Mbr36IiA0XAhaSJombRStCam/u3ftxgMPPoC5c+ep2yc914suugTjr5iAGImfz1CnqzEpqXvJVp6tra7Agu/m62aS84U3BgwchDv+fBdyPYn4y5Q87Cw1B8CIe0dm4coT0lQKP5b41RAtHQcQ7r33PqxevRbDho7A3XffiSFDBiAxKQ7xCXHywtKlpd2KqOg4XHrJRdrV8ZG0zx2fMC0p/DwOOByNuqjxgoXL5cPshyuuGI8w6vvYVfsfPw52zd566y28/fbbup1Kt27dmqY8+sDy5Fz58vJytG/fXgc1OKDDb8LXqP2WiZbg8oD9sqK0azl/l7mRX43drWQ7bUuFboOS2GzK7rHF4d+Al6yajsTRvhPJjJ9THPWbnCnFEXuz7ogsKoQWiLZts9G9RxdUVlVi1rz52CLdcO6Cm5ycIIzBPbu8REvaI+npUeJUx6BNXav8B5fY4fq68YlJ8A8OhUFpnDHKt87dHeRzUzMyLhI+bep0HDhQhISEJB1AvGTcpUhOTdGFdkSWFY9OrQNaz8VRN0viXSwk+8D9D6jd8YUXX4KLr7gW/84Nwd+/3Y+iWnPwi+CC7n8b3Rrxx1Bl4MPhRHsMBsOafRDSJLHl80grWVZWqpvBffzRp+jTuz8ee/RRDBzcR1pRepOXK6+nsLAMEz/4FC6nH2666RolYLaKfKH6ochLMFtnMxY2mHqd+dALXidQI2x6JLwtJG/5y3Wak/EOPx4dhOMvNgZy5EdpdpEYppCOxi9Oyk8/WN+HYPrUtPCcra/+0QTKOX97/dJA2+VxIggcDNuLv//9H/josxm47Pqb8fxzjyHIZSCIAxwkOD6nATBsM27vT/OW+DFfpQavHz098O+ePbm44MKL1Oj82WefxWmnnabPMA10LBO3fMy09qCEwy4hpy768sPBD5aNbpNN/7zK6M1M6g8lY/WvF6TszGNTGWlcZj5YrjQ616cZnrdcNU161RfOD8Eb7yFo9kzz24cFdZRbTeCAGE2CHpm5V3W2fHVEipDsk2e2xUW9k3VF/h9LZcuCiTo8N0dLESVSqfBS+h41yjIXf/Hn++b7I/PRFjXABbvDg03bdqCovBL9+/ZDUly0+GFdlPho/xogPKEyq9J3U8zUvfLrdwqfBxhukR69ljR+QeI4LdeNELnGe+aUZD8UFBQiL2+fcKmBtjltkZGRqWF4qKqQQAP5jUkd0fql31iAhCXnQtIH9uVh+YpVyOnYBXs98XjquxKsyK/VcQ+C0uuwttF48bz2as51rNBULwSHD4a1ONGK7CZ/JTIPuyGshh44jWpMmfYVrr/xz7A3RuCWW27FX+66GVFRYZIOkfS0Xpok2thg15cZTLMXVYLzRUqL4XJJC1yD3H0FKKqogl0kkBB5MCU5Ce3lxXEFJCUI8et027FXXg63D7FJZWrdvjNatcqCv8uN+rIi5O3ZjepaG4zgMAwaNADR4YGoKC7Ejp27UC7X49My0aVzF4RJcLa6cuzavRMlJfXyMYUip0NbtO+QLdHwQ5KEuv3QKPGVlpchP68QNRU1cDkMhIaF6g6drdtx/U+2+x4ESiu/Ze1a3PXn+7Bk3Q489fLruGz8eVIdzI/SI5WB74Q7lvLF7du3F/n5BToLJlBIMSk+Fhmt2mFPYRFCwsLQrWNbKQOnEGu1Di5+8PFneP6lN9A6O1saqhvRsWMHXYSkTZtsdbU11di+fT2qK2k/Go7wyET07N0dEUIsLGc2XJJJeYmcZglU1zdib34hCg8cgFPS43Y6kJmeijbtOyAsKkYbrbBAP9TXVmHb1q0oLqtCQFgkOnfrjlTpjdhrK7Fn+2adw26TbyE5M1srGe1Gg1gewbRp/aFvkCTNj5bEwG/VtA/VdWL1GTYc8pfszt/eb5mNq06AkcrHTf+42V8AK6ze/T5YWeeJVPvYrH1Yklut9rVEVEgAJvRNxq3DM3WgjHaavwzM9ByKo6WF/k1bVTaD2hRqQUkZ8MhT/UOy5H2Wo48L9Jd5n3FImfNXc5i/2LDywHLlibwDeZ5+SbhNYci7kTfmfcJ8B2ZSvKHQi350zZ5R8D5NIA1UNbpQVG3Dyn3V+GZLlS59yCnUPnACyqmd4/DgmGx0O4YkS/zCRMsPn/aiPqJ1o6J6L+76y514/8NJ6NplOJ577jmcNKyXCnC+dDRPC9NPKZBPG9LKOeyNWL9+HaZMmY7lq9cjIDQaQULEFYUFCA4MwnnnnYfzzzsXSVK5bQ47Fi9ZhA8//gAb5ZnqunqMOPVsPPj3h7Br8yZM+fRjrFq+AgUlVYhLzcK///UBXPVl+OLjDzH3uwXYW1yFjJzOeOLJfyAhMgTffP6x7uW/O7cEIeGJuOu+u3HZ5eeLZGBTKaG2ugFLVq/A1GlTsWXDZiTGJqKx3qYmXNlt24r/v6Bbj64IDRHJ2dmAhTNn4c67/ooqWwDe+uhDnDhIpHqIFCH5lE6tNi5FQmzfzpiOqVOnobK6BvEJCfBIQ9NYXYX01u2xfnseTh4zGvfcfiOCPPWY/s1XmP/dInw9Yy6KK+oQExOrW5uECdm7Rey45pqrcfnlE5Avjc9777yM2TPnoKzSLd3FYXjltWeQnhkvn7VT8iQfiBCtR9KybfsOfDPtWyxYvEwIy6Nz8aukV2JrqMGY08/GeZdOQNusNFQWF2Dq119g0qTJyCsoEqKNwTU334IxI4dj4beTMXfaZOzasxcVDQ506Nkft91xGwb37YmoMHNHArNSHQkGHLYGlBQVoK62TrwFaEPMffyVPLzwkYevovPokvTyGBoWoQu6hGpDd3SsK6jD8/P34+tNZU0VOUjIdaxU4jtGZGFoTowStoWWhYOrmtU41B52T3kjluXVaEO4tbhBX3Nz0IJkvDSGN52YrmtZHGscjWiPgY5Wv3o5SNdD64AbGzasxptvvodykfZOEdIbd+n5iAynOZGZ0MN1gposSiqSEZdINWtWr5Iu9guYPXceeksX57obb8TYMaMQHxOKOXNmYu3adWjbtr1KSxs3bsYTTzyJsJAQZEsl271jO4qKy5CcloX3335LiMSFqOhobN+9DxnZ7SWck/Dyc09jj/jrJWHnHygRyXY3WgtJTvr8M52Z0y6nHfILiiUtfpgw4RK0yc6QpDlQX1OPqVNm4ulnX8Sunbk4dexoXHvt5ejcuR02blqH7xYuQus2HdC7T29pEETCkgZj4bx5ukJRm47dcPH4ixAXE6NG4ZQdWG6cU/7GG2+oQTa79hMmjMOll16C/v36CpGvx+dfTUZFTQPOlIblhD7d5Q03oKykRKf0rt6wUbpzfroTwJlnnoE+Em/37l0xcEB/kUQzwBWiIqXxWLZsBbZszcUJA4fhzLNOQWgoZyZ5JVpxebm5ePjRx/DFl5PQRvJ+xZVX4LRTx6Jj+xxMn/wNli5fidiEZHTq0A6f/ftjTP76awwaPFjVBuuk/INCwjSMxfPnoFfPbrpw9fqNW7A7L1/KI0e6qb10lwHTyuKHv8HSkmJM/Oc/dX4/NymkmzV7NmZKw0c3S37PnjVTGg7vbzmfNXsuZoujBUuRSPn9+/dDWGjIjxItDds5RTdBejfbSxtVkiKxc6bRpgMNaq3QJfXYSky/F1CFs0vKeeGeany6rhTvryzCv1YX48NVJVgsRFtaTyHEBN8jd7c9q1sCbhmagesHpSEp8thMSjgafqHBMJM42V0WuQRfffUlpkydCaeQ/U23/Akn9Oupo4yM3zcAc2ha5AsXyY6JLioqwpNPPCUS20KcNPIU/PHW29CjZ3eVXjPSYrB7z04hjlVISc3AoBMHoVK6qexmX3nFZUhPisPSJUuRX1iCbTt2onfPHvjzHbeijxBqYHgM+p84DL26d0RNWQnOPut0DB46FGtEKt26fZd22UOEHP98x58wZuwYIecEJXNu7xEdGSrJc2DJkuV45pmXcKCoEjdKV/3KK8aJn1TxG6wziNZv2Iqu3fpg2LDBCAn2h62uBt9Om4H5i5dj2KjROOU0CTc8FP4cBDDcaGy06epMLwnJ+gUE4qGHH8Hpp58m0mk6UlOSdTm5eQuXIDgqFtdcdzU6tOWunn5olZ2FaCHsL76eAv/AMFx3000YN+4S9O3bG31791b1Cs12uMxffUOtzgDau7cEV19zHfr27yXvgj1tKW+RmqsrKvHY40/ia5FQO3XthrvvuQeDBg2Usk5F2+zWOJC/F4uFqIPDInHiiQPRWFuDASf01YGNA0UlWLBoGSqqqkXybcCESy/EZZddii5dOmPd5m3YtbdAy35g/z7SEEqP5yhES2GBGyMuXrhQGs9NuuxgTW0t6iTcOuml1NfVybU6NMiRW1Pzmrp68z79xyXEY/iwIYiMCP9RoiUiQwJ03VJ2QfdXOZBXSV0nVMJamV8Lp9tAx+TwFtvg7/cCm9MtDZgNi4RYJwqpvr64EB8JsX65oQwzt1dic1EDimulJ+tV4xCkh3SpV1eekIq7T87CpX1TMKC19GypV/wV4HCiPXQIuiUg3Wk9SMRuwybdv1o1Tm6osyMxOR09enQzt/MQbz/48Wv5yh9J9MIFCzH925lqLH3qaaejbbsckQ6p4HcgJjpM93d3CVEVFBfBJdJqt+5d0LlTOyWgretXSLezXrryDWjTpi1u+eMf0LFNli7knJHTAe7AYMSLlDfhsgkIF6lu2/adqKmuFqnQpRX5L/c8I40CR+6DcNVVWXLdo+uS+knjUV5Rhi+/+kok1y0489xLccYZp6txudtdJyS9F1u3bZM8cuYXZ30FqJqhWsLevWePzmXPbtcWwSJ1c8ZYCMvCw5Xmd+nOqJTErrjqGowcPRohlPxgmr1wSxWWWlJyqkiJ7bVx8pMPLTggBPl792ojE5dMPWg73S4kUETUAOrRuGANGy4Jg+uZlguZhkdEonOXjvoF04CcqgPqO5cuWYxvpkxRfegZZ52lS/hR903rG+qaO3VsJ/4Mne1ktztw+plnysfukTz6o1jSTYsG6pTHjBktUvCp8t4iRZJ3SNk5hdC5/UiUtwdzsBIdCfw+aHp208034dLx49ntgdPhRECTXtfU6PlT7BT4BuhMTZ95LzwyUncU+G9A065RHWIRbjTirsoirKwI0bLgtF0Omn2wJBc9/fehHQ4ghCoyCz8Kh9BOMWJRIq4M0Sg2YtDg8tPxE24Fz+MPfQ2B8u1ny5M5xgFk1NcgfJ0/lm4NxDLzdTfBJ6hxenPPnvxmfymrES+ooyU8Ho8ef24wWJeTzm44HeVGYf4G45wzRxkhgaHGkOFjjf1lVYbD6/cHwUA8dqO2psK49porjZDQMOPs8y4wtu3aYzjknpCTOJtRXrbNuPXWq42gkGDjvIsvNwrLK+Q+43YYjXXlxpN/v8eIjQgz4pMzjQUrNxqNLobrlOAdht3wGHUSFUvD47IZbluVMf3rT41OHTsZodHJxn2PPWs02h3iy2G4DXlG4pQTcfLHU2/MnTfZ6NipvZGanmNM/Ncko6LWbjTYG41lS2cZ48edZcTFRhiDTxxmrNm4xahrNKQsXMbqZQuMIf17yjPpxsQvJxklNpdRLYXhcdgMR2258fG7rxvZWelGWnqWMW/xUsMm6XWyMJ0NRn1FgfHHqyYYoYEhxthzxhlV0tw73JIuZ40UVanx4D23GCFhIcbgU84y1u3cZ9RLVhucLkmuR9Iu/lyNhr2hwnjr7ecl/mSjc9cBxt6CaqNR7tudTsPtqjFqyvYa9972ByMkOMTo1quvsWDpSvO+5NklBeBsrDEe++udRmSoxDNijLFW8sawDWe94W6oMoYPHWIEhccYZ1x4mbFh+y55DzZJW7WxY8NKo2/vXkZa6w7Gmx9+ZtQ2ynX5PiTn4n4IfFdSOO5Gw+2ol3jkjbnlXUh8bjfzJWmSD8Ejafcwn3JO55Iy4/ch0qek25B3KPe9If5UsG5s2rTJGHHOeMP/nCcM3DrXwG3zD7pb5xm46t8GRt1loMNJBoJCDT9/adL8pTml86Pz+x05b77VcZWZEANZvQ30udDA2VJ+N087tPyO6qRs/zjTwHnPGOg0SqSQ8CPE930njbchjbjx6quvGtKoe99ky4Lfic+JgGFUVR4wKsvz1bX8YJg0TS5p6P382e2q0dWCbrzhbqxYtQMXj78SL73xPKIiQnBUrQrFb7cNe/PyMPrUs1BaWYs//OlW3HHH7YhgV1siCfB34UDBDtx99/34fNJsXHbNzXjk0b8hXiQ5f3cDykv24YG/PYSJ/5qMcy+9Gi+88gyiQoIRFiCJM1xw+QeJPBIIqZEiUbrgbKjB++9PxIOPPoP4jDaY+NEH6NUpR+Jxw+NHiVQc1cbSwrpd1Xjx5Vdw3/2Pi+SYjJNGnSxdYX+UFhVKmvaphNn/hAEYf/kV6Ny9l65GRFX9t1M/1+mGEclpeOnt99BDuvWUz8KcNlSXH8DTTz+DV9/+AINOGoW3331P1SO6DJ5hR+72zbjlpluwYNUm3HrfQ7jn3jsRJPkIRgPstVWYcPnVmDRzEcZd80c8+o+HEB8TLtKscIDIYx5Ho7TwAaipLMNTLzyHF199FyNOOhcTJ76HkNAABPtTmm1A7tat+NMtd2LW0jWYcOXVeOrpJ0UClfKUdyp9CHic9fjDVZfjo8+nYtApZ+ClF55Gp5wsKW+HTsI4aeRYNHgCcc/99+OKcRcjKpimcw7MmDYdN/7hDqS364qnnnsGA3p1U8OjgKCjWB1I2p2S7oa6Gh1o4GwpCq8BuoeUd+BLfje3OuA3TSsCSkccD6PlR0REuPQK1ErzJ8MlPZ690kN45513sG7XfhS1OgVFYW1Q3uiBCF/fg790GSOqc8XtRniNvH9XHUKl0KiXJ7hmDQfWaL/Lc53lpXeOX7CMRU5QV+sQFxCN+qjWaIzMQH1sO7iDjr4GLI04aLHCHRCooguTyhVeXyDll4fIyl0IsZVqz+mnwMdlnLI/btw4NWs8FhIt4/Xh8MGwllcdeMEPiYtfcMEYrtIT4B+MhPgkTRwtE1hRjva5SXuB4oICXUU9PCoOrbKztavNJ2inR9OfipIK5O8rQGhoBFq1aq2rCzmliywdcpQW52vlDw6PRb9BgxAUEuQ1JWFNcQsJ+SuBSnOoYVLXt2fXLu32jujRHSncPkSuMydaqb3QTqnkoWB/AQ+61bPNUSsvORy9evXGBWdfgHZt26NTl86ITYyDwZolZOlqaETu7j1qdN31hGzExMdqIfkpT/hr/Fy+jmZUnTp2RmR0tKmFEeeWlmvb1i3I3bsf4eERuuUze99qJSCeuK/V3rx9Ug4haNepg5An7R/lHp+X+1QNsIZXVVVKmeTK9QDd+lmnW2rWzDxVVpSLn2oNs3t37oQarqZSzDPfWX1tDXbu2o3AwBA1IYuNkTzIc8zC2tWrdbHq9DYdNOzQ0DBtDCEVccuGDaipqcUJWZm6nKBp96wRHxXcHfbLzz7BqtVrdLosSLZKpAef1YVL5B+t0lhYtA8WsUrPu0g6rr/uaiHaSN78yaBqgxM+7rrrLp2uTN3s6iIHJm2rx9rCRtXZVjZIg8sPQOAJDEVtQmd1BIkjIyoA6eKYtvgwf8SF+iM5IgCJ4QEIlfskGk4FpnlSuDRIVFmY7+JXDMmudBh0jYjKRie2lDiQV+1C4QE79sqxmUr1e6CtKwca48ICdUJBZkwQuiQGo118ELJiAtEmLlAa/PZe3/8/kFuar6D2S6LFJVpKHXwRgWqwXI2N61bjhuvuxMbN+fjjnffgjntvR2SESHicCy3/WCGcIlWuWbNOF7jo0rmrVGT56DyNmD1jBsZddQOiElLx+NNP44zTx4okJNWaplCuRnzx2ef48z0PIDQ2Ff8QafCU0SNEOvUg2KjD/JmTcNudD6HSHom3P+Ranr3VKDpMKj8XRDbpQyRa4QJ/Pyf25e3A7bf9GTPnr8B9Dz2O666/WiTvYPErGZKKFygV2F/1nE7YGipx1TXXY8q3C0Xyux5/uOUaxMdGIVRa8cjQKM2VmqcFBsAt6eF0xPqyEtx/z72Y+NmXuPLmP+DWv9yrgzWBLg/CJBF7Nq/BA3/9K6bNXYT7Hnlcl6LjbqMBQrJFkrZnn/gHPvp0MtJzOuHjTz9FTk5rBNNaQST/72bPwGUTrhUpIgyvTfwEJ588RCtykDiSsb/LLh+6B+tWLcaf7roP23KL8NyLr+Hcs6lflUpgOISwbFg0ZzZuv/1ebNxZInH8B2edPUbyQWsEB2hUtWTBPFx03sXwl8brLw8+gmuvHC89BGlEbPV44tFH8NRLb2LYKWPx0mtvoFVaIoJE0nXY6jDu0vGYt3glrrn5Vtx5958RFx0p5Snl4h2UPSLkXe3P36vbXHPKJk3MlEAP+2YpbRMm0QpItN7v6oRBA/H0U08gUcr50KeOjuaSinQL9ci6YpN3ta6gHluK6rEqv07drrIGVDez6/ypYHpIsHFe8uEAG9/Zrx0Oqdv1DjeKap2679oPcSuzQksObh/ERV5axYWgQ1I4MmLMa/z9Q8tT/rdo/r58FkzHgmybx3u4RPvz5OwooKDikfpDgyWPJxjREQlIiCH5NOJAYZ5UeO62yZ1CuVCEXSSGBmwVaY1Tcyd/Mw12m1OkVVIwJROujyAfsUhg7GaSxJk5mq7bbELE8xaivLoe3Xr0QE77HCF3IURxrkYHCvcVo6qyHhki6aakJulgDiUpj5+Qq8i80onTSkqJiAtxV1SWY8++vTp6n5PdWqSgIBo8CVGa0pGwjXgWSVpImVXPLWlkcVItkCySekpCikh40ZJOP1TVVGLZiqUiPe5iP1QHBg1HDfbt3YOwyGhkZLXRFZKcDXa956LEK46ztqRQJA/S9WC0IiI01tdh9rffYs6c71Av/dYOXXsiISFRGgiXED57Cx6UiGTvkMaK5ZyZnCB5csMp5bpTJPSyskoRmENEKpYeQskBlJdXIC4+BakpSdqIsGvOGWF+7OywbJhfI0RIPEzS7parnClkE2m1EpOnTxdSsSNdyrRvvz6ad37PjbYGbBKplXtstW7VShodKQdORJGGoFok2Q2bt+nAVPscyXdwCOrlHdvlQzEp7AcgAcfFJ2LchMvxxFPP4Jnnnsdzzz+P55s7ufasHOn4m/bZzz3/rJyL/2eexPXXXPWTLQ6ag5XU52ih45uezIkWg9vE4JpB6fjHGW3w+oXt8cG4TvjH6W10ckPfzEi17aRE+2NgFeV22LRu2HigQddTXZr363er99dhW4lp/sY8+MC1I2gVwGmwN5+YjlfOb4/3LumI1y5or8sVPjQ2G1cNSMXoTvG61kRESKCW6c/hmr8j33v7pdHiRNsEZtg/CEkp6br4MbsOmzauF7Ip0ERQUuDoPkfhH3jgQTXhiYuL9epW5BXK/8TkFFUXcFZYXU2NkhK7wU7pzs2bPRczvp2F9IwMHfFvlWkuJEE+tNkc2LMzVyp5PTp17igEGKlxmuVvEjiP+kuIhaYZ+wsLsXdfAVJT05CZnoIgYTrtNh/y0iRw+RkkZJGZ1Uq7+dy0rrioVNXKDrsDu3btxDvvvo2HHvo7VqxYofo+hsBdRAuLirRLzZ1Niw6U4NmnX8CXX06SdAcgIjJKSD5WGhMDO3bsRH1dPRobGzBr5kx8++0MhIQGIjCYK/eLpCic+M2kb/DBB++joLAIxWUVmgen3amzt1zi5s2bg7/ed588O1vzQYmwsqpajf8TE6Xxi4/DiuXL8Yz0FNavWy+k54fwqGhEhHMjQaC0tFAaNalMdPKuvvtuAaZNn42gkEicd/6F6Nypo+TK/Kgry8qwZes2Id5gdGzfXldv8unXyiRttfUNQniRSJZ4c3P34Oknn8GSxcv0/tHAxap79e6Dk0eOxIiTTsKIESMwfPjwg25EMye/ed/nZ+TIk9WGlntx/dzg+4wPD0L/VlE4u3sibh2eocvyfXplF8y8qQcW3NIL/xSSuXdUK9wzshVuHZaBi3olYYiQdJuEUCWl3wIiRSIflB2N2yR/X13dFbMk7/+8tBMeOS0b1w1Kw9jO8eibFaUragWr5NCy+DUQrA8trqNlBVPpkZVQCISV97Qzz8TsBUuxbftWvPbq67j2usuRnZGAzZu34KWXXlYySEpK0WmiwV4bRZd0UVplt0G/fv2wcOlKTJs6FT26dUZaYgwWz52NJx9/XEgAGD9+HEafYq72znJmYdscTmzbtkd++KNVq0yEq27XUDLkzprm6yAR8MxPCNON3D15Il07kZ6WLkQYJ3nQJyQ/lM3lI1Gv8sfg0nGB6NO3L+LjvsZ3c+fiydAg9O3bS5636cpZGzduxKmnnirX+uo6rwEB0t0S8rcJEdfX2TBj+reYPG0WtmzaiH888ncl1yiJk3tMhYQE45uvv0Z0XKK00MD8b6dh6IDeiI9PwK7Js7FmzRqR3J7H9MmTMfLkYUJ8wUiWBokzpsqrKvHaK28iMS0Gc+fNEkJN1RXSdAdWV4CUqUjOQrhFRYX45JNPMHvGdCHAUJx39lmSLz9ktspGlx5dsXz9dkyd/hW692qDDh1aS4OxDM8++zIOFJTi4gsn4LLxExApJMhFQyiWsmEoLq1AVEKylHcrbfA4v53lbxcJmN0q7uD6xRdfiLRfh6LiUowaeZL3PRwdfJ9cGIfSivZmWChHQfOuPs9/zP/PgfAg+c7FJXt/E/2EhNkD84HfKtPP1LHhK6i2I6/CjsoG9pCkZyHSLWdDlctv+v21ggN6lNrbJ4Y17cHGwT2d5vxTXujvBS1v3uUxGp00PXJJ79ahZkW1VaXGN19+aow8eZSRmtHa6NS1m3HCgL5G25zWRnJyktGtW1fjuuuuNzZv3mo47KapjtNWb7jsDcbadeuMs867yGjVpqPRvVc/Y8iQoUb7Nq2NEYMHGq+89KJxoLjEqLE5jDqJ0yZZEiIxdm7ZYAzq1c3o2qWb8fHnk4wau9No4H2aADGNavAjZ7TZkv/lpYXGDdeNM9LSko2//vUBo6ysymh0uCUfDsPuchoSpD5l0NTL3Wg4HLXip9h4/vkXjQ4duhrx8Yni4o2EhARJ3xDj8ccfN/Lz89XMRCRaKQO7UVW617j1xquN1JQUIy4xzTjxpDHG51NmGLU2u2ETZ2+sNZYtmG2ce8YYLZNYCbOLpP+pJx43dm/fZHzw9mtGh46djNiEFKNNTgfjkUf/Yezdm2fYGuqMzRvWGmefPtZIik8w4uJSpKyyjetvud5YuXGdUSdlY29kedqMdSvmGWeefoqRkJRqJCanG5eMv8xYu3atmuI5GuvET52xVZ654orLjczMNKNT5xxj8In9jc5d5Cjl/dhjTxqF+0uNhgaWjVvNwpyOBuPZJx420hLijTGnjDLWb9xk2KXAnBKmy15vVJWXGCePGC7lk2CkpWcap55+tjF7/kJJFw3sfhz8nuh8ZfljoNmXafol5d5C37gFC4Tv26T7Bcy7zGVlGLLqP9lei1RIY/M90s3esn0HqkXyUlMX6dZFR8eKNJuMdu3a6QrvXPBYQpH/LpVIuIpP7r792Lxli04m4EImHEyhf06T5cIk5uCHPqWDNjWV5Vi/djXsHn907Nodaamp2v2lUX3Twsbij8nzOA04XHXYtHkNSkrL0bFDT7Ru1VYCYgvNDjUldOovzZF35oVnQtCoqWmQbvdG7N+fL9KLS0c8O3bsqKoSjtj7ylh39nU2qtS8ftM2UJnQuWs35LRtI5I4F3QRSU2eF3LC9h27pBu+Q7fCpr6ze7cuiIoI091Xl6xci7LyKmRkpOsst5iYKNU70wpj144dWL9+M+xOD5JT4tGpW0ckpWQg0D8IgZJP1WvbK7Fh83bs2JWvXXlaL6SnpYILPPt2Hmaai0uKsWHjepSWlsg1f13pP6dtR7RpnSMSeigkSArA+n4NjxO7d+7Arl27kJCYhM7de0reqapxgysvUee7Zu1aydcOcP/9Dp06m7ucBgVrvD/2BTI9zfFTv1nfcy3xjVuwQDT/Ng8fDDsGi8qYjrpShq6kxArHTpNcYNqkAZBTEpmpzCaad/GYNt3ETe6LTNLkSCpmimlHS8U3zbP0gj4j/5uIR5f8o2+Ng568BEs9rj7hjUf4hesW+Kl9LS9yaw8Sq5z7cTVPSbfB3xxIk0ZEiJYj8YHyjyn2SHdc88jYNE3Mlzm12AczP9R38pzRiJ+m7hbTy4tC6hKnplmcNjJyXadLyz3e4epevMZyU5/e5/kc8yv/pQELhMFl6/y5nTRndEk6WS5a/ja5xjCot2Q8Zhgah5wzcfpPdbOST0mDljHXrZAjDDoJiwoovmCmm/7FH1fS110B/NnUMXTzffG9mfmXhk7j0SDMeJuVkQULxxu03npxzK0OWP/UvtP7mzDJwzzzl1pvrnNgkhITezDBPJJUWBElqWQQAXV+XKaOiSeB6QAWvcltVmipzt6j6SQWIU4hGJGYdEFtkhglLJ7L3YMwn6B+UwPjuRw0Hv4SQlX7Lw3TzAfD5j7zKv/pYJmZJi7f58vP9yHX1drBzDPTxIFpTYsSrMSrBEU9JBsik+SUrHmBZMelkb3PaqoZscAkMTkqycnzZFsSszi2L2yIzLQTfIbPmveap1dDlTD0yCjl3F9EV9OZcdMu2l/EYzZkvsEuPUi8AVLeurKWlrX5cvRNetNpvjeGzbR502jBwm8U5I9jA7MeasVlRaSxuTkjxrxhEgWJzayIJrwPCWj8TClJK7iQC+mN3EvoM03PiUep7azWJCHar/ISpT+VyEg4TIX40UqucfiI0wfGwfSZJiIHQX98xnzu4DMmQdFpLiQtSrZeMjkcfEZppckf/cizzAbLRNJNwmJoJEuCB973SfMar/o/+LwJyScf9sKXSglJ03coeFWe1cv0I+Xqjc8HMy8UWUmuPPK+GR8JltIuidpUEEkYmlB9Oxou08bkMe2Mnr0XjZcXBLqpnzzj/fkbBfN8uGuGI1w2f8pffWfmDd/ZwSs/EU0PNH9aHMM+eDjEHQlH9tPsStOp76TZpaYzHw7eaf7r4B8+4fvnvdzs7HhDi6sODi8XHXw2z8TJTfmvv5U1DxKWWeHNh/W9KeiTP0xSIN02QdJuhtvkWU99v3hUCdZ7gTOGeJXEpr/5dNM9loWkTy75STfZjJe3vWQi12gSpo7plavqS07UJ/94y/LQ/Jgg1+hT8p/daZaF6d18hjDzzN/m87xAiZyX9Z7eZzpJWrxGf4yWz5jP6X82LiJ5ana1jMXRnz7rbTCYRw1PoOHx7kFoWTdd8IbdBJ6z9FgWcir55IG+CPNZ7xUzoeYNLw5eYnoOltHxDu1VaLZZxvxh2pn6SwPu4brMvu+P+fd5lrJjT4jfB58KYE/DcKiwrzsjSBnyXlCg9BSkpyKfg5YZy5dCBI8+G1If9LuQh7RHxBXZGC1TwvfMxtMI0Ok6jXYnQjmDkP4kHWoaqSEQ0qNS8aQZmF4P7a0ZrpzqzSAJT9LhljTLRSMwWO3Oqcby99ilFxogXWq36uJ9ja+qDcUfV+aSq6Ye392IoJBA2HktIEziksZaQg8IkIKgCvGo6xb/cjC/cxPHXEdrwcLvEeROms9RNebnzwZaCEQuOh0e2G0u3UKfS34WFRXgQGEhnCTOwCD4iwsODceJQwejfXZrBLjqdN3eOQuXoqisGh07d8bokcMRIv4iwoJ0B+VFixZj27Ztuufb6aefrgOvPpBkOVCr7bwfKz137uCYBXcvceh+dbWNDow983RdSS1ApAX2QgKViH3wyFNsMs0r/OtxsidDchRiFTJptDlR3whUFeWjpGgv8ouLUVRVD84hZJghfnakJqdg+IhTEBEagk3r12DNqlWormtA3wGDccKJQxEUFIJQCc9pr8L02dNRUFwBlycEGWnZGDSgL5ISI9Vm3N+fK4VYRGvBwu8elNRItBQuzcFEN0pLSzFjxixMmzoDu3floqa6EhXlpXAIadEyI5CTcYQUU9LS8chjj2DMycORu2MDHn74caxYtxHlldWIjovHm2++gVEnDUdJcRHefutNvP/+B7oGyLnnnovXX38dERHNFiSXuu92cjyCP5xwi4RcV1uDkNAI1NU04KILx8ElUuc/P/pId6/lusHh4aEIDw1VKdLEoUSr16XRcLscsDc2YvPmTZjx7WzMmbcEhXnb4bbVotYm94QQA8Oi4Oe2IyjAjaGDTsQDf/87ton/t954XcpgF0rKKtQy5cnnXxIyHYAQKSensxYvvfYS3nj7AxQWVGLggJPw5JMPo3fv9rqGsp+fuZDQrw1HI9pfZBdcCxZ+85A6x+4xT7jj8YYNG/DyK6/i1dfeRH5+IdLT09Grezed1FJRWYVRY07FGWefg/5CNsOGD8PggQN19tTHnO13oBjnnneeLmC+fes2tM3J0TVWv/rqa/z7X/9GZmYG2rZtizPOOEPIqPchqgPC4zKJlivNcXr7F59/qRNHuKX8d/MWSDc/UNcRXrd+PWZMn4GoyEiRPpNVsjUhUrEQG/+pYEwpViRwLvIzbdo0PP/CS5gybQZt8tG7exe0a9MK5XIvMjYRZ19wEYYNG4ohA0/AiOHDERkZhS8++wxt27TG4MEDsX6DNCDiN7N1Nvr164vggEAhZQM57dtiybJlyM0txACReM84YyxiYyMlKS5J169TddAcnJn5i283bsHCbx5SwWilwgFXzpR7+qln8a9//QeJSSmYcPnlugPHxRedr9Ym3KGiT/8B+ONtt2HkyJPQt3cvJMbFSBBukVTLMPa0U+X6KBRLd3zlypW6Mhy3X3r77XfRo0d33HnHHRg7doxuJ0/b7cMHNFUPKqTpcjuwdOkSvPLya1i5YrXUd3/dOaRRpE8EBuDN117HMrnftSsXy+8ol0xeIM1yMJnkpjpZSp0OG+bOmYMnnnwa6zdtxYDBQ3DzH27CTTdchSEnDtQdbvOLy3Hltddj/LhLMGTQCejSpYvGGRMdhdPPOA0DpDFZtGgRcvflIzU9C0OGDEFUWJjE44LN0YB/f/I56hvdmDDhMrk3EIE0AJe0mIOzxxfRHvpGLFiw8LOA5oPsqtfWVGKSSJ7ctywgIAQ33XwLbrz5Rl2EJykpHh07dEBIcAgWLVmGvfn5CAoN0p0r/AP8EB4RjlPPOFO3+4mMjECnju2REB+NpUsW4h//eBxx8fG47obrVYrt3r27SsmHC0ukJp9VB48DBw3EnX++TaTibHwmkuVWkZC3bduKD96fiPTMTNxx5x0YKAQYyP2MmoGDXdozpnJXiLaoIB8fTfxQJ9T06T8Qt915Jy644DxkiHSdnJqMzKxMFAqJr1m9TkjHI13+YHVM4+ixY3WZ05i4OJ2WzjVODhw4oDuCMAqaBe7evRu7d+0Wcu6Kfv376QAgbx7eiBwvsIjWgoUWgMiAQkxOXdpxzuzZQrh1OPW0MzF+wnjEJSRozeOkFZ2ZKORRXFSCopJSJRrCZ34YGhYpxEuSCkCOdLfTk5NQVVEufOfBTbfcomv9BocEKwGZhHoo0fp+kSR5Ly0tTaXfiy68QLdaKi0tRm1tra6pcfHFF+GMM89AegYJ+3BqkBxxu3evW7VsiRD+EiSlpGD8FZcJ2fZDYBAbCMmaOKbZ5XJh5849cHDLoUCRQr1EGRxMW2zzyEV/qNooKy1DeXmlJthhs2HKlKmSrkacfvoYdGjf5mBGjlNYRGvBQovAI0Rjx+6dO1FQUICYmHhce+11OlDFrry5L5uhg0lkEV2Fzk16PggSI0mYC/+w65+enqqO1XbosGEYOnSwEhgHYXwDMUdS/6lttjjqWXfu2Ik333gTf/3b/cjbuxdxsfEiJSeIRFmEe++5F888/Qz27NmjJN8cVBqQKVU/a7iweMECaTxq0b//CRg0ZLBu969MKs4l3WabrUHj5N5wpnmZv0jFh4Upectp1w5R0ZFK9lyalM8Xl5Rg2rSZaCcEO2bMaF3AnkGb3G/m83iDRbQWLLQI/MDNKrkGcFVVDXr06IlePXuYK4/RAJY1T4hn25bNcr8KYdExiIqJVhoRKpN/QkpCaOym04KVo9hr16zFrl25Ssrc/bfB5jUdIiGLa064Pij1yR/qDOmWL1+Jjz7+FG3a5uCZZ57G0OHD0LVbV7z6yovo1KkjJk/6RjdAJUE2QQMRsveT8IVvPXJv/foNqifu2bMXkhKSoLMbhVi5hGmFSKa7d0s6RVJNTU4UqV2NwMSPT+dL0mZ6IUQfjW5dOqOqskJ3KWmob8DE9yeisrIKN914o0jx2SL90jsTYT5zPMIiWgsWWgCmhWmQLnfo9Ph5t/qJ0oV3uBNGMHfZqKrUpUEddhuyWmWglThKu5wByUWJuBC+n7tBuNaODevW4tPPPkeDUwgvKARr1m5ESXmZSokkV9807cOJVmmNtVxIMCAwBIMGD8XfHnhQJNoH0b1Xb5SUlaC+vgY9u3XGYw89gPvuvRsjhg45dN1e8iL3kRNHojX8Q1BnNxAaFoXUpBRE0PaXUqsQsPAs9u0vwc7deSKJBqFbp7YIDxOJlATNZ8W5hXBdnIIuSY0MD0antq1gq69FcWkJ1m7chMnTZ+LEwcMw5pRTzb3V5BlOoCBRm6Zdxx8sorVgoQWgOk4hk8Agn/6UUif5TohPpFQa/K9cuRrrNmxCsHS7hwm5paemgDIft4U3PA4hnzrYHU7kSlf+ww8/RkV1HS4dNx7xCQko3JeHfXLd5XCh6MABnfxwZKIVMF5Ngz+y2+TgvPMuQLfuPcwb8t9c9Q1qaXDhBecjJ6et+j0ElCiZdrnukbwFBofK7wAEck0LRinSMmc5NtTbsHARB/YK0L5De/Tu1Q1hIUHSePB5MygqEFSqlXCCQkJEas2SXwY2b92OiR99pPeuv+EmJMQnypmv3Pgkz5kub0DHESyitWChBSCchyAh2YyMTLUeyM/fq3pQUgR1lrtz8/DJF5OQW1CM3n374+KLLzQXpKce0+1ETVU5PvzgfXz48Wd48dW3sXLNepxx5llKhFkZabA31mDRnFnYs3M73n77bUyaNAkNDQ1m5IfBJ/GSPGnKyQlKRGRkJP70pz+p48AYESJpONwOV4lNRFEmjZzKNUBoLVFfX499+/aiobFerRLob9ny5WrfGygSMQfdOnXsoKvSkSi/R4+SLn+52qZdOymrQCyaPx+zZ83C+eefr5YUVLMw3b8FWHa0Fiy0CIRchJBooJ+Xl4slSxbLMU+3O1+1ejVeffV1zJg5D91798V999+Pnn16SfdYJEQRDwMMJ3ZtWS/d+0fx9bQ5yM3bh/MvvEi3zk5OSsD6NSIJr16F3N07sXjRIhQVFwmpnaqTFrim8w/VY+pom0uq9MsdMDIyMpR8fXpeHg+XaF0ezg3TXMlff5FSw3Rd4Y2bN6vOuba2BpO+/grPPf8CyioqcMkll+LGG25AUiJ3BpFnhKV1AoSEzWFAhsW1pP1cNtTU1WPa9Fkoq6zBScOH4dY//VG3V2I6yE3HIy9ZExYsWDhm8BNJMQbt27fTRdy/nTlDZ1LNmTMXjY12Ic9Lcc8996JPvz4i8QXojCh4OErvwOb1a4WI58PhCcTF4yfguuuu0UXZgwODEBkRgl3bt6G8rBzxCbSlvRGjR49WsiRRfl8ilYou13ykdbgj4ZIMec6j77w5qFvV9YUpgxr+yMrMRFZWpq6xMHXadCHK6VixfBnaCNnfdtttuPLKK9WUjANhXGeYT1IepgrBJdxDc1wucuPvcaGyrBTTZn2nWx/ddusf0bd3zybi97njDYcTrbXWgQULLQCzu25Ov6WtbF1djVoX2GxO6RIHIzQ0HLFxcSY5KplQTuQzDjm6YW+oRQE3+QyOQUJCAiLDQ3UgzVwT2Y2ykiI0NtQjLCIGsQlJ2s32kdLh0uj/CmoFuH4X2cFU1VKNIGkVEqmqrkZlTQ3sTqfu5Mzpu7ExMbpCl7IJH5B0Ey6XS5c75apeklLA2SD/q/Daiy/irY++xFU3/RE3XncV4qMi1b8Pxwsv8Z37YC0qY8HCMQDrnElG0uX292iF02UuPea6viroSH2jH+VFHVESJ0eu8kUDL2owfQu8854uri4P6oCaXqOlgXTFhfh8Uix1miTdnxNMmSaXzkziwTTKRTpujy9ys0qwfIA2F6Ze1vc0pTyPLofoFImYkxVsNZX4fOI7eOmlVzBo1On44133on12FoKa8mfit0C0P2/TZ8GCBRMkI2EgjpKTbHQtZBIP2UfuUaIjGQVwGUWvlOqjMyMgCB5/EX78ufWQXBFyNUmWFZmkQwLmRAYNUCVYXyU/VqSkJKukb/4iaJGgyZR/0n6YyW2CEKyQz6qVqzB16lRs2LAJH06ciNdeexMdO3bGNVdfidZZGVpGxzovxwKWRGvBQguAkqryBcU/UKqh5CrUSmNSIUkdVFKxVuodqYkEQxIV4qQqwSdBBqgfudeMtMy6SlITAm5WZ3lOifZIOtr/BYzaF720CwpTotXkSlpJrZILkVS1HWH65Iq5px99mfmsKC/Hk089g0lTZyKrdTb27NiGdiLBPvLQA+jRtz8CuNEni0Ae8ak/fNYSxwN8DQRhqQ4sWDgGoH52b6UNi3NrsE+O7FpP6JeKtgk/tGi10pZ5Kjj016H4tdfV76ddrsj/fXm78ec778TXU2YgISUdp51xFq668nL0791dd5PQXR24Mpd3BtnxBotoLVg4hiirc+Jv03IxZXM5auxupEQGo3V8CJ44sw36ZUV7ff3+UFtVgbVrV6Oyuh6xSSno0LGTWmVwqUhuqEPp1yJaCxYsHALqIVfuq8Hz3+1HSa0D/YVE48ID8ey8/YgKDcCEvsk4v2cSsmJDpPt7sG6xS61d5GbVjXX0p1Q/+uOu0aGBx9/wisflgJt2XSRSIVS1p5VM6/Y5hrl2r641S33EcQiLaC1YaAEUC7lmP7wcNhqGNgNJMDxYXFCAEm9USIB2i4kgIcno0EDEChGHBvk3kSvXROAzPwab00B2fCgu6Z2EDskH9wY7HkAiNWd6+akFgh9NwMhNUga0tfXpnL+/ROPxAYtoLVhoAZTWOdHz6VU4UOPwXjl2GN0xDt/eyPUKjh80JyJzS30vy6qT+75fxykPHY1oj8+mw4KFXwFqbC5kx4UiLToYQ9vGqOskUmZqVLAprXr9tQRyK2zes+MHak1BEmXBULBT5QH3M/PoPZ/7LcKSaC1Y+H/g220VeG7+fnRJDcfZ3RKRKmRLUAVAVYLd6ZFzNyobXahq5mxy/aDcc3Q4pXvNsMrrXRoW4fKY675eNSAVl/fnIuDHD3yWwgHCNf5q8uZTuQTo0omkXQ6DHa/S39EkWotoLVj4f+Bfq4sRFhSAkR3iVAd7pKrDeueWPx5xwpl65LWfSrT0SFqmWpPPei+pQMjBtmDOwjqOQMph+mkbrESrkzQkN36BFtFasGDh9wnSRq3NrVvpcOvzH4I5XeHHucMnv6oZl5Atn1TbWeGdIN9aDXr/+IRFtBYsWPivsWpfDfo/v9b7q2XQPS0CKVFBePjUbAxoHaNmb8crjka01mCYBQsWjojHZ+d7z1oOGw/UY/aOKjw6cx/q7CYp/RZhEa0FCxaOiGsGpiE+/OddCeyHwM40J3L8VmGpDixYsHBEcObb7O2VqHPQBAtwuX06Va8HL9xyvaDajgdn5MHmMnBpnySc3D5OJ2ccDi78TftjTlPmQCHRNiEMPdIjMKD18T092dLRWrBg4X8GeeRIFMHrDrcHu8oa1XwtOyEUsaHm4Nb3YcDJNWnF+WiJM+mORMrHGyyitWDBgoUWxtGI1tLRWrBgwUILwyJaCxYsWGhhWERrwYIFCy0Mi2gtWLBgoYVhEa0FCxYstDAsorVgwYKFFoZFtBYsWLDQwrCI1oIFCxZaGBbRWrBgwUILwyJaCxYsWGhhWERrwYIFCy0Mi2gtWLBgoYVhEa0FCxYstDAsorVgwYKFFoZFtBYsWLDQwrCI1oIFCxZaGBbRWrBgwUILwyJaCxYsWGhh+NltjUZwCLey8V6wtrOxYMGChf8avq1seHQ6nbA1Vh3cM6y6stjw8/cHt0rzk38WLFiwYOH/g4N7hnk8wqgep5yZ1/wqy/MP3rVgwYIFCz87LB2tBQsWLLQwLKK1YMGChRaGRbQWLFiw0MKwiNaCBQsWWhTA/wEVElrIrbQc8wAAAABJRU5ErkJggg==\" alt=\"Drawing\" style=\"width: 300px;\"/> \n"
   ]
  },
  {
   "cell_type": "markdown",
   "id": "452471a0",
   "metadata": {},
   "source": [
    "1. As per the equation we can see correlation is unit less\n",
    "\n",
    "\n",
    "2. For example we kan take two variable of unit km, COV(x,y) gives unit in KM^2, sigma(x) unit KM,sigma(y) unit in KM\n",
    "\n",
    "\n",
    "3. So as per correlation equation unit of correlation= KM^2/(KM*KM), which is 1 thats why correlation is unitless."
   ]
  },
  {
   "cell_type": "markdown",
   "id": "25de7c6b-941f-4f0f-94c3-44f4638b6f50",
   "metadata": {},
   "source": [
    "# Why Manhattan distance is preferred in high dimensional data."
   ]
  },
  {
   "cell_type": "code",
   "execution_count": null,
   "id": "24e3718b-d95f-4510-a12f-4234de530d46",
   "metadata": {},
   "outputs": [],
   "source": []
  },
  {
   "cell_type": "code",
   "execution_count": null,
   "id": "84fb2e54-0ea3-4164-9e9d-89e18f9375f7",
   "metadata": {},
   "outputs": [],
   "source": []
  },
  {
   "cell_type": "code",
   "execution_count": null,
   "id": "e9de99b3-79d4-435e-9e70-8ad05ae3e67b",
   "metadata": {},
   "outputs": [],
   "source": []
  },
  {
   "cell_type": "code",
   "execution_count": null,
   "id": "597456f1-090e-4583-9fb6-859c0e348e4b",
   "metadata": {},
   "outputs": [],
   "source": []
  },
  {
   "cell_type": "code",
   "execution_count": null,
   "id": "c55421cd-cc74-4368-b5bc-059e6f9bae1b",
   "metadata": {},
   "outputs": [],
   "source": []
  },
  {
   "cell_type": "code",
   "execution_count": null,
   "id": "559837c5-e229-48f2-8a38-f6fc37f46f26",
   "metadata": {},
   "outputs": [],
   "source": []
  }
 ],
 "metadata": {
  "kernelspec": {
   "display_name": "anaconda-2022.05-py39",
   "language": "python",
   "name": "conda-env-anaconda-2022.05-py39-py"
  },
  "language_info": {
   "codemirror_mode": {
    "name": "ipython",
    "version": 3
   },
   "file_extension": ".py",
   "mimetype": "text/x-python",
   "name": "python",
   "nbconvert_exporter": "python",
   "pygments_lexer": "ipython3",
   "version": "3.9.12"
  }
 },
 "nbformat": 4,
 "nbformat_minor": 5
}
