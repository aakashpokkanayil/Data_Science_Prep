{
 "cells": [
  {
   "cell_type": "markdown",
   "metadata": {},
   "source": [
    "# Topics"
   ]
  },
  {
   "cell_type": "markdown",
   "metadata": {},
   "source": [
    "## 1. [Introduction](Introduction.ipynb)\n",
    "- #### [Basics](Order1_Statistics_Basics/Statistics_Basics.ipynb)\n",
    "- #### [Types of measure](Order2_Types_Of_Measures/Types_Of_Measures.ipynb)\n",
    "- #### [Types of stats](Types_Of_Statistics.ipynb)\n",
    "- #### [Descriptive stats](Order3_Descriptive_Statistics/Descriptive_Statistics.ipynb)"
   ]
  },
  {
   "cell_type": "markdown",
   "metadata": {},
   "source": [
    "## 2. [Stats Interview Questions](Order0_Interview_Question/Stats_Interview_Questions.ipynb)"
   ]
  },
  {
   "cell_type": "markdown",
   "metadata": {},
   "source": [
    "## 3. [eda](eda.ipynb)"
   ]
  },
  {
   "cell_type": "markdown",
   "metadata": {},
   "source": [
    "## 4. [Z_score_standarization_Population_sample_CLT](Z_score_standarization_Population_sample_CLT.pdf) "
   ]
  },
  {
   "cell_type": "markdown",
   "metadata": {},
   "source": [
    "## 5. [Hypothesis testing](hypothesis.ipynb) "
   ]
  },
  {
   "cell_type": "markdown",
   "metadata": {},
   "source": []
  },
  {
   "cell_type": "code",
   "execution_count": null,
   "metadata": {
    "vscode": {
     "languageId": "plaintext"
    }
   },
   "outputs": [],
   "source": []
  }
 ],
 "metadata": {
  "language_info": {
   "name": "python"
  }
 },
 "nbformat": 4,
 "nbformat_minor": 2
}
