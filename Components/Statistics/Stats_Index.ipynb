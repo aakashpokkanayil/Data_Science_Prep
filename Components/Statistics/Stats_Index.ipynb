{
 "cells": [
  {
   "cell_type": "markdown",
   "metadata": {},
   "source": [
    "# Topics"
   ]
  },
  {
   "cell_type": "markdown",
   "metadata": {},
   "source": [
    "## 1. [Introduction](Introduction.ipynb)\n",
    "- #### [Basics](Order1_Statistics_Basics/Statistics_Basics.ipynb)\n",
    "- #### [Types of measure](Order2_Types_Of_Measures/Types_Of_Measures.ipynb)\n",
    "- #### [Types of stats](Types_Of_Statistics.ipynb)\n",
    "- #### [Descriptive stats](Order3_Descriptive_Statistics/Descriptive_Statistics.ipynb)"
   ]
  },
  {
   "cell_type": "markdown",
   "metadata": {},
   "source": [
    "## 2. [Stats Interview Questions](Order0_Interview_Question/Stats_Interview_Questions.ipynb)\n",
    "- #### [HT Questions](Order5_Probability_Distributions/HT-Numericals.pdf)"
   ]
  },
  {
   "cell_type": "markdown",
   "metadata": {},
   "source": [
    "## 3. [eda](eda.ipynb)"
   ]
  },
  {
   "cell_type": "markdown",
   "metadata": {},
   "source": [
    "## 4. [eda_2](Order7_EDA/eda.ipynb)"
   ]
  },
  {
   "cell_type": "markdown",
   "metadata": {},
   "source": [
    "## 5. [Z_score_standarization_Population_sample_CLT](Z_score_standarization_Population_sample_CLT.pdf) \n",
    "- #### [Z Score](ZScore.ipynb)"
   ]
  },
  {
   "cell_type": "markdown",
   "metadata": {},
   "source": [
    "## 6. [Hypothesis testing](hypothesis.ipynb) \n",
    "- #### [Hypothesis Testing](Order6_Hypothesis_Testing/HypothesisTesting.ipynb)\n",
    "- #### [Types_of_Error_in_HT](Order6_Hypothesis_Testing/Types_of_Error_in_HT.ipynb)\n",
    "- #### [HypotestingCodingPart](Order6_Hypothesis_Testing/HypotestingCodingPart.ipynb)\n",
    "- #### [ChisquareTest](Order6_Hypothesis_Testing/ChisquareTest.ipynb)\n",
    "- #### [Anova](Order6_Hypothesis_Testing/Anova.ipynb)\n",
    "- #### [Machine_Learning_Concepts_Hackers_Realm](Order6_Hypothesis_Testing/Machine_Learning_Concepts_Hackers_Realm.ipynb)\n",
    "\n",
    "\n",
    "\n",
    "\n"
   ]
  },
  {
   "cell_type": "markdown",
   "metadata": {},
   "source": [
    "## 6. [Probability]() \n",
    "- #### [Basics Prob](Order4_Probability/AAAOrder1_Basic_Probability.ipynb)\n",
    "- #### [Conditional Prob](Order4_Probability/AAAOrder2_ConditionalProbability.ipynb)\n",
    "- #### [Dependent And IndependentEvents](Order4_Probability/AAAOrder3_DependentAndIndependentEvents.ipynb)\n",
    "- #### [Bayes Theorem](Order4_Probability/AAAOrder4_Bayes_Theorem.ipynb)\n",
    "- #### [Expectation](Order4_Probability/AAAOrder5_Expectation.ipynb)\n",
    "- #### [Prob Distributions](Order5_Probability_Distributions/Distributions.ipynb)"
   ]
  },
  {
   "cell_type": "markdown",
   "metadata": {},
   "source": [
    "## 6. [Linear Algebra]() \n",
    "- #### [Basics](Order8_LinearAlgebra/LinearAlgebra.ipynb)\n",
    "- #### [Linear_Algebra PDF](Order8_LinearAlgebra/Linear_Algebra.pdf)\n"
   ]
  },
  {
   "cell_type": "code",
   "execution_count": null,
   "metadata": {
    "vscode": {
     "languageId": "plaintext"
    }
   },
   "outputs": [],
   "source": []
  }
 ],
 "metadata": {
  "language_info": {
   "name": "python"
  }
 },
 "nbformat": 4,
 "nbformat_minor": 2
}
