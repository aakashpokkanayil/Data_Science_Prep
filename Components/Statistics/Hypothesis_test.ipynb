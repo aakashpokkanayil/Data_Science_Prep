{
 "cells": [
  {
   "cell_type": "markdown",
   "id": "7ef66566",
   "metadata": {},
   "source": [
    "### May_27_Hypothesis_Test"
   ]
  },
  {
   "cell_type": "markdown",
   "id": "0add3d82",
   "metadata": {},
   "source": [
    "# Confidence level confidence interval"
   ]
  },
  {
   "cell_type": "code",
   "execution_count": 1,
   "id": "177ac7f3",
   "metadata": {},
   "outputs": [],
   "source": [
    "import pandas as pd\n",
    "import numpy as np\n",
    "import scipy.stats as st"
   ]
  },
  {
   "cell_type": "code",
   "execution_count": 2,
   "id": "f2df9c17",
   "metadata": {},
   "outputs": [
    {
     "data": {
      "text/html": [
       "<div>\n",
       "<style scoped>\n",
       "    .dataframe tbody tr th:only-of-type {\n",
       "        vertical-align: middle;\n",
       "    }\n",
       "\n",
       "    .dataframe tbody tr th {\n",
       "        vertical-align: top;\n",
       "    }\n",
       "\n",
       "    .dataframe thead th {\n",
       "        text-align: right;\n",
       "    }\n",
       "</style>\n",
       "<table border=\"1\" class=\"dataframe\">\n",
       "  <thead>\n",
       "    <tr style=\"text-align: right;\">\n",
       "      <th></th>\n",
       "      <th>age</th>\n",
       "      <th>sex</th>\n",
       "      <th>cp</th>\n",
       "      <th>trestbps</th>\n",
       "      <th>chol</th>\n",
       "      <th>fbs</th>\n",
       "      <th>restecg</th>\n",
       "      <th>thalach</th>\n",
       "      <th>exang</th>\n",
       "      <th>oldpeak</th>\n",
       "      <th>slope</th>\n",
       "      <th>ca</th>\n",
       "      <th>thal</th>\n",
       "      <th>target</th>\n",
       "    </tr>\n",
       "  </thead>\n",
       "  <tbody>\n",
       "    <tr>\n",
       "      <th>0</th>\n",
       "      <td>52</td>\n",
       "      <td>1</td>\n",
       "      <td>0</td>\n",
       "      <td>125</td>\n",
       "      <td>212</td>\n",
       "      <td>0</td>\n",
       "      <td>1</td>\n",
       "      <td>168</td>\n",
       "      <td>0</td>\n",
       "      <td>1.0</td>\n",
       "      <td>2</td>\n",
       "      <td>2</td>\n",
       "      <td>3</td>\n",
       "      <td>0</td>\n",
       "    </tr>\n",
       "    <tr>\n",
       "      <th>1</th>\n",
       "      <td>53</td>\n",
       "      <td>1</td>\n",
       "      <td>0</td>\n",
       "      <td>140</td>\n",
       "      <td>203</td>\n",
       "      <td>1</td>\n",
       "      <td>0</td>\n",
       "      <td>155</td>\n",
       "      <td>1</td>\n",
       "      <td>3.1</td>\n",
       "      <td>0</td>\n",
       "      <td>0</td>\n",
       "      <td>3</td>\n",
       "      <td>0</td>\n",
       "    </tr>\n",
       "    <tr>\n",
       "      <th>2</th>\n",
       "      <td>70</td>\n",
       "      <td>1</td>\n",
       "      <td>0</td>\n",
       "      <td>145</td>\n",
       "      <td>174</td>\n",
       "      <td>0</td>\n",
       "      <td>1</td>\n",
       "      <td>125</td>\n",
       "      <td>1</td>\n",
       "      <td>2.6</td>\n",
       "      <td>0</td>\n",
       "      <td>0</td>\n",
       "      <td>3</td>\n",
       "      <td>0</td>\n",
       "    </tr>\n",
       "    <tr>\n",
       "      <th>3</th>\n",
       "      <td>61</td>\n",
       "      <td>1</td>\n",
       "      <td>0</td>\n",
       "      <td>148</td>\n",
       "      <td>203</td>\n",
       "      <td>0</td>\n",
       "      <td>1</td>\n",
       "      <td>161</td>\n",
       "      <td>0</td>\n",
       "      <td>0.0</td>\n",
       "      <td>2</td>\n",
       "      <td>1</td>\n",
       "      <td>3</td>\n",
       "      <td>0</td>\n",
       "    </tr>\n",
       "    <tr>\n",
       "      <th>4</th>\n",
       "      <td>62</td>\n",
       "      <td>0</td>\n",
       "      <td>0</td>\n",
       "      <td>138</td>\n",
       "      <td>294</td>\n",
       "      <td>1</td>\n",
       "      <td>1</td>\n",
       "      <td>106</td>\n",
       "      <td>0</td>\n",
       "      <td>1.9</td>\n",
       "      <td>1</td>\n",
       "      <td>3</td>\n",
       "      <td>2</td>\n",
       "      <td>0</td>\n",
       "    </tr>\n",
       "  </tbody>\n",
       "</table>\n",
       "</div>"
      ],
      "text/plain": [
       "   age  sex  cp  trestbps  chol  fbs  restecg  thalach  exang  oldpeak  slope  \\\n",
       "0   52    1   0       125   212    0        1      168      0      1.0      2   \n",
       "1   53    1   0       140   203    1        0      155      1      3.1      0   \n",
       "2   70    1   0       145   174    0        1      125      1      2.6      0   \n",
       "3   61    1   0       148   203    0        1      161      0      0.0      2   \n",
       "4   62    0   0       138   294    1        1      106      0      1.9      1   \n",
       "\n",
       "   ca  thal  target  \n",
       "0   2     3       0  \n",
       "1   0     3       0  \n",
       "2   0     3       0  \n",
       "3   1     3       0  \n",
       "4   3     2       0  "
      ]
     },
     "execution_count": 2,
     "metadata": {},
     "output_type": "execute_result"
    }
   ],
   "source": [
    "cardio=pd.read_csv(\"Cardio_vascular.csv\")\n",
    "cardio.head()"
   ]
  },
  {
   "cell_type": "markdown",
   "id": "60916c37",
   "metadata": {},
   "source": [
    "### Calculate the confidence interval on different parameters"
   ]
  },
  {
   "cell_type": "markdown",
   "id": "20b8f662",
   "metadata": {},
   "source": [
    "Confidence Intervals Using the Normal Distribution\n",
    "If we’re working with larger samples\n",
    "(n≥30), we can assume that the \n",
    "sampling distribution of the sample mean is \n",
    "normally distributed (thanks to the Central Limit Theorem) and \n",
    "can instead use the norm.interval() function from \n",
    "the scipy.stats library."
   ]
  },
  {
   "cell_type": "markdown",
   "id": "d29329be",
   "metadata": {},
   "source": [
    "**scipy.norm.interval function is used to calculate confidence Intervals for the large dataset where the n>30 .**"
   ]
  },
  {
   "cell_type": "code",
   "execution_count": 5,
   "id": "19e4facb",
   "metadata": {},
   "outputs": [
    {
     "data": {
      "text/plain": [
       "(243.34935246016116, 248.65064753983884)"
      ]
     },
     "execution_count": 5,
     "metadata": {},
     "output_type": "execute_result"
    }
   ],
   "source": [
    "import scipy.stats as st\n",
    "st.norm.interval(confidence=0.90,loc=np.mean(cardio[\"chol\"]),scale=st.sem(cardio[\"chol\"]))"
   ]
  },
  {
   "cell_type": "code",
   "execution_count": 6,
   "id": "d8bb7940",
   "metadata": {},
   "outputs": [
    {
     "data": {
      "text/plain": [
       "(242.8415586477306, 249.1584413522694)"
      ]
     },
     "execution_count": 6,
     "metadata": {},
     "output_type": "execute_result"
    }
   ],
   "source": [
    "st.norm.interval(confidence=0.95,loc=np.mean(cardio[\"chol\"]),scale=st.sem(cardio[\"chol\"]))"
   ]
  },
  {
   "cell_type": "markdown",
   "id": "66e93210",
   "metadata": {},
   "source": [
    "## another example"
   ]
  },
  {
   "cell_type": "markdown",
   "id": "9c8b5edd",
   "metadata": {},
   "source": [
    "**The following example shows how to calculate a confidence interval for the true population mean height (in inches) of a certain species of plant, using a sample of 50 plants:**"
   ]
  },
  {
   "cell_type": "code",
   "execution_count": 7,
   "id": "39d34622",
   "metadata": {},
   "outputs": [],
   "source": [
    "# define  sample data\n",
    "np.random.seed(0)\n",
    "data=np.random.randint(10,30,50) # 50 samples btw 10 and 30"
   ]
  },
  {
   "cell_type": "code",
   "execution_count": 8,
   "id": "47d742ad",
   "metadata": {},
   "outputs": [
    {
     "data": {
      "text/plain": [
       "array([22, 25, 10, 13, 13, 17, 19, 29, 28, 14, 16, 22, 11, 16, 17, 24, 27,\n",
       "       15, 23, 18, 19, 29, 26, 29, 15, 25, 25, 10, 28, 13, 27, 29, 29, 29,\n",
       "       24, 17, 10, 11, 19, 10, 20, 13, 21, 28, 12, 10, 10, 14, 15, 16])"
      ]
     },
     "execution_count": 8,
     "metadata": {},
     "output_type": "execute_result"
    }
   ],
   "source": [
    "data"
   ]
  },
  {
   "cell_type": "code",
   "execution_count": 9,
   "id": "19eb0c31",
   "metadata": {},
   "outputs": [
    {
     "data": {
      "text/plain": [
       "(17.695874465475686, 20.78412553452431)"
      ]
     },
     "execution_count": 9,
     "metadata": {},
     "output_type": "execute_result"
    }
   ],
   "source": [
    "st.norm.interval(confidence=0.90,loc=np.mean(data),scale=st.sem(data))"
   ]
  },
  {
   "cell_type": "code",
   "execution_count": 10,
   "id": "1701ea03",
   "metadata": {},
   "outputs": [
    {
     "data": {
      "text/plain": [
       "(16.821910186405187, 21.65808981359481)"
      ]
     },
     "execution_count": 10,
     "metadata": {},
     "output_type": "execute_result"
    }
   ],
   "source": [
    "st.norm.interval(confidence=0.99,loc=np.mean(data),scale=st.sem(data))"
   ]
  },
  {
   "cell_type": "markdown",
   "id": "629bc51c",
   "metadata": {},
   "source": [
    "there is 99% chance that the CI of 16.82,21.65 contains the true population mean height of the plants."
   ]
  },
  {
   "cell_type": "markdown",
   "id": "e8bff127",
   "metadata": {},
   "source": [
    "# Confidence Intervals Using the t Distribution"
   ]
  },
  {
   "cell_type": "markdown",
   "id": "f63be211",
   "metadata": {},
   "source": [
    "**If we’re working with a small sample (n <30), we can use the t.interval() function from the scipy.stats library to calculate a confidence interval for a population mean.**\n"
   ]
  },
  {
   "cell_type": "markdown",
   "id": "eac69c97",
   "metadata": {},
   "source": [
    "**Example:- calculate a confidence interval for the true population mean height (in inches) of a certain species of plant, using a sample of 15 plants:**"
   ]
  },
  {
   "cell_type": "code",
   "execution_count": 11,
   "id": "71803ca4",
   "metadata": {},
   "outputs": [
    {
     "data": {
      "text/plain": [
       "array([18, 27, 25, 14, 19, 20, 11, 11, 17, 19, 13, 16, 21, 24, 28])"
      ]
     },
     "execution_count": 11,
     "metadata": {},
     "output_type": "execute_result"
    }
   ],
   "source": [
    "data1=np.random.randint(10,30,15)\n",
    "data1"
   ]
  },
  {
   "cell_type": "code",
   "execution_count": 13,
   "id": "65453f23",
   "metadata": {},
   "outputs": [
    {
     "data": {
      "text/plain": [
       "(15.85619382151231, 21.877139511821024)"
      ]
     },
     "execution_count": 13,
     "metadata": {},
     "output_type": "execute_result"
    }
   ],
   "source": [
    "st.t.interval(confidence=.95,df=len(data1)-1,loc=np.mean(data1),scale=st.sem(data1))"
   ]
  },
  {
   "cell_type": "markdown",
   "id": "76e77bca",
   "metadata": {},
   "source": [
    "# hypothesis testing"
   ]
  },
  {
   "cell_type": "markdown",
   "id": "2bde3f05",
   "metadata": {},
   "source": [
    "Statistical Analysis\n",
    "\n",
    "Important terms used in statistics while interpreting the results.\n",
    "\n",
    "Population: The entire data or entire possible observations.\n",
    "    \n",
    "Sample: A subset of observations taken from population. \n",
    "    As the sample size increases sample will represent the \n",
    "    population more closely(Law of Large Numbers).\n",
    "    \n",
    "Parameters: It's the property of population which \n",
    "    we are interested in and never know the exact \n",
    "    value unless we do analysis on entire population\n",
    "    (which is never the case) eg. mean( μ).\n",
    "    \n",
    "Estimates: It's sample idea/value about the population parameters. \n",
    "    The entire goal of statistics is to make these sample estimates \n",
    "    as close as population parameters eg, average( x¯) \n",
    "    is the best possible sample estimate of  μ .\n",
    "    \n",
    "Descriptive Statistics: It's for summarizing data.\n",
    "    \n",
    "Inferential Statistics: It's for drawing conclusions \n",
    "    about the population from samples eg., \n",
    "    estimating population mean( μ ) using sample average( x¯ ).\n",
    "    \n",
    "Parametric Statistics: Statistical methods where we assume a \n",
    "    distribution of the data such as Gaussian.\n",
    "    \n",
    "Non-Parametric Statistics: Statistical methods where we do not assume \n",
    "    any distribution of the data ie., distribution free.\n",
    "    \n",
    "Statistical Hypothesis Tests: Methods that quantify the likelihood of \n",
    "    observing the result given an assumption or expectation about the result. \n",
    "    We will talk on this more later.\n",
    "    \n",
    "Estimation Statistics: Methods that quantify the uncertainty of a result \n",
    "    using confidence intervals."
   ]
  },
  {
   "attachments": {
    "Hypothesis_test_tree.png": {
     "image/png": "[encoded data removed]"
    }
   },
   "cell_type": "markdown",
   "id": "d1f099ba",
   "metadata": {},
   "source": [
    "![Hypothesis_test_tree.png](attachment:Hypothesis_test_tree.png)"
   ]
  },
  {
   "cell_type": "markdown",
   "id": "43ad28fa",
   "metadata": {},
   "source": [
    "\n"
   ]
  },
  {
   "cell_type": "markdown",
   "id": "760ab788",
   "metadata": {},
   "source": [
    "# paired samples t-test\n"
   ]
  },
  {
   "cell_type": "markdown",
   "id": "9c4fae32",
   "metadata": {},
   "source": [
    "A paired samples t-test is used to compare the means of two samples when each \n",
    "observation in one sample can be paired with an observation in the other sample."
   ]
  },
  {
   "cell_type": "markdown",
   "id": "8166d095",
   "metadata": {},
   "source": [
    "#### Sports training program- example 1"
   ]
  },
  {
   "cell_type": "markdown",
   "id": "b012d3d0",
   "metadata": {},
   "source": [
    "Suppose we want to know whether or not a certain training program is able to \n",
    "increase the max vertical jump (in inches) of college basketball players.\n",
    "To test this, we may recruit a simple random sample of 20 college basketball \n",
    "players and measure each of their max vertical jumps. Then, we may have each \n",
    "player use the training program for one month and then measure their max vertical \n",
    "jump again at the end of the month.\n",
    "\n",
    "\n",
    "A paired samples t-test is commonly used in two scenarios:\n",
    "\n",
    "    1. A measurement is taken on a player before and after training program – \n",
    "    e.g. the max vertical jump of college basketball players is measured before \n",
    "    and after participating in a training program.\n",
    "    \n",
    "        \n",
    "In both cases we are interested in comparing the mean measurement between two groups \n",
    "in which each observation in one sample can be paired with an observation \n",
    "in the other sample."
   ]
  },
  {
   "cell_type": "code",
   "execution_count": 14,
   "id": "57e4ff92",
   "metadata": {},
   "outputs": [],
   "source": [
    "before_training=[22,20,19,24,25,25,28,22,30,27,24,18,16,19,19,28,24,25,25,23]\n",
    "after_training=[24,22,19,22,28,26,28,24,30,29,25,20,17,18,18,28,26,27,27,24]"
   ]
  },
  {
   "cell_type": "markdown",
   "id": "adb8d66f",
   "metadata": {},
   "source": [
    "Step 2: Define the hypotheses.\n",
    "We will perform the paired samples t-test with the following hypotheses:\n",
    "\n",
    "•H0: μ1 = μ2 (the two population means are equal)\n",
    "\n",
    "•H1: μ1 ≠ μ2 (the two population means are not equal)\n"
   ]
  },
  {
   "cell_type": "code",
   "execution_count": 15,
   "id": "ce86cc2e",
   "metadata": {},
   "outputs": [
    {
     "data": {
      "text/plain": [
       "TtestResult(statistic=-3.22617331116718, pvalue=0.004445370704412228, df=19)"
      ]
     },
     "execution_count": 15,
     "metadata": {},
     "output_type": "execute_result"
    }
   ],
   "source": [
    "import scipy.stats as stats\n",
    "#performing the paired sample t test\n",
    "stats.ttest_rel(before_training,after_training)"
   ]
  },
  {
   "cell_type": "markdown",
   "id": "b01da9d9",
   "metadata": {},
   "source": [
    "here p value is <0.05(alpha value or significant level) we are able to reject null hypothesis.\n",
    "\n",
    "the max jump of the student has better after the training program."
   ]
  },
  {
   "cell_type": "markdown",
   "id": "ef154f8b",
   "metadata": {},
   "source": [
    "### Compare Medical Procedures Using Hypothesis Tests -example -2"
   ]
  },
  {
   "cell_type": "markdown",
   "id": "cac252e9",
   "metadata": {},
   "source": [
    "**suppose a doctor believes that a new drug is able to reduce blood pressure in obese patients. To test this, he may measure the blood pressure of 15 patients before and after using the new drug for one month.**\n"
   ]
  },
  {
   "cell_type": "markdown",
   "id": "883500a0",
   "metadata": {},
   "source": [
    "# paired samples t- test- "
   ]
  },
  {
   "cell_type": "markdown",
   "id": "94d4312c",
   "metadata": {},
   "source": [
    "**The doctor will perform a paired samples t- test using the following hypotheses:**"
   ]
  },
  {
   "cell_type": "markdown",
   "id": "4a6c8106",
   "metadata": {},
   "source": [
    "**•H0: μafter = μbefore (the mean blood pressure is the same before and after using the drug)**\n",
    "\n",
    "**•HA: μafter < μbefore (the mean blood pressure is less after using the drug)**\n",
    "    \n",
    "**If the p-value of the test is less than some significance level (e.g. α = .05), then Doctor can reject the null hypothesis and conclude that the new drug leads to reduced blood pressure.**\n"
   ]
  },
  {
   "cell_type": "code",
   "execution_count": 17,
   "id": "f34c9e4e",
   "metadata": {},
   "outputs": [],
   "source": [
    "before_BP = [120, 108, 184, 93, 125, 98, 184, 187, 195, 191, 183, 189, 177, 168, 191]\n",
    "after_BP = [112, 109, 188, 90, 127, 90, 188, 190, 190, 196, 188, 189, 181, 134, 160]"
   ]
  },
  {
   "cell_type": "code",
   "execution_count": 18,
   "id": "9f821337",
   "metadata": {},
   "outputs": [
    {
     "data": {
      "text/plain": [
       "TtestResult(statistic=1.2730454034727652, pvalue=0.2237359301598127, df=14)"
      ]
     },
     "execution_count": 18,
     "metadata": {},
     "output_type": "execute_result"
    }
   ],
   "source": [
    "stats.ttest_rel(before_BP,after_BP)"
   ]
  },
  {
   "cell_type": "markdown",
   "id": "2a219148",
   "metadata": {},
   "source": [
    "**Here P-value is >.05 so Failed to reject H0. There is no effect on drug.**"
   ]
  },
  {
   "cell_type": "markdown",
   "id": "f3a84373",
   "metadata": {},
   "source": [
    "### paired samples t- test Example-3"
   ]
  },
  {
   "cell_type": "markdown",
   "id": "627651e8",
   "metadata": {},
   "source": [
    "### Student exam performance"
   ]
  },
  {
   "cell_type": "markdown",
   "id": "da130543",
   "metadata": {},
   "source": [
    "**Suppose we want to know whether a certain study program significantly impacts student performance on a particular exam. To test this, we have 15 students in a class take a pre-test. Then, we have each of the students participate in the study program for two weeks. Then, the students retake a test of similar difficulty.**"
   ]
  },
  {
   "cell_type": "markdown",
   "id": "325c69c2",
   "metadata": {},
   "source": [
    "**To compare the difference between the mean scores on the first and second test, we use a paired samples t-test because for each student their first test score can be paired with their second test score.**"
   ]
  },
  {
   "cell_type": "code",
   "execution_count": 19,
   "id": "e4c36065",
   "metadata": {},
   "outputs": [],
   "source": [
    "pre = [88, 82, 84, 93, 75, 78, 84, 87, 95, 91, 83, 89, 77, 68, 91]\n",
    "post = [80, 84, 88, 90, 72, 80, 88, 90, 90, 92, 88, 89, 81, 69, 92]"
   ]
  },
  {
   "cell_type": "markdown",
   "id": "2e945a7b",
   "metadata": {},
   "source": [
    "In this example, the paired samples t-test uses the following null and alternative hypotheses: \n",
    "\n",
    "**H0: The mean pre-test and post-test scores are equal**\n",
    "\n",
    "**HA:The mean pre-test and post-test scores are not equal**\n"
   ]
  },
  {
   "cell_type": "code",
   "execution_count": 20,
   "id": "a2f088f2",
   "metadata": {},
   "outputs": [
    {
     "data": {
      "text/plain": [
       "TtestResult(statistic=-0.5524283770015994, pvalue=0.5893664333246174, df=14)"
      ]
     },
     "execution_count": 20,
     "metadata": {},
     "output_type": "execute_result"
    }
   ],
   "source": [
    "stats.ttest_rel(pre,post)"
   ]
  },
  {
   "cell_type": "markdown",
   "id": "6f1f673d",
   "metadata": {},
   "source": [
    "**pvalue>0.05 so failed to reject H0, test has no effect.**"
   ]
  },
  {
   "cell_type": "markdown",
   "id": "27d897f5",
   "metadata": {},
   "source": [
    "# Two Sample t-test in Python"
   ]
  },
  {
   "cell_type": "markdown",
   "id": "91c4bea4",
   "metadata": {},
   "source": [
    "**A two sample t-test is used to test whether or not the means of two populations are equal. we dont have data of population so we infer from two sample mean.**\n",
    "\n"
   ]
  },
  {
   "cell_type": "markdown",
   "id": "00729926",
   "metadata": {},
   "source": [
    "#### Example 1 -Two sample t test"
   ]
  },
  {
   "cell_type": "markdown",
   "id": "818eb918",
   "metadata": {},
   "source": [
    "**For example, suppose we want to know whether or not the mean weight between two different species of turtles is equal.**"
   ]
  },
  {
   "cell_type": "markdown",
   "id": "d751fad2",
   "metadata": {},
   "source": [
    "**To test this, we collect a simple random sample of turtles from each species with the following weights:**\n",
    "\n",
    "Sample 1: 300, 315, 320, 311, 314, 309, 300, 308, 305, 303, 305, 301, 303\n",
    "\n",
    "Sample 2: 335, 329, 322, 321, 324, 319, 304, 308, 305, 311, 307, 300, 305\n",
    "\n",
    "**The following code shows how to use the ttest_ind() function from the scipy.stats library to perform this two sample t-test:**"
   ]
  },
  {
   "cell_type": "markdown",
   "id": "e94e6ba0",
   "metadata": {},
   "source": [
    "**The two hypotheses for this particular two sample t-test are as follows:**\n",
    "\n",
    "**H0: µ1 = µ2 (the mean weight between the two species is equal)**\n",
    "\n",
    "**HA: µ1 ≠ µ2 (the mean weight between the two species is not equal)**"
   ]
  },
  {
   "cell_type": "code",
   "execution_count": 21,
   "id": "e1f5b7f0",
   "metadata": {},
   "outputs": [],
   "source": [
    "import scipy.stats as stats\n",
    "Sample1=[300, 315, 320, 311, 314, 309, 300, 308, 305, 303, 305, 301, 303]\n",
    "Sample2=[335, 329, 322, 321, 324, 319, 304, 308, 305, 311, 307, 300, 305]\n"
   ]
  },
  {
   "cell_type": "code",
   "execution_count": 26,
   "id": "d6625a5b",
   "metadata": {},
   "outputs": [
    {
     "data": {
      "text/plain": [
       "TtestResult(statistic=-2.10090292575557, pvalue=0.04633501389516513, df=24.0)"
      ]
     },
     "execution_count": 26,
     "metadata": {},
     "output_type": "execute_result"
    }
   ],
   "source": [
    "stats.ttest_ind(a=Sample1,b=Sample2,equal_var=True)"
   ]
  },
  {
   "cell_type": "markdown",
   "id": "aa06d4bc",
   "metadata": {},
   "source": [
    "pvalue < .05, Reject H0."
   ]
  },
  {
   "cell_type": "code",
   "execution_count": 24,
   "id": "05ba40f4",
   "metadata": {},
   "outputs": [
    {
     "data": {
      "text/plain": [
       "(36.63905325443787, 111.62130177514791)"
      ]
     },
     "execution_count": 24,
     "metadata": {},
     "output_type": "execute_result"
    }
   ],
   "source": [
    "# BY DEFAULT VARIANCE_EQUAL=true , lets check the correct status\n",
    "var1=np.var(Sample1)\n",
    "var2=np.var(Sample2)\n",
    "var1,var2"
   ]
  },
  {
   "cell_type": "code",
   "execution_count": 25,
   "id": "ea4fd2e1",
   "metadata": {},
   "outputs": [
    {
     "data": {
      "text/plain": [
       "3.0465116279069764"
      ]
     },
     "execution_count": 25,
     "metadata": {},
     "output_type": "execute_result"
    }
   ],
   "source": [
    "var2/var1\n",
    "# if it is less than 4 , that means we assume the population variance are equal."
   ]
  },
  {
   "cell_type": "markdown",
   "id": "c2c47e86",
   "metadata": {},
   "source": [
    "#the p value is 0.0463 less than 0.05 , we reject null hypothesis\n",
    "we have sufficient evident that the mean weight of two species are not equal."
   ]
  },
  {
   "cell_type": "markdown",
   "id": "f7306a0c",
   "metadata": {},
   "source": [
    "#### Example 2 : Two Sample t-Test"
   ]
  },
  {
   "cell_type": "markdown",
   "id": "ef4f3480",
   "metadata": {},
   "source": [
    "\n",
    "**Researchers want to know whether or not two different species of plants have the same mean height.**\n",
    "\n",
    "**To test this, they collect a simple random sample of 20 plants from each species.**\n",
    "\n",
    "**Use the following steps to conduct a two sample t-test to determine if** \n",
    "\n",
    "**the two species of plants have the same height.**\n",
    "\n",
    "**Step 1: Create the data.**\n",
    "\n",
    "**First, we’ll create two arrays to hold the measurements of each group of 20 plants:**\n"
   ]
  },
  {
   "cell_type": "code",
   "execution_count": 27,
   "id": "309d94a1",
   "metadata": {},
   "outputs": [],
   "source": [
    "import numpy as np\n",
    "group1 = np.array([14, 15, 15, 16, 13, 8, 14, 17, 16, 14, 19, 20, 21, 15, 15, 16, 16, 13, 14, 12])\n",
    "group2 = np.array([15, 17, 14, 17, 14, 8, 12, 19, 19, 14, 17, 22, 24, 16, 13, 16, 13, 18, 15, 13])\n"
   ]
  },
  {
   "cell_type": "code",
   "execution_count": 28,
   "id": "a2f5d782",
   "metadata": {},
   "outputs": [],
   "source": [
    "var1=np.var(group1)\n",
    "var2=np.var(group2)"
   ]
  },
  {
   "cell_type": "code",
   "execution_count": 30,
   "id": "84da30c3",
   "metadata": {},
   "outputs": [
    {
     "data": {
      "text/plain": [
       "1.586541572306697"
      ]
     },
     "execution_count": 30,
     "metadata": {},
     "output_type": "execute_result"
    }
   ],
   "source": [
    "var2/var1\n",
    "# less than 4 so we can assume pop varence are equal."
   ]
  },
  {
   "cell_type": "code",
   "execution_count": 31,
   "id": "b33aab1b",
   "metadata": {},
   "outputs": [
    {
     "data": {
      "text/plain": [
       "TtestResult(statistic=-0.6337397070250238, pvalue=0.5300471010405257, df=38.0)"
      ]
     },
     "execution_count": 31,
     "metadata": {},
     "output_type": "execute_result"
    }
   ],
   "source": [
    "#two sample t-test\n",
    "stats.ttest_ind(group1,group2)"
   ]
  },
  {
   "cell_type": "markdown",
   "id": "b35a7506",
   "metadata": {},
   "source": [
    "pval>.05 so failed to reject H0, failed to prove both pop have diffrent mean."
   ]
  },
  {
   "cell_type": "markdown",
   "id": "02bd04b3",
   "metadata": {},
   "source": [
    "### example_3  Two Sample t-Test"
   ]
  },
  {
   "cell_type": "markdown",
   "id": "1ed9dc4c",
   "metadata": {},
   "source": [
    "# hypothesis test university exam"
   ]
  },
  {
   "cell_type": "code",
   "execution_count": null,
   "id": "b960c89b",
   "metadata": {},
   "outputs": [],
   "source": [
    "\"\"\"A university professor gave online lectures instead of face-to-face classes \n",
    "due to Covid-19. Later, he uploaded recorded lectures to the cloud for students \n",
    "who followed the course asynchronously (those who did not attend the lesson but \n",
    "later watched the records). However, he believes that the students who attend class \n",
    "at the class time and participate in the process are more successful. \n",
    "Therefore, he recorded the average grades of the students at the end of the semester. \n",
    "The data is below.\n",
    "\n",
    "synchronous = [94. , 84.9, 82.6, 69.5, 80.1, 79.6, 81.4, 77.8, 81.7, 78.8, 73.2, \n",
    "87.9, 87.9, 93.5, 82.3, 79.3, 78.3, 71.6, 88.6, 74.6, 74.1, 80.6]\n",
    "\n",
    "asynchronous = [77.1, 71.7, 91. , 72.2, 74.8, 85.1, 67.6, 69.9, 75.3, 71.7, \n",
    "65.7, 72.6, 71.5, 78.2]\n",
    "\n",
    "Conduct the hypothesis testing to check whether the professor’s belief is \n",
    "statistically significant by using a 0.05 \n",
    "significance level to evaluate the null and alternative hypotheses. \n",
    "Before doing hypothesis testing, check the related assumptions. Comment on the results.\"\"\""
   ]
  },
  {
   "cell_type": "code",
   "execution_count": null,
   "id": "efa84bf8",
   "metadata": {},
   "outputs": [],
   "source": [
    "\"\"\"1. Defining Hypothesis\n",
    "Since the grades are obtained from the different individuals, the data is unpaired.\n",
    "\n",
    "H₀: μₛ≤μₐ\n",
    "H₁: μₛ>μₐ\n",
    "\n",
    "2. Assumption Check\n",
    "H₀: The data is normally distributed., means two group performance are same.\n",
    "H₁: The data is not normally distributed., means two group performance are not same.\n",
    "Assume that α=0.05. If the p-value is >0.05, it can be said that data is normally distributed.\"\"\""
   ]
  },
  {
   "cell_type": "code",
   "execution_count": 32,
   "id": "6ca82405",
   "metadata": {},
   "outputs": [],
   "source": [
    "sync = np.array([94. , 84.9, 82.6, 69.5, 80.1, 79.6, 81.4, 77.8, 81.7, 78.8, 73.2,\n",
    "       87.9, 87.9, 93.5, 82.3, 79.3, 78.3, 71.6, 88.6, 74.6, 74.1, 80.6])\n",
    "asyncr = np.array([77.1, 71.7, 91. , 72.2, 74.8, 85.1, 67.6, 69.9, 75.3, 71.7, \n",
    "                   65.7, 72.6, 71.5, 78.2])"
   ]
  },
  {
   "cell_type": "code",
   "execution_count": 33,
   "id": "8c6fab06",
   "metadata": {},
   "outputs": [
    {
     "name": "stdout",
     "output_type": "stream",
     "text": [
      "40.75208677685952 41.81714285714285\n"
     ]
    }
   ],
   "source": [
    "# find the variance\n",
    "print(np.var(sync),np.var(asyncr))"
   ]
  },
  {
   "cell_type": "code",
   "execution_count": 34,
   "id": "5208a308",
   "metadata": {},
   "outputs": [
    {
     "data": {
      "text/plain": [
       "1.0260122699386505"
      ]
     },
     "execution_count": 34,
     "metadata": {},
     "output_type": "execute_result"
    }
   ],
   "source": [
    "41.81/40.75"
   ]
  },
  {
   "cell_type": "code",
   "execution_count": 35,
   "id": "f0367400",
   "metadata": {},
   "outputs": [
    {
     "data": {
      "text/plain": [
       "TtestResult(statistic=2.8414882345796917, pvalue=0.00753598434082613, df=34.0)"
      ]
     },
     "execution_count": 35,
     "metadata": {},
     "output_type": "execute_result"
    }
   ],
   "source": [
    "# it is less than 4\n",
    "stats.ttest_ind(a=sync,b=asyncr,equal_var=True)"
   ]
  },
  {
   "cell_type": "markdown",
   "id": "5cf87cdb",
   "metadata": {},
   "source": [
    "**we are able to reject the null hypothesis, both student group performance are not same.**"
   ]
  },
  {
   "cell_type": "markdown",
   "id": "b4c0ce25",
   "metadata": {},
   "source": [
    "# t test in pandas"
   ]
  },
  {
   "cell_type": "code",
   "execution_count": null,
   "id": "bdff5bca",
   "metadata": {},
   "outputs": [],
   "source": [
    "\"\"\"\n",
    "For example, suppose a professor wants to know if two different \n",
    "studying methods lead to different mean exam scores.\n",
    "\n",
    "To test this, he recruits 10 students to use method A and 10 students to use method B.\n",
    "\n",
    "H0--two different methods lead to same exam score.\n",
    "H1-- two different methods lead to different exam score.\n",
    "\n",
    " :\"\"\""
   ]
  },
  {
   "cell_type": "code",
   "execution_count": 38,
   "id": "f3f909d4",
   "metadata": {},
   "outputs": [
    {
     "data": {
      "text/html": [
       "<div>\n",
       "<style scoped>\n",
       "    .dataframe tbody tr th:only-of-type {\n",
       "        vertical-align: middle;\n",
       "    }\n",
       "\n",
       "    .dataframe tbody tr th {\n",
       "        vertical-align: top;\n",
       "    }\n",
       "\n",
       "    .dataframe thead th {\n",
       "        text-align: right;\n",
       "    }\n",
       "</style>\n",
       "<table border=\"1\" class=\"dataframe\">\n",
       "  <thead>\n",
       "    <tr style=\"text-align: right;\">\n",
       "      <th></th>\n",
       "      <th>method</th>\n",
       "      <th>score</th>\n",
       "    </tr>\n",
       "  </thead>\n",
       "  <tbody>\n",
       "    <tr>\n",
       "      <th>0</th>\n",
       "      <td>A</td>\n",
       "      <td>71</td>\n",
       "    </tr>\n",
       "    <tr>\n",
       "      <th>1</th>\n",
       "      <td>A</td>\n",
       "      <td>72</td>\n",
       "    </tr>\n",
       "    <tr>\n",
       "      <th>2</th>\n",
       "      <td>A</td>\n",
       "      <td>72</td>\n",
       "    </tr>\n",
       "    <tr>\n",
       "      <th>3</th>\n",
       "      <td>A</td>\n",
       "      <td>75</td>\n",
       "    </tr>\n",
       "    <tr>\n",
       "      <th>4</th>\n",
       "      <td>A</td>\n",
       "      <td>78</td>\n",
       "    </tr>\n",
       "    <tr>\n",
       "      <th>5</th>\n",
       "      <td>A</td>\n",
       "      <td>81</td>\n",
       "    </tr>\n",
       "    <tr>\n",
       "      <th>6</th>\n",
       "      <td>A</td>\n",
       "      <td>82</td>\n",
       "    </tr>\n",
       "    <tr>\n",
       "      <th>7</th>\n",
       "      <td>A</td>\n",
       "      <td>83</td>\n",
       "    </tr>\n",
       "    <tr>\n",
       "      <th>8</th>\n",
       "      <td>A</td>\n",
       "      <td>89</td>\n",
       "    </tr>\n",
       "    <tr>\n",
       "      <th>9</th>\n",
       "      <td>A</td>\n",
       "      <td>91</td>\n",
       "    </tr>\n",
       "    <tr>\n",
       "      <th>10</th>\n",
       "      <td>A</td>\n",
       "      <td>80</td>\n",
       "    </tr>\n",
       "    <tr>\n",
       "      <th>11</th>\n",
       "      <td>B</td>\n",
       "      <td>81</td>\n",
       "    </tr>\n",
       "    <tr>\n",
       "      <th>12</th>\n",
       "      <td>B</td>\n",
       "      <td>81</td>\n",
       "    </tr>\n",
       "    <tr>\n",
       "      <th>13</th>\n",
       "      <td>B</td>\n",
       "      <td>85</td>\n",
       "    </tr>\n",
       "    <tr>\n",
       "      <th>14</th>\n",
       "      <td>B</td>\n",
       "      <td>84</td>\n",
       "    </tr>\n",
       "    <tr>\n",
       "      <th>15</th>\n",
       "      <td>B</td>\n",
       "      <td>88</td>\n",
       "    </tr>\n",
       "    <tr>\n",
       "      <th>16</th>\n",
       "      <td>B</td>\n",
       "      <td>88</td>\n",
       "    </tr>\n",
       "    <tr>\n",
       "      <th>17</th>\n",
       "      <td>B</td>\n",
       "      <td>89</td>\n",
       "    </tr>\n",
       "    <tr>\n",
       "      <th>18</th>\n",
       "      <td>B</td>\n",
       "      <td>90</td>\n",
       "    </tr>\n",
       "    <tr>\n",
       "      <th>19</th>\n",
       "      <td>B</td>\n",
       "      <td>90</td>\n",
       "    </tr>\n",
       "  </tbody>\n",
       "</table>\n",
       "</div>"
      ],
      "text/plain": [
       "   method  score\n",
       "0       A     71\n",
       "1       A     72\n",
       "2       A     72\n",
       "3       A     75\n",
       "4       A     78\n",
       "5       A     81\n",
       "6       A     82\n",
       "7       A     83\n",
       "8       A     89\n",
       "9       A     91\n",
       "10      A     80\n",
       "11      B     81\n",
       "12      B     81\n",
       "13      B     85\n",
       "14      B     84\n",
       "15      B     88\n",
       "16      B     88\n",
       "17      B     89\n",
       "18      B     90\n",
       "19      B     90"
      ]
     },
     "execution_count": 38,
     "metadata": {},
     "output_type": "execute_result"
    }
   ],
   "source": [
    "#create pandas DataFrame\n",
    "import pandas as pd\n",
    "df = pd.DataFrame({'method': ['A', 'A', 'A', 'A', 'A', 'A', 'A', 'A', 'A', 'A','A',\n",
    "                              'B', 'B', 'B', 'B', 'B', 'B', 'B', 'B', 'B', 'B'],\n",
    "                   'score': [71, 72, 72, 75, 78, 81, 82, 83, 89, 91, 80, 81, 81,85,\n",
    "                             84, 88, 88, 89, 90, 90, 91]})\n",
    "\n",
    "#view first five rows of DataFrame\n",
    "df.head(20)"
   ]
  },
  {
   "cell_type": "code",
   "execution_count": 39,
   "id": "fc15eb5b",
   "metadata": {},
   "outputs": [
    {
     "data": {
      "text/plain": [
       "Ttest_indResult(statistic=-3.014813486502715, pvalue=0.007124060646945052)"
      ]
     },
     "execution_count": 39,
     "metadata": {},
     "output_type": "execute_result"
    }
   ],
   "source": [
    "group1=df[df[\"method\"]==\"A\"]\n",
    "group2=df[df[\"method\"]==\"B\"]\n",
    "stats.ttest_ind(group1[\"score\"],group2[\"score\"])"
   ]
  },
  {
   "cell_type": "code",
   "execution_count": null,
   "id": "f024ae48",
   "metadata": {},
   "outputs": [],
   "source": [
    "p value is less than 0.05 , we are able to reject the null hypothesis\n",
    "that means two different methods lead to different exam score."
   ]
  },
  {
   "cell_type": "code",
   "execution_count": null,
   "id": "5cae8040",
   "metadata": {},
   "outputs": [],
   "source": []
  },
  {
   "cell_type": "markdown",
   "id": "21a57aa8",
   "metadata": {},
   "source": [
    "### Hypothesis test on cardio_vascular desiese"
   ]
  },
  {
   "cell_type": "code",
   "execution_count": null,
   "id": "854c5063",
   "metadata": {},
   "outputs": [],
   "source": [
    "\"\"\"\n",
    "For example, suppose a Doctor wants to know if two different \n",
    "gender lead to different mean chol level.\n",
    "\n",
    "H0--male and female lead to same mean of chol level.\n",
    "H1-- male and female lead to different mean of chol level.\n",
    " :\"\"\""
   ]
  },
  {
   "cell_type": "code",
   "execution_count": null,
   "id": "4319e50d",
   "metadata": {},
   "outputs": [],
   "source": []
  },
  {
   "cell_type": "code",
   "execution_count": 40,
   "id": "dc9fbfe8",
   "metadata": {},
   "outputs": [
    {
     "data": {
      "text/html": [
       "<div>\n",
       "<style scoped>\n",
       "    .dataframe tbody tr th:only-of-type {\n",
       "        vertical-align: middle;\n",
       "    }\n",
       "\n",
       "    .dataframe tbody tr th {\n",
       "        vertical-align: top;\n",
       "    }\n",
       "\n",
       "    .dataframe thead th {\n",
       "        text-align: right;\n",
       "    }\n",
       "</style>\n",
       "<table border=\"1\" class=\"dataframe\">\n",
       "  <thead>\n",
       "    <tr style=\"text-align: right;\">\n",
       "      <th></th>\n",
       "      <th>age</th>\n",
       "      <th>sex</th>\n",
       "      <th>cp</th>\n",
       "      <th>trestbps</th>\n",
       "      <th>chol</th>\n",
       "      <th>fbs</th>\n",
       "      <th>restecg</th>\n",
       "      <th>thalach</th>\n",
       "      <th>exang</th>\n",
       "      <th>oldpeak</th>\n",
       "      <th>slope</th>\n",
       "      <th>ca</th>\n",
       "      <th>thal</th>\n",
       "      <th>target</th>\n",
       "    </tr>\n",
       "  </thead>\n",
       "  <tbody>\n",
       "    <tr>\n",
       "      <th>0</th>\n",
       "      <td>52</td>\n",
       "      <td>1</td>\n",
       "      <td>0</td>\n",
       "      <td>125</td>\n",
       "      <td>212</td>\n",
       "      <td>0</td>\n",
       "      <td>1</td>\n",
       "      <td>168</td>\n",
       "      <td>0</td>\n",
       "      <td>1.0</td>\n",
       "      <td>2</td>\n",
       "      <td>2</td>\n",
       "      <td>3</td>\n",
       "      <td>0</td>\n",
       "    </tr>\n",
       "    <tr>\n",
       "      <th>1</th>\n",
       "      <td>53</td>\n",
       "      <td>1</td>\n",
       "      <td>0</td>\n",
       "      <td>140</td>\n",
       "      <td>203</td>\n",
       "      <td>1</td>\n",
       "      <td>0</td>\n",
       "      <td>155</td>\n",
       "      <td>1</td>\n",
       "      <td>3.1</td>\n",
       "      <td>0</td>\n",
       "      <td>0</td>\n",
       "      <td>3</td>\n",
       "      <td>0</td>\n",
       "    </tr>\n",
       "    <tr>\n",
       "      <th>2</th>\n",
       "      <td>70</td>\n",
       "      <td>1</td>\n",
       "      <td>0</td>\n",
       "      <td>145</td>\n",
       "      <td>174</td>\n",
       "      <td>0</td>\n",
       "      <td>1</td>\n",
       "      <td>125</td>\n",
       "      <td>1</td>\n",
       "      <td>2.6</td>\n",
       "      <td>0</td>\n",
       "      <td>0</td>\n",
       "      <td>3</td>\n",
       "      <td>0</td>\n",
       "    </tr>\n",
       "    <tr>\n",
       "      <th>3</th>\n",
       "      <td>61</td>\n",
       "      <td>1</td>\n",
       "      <td>0</td>\n",
       "      <td>148</td>\n",
       "      <td>203</td>\n",
       "      <td>0</td>\n",
       "      <td>1</td>\n",
       "      <td>161</td>\n",
       "      <td>0</td>\n",
       "      <td>0.0</td>\n",
       "      <td>2</td>\n",
       "      <td>1</td>\n",
       "      <td>3</td>\n",
       "      <td>0</td>\n",
       "    </tr>\n",
       "    <tr>\n",
       "      <th>4</th>\n",
       "      <td>62</td>\n",
       "      <td>0</td>\n",
       "      <td>0</td>\n",
       "      <td>138</td>\n",
       "      <td>294</td>\n",
       "      <td>1</td>\n",
       "      <td>1</td>\n",
       "      <td>106</td>\n",
       "      <td>0</td>\n",
       "      <td>1.9</td>\n",
       "      <td>1</td>\n",
       "      <td>3</td>\n",
       "      <td>2</td>\n",
       "      <td>0</td>\n",
       "    </tr>\n",
       "  </tbody>\n",
       "</table>\n",
       "</div>"
      ],
      "text/plain": [
       "   age  sex  cp  trestbps  chol  fbs  restecg  thalach  exang  oldpeak  slope  \\\n",
       "0   52    1   0       125   212    0        1      168      0      1.0      2   \n",
       "1   53    1   0       140   203    1        0      155      1      3.1      0   \n",
       "2   70    1   0       145   174    0        1      125      1      2.6      0   \n",
       "3   61    1   0       148   203    0        1      161      0      0.0      2   \n",
       "4   62    0   0       138   294    1        1      106      0      1.9      1   \n",
       "\n",
       "   ca  thal  target  \n",
       "0   2     3       0  \n",
       "1   0     3       0  \n",
       "2   0     3       0  \n",
       "3   1     3       0  \n",
       "4   3     2       0  "
      ]
     },
     "execution_count": 40,
     "metadata": {},
     "output_type": "execute_result"
    }
   ],
   "source": [
    "cardio.head()"
   ]
  },
  {
   "cell_type": "code",
   "execution_count": 42,
   "id": "75206c39",
   "metadata": {},
   "outputs": [
    {
     "data": {
      "text/plain": [
       "Ttest_indResult(statistic=-6.469575105051173, pvalue=1.5208584737351199e-10)"
      ]
     },
     "execution_count": 42,
     "metadata": {},
     "output_type": "execute_result"
    }
   ],
   "source": [
    "# define samples\n",
    "male_group=cardio[cardio[\"sex\"]==1]\n",
    "female_group=cardio[cardio[\"sex\"]==0]\n",
    "stats.ttest_ind(male_group[\"chol\"],female_group[\"chol\"])"
   ]
  },
  {
   "cell_type": "code",
   "execution_count": null,
   "id": "70251a27",
   "metadata": {},
   "outputs": [],
   "source": [
    "p value is less than 0.05 we are able to reject H0.\n",
    "male and female lead to different mean of chol level."
   ]
  },
  {
   "cell_type": "code",
   "execution_count": null,
   "id": "dc156ed7",
   "metadata": {},
   "outputs": [],
   "source": [
    "# assignment please calculate p value for other columns also like trestbps,thalach"
   ]
  },
  {
   "cell_type": "code",
   "execution_count": 43,
   "id": "b7304af7",
   "metadata": {},
   "outputs": [
    {
     "data": {
      "text/plain": [
       "Ttest_indResult(statistic=-1.3162814393057423, pvalue=0.18837444033563006)"
      ]
     },
     "execution_count": 43,
     "metadata": {},
     "output_type": "execute_result"
    }
   ],
   "source": [
    "# We are trying on two categorical variable pl note this result is not correct\n",
    "# because t test is for categorical & contineous\n",
    "male_group=cardio[cardio[\"sex\"]==1]\n",
    "female_group=cardio[cardio[\"sex\"]==0]\n",
    "stats.ttest_ind(male_group[\"cp\"],female_group[\"cp\"])"
   ]
  },
  {
   "cell_type": "markdown",
   "id": "aa941b4e",
   "metadata": {},
   "source": [
    "\"\"\"\n",
    "For example, suppose a Doctor wants to know if disease and healthy lead to different mean chol level.\n",
    "\n",
    "H0--disease and healthy lead to same mean of chol level.\n",
    "H1--disease and healthy lead to different mean of chol level.\n",
    " :\"\"\""
   ]
  },
  {
   "cell_type": "code",
   "execution_count": null,
   "id": "cbe394f7",
   "metadata": {},
   "outputs": [],
   "source": []
  },
  {
   "cell_type": "code",
   "execution_count": null,
   "id": "7a2137d4",
   "metadata": {},
   "outputs": [],
   "source": []
  },
  {
   "cell_type": "code",
   "execution_count": null,
   "id": "cef64f5d",
   "metadata": {},
   "outputs": [],
   "source": []
  },
  {
   "cell_type": "code",
   "execution_count": null,
   "id": "085e0980",
   "metadata": {},
   "outputs": [],
   "source": []
  },
  {
   "cell_type": "markdown",
   "id": "d904d3b8",
   "metadata": {},
   "source": [
    "# Welch’s t-Test in Pandas"
   ]
  },
  {
   "cell_type": "code",
   "execution_count": null,
   "id": "d469116a",
   "metadata": {},
   "outputs": [],
   "source": [
    "Welch’s t-Test: \n",
    "    Two sample t-Test is used to compare the means of two different \n",
    "    independent datasets. But we can apply a Two-Sample T-Test on those data groups \n",
    "    that share the same variance. \n",
    "    \n",
    "    Now to compare two data groups having different variances \n",
    "    we use Welch’s t-Test. It is regarded as the parametric \n",
    "    equivalent of the Two-Sample T-test. "
   ]
  },
  {
   "cell_type": "code",
   "execution_count": null,
   "id": "f00c9088",
   "metadata": {},
   "outputs": [],
   "source": [
    "\"\"\"Welch’s t-Test in Pandas\n",
    "Welch’s t-test is similar to the independent two sample t-test, except it does not \n",
    "assume that the two \n",
    "populations that the samples came from have equal variance.\n",
    "\n",
    "To perform Welch’s t-test on the exact same dataset as the previous example, \n",
    "we simply need to \n",
    "specify equal_var=False within the ttest_ind() function as follows:\"\"\""
   ]
  },
  {
   "cell_type": "code",
   "execution_count": null,
   "id": "05710907",
   "metadata": {},
   "outputs": [],
   "source": [
    "Let us consider an example, we are given two-sample data, \n",
    "each containing heights of 10 students of a class. We need \n",
    "to check whether two different class students have the same mean score. \n",
    "We can create data groups using numpy.array() method."
   ]
  },
  {
   "cell_type": "code",
   "execution_count": null,
   "id": "0dd48ae6",
   "metadata": {},
   "outputs": [],
   "source": []
  },
  {
   "cell_type": "code",
   "execution_count": null,
   "id": "41b9247d",
   "metadata": {},
   "outputs": [],
   "source": []
  },
  {
   "cell_type": "code",
   "execution_count": 44,
   "id": "863a850e",
   "metadata": {},
   "outputs": [],
   "source": [
    "data_group1 = np.array([14, 15, 15, 16, 13, 8, 14,\n",
    "                        17, 16, 14, 19, 20, 21, 15,\n",
    "                        15])\n",
    "data_group2 = np.array([36, 37, 44, 27, 24, 28, 27,\n",
    "                        39, 29, 24, 37, 32, 24, 26,\n",
    "                        33])\n",
    "  \n"
   ]
  },
  {
   "cell_type": "code",
   "execution_count": 45,
   "id": "1016f1a6",
   "metadata": {},
   "outputs": [
    {
     "name": "stdout",
     "output_type": "stream",
     "text": [
      "9.048888888888886 36.782222222222224\n"
     ]
    }
   ],
   "source": [
    "# Print the variance of both data groups\n",
    "print(np.var(data_group1), np.var(data_group2))"
   ]
  },
  {
   "cell_type": "code",
   "execution_count": 46,
   "id": "575c7dc5",
   "metadata": {},
   "outputs": [
    {
     "data": {
      "text/plain": [
       "4.068584070796461"
      ]
     },
     "execution_count": 46,
     "metadata": {},
     "output_type": "execute_result"
    }
   ],
   "source": [
    "36.78/9.04"
   ]
  },
  {
   "cell_type": "code",
   "execution_count": 47,
   "id": "a07be0a6",
   "metadata": {},
   "outputs": [
    {
     "data": {
      "text/plain": [
       "Ttest_indResult(statistic=-8.658854219832454, pvalue=2.7574279223834183e-08)"
      ]
     },
     "execution_count": 47,
     "metadata": {},
     "output_type": "execute_result"
    }
   ],
   "source": [
    "stats.ttest_ind(data_group1,data_group2,equal_var=False)"
   ]
  },
  {
   "cell_type": "markdown",
   "id": "c8c113b1",
   "metadata": {},
   "source": [
    "# try to solve it "
   ]
  },
  {
   "cell_type": "code",
   "execution_count": null,
   "id": "cf6c5672",
   "metadata": {},
   "outputs": [],
   "source": [
    "#create pandas DataFrame\n",
    "df = pd.DataFrame({'method': ['A', 'A', 'A', 'A', 'A', 'A', 'A', 'A', 'A', 'A',\n",
    "                              'B', 'B', 'B', 'B', 'B', 'B', 'B', 'B', 'B', 'B'],\n",
    "                   'score': [71, 72, 72, 75, 78, 81, 82, 83, 89, 91, 80, 81, 81,\n",
    "                             84, 88, 88, 89, 90, 90, 91]})"
   ]
  },
  {
   "cell_type": "code",
   "execution_count": null,
   "id": "e040a692",
   "metadata": {},
   "outputs": [],
   "source": [
    "#define samples\n",
    "group1 = df[df['method']=='A']\n",
    "group2 = df[df['method']=='B']\n",
    "\n"
   ]
  },
  {
   "cell_type": "code",
   "execution_count": null,
   "id": "2ae333b2",
   "metadata": {},
   "outputs": [],
   "source": []
  },
  {
   "cell_type": "markdown",
   "id": "3ce020d6",
   "metadata": {},
   "source": [
    "# One Sample t-test in Python"
   ]
  },
  {
   "cell_type": "code",
   "execution_count": null,
   "id": "5dd1ccba",
   "metadata": {},
   "outputs": [],
   "source": [
    "A one sample t-test is used to test whether or not the mean of a population is equal to some value."
   ]
  },
  {
   "cell_type": "code",
   "execution_count": null,
   "id": "6006f95c",
   "metadata": {},
   "outputs": [],
   "source": [
    "# \"\"\"For example, suppose we want to know whether or not the mean weight of a certain species of \n",
    "some turtle is equal to 310 pounds.\n",
    "\n",
    "To test this, we go out and collect a simple random sample of turtles with the following weights:\n",
    "\n",
    "Weights: 300, 315, 320, 311, 314, 309, 300, 308, 305, 303, 305, 301, 303\n",
    "\n",
    ":\"\"\""
   ]
  },
  {
   "cell_type": "code",
   "execution_count": null,
   "id": "df631d44",
   "metadata": {},
   "outputs": [],
   "source": [
    "\"\"\"The two hypotheses for this particular one sample t-test are as follows:\n",
    "\n",
    "H0: µ = 310 (the mean weight for this species of turtle is 310 pounds)\n",
    "HA: µ ≠310 (the mean weight is not 310 pounds)\"\"\""
   ]
  },
  {
   "cell_type": "code",
   "execution_count": 48,
   "id": "25b5da2a",
   "metadata": {},
   "outputs": [
    {
     "data": {
      "text/plain": [
       "TtestResult(statistic=-1.5848116313861254, pvalue=0.1389944275158753, df=12)"
      ]
     },
     "execution_count": 48,
     "metadata": {},
     "output_type": "execute_result"
    }
   ],
   "source": [
    "# sample data\n",
    "sample_data=[300, 315, 320, 311, 314, 309, 300, 308, 305, 303, 305, 301, 303]\n",
    "# perform a sample t test\n",
    "stats.ttest_1samp(a=sample_data,popmean=310)"
   ]
  },
  {
   "cell_type": "code",
   "execution_count": null,
   "id": "21dc5c2a",
   "metadata": {},
   "outputs": [],
   "source": [
    "# p value is 0.1389 is more than 0.05(alpha value). we fail to reject the null hypothesis.\n",
    "the mean weight for this species of turtle is 310 pounds"
   ]
  },
  {
   "cell_type": "markdown",
   "id": "b1efed39",
   "metadata": {},
   "source": [
    "# please try to solve it"
   ]
  },
  {
   "cell_type": "code",
   "execution_count": null,
   "id": "07bc06d5",
   "metadata": {},
   "outputs": [],
   "source": [
    "Suppose a botanist wants to know if the mean height of a certain species of \n",
    "plant is equal to 15 inches. She collects a random sample of 12 plants and \n",
    "records each of their heights in inches.\n"
   ]
  },
  {
   "cell_type": "code",
   "execution_count": null,
   "id": "23fda177",
   "metadata": {},
   "outputs": [],
   "source": [
    "data = [14, 14, 16, 13, 12, 17, 15, 14, 15, 13, 15, 14]"
   ]
  },
  {
   "cell_type": "code",
   "execution_count": null,
   "id": "00e7fe93",
   "metadata": {},
   "outputs": [],
   "source": []
  },
  {
   "cell_type": "code",
   "execution_count": null,
   "id": "02ee3a63",
   "metadata": {},
   "outputs": [],
   "source": []
  },
  {
   "cell_type": "code",
   "execution_count": null,
   "id": "b8baf8df",
   "metadata": {},
   "outputs": [],
   "source": [
    "\n"
   ]
  },
  {
   "cell_type": "markdown",
   "id": "ecf1f9f9",
   "metadata": {},
   "source": [
    "# Conduct a Mann-Whitney U Test in Python"
   ]
  },
  {
   "cell_type": "code",
   "execution_count": null,
   "id": "594e5571",
   "metadata": {},
   "outputs": [],
   "source": [
    "A Mann-Whitney U test is used to compare the differences between two samples when the \n",
    "sample distributions are not normally distributed and the sample sizes are small (n <30).\n",
    "\n",
    "It is considered to be the nonparametric equivalent to the two sample t-test.\n"
   ]
  },
  {
   "cell_type": "code",
   "execution_count": null,
   "id": "1c697235",
   "metadata": {},
   "outputs": [],
   "source": [
    "Example: Mann-Whitney U Test :-\n",
    "        \n",
    "Researchers want to know if a fuel treatment leads to a change in the average mpg of a car. \n",
    "To test this, they measure the mpg of 12 cars with the fuel treatment and 12 cars without it.\n",
    "Since the sample sizes are small and the researchers suspect that the sample distributions \n",
    "are not normally distributed, they decided to perform a Mann-Whitney U test to determine \n",
    "if there is a statistically significant difference in mpg between the two groups.\n"
   ]
  },
  {
   "cell_type": "code",
   "execution_count": 49,
   "id": "7fba23b3",
   "metadata": {},
   "outputs": [],
   "source": [
    "#First, we’ll create two arrays to hold the mpg values for each group of cars:\n",
    "group1 = [20, 23, 21, 25, 18, 17, 18, 24, 20, 24, 23, 19]\n",
    "group2 = [24, 25, 21, 22, 23, 18, 17, 28, 24, 27, 21, 23]\n",
    "# H0= The mpg is equal between two groups\n",
    "# H1=the mpg is not equalbetween the two groups."
   ]
  },
  {
   "cell_type": "code",
   "execution_count": 50,
   "id": "2c11051f",
   "metadata": {},
   "outputs": [
    {
     "data": {
      "text/plain": [
       "MannwhitneyuResult(statistic=50.0, pvalue=0.21138945901258455)"
      ]
     },
     "execution_count": 50,
     "metadata": {},
     "output_type": "execute_result"
    }
   ],
   "source": [
    "stats.mannwhitneyu(group1,group2)\n"
   ]
  },
  {
   "cell_type": "code",
   "execution_count": null,
   "id": "c21afc05",
   "metadata": {},
   "outputs": [],
   "source": [
    "here p is more than 0.05 , not able to reject the null hypothesis.\n",
    "The mpg is equal between two groups"
   ]
  },
  {
   "cell_type": "markdown",
   "id": "947e69b3",
   "metadata": {},
   "source": [
    "# Conduct a Wilcoxon Signed-Rank Test in Python"
   ]
  },
  {
   "cell_type": "code",
   "execution_count": null,
   "id": "d04bb219",
   "metadata": {},
   "outputs": [],
   "source": [
    "The Wilcoxon Signed-Rank Test is the non-parametric version of the paired samples t-test.\n",
    "It is used to test whether or not there is a significant difference between two population \n",
    "means when the distribution of the differences between the two samples cannot be \n",
    "assumed to be normal."
   ]
  },
  {
   "cell_type": "code",
   "execution_count": null,
   "id": "990bfe9f",
   "metadata": {},
   "outputs": [],
   "source": [
    "Example: Wilcoxon Signed-Rank Test \n",
    "Researchers want to know if a new fuel treatment leads to a change in the average mpg \n",
    "of a certain car. To test this, they measure the mpg of 12 cars with and without the \n",
    "fuel treatment.\n",
    "\n",
    "objective:-  to determine if there is a difference in the mean mpg between the two groups.\n",
    "Method:-perform a Wilcoxon Signed-Rank Test"
   ]
  },
  {
   "cell_type": "code",
   "execution_count": 51,
   "id": "1231331e",
   "metadata": {},
   "outputs": [],
   "source": [
    "#Step 1: Create the data to hold the mpg values for each group of cars:\n",
    "group1 = [20, 23, 21, 25, 18, 17, 18, 24, 20, 24, 23, 19]\n",
    "group2 = [24, 25, 21, 22, 23, 18, 17, 28, 24, 27, 21, 23]\n"
   ]
  },
  {
   "cell_type": "code",
   "execution_count": 52,
   "id": "f04b64c3",
   "metadata": {},
   "outputs": [
    {
     "name": "stderr",
     "output_type": "stream",
     "text": [
      "C:\\Users\\User\\anaconda3_april_5\\lib\\site-packages\\scipy\\stats\\_morestats.py:3414: UserWarning: Exact p-value calculation does not work if there are zeros. Switching to normal approximation.\n",
      "  warnings.warn(\"Exact p-value calculation does not work if there are \"\n"
     ]
    },
    {
     "data": {
      "text/plain": [
       "WilcoxonResult(statistic=10.5, pvalue=0.044065400736826854)"
      ]
     },
     "execution_count": 52,
     "metadata": {},
     "output_type": "execute_result"
    }
   ],
   "source": [
    "stats.wilcoxon(group1,group2)\n"
   ]
  },
  {
   "cell_type": "code",
   "execution_count": null,
   "id": "d45832bd",
   "metadata": {},
   "outputs": [],
   "source": [
    "# pl note its a pair sample non parametric test we are using same \n",
    "car before and after fuel treatment .\n",
    "p valueis less than 0.05, we are able to reject null hypothesis.\n",
    "h1=the mpg is not equal before and after fuel treatment.\n"
   ]
  },
  {
   "cell_type": "code",
   "execution_count": null,
   "id": "9e5868d4",
   "metadata": {},
   "outputs": [],
   "source": []
  },
  {
   "cell_type": "code",
   "execution_count": null,
   "id": "9a4cccbe",
   "metadata": {},
   "outputs": [],
   "source": []
  },
  {
   "cell_type": "markdown",
   "id": "0270d6fc",
   "metadata": {},
   "source": [
    "# Perform  Two Sample Z-Tests in Python"
   ]
  },
  {
   "cell_type": "code",
   "execution_count": null,
   "id": "bbb95921",
   "metadata": {},
   "outputs": [],
   "source": [
    "#from statsmodels.stats.weightstats import ztest as ztest\n",
    "ztest(x1, x2, value=0) \n",
    "where:\n",
    "\n",
    "x1: values for the first sample\n",
    "x2: values for the second sample (performing a two sample z-test)\n",
    "value: mean difference (in two sample test)\n"
   ]
  },
  {
   "cell_type": "code",
   "execution_count": null,
   "id": "5806cb68",
   "metadata": {},
   "outputs": [],
   "source": [
    "Example 1: Two Sample Z-Test in Python\n",
    "Suppose the IQ levels among individuals in two different cities are known to \n",
    "be normally distributed with known standard deviations.\n",
    "\n",
    "A researcher wants to know if the mean IQ level between individuals in \n",
    "city A and city B are different, so she selects a simple random sample \n",
    "of  20 individuals from each city and records their IQ levels.\n",
    "\n",
    "Objective:-to determine if the mean IQ level is different between the two cities:\n",
    "H0=mean IQ level is same bwtween the two coties.\n",
    "H1=mean IQ level is different bwtween the two cities."
   ]
  },
  {
   "cell_type": "code",
   "execution_count": 53,
   "id": "32cbf746",
   "metadata": {},
   "outputs": [],
   "source": [
    "from statsmodels.stats.weightstats import ztest as ztest\n",
    "\n",
    "#enter IQ levels for 20 individuals from each city\n",
    "cityA = [82, 84, 85, 89, 91, 91, 92, 94, 99, 99,\n",
    "         105, 109, 109, 109, 110, 112, 112, 113, 114, 114]\n",
    "\n",
    "cityB = [90, 91, 91, 91, 95, 95, 99, 99, 108, 109,\n",
    "         109, 114, 115, 116, 117, 117, 128, 129, 130, 133]\n",
    "\n"
   ]
  },
  {
   "cell_type": "code",
   "execution_count": 54,
   "id": "d48b993d",
   "metadata": {},
   "outputs": [
    {
     "data": {
      "text/plain": [
       "(-1.9953236073282115, 0.046007596761332065)"
      ]
     },
     "execution_count": 54,
     "metadata": {},
     "output_type": "execute_result"
    }
   ],
   "source": [
    "ztest(cityA, cityB, value=0) "
   ]
  },
  {
   "cell_type": "code",
   "execution_count": null,
   "id": "787bc875",
   "metadata": {},
   "outputs": [],
   "source": []
  },
  {
   "cell_type": "code",
   "execution_count": null,
   "id": "03d53d0d",
   "metadata": {},
   "outputs": [],
   "source": []
  },
  {
   "cell_type": "code",
   "execution_count": null,
   "id": "a806f36d",
   "metadata": {},
   "outputs": [],
   "source": []
  },
  {
   "cell_type": "markdown",
   "id": "29228274",
   "metadata": {},
   "source": [
    "# Guide to Statistical Hypothesis Tests in Python"
   ]
  },
  {
   "cell_type": "markdown",
   "id": "d008f1e7",
   "metadata": {},
   "source": [
    "# Normality Tests"
   ]
  },
  {
   "cell_type": "code",
   "execution_count": null,
   "id": "4e8d4d68",
   "metadata": {},
   "outputs": [],
   "source": [
    "Normality Tests\n",
    "Main obejctive of performing Normality Tests is to validate the Gaussian distribution of data.\n",
    "\n"
   ]
  },
  {
   "cell_type": "code",
   "execution_count": null,
   "id": "7d9a625d",
   "metadata": {},
   "outputs": [],
   "source": [
    "# visual approach (1)histogram (2)QQ plot\n",
    "# statistical approach"
   ]
  },
  {
   "cell_type": "code",
   "execution_count": null,
   "id": "29313acc",
   "metadata": {},
   "outputs": [],
   "source": []
  },
  {
   "cell_type": "markdown",
   "id": "5926c120",
   "metadata": {},
   "source": [
    "# Shapiro-Wilk Test"
   ]
  },
  {
   "cell_type": "code",
   "execution_count": null,
   "id": "c457a75f",
   "metadata": {},
   "outputs": [],
   "source": [
    "Shapiro-Wilk Test\n",
    "Tests whether a data sample has a Gaussian distribution.\n",
    "Assumption\n",
    "Observations in each sample are independent and distributed identically.\n",
    "Hypothesis\n",
    "H0: the sample has a Gaussian distribution.\n",
    "H1: the sample does not have a Gaussian distribution."
   ]
  },
  {
   "cell_type": "code",
   "execution_count": 55,
   "id": "7a8a7ce5",
   "metadata": {},
   "outputs": [],
   "source": [
    "data = [0.873, 2.817, 0.121, -0.945, -0.055, -1.436, 0.360, -1.478, -1.637, -1.869]"
   ]
  },
  {
   "cell_type": "code",
   "execution_count": 57,
   "id": "eb5f85c9",
   "metadata": {},
   "outputs": [
    {
     "name": "stdout",
     "output_type": "stream",
     "text": [
      "0.1934097558259964\n"
     ]
    }
   ],
   "source": [
    "from scipy.stats import shapiro\n",
    "stat,p=shapiro(data)\n",
    "print(p)"
   ]
  },
  {
   "cell_type": "code",
   "execution_count": null,
   "id": "bcf7e94a",
   "metadata": {},
   "outputs": [],
   "source": [
    "p is more than 0.05 , unable to reject null hypothesis \n",
    "H0: the sample has a Gaussian distribution."
   ]
  },
  {
   "cell_type": "code",
   "execution_count": 58,
   "id": "e528ce8d",
   "metadata": {},
   "outputs": [
    {
     "data": {
      "text/html": [
       "<div>\n",
       "<style scoped>\n",
       "    .dataframe tbody tr th:only-of-type {\n",
       "        vertical-align: middle;\n",
       "    }\n",
       "\n",
       "    .dataframe tbody tr th {\n",
       "        vertical-align: top;\n",
       "    }\n",
       "\n",
       "    .dataframe thead th {\n",
       "        text-align: right;\n",
       "    }\n",
       "</style>\n",
       "<table border=\"1\" class=\"dataframe\">\n",
       "  <thead>\n",
       "    <tr style=\"text-align: right;\">\n",
       "      <th></th>\n",
       "      <th>age</th>\n",
       "      <th>sex</th>\n",
       "      <th>cp</th>\n",
       "      <th>trestbps</th>\n",
       "      <th>chol</th>\n",
       "      <th>fbs</th>\n",
       "      <th>restecg</th>\n",
       "      <th>thalach</th>\n",
       "      <th>exang</th>\n",
       "      <th>oldpeak</th>\n",
       "      <th>slope</th>\n",
       "      <th>ca</th>\n",
       "      <th>thal</th>\n",
       "      <th>target</th>\n",
       "    </tr>\n",
       "  </thead>\n",
       "  <tbody>\n",
       "    <tr>\n",
       "      <th>0</th>\n",
       "      <td>52</td>\n",
       "      <td>1</td>\n",
       "      <td>0</td>\n",
       "      <td>125</td>\n",
       "      <td>212</td>\n",
       "      <td>0</td>\n",
       "      <td>1</td>\n",
       "      <td>168</td>\n",
       "      <td>0</td>\n",
       "      <td>1.0</td>\n",
       "      <td>2</td>\n",
       "      <td>2</td>\n",
       "      <td>3</td>\n",
       "      <td>0</td>\n",
       "    </tr>\n",
       "    <tr>\n",
       "      <th>1</th>\n",
       "      <td>53</td>\n",
       "      <td>1</td>\n",
       "      <td>0</td>\n",
       "      <td>140</td>\n",
       "      <td>203</td>\n",
       "      <td>1</td>\n",
       "      <td>0</td>\n",
       "      <td>155</td>\n",
       "      <td>1</td>\n",
       "      <td>3.1</td>\n",
       "      <td>0</td>\n",
       "      <td>0</td>\n",
       "      <td>3</td>\n",
       "      <td>0</td>\n",
       "    </tr>\n",
       "    <tr>\n",
       "      <th>2</th>\n",
       "      <td>70</td>\n",
       "      <td>1</td>\n",
       "      <td>0</td>\n",
       "      <td>145</td>\n",
       "      <td>174</td>\n",
       "      <td>0</td>\n",
       "      <td>1</td>\n",
       "      <td>125</td>\n",
       "      <td>1</td>\n",
       "      <td>2.6</td>\n",
       "      <td>0</td>\n",
       "      <td>0</td>\n",
       "      <td>3</td>\n",
       "      <td>0</td>\n",
       "    </tr>\n",
       "    <tr>\n",
       "      <th>3</th>\n",
       "      <td>61</td>\n",
       "      <td>1</td>\n",
       "      <td>0</td>\n",
       "      <td>148</td>\n",
       "      <td>203</td>\n",
       "      <td>0</td>\n",
       "      <td>1</td>\n",
       "      <td>161</td>\n",
       "      <td>0</td>\n",
       "      <td>0.0</td>\n",
       "      <td>2</td>\n",
       "      <td>1</td>\n",
       "      <td>3</td>\n",
       "      <td>0</td>\n",
       "    </tr>\n",
       "    <tr>\n",
       "      <th>4</th>\n",
       "      <td>62</td>\n",
       "      <td>0</td>\n",
       "      <td>0</td>\n",
       "      <td>138</td>\n",
       "      <td>294</td>\n",
       "      <td>1</td>\n",
       "      <td>1</td>\n",
       "      <td>106</td>\n",
       "      <td>0</td>\n",
       "      <td>1.9</td>\n",
       "      <td>1</td>\n",
       "      <td>3</td>\n",
       "      <td>2</td>\n",
       "      <td>0</td>\n",
       "    </tr>\n",
       "  </tbody>\n",
       "</table>\n",
       "</div>"
      ],
      "text/plain": [
       "   age  sex  cp  trestbps  chol  fbs  restecg  thalach  exang  oldpeak  slope  \\\n",
       "0   52    1   0       125   212    0        1      168      0      1.0      2   \n",
       "1   53    1   0       140   203    1        0      155      1      3.1      0   \n",
       "2   70    1   0       145   174    0        1      125      1      2.6      0   \n",
       "3   61    1   0       148   203    0        1      161      0      0.0      2   \n",
       "4   62    0   0       138   294    1        1      106      0      1.9      1   \n",
       "\n",
       "   ca  thal  target  \n",
       "0   2     3       0  \n",
       "1   0     3       0  \n",
       "2   0     3       0  \n",
       "3   1     3       0  \n",
       "4   3     2       0  "
      ]
     },
     "execution_count": 58,
     "metadata": {},
     "output_type": "execute_result"
    }
   ],
   "source": [
    "cardio.head()"
   ]
  },
  {
   "cell_type": "code",
   "execution_count": 59,
   "id": "bed6eff0",
   "metadata": {},
   "outputs": [
    {
     "name": "stdout",
     "output_type": "stream",
     "text": [
      "4.0010225784919354e-18\n"
     ]
    }
   ],
   "source": [
    "stat,p=shapiro(cardio[\"chol\"])\n",
    "print(p)"
   ]
  },
  {
   "cell_type": "code",
   "execution_count": null,
   "id": "de34a3a1",
   "metadata": {},
   "outputs": [],
   "source": [
    "p value less than 0.05 , able to reject null hypothesis"
   ]
  },
  {
   "cell_type": "code",
   "execution_count": null,
   "id": "d65e1975",
   "metadata": {},
   "outputs": [],
   "source": [
    "H1: the cardio.chol does not have a Gaussian distribution."
   ]
  },
  {
   "cell_type": "code",
   "execution_count": null,
   "id": "6be7f308",
   "metadata": {},
   "outputs": [],
   "source": []
  },
  {
   "cell_type": "code",
   "execution_count": null,
   "id": "bd5d9e55",
   "metadata": {},
   "outputs": [],
   "source": []
  },
  {
   "cell_type": "code",
   "execution_count": null,
   "id": "f170e7d3",
   "metadata": {},
   "outputs": [],
   "source": []
  },
  {
   "cell_type": "code",
   "execution_count": null,
   "id": "049397ee",
   "metadata": {},
   "outputs": [],
   "source": []
  },
  {
   "cell_type": "markdown",
   "id": "45b2b1e2",
   "metadata": {},
   "source": [
    "# D’Agostino’s K^2 Test"
   ]
  },
  {
   "cell_type": "code",
   "execution_count": null,
   "id": "92992088",
   "metadata": {},
   "outputs": [],
   "source": [
    "D’Agostino’s K^2 Test\n",
    "Tests whether a data sample has a Gaussian distribution.\n",
    "Assumption\n",
    "Observations in each sample are independent and distributed identically.\n",
    "Hypothesis\n",
    "H0: the sample has a Gaussian distribution.\n",
    "H1: the sample does not have a Gaussian distribution."
   ]
  },
  {
   "cell_type": "code",
   "execution_count": 60,
   "id": "394718cf",
   "metadata": {},
   "outputs": [],
   "source": [
    "data1 = [0.873, 2.817, 0.121, -0.945, -0.055, -1.436, 0.360, -1.478, -1.637, -1.869]"
   ]
  },
  {
   "cell_type": "code",
   "execution_count": 61,
   "id": "7bd61207",
   "metadata": {},
   "outputs": [],
   "source": [
    "from scipy.stats import normaltest"
   ]
  },
  {
   "cell_type": "code",
   "execution_count": 62,
   "id": "37d3d927",
   "metadata": {},
   "outputs": [
    {
     "name": "stderr",
     "output_type": "stream",
     "text": [
      "C:\\Users\\User\\anaconda3_april_5\\lib\\site-packages\\scipy\\stats\\_stats_py.py:1736: UserWarning: kurtosistest only valid for n>=20 ... continuing anyway, n=10\n",
      "  warnings.warn(\"kurtosistest only valid for n>=20 ... continuing \"\n"
     ]
    }
   ],
   "source": [
    "stat,p=normaltest(data1)"
   ]
  },
  {
   "cell_type": "code",
   "execution_count": 63,
   "id": "17d28ab8",
   "metadata": {},
   "outputs": [
    {
     "data": {
      "text/plain": [
       "0.18342710340675566"
      ]
     },
     "execution_count": 63,
     "metadata": {},
     "output_type": "execute_result"
    }
   ],
   "source": [
    "p"
   ]
  },
  {
   "cell_type": "code",
   "execution_count": null,
   "id": "b622b41c",
   "metadata": {},
   "outputs": [],
   "source": []
  },
  {
   "cell_type": "markdown",
   "id": "78b99ade",
   "metadata": {},
   "source": [
    "# Anderson-Darling Test"
   ]
  },
  {
   "cell_type": "code",
   "execution_count": null,
   "id": "7793be21",
   "metadata": {},
   "outputs": [],
   "source": [
    "Anderson-Darling Test\n",
    "Tests whether a data sample has a Gaussian distribution.\n",
    "Assumption\n",
    "Observations in each sample are independent and distributed identically.\n",
    "Hypothesis\n",
    "H0: the sample has a Gaussian distribution.\n",
    "H1: the sample does not have a Gaussian distribution.\n",
    "\n"
   ]
  },
  {
   "cell_type": "code",
   "execution_count": 64,
   "id": "4a9a5240",
   "metadata": {},
   "outputs": [],
   "source": [
    "data2 = [0.873, 2.817, 0.121, -0.945, -0.055, -1.436, 0.360, -1.478, -1.637, -1.869]"
   ]
  },
  {
   "cell_type": "code",
   "execution_count": 65,
   "id": "e4e6e6a7",
   "metadata": {},
   "outputs": [],
   "source": [
    "from scipy.stats import anderson"
   ]
  },
  {
   "cell_type": "code",
   "execution_count": 72,
   "id": "e279ac24",
   "metadata": {},
   "outputs": [
    {
     "name": "stdout",
     "output_type": "stream",
     "text": [
      "0.4239737141854807\n",
      "probability of gaussian distribution at %  15.0\n",
      "probability of gaussian distribution at %  10.0\n",
      "probability of gaussian distribution at %  5.0\n",
      "probability of gaussian distribution at %  2.5\n",
      "probability of gaussian distribution at %  1.0\n"
     ]
    }
   ],
   "source": [
    "result=anderson(data2)\n",
    "#result\n",
    "print(result.statistic)\n",
    "\n",
    "for i in range(len(result.critical_values)):\n",
    "    sl,cv=result.significance_level[i],result.critical_values[i]\n",
    "    if result.statistic<cv:\n",
    "        print(\"probability of gaussian distribution at % \", sl)\n",
    "    else:\n",
    "        print(\"probability of not gaussian distribution at % \", sl)\n",
    "    "
   ]
  },
  {
   "cell_type": "code",
   "execution_count": 70,
   "id": "80b13639",
   "metadata": {},
   "outputs": [
    {
     "name": "stdout",
     "output_type": "stream",
     "text": [
      "AndersonResult(statistic=0.4239737141854807, critical_values=array([0.501, 0.57 , 0.684, 0.798, 0.95 ]), significance_level=array([15. , 10. ,  5. ,  2.5,  1. ]), fit_result=  params: FitParams(loc=-0.32489999999999997, scale=1.4568542556557338)\n",
      " success: True\n",
      " message: '`anderson` successfully fit the distribution to the data.')\n"
     ]
    }
   ],
   "source": [
    "print(result)"
   ]
  },
  {
   "cell_type": "markdown",
   "id": "792ec7a6",
   "metadata": {},
   "source": []
  },
  {
   "cell_type": "code",
   "execution_count": null,
   "id": "d1c8f481",
   "metadata": {},
   "outputs": [],
   "source": []
  },
  {
   "cell_type": "markdown",
   "id": "a950ab62",
   "metadata": {},
   "source": [
    "# Correlation Tests"
   ]
  },
  {
   "cell_type": "code",
   "execution_count": null,
   "id": "4a72d234",
   "metadata": {},
   "outputs": [],
   "source": [
    "Correlation Tests are used to check the correlation between two independent features or variables.\n",
    "\n"
   ]
  },
  {
   "cell_type": "markdown",
   "id": "76168c60",
   "metadata": {},
   "source": [
    "# Pearson’s Correlation Coefficient- parametric test"
   ]
  },
  {
   "cell_type": "code",
   "execution_count": null,
   "id": "1e12859c",
   "metadata": {},
   "outputs": [],
   "source": [
    "Pearson’s Correlation Coefficient\n",
    "Tests whether a data sample is linearly separable.\n",
    "Assumption\n",
    "a) Observations in each sample are independent and distributed identically.\n",
    "b) Observations are normally distributed.\n",
    "c) Similar variance between independent variables\n",
    "Hypothesis\n",
    "H0: the samples are correlated.\n",
    "H1: the sample does not have any correlation."
   ]
  },
  {
   "cell_type": "code",
   "execution_count": 73,
   "id": "a0c5c760",
   "metadata": {},
   "outputs": [],
   "source": [
    "data1 = [0.873, 2.817, 0.121, -0.945, -0.055, -1.436, 0.360, -1.478, -1.637, -1.869]\n",
    "data2 = [0.353, 3.517, 0.125, -7.545, -0.555, -1.536, 3.350, -1.578, -3.537, -1.579]"
   ]
  },
  {
   "cell_type": "code",
   "execution_count": 74,
   "id": "8e200343",
   "metadata": {},
   "outputs": [],
   "source": [
    "from scipy.stats import pearsonr\n",
    "stat,p=pearsonr(data1,data2)"
   ]
  },
  {
   "cell_type": "code",
   "execution_count": 75,
   "id": "ef45423f",
   "metadata": {},
   "outputs": [
    {
     "data": {
      "text/plain": [
       "0.02787296951449617"
      ]
     },
     "execution_count": 75,
     "metadata": {},
     "output_type": "execute_result"
    }
   ],
   "source": [
    "p"
   ]
  },
  {
   "cell_type": "code",
   "execution_count": 76,
   "id": "e21f7864",
   "metadata": {},
   "outputs": [
    {
     "data": {
      "text/html": [
       "<div>\n",
       "<style scoped>\n",
       "    .dataframe tbody tr th:only-of-type {\n",
       "        vertical-align: middle;\n",
       "    }\n",
       "\n",
       "    .dataframe tbody tr th {\n",
       "        vertical-align: top;\n",
       "    }\n",
       "\n",
       "    .dataframe thead th {\n",
       "        text-align: right;\n",
       "    }\n",
       "</style>\n",
       "<table border=\"1\" class=\"dataframe\">\n",
       "  <thead>\n",
       "    <tr style=\"text-align: right;\">\n",
       "      <th></th>\n",
       "      <th>age</th>\n",
       "      <th>sex</th>\n",
       "      <th>cp</th>\n",
       "      <th>trestbps</th>\n",
       "      <th>chol</th>\n",
       "      <th>fbs</th>\n",
       "      <th>restecg</th>\n",
       "      <th>thalach</th>\n",
       "      <th>exang</th>\n",
       "      <th>oldpeak</th>\n",
       "      <th>slope</th>\n",
       "      <th>ca</th>\n",
       "      <th>thal</th>\n",
       "      <th>target</th>\n",
       "    </tr>\n",
       "  </thead>\n",
       "  <tbody>\n",
       "    <tr>\n",
       "      <th>0</th>\n",
       "      <td>52</td>\n",
       "      <td>1</td>\n",
       "      <td>0</td>\n",
       "      <td>125</td>\n",
       "      <td>212</td>\n",
       "      <td>0</td>\n",
       "      <td>1</td>\n",
       "      <td>168</td>\n",
       "      <td>0</td>\n",
       "      <td>1.0</td>\n",
       "      <td>2</td>\n",
       "      <td>2</td>\n",
       "      <td>3</td>\n",
       "      <td>0</td>\n",
       "    </tr>\n",
       "    <tr>\n",
       "      <th>1</th>\n",
       "      <td>53</td>\n",
       "      <td>1</td>\n",
       "      <td>0</td>\n",
       "      <td>140</td>\n",
       "      <td>203</td>\n",
       "      <td>1</td>\n",
       "      <td>0</td>\n",
       "      <td>155</td>\n",
       "      <td>1</td>\n",
       "      <td>3.1</td>\n",
       "      <td>0</td>\n",
       "      <td>0</td>\n",
       "      <td>3</td>\n",
       "      <td>0</td>\n",
       "    </tr>\n",
       "    <tr>\n",
       "      <th>2</th>\n",
       "      <td>70</td>\n",
       "      <td>1</td>\n",
       "      <td>0</td>\n",
       "      <td>145</td>\n",
       "      <td>174</td>\n",
       "      <td>0</td>\n",
       "      <td>1</td>\n",
       "      <td>125</td>\n",
       "      <td>1</td>\n",
       "      <td>2.6</td>\n",
       "      <td>0</td>\n",
       "      <td>0</td>\n",
       "      <td>3</td>\n",
       "      <td>0</td>\n",
       "    </tr>\n",
       "    <tr>\n",
       "      <th>3</th>\n",
       "      <td>61</td>\n",
       "      <td>1</td>\n",
       "      <td>0</td>\n",
       "      <td>148</td>\n",
       "      <td>203</td>\n",
       "      <td>0</td>\n",
       "      <td>1</td>\n",
       "      <td>161</td>\n",
       "      <td>0</td>\n",
       "      <td>0.0</td>\n",
       "      <td>2</td>\n",
       "      <td>1</td>\n",
       "      <td>3</td>\n",
       "      <td>0</td>\n",
       "    </tr>\n",
       "    <tr>\n",
       "      <th>4</th>\n",
       "      <td>62</td>\n",
       "      <td>0</td>\n",
       "      <td>0</td>\n",
       "      <td>138</td>\n",
       "      <td>294</td>\n",
       "      <td>1</td>\n",
       "      <td>1</td>\n",
       "      <td>106</td>\n",
       "      <td>0</td>\n",
       "      <td>1.9</td>\n",
       "      <td>1</td>\n",
       "      <td>3</td>\n",
       "      <td>2</td>\n",
       "      <td>0</td>\n",
       "    </tr>\n",
       "  </tbody>\n",
       "</table>\n",
       "</div>"
      ],
      "text/plain": [
       "   age  sex  cp  trestbps  chol  fbs  restecg  thalach  exang  oldpeak  slope  \\\n",
       "0   52    1   0       125   212    0        1      168      0      1.0      2   \n",
       "1   53    1   0       140   203    1        0      155      1      3.1      0   \n",
       "2   70    1   0       145   174    0        1      125      1      2.6      0   \n",
       "3   61    1   0       148   203    0        1      161      0      0.0      2   \n",
       "4   62    0   0       138   294    1        1      106      0      1.9      1   \n",
       "\n",
       "   ca  thal  target  \n",
       "0   2     3       0  \n",
       "1   0     3       0  \n",
       "2   0     3       0  \n",
       "3   1     3       0  \n",
       "4   3     2       0  "
      ]
     },
     "execution_count": 76,
     "metadata": {},
     "output_type": "execute_result"
    }
   ],
   "source": [
    "cardio.head()"
   ]
  },
  {
   "cell_type": "code",
   "execution_count": 77,
   "id": "68acc2a3",
   "metadata": {},
   "outputs": [
    {
     "data": {
      "text/html": [
       "<div>\n",
       "<style scoped>\n",
       "    .dataframe tbody tr th:only-of-type {\n",
       "        vertical-align: middle;\n",
       "    }\n",
       "\n",
       "    .dataframe tbody tr th {\n",
       "        vertical-align: top;\n",
       "    }\n",
       "\n",
       "    .dataframe thead th {\n",
       "        text-align: right;\n",
       "    }\n",
       "</style>\n",
       "<table border=\"1\" class=\"dataframe\">\n",
       "  <thead>\n",
       "    <tr style=\"text-align: right;\">\n",
       "      <th></th>\n",
       "      <th>age</th>\n",
       "      <th>sex</th>\n",
       "      <th>cp</th>\n",
       "      <th>trestbps</th>\n",
       "      <th>chol</th>\n",
       "      <th>fbs</th>\n",
       "      <th>restecg</th>\n",
       "      <th>thalach</th>\n",
       "      <th>exang</th>\n",
       "      <th>oldpeak</th>\n",
       "      <th>slope</th>\n",
       "      <th>ca</th>\n",
       "      <th>thal</th>\n",
       "      <th>target</th>\n",
       "    </tr>\n",
       "  </thead>\n",
       "  <tbody>\n",
       "    <tr>\n",
       "      <th>age</th>\n",
       "      <td>1.000000</td>\n",
       "      <td>-0.103574</td>\n",
       "      <td>-0.071960</td>\n",
       "      <td>0.271001</td>\n",
       "      <td>0.219832</td>\n",
       "      <td>0.121163</td>\n",
       "      <td>-0.132515</td>\n",
       "      <td>-0.390854</td>\n",
       "      <td>0.088017</td>\n",
       "      <td>0.208159</td>\n",
       "      <td>-0.168905</td>\n",
       "      <td>0.271415</td>\n",
       "      <td>0.072191</td>\n",
       "      <td>-0.229133</td>\n",
       "    </tr>\n",
       "    <tr>\n",
       "      <th>sex</th>\n",
       "      <td>-0.103574</td>\n",
       "      <td>1.000000</td>\n",
       "      <td>-0.041119</td>\n",
       "      <td>-0.078974</td>\n",
       "      <td>-0.198258</td>\n",
       "      <td>0.027200</td>\n",
       "      <td>-0.055117</td>\n",
       "      <td>-0.048612</td>\n",
       "      <td>0.139157</td>\n",
       "      <td>0.084687</td>\n",
       "      <td>-0.026666</td>\n",
       "      <td>0.111729</td>\n",
       "      <td>0.198424</td>\n",
       "      <td>-0.279501</td>\n",
       "    </tr>\n",
       "    <tr>\n",
       "      <th>cp</th>\n",
       "      <td>-0.071960</td>\n",
       "      <td>-0.041119</td>\n",
       "      <td>1.000000</td>\n",
       "      <td>0.038177</td>\n",
       "      <td>-0.081641</td>\n",
       "      <td>0.079294</td>\n",
       "      <td>0.043581</td>\n",
       "      <td>0.305959</td>\n",
       "      <td>-0.401513</td>\n",
       "      <td>-0.174733</td>\n",
       "      <td>0.131633</td>\n",
       "      <td>-0.176206</td>\n",
       "      <td>-0.163341</td>\n",
       "      <td>0.434854</td>\n",
       "    </tr>\n",
       "    <tr>\n",
       "      <th>trestbps</th>\n",
       "      <td>0.271001</td>\n",
       "      <td>-0.078974</td>\n",
       "      <td>0.038177</td>\n",
       "      <td>1.000000</td>\n",
       "      <td>0.127977</td>\n",
       "      <td>0.181767</td>\n",
       "      <td>-0.123794</td>\n",
       "      <td>-0.038721</td>\n",
       "      <td>0.061197</td>\n",
       "      <td>0.187434</td>\n",
       "      <td>-0.120445</td>\n",
       "      <td>0.104554</td>\n",
       "      <td>0.059276</td>\n",
       "      <td>-0.138772</td>\n",
       "    </tr>\n",
       "    <tr>\n",
       "      <th>chol</th>\n",
       "      <td>0.219832</td>\n",
       "      <td>-0.198258</td>\n",
       "      <td>-0.081641</td>\n",
       "      <td>0.127977</td>\n",
       "      <td>1.000000</td>\n",
       "      <td>0.026917</td>\n",
       "      <td>-0.147410</td>\n",
       "      <td>-0.020588</td>\n",
       "      <td>0.067382</td>\n",
       "      <td>0.064880</td>\n",
       "      <td>-0.014248</td>\n",
       "      <td>0.074259</td>\n",
       "      <td>0.100244</td>\n",
       "      <td>-0.099966</td>\n",
       "    </tr>\n",
       "    <tr>\n",
       "      <th>fbs</th>\n",
       "      <td>0.121163</td>\n",
       "      <td>0.027200</td>\n",
       "      <td>0.079294</td>\n",
       "      <td>0.181767</td>\n",
       "      <td>0.026917</td>\n",
       "      <td>1.000000</td>\n",
       "      <td>-0.104051</td>\n",
       "      <td>-0.009370</td>\n",
       "      <td>0.049261</td>\n",
       "      <td>0.010859</td>\n",
       "      <td>-0.061902</td>\n",
       "      <td>0.137156</td>\n",
       "      <td>-0.042177</td>\n",
       "      <td>-0.041164</td>\n",
       "    </tr>\n",
       "    <tr>\n",
       "      <th>restecg</th>\n",
       "      <td>-0.132515</td>\n",
       "      <td>-0.055117</td>\n",
       "      <td>0.043581</td>\n",
       "      <td>-0.123794</td>\n",
       "      <td>-0.147410</td>\n",
       "      <td>-0.104051</td>\n",
       "      <td>1.000000</td>\n",
       "      <td>0.049503</td>\n",
       "      <td>-0.065606</td>\n",
       "      <td>-0.050114</td>\n",
       "      <td>0.086086</td>\n",
       "      <td>-0.078072</td>\n",
       "      <td>-0.020504</td>\n",
       "      <td>0.134468</td>\n",
       "    </tr>\n",
       "    <tr>\n",
       "      <th>thalach</th>\n",
       "      <td>-0.390854</td>\n",
       "      <td>-0.048612</td>\n",
       "      <td>0.305959</td>\n",
       "      <td>-0.038721</td>\n",
       "      <td>-0.020588</td>\n",
       "      <td>-0.009370</td>\n",
       "      <td>0.049503</td>\n",
       "      <td>1.000000</td>\n",
       "      <td>-0.378870</td>\n",
       "      <td>-0.346867</td>\n",
       "      <td>0.394834</td>\n",
       "      <td>-0.205438</td>\n",
       "      <td>-0.096839</td>\n",
       "      <td>0.421962</td>\n",
       "    </tr>\n",
       "    <tr>\n",
       "      <th>exang</th>\n",
       "      <td>0.088017</td>\n",
       "      <td>0.139157</td>\n",
       "      <td>-0.401513</td>\n",
       "      <td>0.061197</td>\n",
       "      <td>0.067382</td>\n",
       "      <td>0.049261</td>\n",
       "      <td>-0.065606</td>\n",
       "      <td>-0.378870</td>\n",
       "      <td>1.000000</td>\n",
       "      <td>0.310844</td>\n",
       "      <td>-0.267335</td>\n",
       "      <td>0.107849</td>\n",
       "      <td>0.197201</td>\n",
       "      <td>-0.438029</td>\n",
       "    </tr>\n",
       "    <tr>\n",
       "      <th>oldpeak</th>\n",
       "      <td>0.208159</td>\n",
       "      <td>0.084687</td>\n",
       "      <td>-0.174733</td>\n",
       "      <td>0.187434</td>\n",
       "      <td>0.064880</td>\n",
       "      <td>0.010859</td>\n",
       "      <td>-0.050114</td>\n",
       "      <td>-0.346867</td>\n",
       "      <td>0.310844</td>\n",
       "      <td>1.000000</td>\n",
       "      <td>-0.575189</td>\n",
       "      <td>0.221816</td>\n",
       "      <td>0.202672</td>\n",
       "      <td>-0.438441</td>\n",
       "    </tr>\n",
       "    <tr>\n",
       "      <th>slope</th>\n",
       "      <td>-0.168905</td>\n",
       "      <td>-0.026666</td>\n",
       "      <td>0.131633</td>\n",
       "      <td>-0.120445</td>\n",
       "      <td>-0.014248</td>\n",
       "      <td>-0.061902</td>\n",
       "      <td>0.086086</td>\n",
       "      <td>0.394834</td>\n",
       "      <td>-0.267335</td>\n",
       "      <td>-0.575189</td>\n",
       "      <td>1.000000</td>\n",
       "      <td>-0.073440</td>\n",
       "      <td>-0.094090</td>\n",
       "      <td>0.345512</td>\n",
       "    </tr>\n",
       "    <tr>\n",
       "      <th>ca</th>\n",
       "      <td>0.271415</td>\n",
       "      <td>0.111729</td>\n",
       "      <td>-0.176206</td>\n",
       "      <td>0.104554</td>\n",
       "      <td>0.074259</td>\n",
       "      <td>0.137156</td>\n",
       "      <td>-0.078072</td>\n",
       "      <td>-0.205438</td>\n",
       "      <td>0.107849</td>\n",
       "      <td>0.221816</td>\n",
       "      <td>-0.073440</td>\n",
       "      <td>1.000000</td>\n",
       "      <td>0.149014</td>\n",
       "      <td>-0.382085</td>\n",
       "    </tr>\n",
       "    <tr>\n",
       "      <th>thal</th>\n",
       "      <td>0.072191</td>\n",
       "      <td>0.198424</td>\n",
       "      <td>-0.163341</td>\n",
       "      <td>0.059276</td>\n",
       "      <td>0.100244</td>\n",
       "      <td>-0.042177</td>\n",
       "      <td>-0.020504</td>\n",
       "      <td>-0.096839</td>\n",
       "      <td>0.197201</td>\n",
       "      <td>0.202672</td>\n",
       "      <td>-0.094090</td>\n",
       "      <td>0.149014</td>\n",
       "      <td>1.000000</td>\n",
       "      <td>-0.337838</td>\n",
       "    </tr>\n",
       "    <tr>\n",
       "      <th>target</th>\n",
       "      <td>-0.229133</td>\n",
       "      <td>-0.279501</td>\n",
       "      <td>0.434854</td>\n",
       "      <td>-0.138772</td>\n",
       "      <td>-0.099966</td>\n",
       "      <td>-0.041164</td>\n",
       "      <td>0.134468</td>\n",
       "      <td>0.421962</td>\n",
       "      <td>-0.438029</td>\n",
       "      <td>-0.438441</td>\n",
       "      <td>0.345512</td>\n",
       "      <td>-0.382085</td>\n",
       "      <td>-0.337838</td>\n",
       "      <td>1.000000</td>\n",
       "    </tr>\n",
       "  </tbody>\n",
       "</table>\n",
       "</div>"
      ],
      "text/plain": [
       "               age       sex        cp  trestbps      chol       fbs  \\\n",
       "age       1.000000 -0.103574 -0.071960  0.271001  0.219832  0.121163   \n",
       "sex      -0.103574  1.000000 -0.041119 -0.078974 -0.198258  0.027200   \n",
       "cp       -0.071960 -0.041119  1.000000  0.038177 -0.081641  0.079294   \n",
       "trestbps  0.271001 -0.078974  0.038177  1.000000  0.127977  0.181767   \n",
       "chol      0.219832 -0.198258 -0.081641  0.127977  1.000000  0.026917   \n",
       "fbs       0.121163  0.027200  0.079294  0.181767  0.026917  1.000000   \n",
       "restecg  -0.132515 -0.055117  0.043581 -0.123794 -0.147410 -0.104051   \n",
       "thalach  -0.390854 -0.048612  0.305959 -0.038721 -0.020588 -0.009370   \n",
       "exang     0.088017  0.139157 -0.401513  0.061197  0.067382  0.049261   \n",
       "oldpeak   0.208159  0.084687 -0.174733  0.187434  0.064880  0.010859   \n",
       "slope    -0.168905 -0.026666  0.131633 -0.120445 -0.014248 -0.061902   \n",
       "ca        0.271415  0.111729 -0.176206  0.104554  0.074259  0.137156   \n",
       "thal      0.072191  0.198424 -0.163341  0.059276  0.100244 -0.042177   \n",
       "target   -0.229133 -0.279501  0.434854 -0.138772 -0.099966 -0.041164   \n",
       "\n",
       "           restecg   thalach     exang   oldpeak     slope        ca  \\\n",
       "age      -0.132515 -0.390854  0.088017  0.208159 -0.168905  0.271415   \n",
       "sex      -0.055117 -0.048612  0.139157  0.084687 -0.026666  0.111729   \n",
       "cp        0.043581  0.305959 -0.401513 -0.174733  0.131633 -0.176206   \n",
       "trestbps -0.123794 -0.038721  0.061197  0.187434 -0.120445  0.104554   \n",
       "chol     -0.147410 -0.020588  0.067382  0.064880 -0.014248  0.074259   \n",
       "fbs      -0.104051 -0.009370  0.049261  0.010859 -0.061902  0.137156   \n",
       "restecg   1.000000  0.049503 -0.065606 -0.050114  0.086086 -0.078072   \n",
       "thalach   0.049503  1.000000 -0.378870 -0.346867  0.394834 -0.205438   \n",
       "exang    -0.065606 -0.378870  1.000000  0.310844 -0.267335  0.107849   \n",
       "oldpeak  -0.050114 -0.346867  0.310844  1.000000 -0.575189  0.221816   \n",
       "slope     0.086086  0.394834 -0.267335 -0.575189  1.000000 -0.073440   \n",
       "ca       -0.078072 -0.205438  0.107849  0.221816 -0.073440  1.000000   \n",
       "thal     -0.020504 -0.096839  0.197201  0.202672 -0.094090  0.149014   \n",
       "target    0.134468  0.421962 -0.438029 -0.438441  0.345512 -0.382085   \n",
       "\n",
       "              thal    target  \n",
       "age       0.072191 -0.229133  \n",
       "sex       0.198424 -0.279501  \n",
       "cp       -0.163341  0.434854  \n",
       "trestbps  0.059276 -0.138772  \n",
       "chol      0.100244 -0.099966  \n",
       "fbs      -0.042177 -0.041164  \n",
       "restecg  -0.020504  0.134468  \n",
       "thalach  -0.096839  0.421962  \n",
       "exang     0.197201 -0.438029  \n",
       "oldpeak   0.202672 -0.438441  \n",
       "slope    -0.094090  0.345512  \n",
       "ca        0.149014 -0.382085  \n",
       "thal      1.000000 -0.337838  \n",
       "target   -0.337838  1.000000  "
      ]
     },
     "execution_count": 77,
     "metadata": {},
     "output_type": "execute_result"
    }
   ],
   "source": [
    "corr_matrix=cardio.corr()\n",
    "corr_matrix"
   ]
  },
  {
   "cell_type": "code",
   "execution_count": null,
   "id": "23fe081e",
   "metadata": {},
   "outputs": [],
   "source": []
  },
  {
   "cell_type": "markdown",
   "id": "7dc4b052",
   "metadata": {},
   "source": [
    "# Spearman’s Rank Correlation---Non Parametric Test"
   ]
  },
  {
   "cell_type": "code",
   "execution_count": null,
   "id": "a21f0651",
   "metadata": {},
   "outputs": [],
   "source": [
    "Spearman’s Rank Correlation\n",
    "Tests whether a data sample is montonically separable.\n",
    "Assumption\n",
    "a) Observations in each sample are independent and distributed identically.\n",
    "\n",
    "Hypothesis\n",
    "H0: the samples are correlated.\n",
    "H1: the sample does not have any correlation."
   ]
  },
  {
   "cell_type": "code",
   "execution_count": null,
   "id": "b631a886",
   "metadata": {},
   "outputs": [],
   "source": [
    "data1 = [0.873, 2.817, 0.121, -0.945, -0.055, -1.436, 0.360, -1.478, -1.637, -1.869]\n",
    "data2 = [0.353, 3.517, 0.125, -7.545, -0.555, -1.536, 3.350, -1.578, -3.537, -1.579]"
   ]
  },
  {
   "cell_type": "code",
   "execution_count": null,
   "id": "ac58a806",
   "metadata": {},
   "outputs": [],
   "source": []
  },
  {
   "cell_type": "code",
   "execution_count": 78,
   "id": "63ab22b2",
   "metadata": {},
   "outputs": [
    {
     "data": {
      "text/html": [
       "<div>\n",
       "<style scoped>\n",
       "    .dataframe tbody tr th:only-of-type {\n",
       "        vertical-align: middle;\n",
       "    }\n",
       "\n",
       "    .dataframe tbody tr th {\n",
       "        vertical-align: top;\n",
       "    }\n",
       "\n",
       "    .dataframe thead th {\n",
       "        text-align: right;\n",
       "    }\n",
       "</style>\n",
       "<table border=\"1\" class=\"dataframe\">\n",
       "  <thead>\n",
       "    <tr style=\"text-align: right;\">\n",
       "      <th></th>\n",
       "      <th>age</th>\n",
       "      <th>sex</th>\n",
       "      <th>cp</th>\n",
       "      <th>trestbps</th>\n",
       "      <th>chol</th>\n",
       "      <th>fbs</th>\n",
       "      <th>restecg</th>\n",
       "      <th>thalach</th>\n",
       "      <th>exang</th>\n",
       "      <th>oldpeak</th>\n",
       "      <th>slope</th>\n",
       "      <th>ca</th>\n",
       "      <th>thal</th>\n",
       "      <th>target</th>\n",
       "    </tr>\n",
       "  </thead>\n",
       "  <tbody>\n",
       "    <tr>\n",
       "      <th>age</th>\n",
       "      <td>1.000000</td>\n",
       "      <td>-0.105859</td>\n",
       "      <td>-0.092161</td>\n",
       "      <td>0.280046</td>\n",
       "      <td>0.203287</td>\n",
       "      <td>0.110856</td>\n",
       "      <td>-0.149565</td>\n",
       "      <td>-0.383572</td>\n",
       "      <td>0.077391</td>\n",
       "      <td>0.264582</td>\n",
       "      <td>-0.180474</td>\n",
       "      <td>0.339660</td>\n",
       "      <td>0.088443</td>\n",
       "      <td>-0.240181</td>\n",
       "    </tr>\n",
       "    <tr>\n",
       "      <th>sex</th>\n",
       "      <td>-0.105859</td>\n",
       "      <td>1.000000</td>\n",
       "      <td>-0.053450</td>\n",
       "      <td>-0.071923</td>\n",
       "      <td>-0.152997</td>\n",
       "      <td>0.027200</td>\n",
       "      <td>-0.044169</td>\n",
       "      <td>-0.046480</td>\n",
       "      <td>0.139157</td>\n",
       "      <td>0.090896</td>\n",
       "      <td>-0.020843</td>\n",
       "      <td>0.113834</td>\n",
       "      <td>0.241115</td>\n",
       "      <td>-0.279501</td>\n",
       "    </tr>\n",
       "    <tr>\n",
       "      <th>cp</th>\n",
       "      <td>-0.092161</td>\n",
       "      <td>-0.053450</td>\n",
       "      <td>1.000000</td>\n",
       "      <td>0.025526</td>\n",
       "      <td>-0.092239</td>\n",
       "      <td>0.073738</td>\n",
       "      <td>0.066715</td>\n",
       "      <td>0.335338</td>\n",
       "      <td>-0.427933</td>\n",
       "      <td>-0.195285</td>\n",
       "      <td>0.169307</td>\n",
       "      <td>-0.217002</td>\n",
       "      <td>-0.212186</td>\n",
       "      <td>0.464894</td>\n",
       "    </tr>\n",
       "    <tr>\n",
       "      <th>trestbps</th>\n",
       "      <td>0.280046</td>\n",
       "      <td>-0.071923</td>\n",
       "      <td>0.025526</td>\n",
       "      <td>1.000000</td>\n",
       "      <td>0.127010</td>\n",
       "      <td>0.152272</td>\n",
       "      <td>-0.137273</td>\n",
       "      <td>-0.027979</td>\n",
       "      <td>0.043791</td>\n",
       "      <td>0.146722</td>\n",
       "      <td>-0.081828</td>\n",
       "      <td>0.091323</td>\n",
       "      <td>0.058995</td>\n",
       "      <td>-0.115009</td>\n",
       "    </tr>\n",
       "    <tr>\n",
       "      <th>chol</th>\n",
       "      <td>0.203287</td>\n",
       "      <td>-0.152997</td>\n",
       "      <td>-0.092239</td>\n",
       "      <td>0.127010</td>\n",
       "      <td>1.000000</td>\n",
       "      <td>0.034139</td>\n",
       "      <td>-0.163354</td>\n",
       "      <td>-0.053430</td>\n",
       "      <td>0.088895</td>\n",
       "      <td>0.057102</td>\n",
       "      <td>-0.026660</td>\n",
       "      <td>0.114584</td>\n",
       "      <td>0.084941</td>\n",
       "      <td>-0.132926</td>\n",
       "    </tr>\n",
       "    <tr>\n",
       "      <th>fbs</th>\n",
       "      <td>0.110856</td>\n",
       "      <td>0.027200</td>\n",
       "      <td>0.073738</td>\n",
       "      <td>0.152272</td>\n",
       "      <td>0.034139</td>\n",
       "      <td>1.000000</td>\n",
       "      <td>-0.101709</td>\n",
       "      <td>-0.016838</td>\n",
       "      <td>0.049261</td>\n",
       "      <td>0.032542</td>\n",
       "      <td>-0.048340</td>\n",
       "      <td>0.138197</td>\n",
       "      <td>-0.013372</td>\n",
       "      <td>-0.041164</td>\n",
       "    </tr>\n",
       "    <tr>\n",
       "      <th>restecg</th>\n",
       "      <td>-0.149565</td>\n",
       "      <td>-0.044169</td>\n",
       "      <td>0.066715</td>\n",
       "      <td>-0.137273</td>\n",
       "      <td>-0.163354</td>\n",
       "      <td>-0.101709</td>\n",
       "      <td>1.000000</td>\n",
       "      <td>0.092661</td>\n",
       "      <td>-0.073428</td>\n",
       "      <td>-0.075213</td>\n",
       "      <td>0.109506</td>\n",
       "      <td>-0.108580</td>\n",
       "      <td>-0.017285</td>\n",
       "      <td>0.147402</td>\n",
       "    </tr>\n",
       "    <tr>\n",
       "      <th>thalach</th>\n",
       "      <td>-0.383572</td>\n",
       "      <td>-0.046480</td>\n",
       "      <td>0.335338</td>\n",
       "      <td>-0.027979</td>\n",
       "      <td>-0.053430</td>\n",
       "      <td>-0.016838</td>\n",
       "      <td>0.092661</td>\n",
       "      <td>1.000000</td>\n",
       "      <td>-0.403849</td>\n",
       "      <td>-0.438630</td>\n",
       "      <td>0.443005</td>\n",
       "      <td>-0.253116</td>\n",
       "      <td>-0.158123</td>\n",
       "      <td>0.429093</td>\n",
       "    </tr>\n",
       "    <tr>\n",
       "      <th>exang</th>\n",
       "      <td>0.077391</td>\n",
       "      <td>0.139157</td>\n",
       "      <td>-0.427933</td>\n",
       "      <td>0.043791</td>\n",
       "      <td>0.088895</td>\n",
       "      <td>0.049261</td>\n",
       "      <td>-0.073428</td>\n",
       "      <td>-0.403849</td>\n",
       "      <td>1.000000</td>\n",
       "      <td>0.322149</td>\n",
       "      <td>-0.282593</td>\n",
       "      <td>0.158985</td>\n",
       "      <td>0.240512</td>\n",
       "      <td>-0.438029</td>\n",
       "    </tr>\n",
       "    <tr>\n",
       "      <th>oldpeak</th>\n",
       "      <td>0.264582</td>\n",
       "      <td>0.090896</td>\n",
       "      <td>-0.195285</td>\n",
       "      <td>0.146722</td>\n",
       "      <td>0.057102</td>\n",
       "      <td>0.032542</td>\n",
       "      <td>-0.075213</td>\n",
       "      <td>-0.438630</td>\n",
       "      <td>0.322149</td>\n",
       "      <td>1.000000</td>\n",
       "      <td>-0.594413</td>\n",
       "      <td>0.230183</td>\n",
       "      <td>0.253489</td>\n",
       "      <td>-0.437669</td>\n",
       "    </tr>\n",
       "    <tr>\n",
       "      <th>slope</th>\n",
       "      <td>-0.180474</td>\n",
       "      <td>-0.020843</td>\n",
       "      <td>0.169307</td>\n",
       "      <td>-0.081828</td>\n",
       "      <td>-0.026660</td>\n",
       "      <td>-0.048340</td>\n",
       "      <td>0.109506</td>\n",
       "      <td>0.443005</td>\n",
       "      <td>-0.282593</td>\n",
       "      <td>-0.594413</td>\n",
       "      <td>1.000000</td>\n",
       "      <td>-0.095393</td>\n",
       "      <td>-0.146059</td>\n",
       "      <td>0.368808</td>\n",
       "    </tr>\n",
       "    <tr>\n",
       "      <th>ca</th>\n",
       "      <td>0.339660</td>\n",
       "      <td>0.113834</td>\n",
       "      <td>-0.217002</td>\n",
       "      <td>0.091323</td>\n",
       "      <td>0.114584</td>\n",
       "      <td>0.138197</td>\n",
       "      <td>-0.108580</td>\n",
       "      <td>-0.253116</td>\n",
       "      <td>0.158985</td>\n",
       "      <td>0.230183</td>\n",
       "      <td>-0.095393</td>\n",
       "      <td>1.000000</td>\n",
       "      <td>0.186155</td>\n",
       "      <td>-0.453329</td>\n",
       "    </tr>\n",
       "    <tr>\n",
       "      <th>thal</th>\n",
       "      <td>0.088443</td>\n",
       "      <td>0.241115</td>\n",
       "      <td>-0.212186</td>\n",
       "      <td>0.058995</td>\n",
       "      <td>0.084941</td>\n",
       "      <td>-0.013372</td>\n",
       "      <td>-0.017285</td>\n",
       "      <td>-0.158123</td>\n",
       "      <td>0.240512</td>\n",
       "      <td>0.253489</td>\n",
       "      <td>-0.146059</td>\n",
       "      <td>0.186155</td>\n",
       "      <td>1.000000</td>\n",
       "      <td>-0.398973</td>\n",
       "    </tr>\n",
       "    <tr>\n",
       "      <th>target</th>\n",
       "      <td>-0.240181</td>\n",
       "      <td>-0.279501</td>\n",
       "      <td>0.464894</td>\n",
       "      <td>-0.115009</td>\n",
       "      <td>-0.132926</td>\n",
       "      <td>-0.041164</td>\n",
       "      <td>0.147402</td>\n",
       "      <td>0.429093</td>\n",
       "      <td>-0.438029</td>\n",
       "      <td>-0.437669</td>\n",
       "      <td>0.368808</td>\n",
       "      <td>-0.453329</td>\n",
       "      <td>-0.398973</td>\n",
       "      <td>1.000000</td>\n",
       "    </tr>\n",
       "  </tbody>\n",
       "</table>\n",
       "</div>"
      ],
      "text/plain": [
       "               age       sex        cp  trestbps      chol       fbs  \\\n",
       "age       1.000000 -0.105859 -0.092161  0.280046  0.203287  0.110856   \n",
       "sex      -0.105859  1.000000 -0.053450 -0.071923 -0.152997  0.027200   \n",
       "cp       -0.092161 -0.053450  1.000000  0.025526 -0.092239  0.073738   \n",
       "trestbps  0.280046 -0.071923  0.025526  1.000000  0.127010  0.152272   \n",
       "chol      0.203287 -0.152997 -0.092239  0.127010  1.000000  0.034139   \n",
       "fbs       0.110856  0.027200  0.073738  0.152272  0.034139  1.000000   \n",
       "restecg  -0.149565 -0.044169  0.066715 -0.137273 -0.163354 -0.101709   \n",
       "thalach  -0.383572 -0.046480  0.335338 -0.027979 -0.053430 -0.016838   \n",
       "exang     0.077391  0.139157 -0.427933  0.043791  0.088895  0.049261   \n",
       "oldpeak   0.264582  0.090896 -0.195285  0.146722  0.057102  0.032542   \n",
       "slope    -0.180474 -0.020843  0.169307 -0.081828 -0.026660 -0.048340   \n",
       "ca        0.339660  0.113834 -0.217002  0.091323  0.114584  0.138197   \n",
       "thal      0.088443  0.241115 -0.212186  0.058995  0.084941 -0.013372   \n",
       "target   -0.240181 -0.279501  0.464894 -0.115009 -0.132926 -0.041164   \n",
       "\n",
       "           restecg   thalach     exang   oldpeak     slope        ca  \\\n",
       "age      -0.149565 -0.383572  0.077391  0.264582 -0.180474  0.339660   \n",
       "sex      -0.044169 -0.046480  0.139157  0.090896 -0.020843  0.113834   \n",
       "cp        0.066715  0.335338 -0.427933 -0.195285  0.169307 -0.217002   \n",
       "trestbps -0.137273 -0.027979  0.043791  0.146722 -0.081828  0.091323   \n",
       "chol     -0.163354 -0.053430  0.088895  0.057102 -0.026660  0.114584   \n",
       "fbs      -0.101709 -0.016838  0.049261  0.032542 -0.048340  0.138197   \n",
       "restecg   1.000000  0.092661 -0.073428 -0.075213  0.109506 -0.108580   \n",
       "thalach   0.092661  1.000000 -0.403849 -0.438630  0.443005 -0.253116   \n",
       "exang    -0.073428 -0.403849  1.000000  0.322149 -0.282593  0.158985   \n",
       "oldpeak  -0.075213 -0.438630  0.322149  1.000000 -0.594413  0.230183   \n",
       "slope     0.109506  0.443005 -0.282593 -0.594413  1.000000 -0.095393   \n",
       "ca       -0.108580 -0.253116  0.158985  0.230183 -0.095393  1.000000   \n",
       "thal     -0.017285 -0.158123  0.240512  0.253489 -0.146059  0.186155   \n",
       "target    0.147402  0.429093 -0.438029 -0.437669  0.368808 -0.453329   \n",
       "\n",
       "              thal    target  \n",
       "age       0.088443 -0.240181  \n",
       "sex       0.241115 -0.279501  \n",
       "cp       -0.212186  0.464894  \n",
       "trestbps  0.058995 -0.115009  \n",
       "chol      0.084941 -0.132926  \n",
       "fbs      -0.013372 -0.041164  \n",
       "restecg  -0.017285  0.147402  \n",
       "thalach  -0.158123  0.429093  \n",
       "exang     0.240512 -0.438029  \n",
       "oldpeak   0.253489 -0.437669  \n",
       "slope    -0.146059  0.368808  \n",
       "ca        0.186155 -0.453329  \n",
       "thal      1.000000 -0.398973  \n",
       "target   -0.398973  1.000000  "
      ]
     },
     "execution_count": 78,
     "metadata": {},
     "output_type": "execute_result"
    }
   ],
   "source": [
    "corr_matrix=cardio.corr(method=\"spearman\")\n",
    "corr_matrix"
   ]
  },
  {
   "cell_type": "code",
   "execution_count": null,
   "id": "55de1a9f",
   "metadata": {},
   "outputs": [],
   "source": []
  },
  {
   "cell_type": "markdown",
   "id": "224ad979",
   "metadata": {},
   "source": [
    "# Kendall’s Rank Correlation:-Non Parametric Test"
   ]
  },
  {
   "cell_type": "code",
   "execution_count": null,
   "id": "3f9eacf5",
   "metadata": {},
   "outputs": [],
   "source": [
    "Kendall’s Rank Correlation\n",
    "Tests whether a data sample is montonically separable.\n",
    "Assumption\n",
    "a) Observations in each sample are independent and distributed identically.\n",
    "\n",
    "Hypothesis\n",
    "H0: the samples are correlated.\n",
    "H1: the sample does not have any correlation."
   ]
  },
  {
   "cell_type": "code",
   "execution_count": null,
   "id": "0be9d3b5",
   "metadata": {},
   "outputs": [],
   "source": []
  },
  {
   "cell_type": "code",
   "execution_count": 79,
   "id": "decf18a2",
   "metadata": {},
   "outputs": [
    {
     "data": {
      "text/html": [
       "<div>\n",
       "<style scoped>\n",
       "    .dataframe tbody tr th:only-of-type {\n",
       "        vertical-align: middle;\n",
       "    }\n",
       "\n",
       "    .dataframe tbody tr th {\n",
       "        vertical-align: top;\n",
       "    }\n",
       "\n",
       "    .dataframe thead th {\n",
       "        text-align: right;\n",
       "    }\n",
       "</style>\n",
       "<table border=\"1\" class=\"dataframe\">\n",
       "  <thead>\n",
       "    <tr style=\"text-align: right;\">\n",
       "      <th></th>\n",
       "      <th>age</th>\n",
       "      <th>sex</th>\n",
       "      <th>cp</th>\n",
       "      <th>trestbps</th>\n",
       "      <th>chol</th>\n",
       "      <th>fbs</th>\n",
       "      <th>restecg</th>\n",
       "      <th>thalach</th>\n",
       "      <th>exang</th>\n",
       "      <th>oldpeak</th>\n",
       "      <th>slope</th>\n",
       "      <th>ca</th>\n",
       "      <th>thal</th>\n",
       "      <th>target</th>\n",
       "    </tr>\n",
       "  </thead>\n",
       "  <tbody>\n",
       "    <tr>\n",
       "      <th>age</th>\n",
       "      <td>1.000000</td>\n",
       "      <td>-0.087862</td>\n",
       "      <td>-0.075041</td>\n",
       "      <td>0.196592</td>\n",
       "      <td>0.140355</td>\n",
       "      <td>0.092009</td>\n",
       "      <td>-0.122945</td>\n",
       "      <td>-0.270246</td>\n",
       "      <td>0.064234</td>\n",
       "      <td>0.190485</td>\n",
       "      <td>-0.144596</td>\n",
       "      <td>0.272165</td>\n",
       "      <td>0.071441</td>\n",
       "      <td>-0.199348</td>\n",
       "    </tr>\n",
       "    <tr>\n",
       "      <th>sex</th>\n",
       "      <td>-0.087862</td>\n",
       "      <td>1.000000</td>\n",
       "      <td>-0.049971</td>\n",
       "      <td>-0.060382</td>\n",
       "      <td>-0.125464</td>\n",
       "      <td>0.027200</td>\n",
       "      <td>-0.043863</td>\n",
       "      <td>-0.038260</td>\n",
       "      <td>0.139157</td>\n",
       "      <td>0.077931</td>\n",
       "      <td>-0.020261</td>\n",
       "      <td>0.106804</td>\n",
       "      <td>0.234454</td>\n",
       "      <td>-0.279501</td>\n",
       "    </tr>\n",
       "    <tr>\n",
       "      <th>cp</th>\n",
       "      <td>-0.075041</td>\n",
       "      <td>-0.049971</td>\n",
       "      <td>1.000000</td>\n",
       "      <td>0.019977</td>\n",
       "      <td>-0.070332</td>\n",
       "      <td>0.068938</td>\n",
       "      <td>0.061801</td>\n",
       "      <td>0.255115</td>\n",
       "      <td>-0.400078</td>\n",
       "      <td>-0.152024</td>\n",
       "      <td>0.154094</td>\n",
       "      <td>-0.190059</td>\n",
       "      <td>-0.193061</td>\n",
       "      <td>0.434633</td>\n",
       "    </tr>\n",
       "    <tr>\n",
       "      <th>trestbps</th>\n",
       "      <td>0.196592</td>\n",
       "      <td>-0.060382</td>\n",
       "      <td>0.019977</td>\n",
       "      <td>1.000000</td>\n",
       "      <td>0.086805</td>\n",
       "      <td>0.127838</td>\n",
       "      <td>-0.114669</td>\n",
       "      <td>-0.019251</td>\n",
       "      <td>0.036764</td>\n",
       "      <td>0.103829</td>\n",
       "      <td>-0.066334</td>\n",
       "      <td>0.071111</td>\n",
       "      <td>0.048497</td>\n",
       "      <td>-0.096554</td>\n",
       "    </tr>\n",
       "    <tr>\n",
       "      <th>chol</th>\n",
       "      <td>0.140355</td>\n",
       "      <td>-0.125464</td>\n",
       "      <td>-0.070332</td>\n",
       "      <td>0.086805</td>\n",
       "      <td>1.000000</td>\n",
       "      <td>0.027995</td>\n",
       "      <td>-0.133852</td>\n",
       "      <td>-0.035904</td>\n",
       "      <td>0.072897</td>\n",
       "      <td>0.043871</td>\n",
       "      <td>-0.021385</td>\n",
       "      <td>0.091229</td>\n",
       "      <td>0.067184</td>\n",
       "      <td>-0.109004</td>\n",
       "    </tr>\n",
       "    <tr>\n",
       "      <th>fbs</th>\n",
       "      <td>0.092009</td>\n",
       "      <td>0.027200</td>\n",
       "      <td>0.068938</td>\n",
       "      <td>0.127838</td>\n",
       "      <td>0.027995</td>\n",
       "      <td>1.000000</td>\n",
       "      <td>-0.101004</td>\n",
       "      <td>-0.013860</td>\n",
       "      <td>0.049261</td>\n",
       "      <td>0.027901</td>\n",
       "      <td>-0.046991</td>\n",
       "      <td>0.129663</td>\n",
       "      <td>-0.013003</td>\n",
       "      <td>-0.041164</td>\n",
       "    </tr>\n",
       "    <tr>\n",
       "      <th>restecg</th>\n",
       "      <td>-0.122945</td>\n",
       "      <td>-0.043863</td>\n",
       "      <td>0.061801</td>\n",
       "      <td>-0.114669</td>\n",
       "      <td>-0.133852</td>\n",
       "      <td>-0.101004</td>\n",
       "      <td>1.000000</td>\n",
       "      <td>0.076304</td>\n",
       "      <td>-0.072919</td>\n",
       "      <td>-0.064399</td>\n",
       "      <td>0.105932</td>\n",
       "      <td>-0.101349</td>\n",
       "      <td>-0.016768</td>\n",
       "      <td>0.146380</td>\n",
       "    </tr>\n",
       "    <tr>\n",
       "      <th>thalach</th>\n",
       "      <td>-0.270246</td>\n",
       "      <td>-0.038260</td>\n",
       "      <td>0.255115</td>\n",
       "      <td>-0.019251</td>\n",
       "      <td>-0.035904</td>\n",
       "      <td>-0.013860</td>\n",
       "      <td>0.076304</td>\n",
       "      <td>1.000000</td>\n",
       "      <td>-0.332435</td>\n",
       "      <td>-0.309756</td>\n",
       "      <td>0.354438</td>\n",
       "      <td>-0.194792</td>\n",
       "      <td>-0.128231</td>\n",
       "      <td>0.353215</td>\n",
       "    </tr>\n",
       "    <tr>\n",
       "      <th>exang</th>\n",
       "      <td>0.064234</td>\n",
       "      <td>0.139157</td>\n",
       "      <td>-0.400078</td>\n",
       "      <td>0.036764</td>\n",
       "      <td>0.072897</td>\n",
       "      <td>0.049261</td>\n",
       "      <td>-0.072919</td>\n",
       "      <td>-0.332435</td>\n",
       "      <td>1.000000</td>\n",
       "      <td>0.276200</td>\n",
       "      <td>-0.274703</td>\n",
       "      <td>0.149167</td>\n",
       "      <td>0.233868</td>\n",
       "      <td>-0.438029</td>\n",
       "    </tr>\n",
       "    <tr>\n",
       "      <th>oldpeak</th>\n",
       "      <td>0.190485</td>\n",
       "      <td>0.077931</td>\n",
       "      <td>-0.152024</td>\n",
       "      <td>0.103829</td>\n",
       "      <td>0.043871</td>\n",
       "      <td>0.027901</td>\n",
       "      <td>-0.064399</td>\n",
       "      <td>-0.309756</td>\n",
       "      <td>0.276200</td>\n",
       "      <td>1.000000</td>\n",
       "      <td>-0.507964</td>\n",
       "      <td>0.186809</td>\n",
       "      <td>0.212163</td>\n",
       "      <td>-0.375243</td>\n",
       "    </tr>\n",
       "    <tr>\n",
       "      <th>slope</th>\n",
       "      <td>-0.144596</td>\n",
       "      <td>-0.020261</td>\n",
       "      <td>0.154094</td>\n",
       "      <td>-0.066334</td>\n",
       "      <td>-0.021385</td>\n",
       "      <td>-0.046991</td>\n",
       "      <td>0.105932</td>\n",
       "      <td>0.354438</td>\n",
       "      <td>-0.274703</td>\n",
       "      <td>-0.507964</td>\n",
       "      <td>1.000000</td>\n",
       "      <td>-0.087619</td>\n",
       "      <td>-0.138784</td>\n",
       "      <td>0.358511</td>\n",
       "    </tr>\n",
       "    <tr>\n",
       "      <th>ca</th>\n",
       "      <td>0.272165</td>\n",
       "      <td>0.106804</td>\n",
       "      <td>-0.190059</td>\n",
       "      <td>0.071111</td>\n",
       "      <td>0.091229</td>\n",
       "      <td>0.129663</td>\n",
       "      <td>-0.101349</td>\n",
       "      <td>-0.194792</td>\n",
       "      <td>0.149167</td>\n",
       "      <td>0.186809</td>\n",
       "      <td>-0.087619</td>\n",
       "      <td>1.000000</td>\n",
       "      <td>0.170080</td>\n",
       "      <td>-0.425335</td>\n",
       "    </tr>\n",
       "    <tr>\n",
       "      <th>thal</th>\n",
       "      <td>0.071441</td>\n",
       "      <td>0.234454</td>\n",
       "      <td>-0.193061</td>\n",
       "      <td>0.048497</td>\n",
       "      <td>0.067184</td>\n",
       "      <td>-0.013003</td>\n",
       "      <td>-0.016768</td>\n",
       "      <td>-0.128231</td>\n",
       "      <td>0.233868</td>\n",
       "      <td>0.212163</td>\n",
       "      <td>-0.138784</td>\n",
       "      <td>0.170080</td>\n",
       "      <td>1.000000</td>\n",
       "      <td>-0.387952</td>\n",
       "    </tr>\n",
       "    <tr>\n",
       "      <th>target</th>\n",
       "      <td>-0.199348</td>\n",
       "      <td>-0.279501</td>\n",
       "      <td>0.434633</td>\n",
       "      <td>-0.096554</td>\n",
       "      <td>-0.109004</td>\n",
       "      <td>-0.041164</td>\n",
       "      <td>0.146380</td>\n",
       "      <td>0.353215</td>\n",
       "      <td>-0.438029</td>\n",
       "      <td>-0.375243</td>\n",
       "      <td>0.358511</td>\n",
       "      <td>-0.425335</td>\n",
       "      <td>-0.387952</td>\n",
       "      <td>1.000000</td>\n",
       "    </tr>\n",
       "  </tbody>\n",
       "</table>\n",
       "</div>"
      ],
      "text/plain": [
       "               age       sex        cp  trestbps      chol       fbs  \\\n",
       "age       1.000000 -0.087862 -0.075041  0.196592  0.140355  0.092009   \n",
       "sex      -0.087862  1.000000 -0.049971 -0.060382 -0.125464  0.027200   \n",
       "cp       -0.075041 -0.049971  1.000000  0.019977 -0.070332  0.068938   \n",
       "trestbps  0.196592 -0.060382  0.019977  1.000000  0.086805  0.127838   \n",
       "chol      0.140355 -0.125464 -0.070332  0.086805  1.000000  0.027995   \n",
       "fbs       0.092009  0.027200  0.068938  0.127838  0.027995  1.000000   \n",
       "restecg  -0.122945 -0.043863  0.061801 -0.114669 -0.133852 -0.101004   \n",
       "thalach  -0.270246 -0.038260  0.255115 -0.019251 -0.035904 -0.013860   \n",
       "exang     0.064234  0.139157 -0.400078  0.036764  0.072897  0.049261   \n",
       "oldpeak   0.190485  0.077931 -0.152024  0.103829  0.043871  0.027901   \n",
       "slope    -0.144596 -0.020261  0.154094 -0.066334 -0.021385 -0.046991   \n",
       "ca        0.272165  0.106804 -0.190059  0.071111  0.091229  0.129663   \n",
       "thal      0.071441  0.234454 -0.193061  0.048497  0.067184 -0.013003   \n",
       "target   -0.199348 -0.279501  0.434633 -0.096554 -0.109004 -0.041164   \n",
       "\n",
       "           restecg   thalach     exang   oldpeak     slope        ca  \\\n",
       "age      -0.122945 -0.270246  0.064234  0.190485 -0.144596  0.272165   \n",
       "sex      -0.043863 -0.038260  0.139157  0.077931 -0.020261  0.106804   \n",
       "cp        0.061801  0.255115 -0.400078 -0.152024  0.154094 -0.190059   \n",
       "trestbps -0.114669 -0.019251  0.036764  0.103829 -0.066334  0.071111   \n",
       "chol     -0.133852 -0.035904  0.072897  0.043871 -0.021385  0.091229   \n",
       "fbs      -0.101004 -0.013860  0.049261  0.027901 -0.046991  0.129663   \n",
       "restecg   1.000000  0.076304 -0.072919 -0.064399  0.105932 -0.101349   \n",
       "thalach   0.076304  1.000000 -0.332435 -0.309756  0.354438 -0.194792   \n",
       "exang    -0.072919 -0.332435  1.000000  0.276200 -0.274703  0.149167   \n",
       "oldpeak  -0.064399 -0.309756  0.276200  1.000000 -0.507964  0.186809   \n",
       "slope     0.105932  0.354438 -0.274703 -0.507964  1.000000 -0.087619   \n",
       "ca       -0.101349 -0.194792  0.149167  0.186809 -0.087619  1.000000   \n",
       "thal     -0.016768 -0.128231  0.233868  0.212163 -0.138784  0.170080   \n",
       "target    0.146380  0.353215 -0.438029 -0.375243  0.358511 -0.425335   \n",
       "\n",
       "              thal    target  \n",
       "age       0.071441 -0.199348  \n",
       "sex       0.234454 -0.279501  \n",
       "cp       -0.193061  0.434633  \n",
       "trestbps  0.048497 -0.096554  \n",
       "chol      0.067184 -0.109004  \n",
       "fbs      -0.013003 -0.041164  \n",
       "restecg  -0.016768  0.146380  \n",
       "thalach  -0.128231  0.353215  \n",
       "exang     0.233868 -0.438029  \n",
       "oldpeak   0.212163 -0.375243  \n",
       "slope    -0.138784  0.358511  \n",
       "ca        0.170080 -0.425335  \n",
       "thal      1.000000 -0.387952  \n",
       "target   -0.387952  1.000000  "
      ]
     },
     "execution_count": 79,
     "metadata": {},
     "output_type": "execute_result"
    }
   ],
   "source": [
    "corr_matrix=cardio.corr(method=\"kendall\")\n",
    "corr_matrix"
   ]
  },
  {
   "cell_type": "markdown",
   "id": "63874bff",
   "metadata": {},
   "source": [
    "# Analysis of Variance Test (ANOVA)"
   ]
  },
  {
   "cell_type": "code",
   "execution_count": null,
   "id": "d3ef7976",
   "metadata": {},
   "outputs": [],
   "source": [
    "Average between two data samples are significantly independent and different.\n",
    "Assumption\n",
    "a)Each data sample's observation are independent and distributed.\n",
    "b)Observations are normally distributed.\n",
    "c)Observations have same variance between each other.\n",
    "Hypothesis\n",
    "H0: the mean between two samples are equal .\n",
    "H1: the mean between two samples are not equal."
   ]
  },
  {
   "cell_type": "code",
   "execution_count": 80,
   "id": "9aa2543c",
   "metadata": {},
   "outputs": [],
   "source": [
    "data1 = [0.873, 2.817, 0.121, -0.945, -0.055, -1.436, 0.360, -1.478, -1.637, -1.869]\n",
    "data2 = [1.142, -0.432, -0.938, -0.729, -0.846, -0.157, 0.500, 1.183, -1.075, -0.169]\n",
    "data3 = [-0.208, 0.696, 0.928, -1.148, -0.213, 0.229, 0.137, 0.269, -0.870, -1.204]"
   ]
  },
  {
   "cell_type": "code",
   "execution_count": 81,
   "id": "bb260062",
   "metadata": {},
   "outputs": [
    {
     "data": {
      "text/plain": [
       "0.9083957433926546"
      ]
     },
     "execution_count": 81,
     "metadata": {},
     "output_type": "execute_result"
    }
   ],
   "source": [
    "from scipy.stats import f_oneway\n",
    "sata,p=f_oneway(data1,data2,data3)\n",
    "p"
   ]
  },
  {
   "cell_type": "code",
   "execution_count": null,
   "id": "2fa1b929",
   "metadata": {},
   "outputs": [],
   "source": [
    "our p value is more than 0.05 not able to reject the null hypothesis."
   ]
  },
  {
   "cell_type": "code",
   "execution_count": null,
   "id": "830950b7",
   "metadata": {},
   "outputs": [],
   "source": [
    "H0: the mean between two samples are equal ."
   ]
  },
  {
   "cell_type": "code",
   "execution_count": null,
   "id": "779f405a",
   "metadata": {},
   "outputs": [],
   "source": []
  },
  {
   "cell_type": "code",
   "execution_count": null,
   "id": "c1e64a0f",
   "metadata": {},
   "outputs": [],
   "source": []
  },
  {
   "cell_type": "code",
   "execution_count": null,
   "id": "a9194fd6",
   "metadata": {},
   "outputs": [],
   "source": []
  },
  {
   "cell_type": "markdown",
   "id": "4a509600",
   "metadata": {},
   "source": [
    "# Nonparametric Statistical Hypothesis Tests"
   ]
  },
  {
   "cell_type": "markdown",
   "id": "5c35ae56",
   "metadata": {},
   "source": [
    "# Mann-Whitney U Test"
   ]
  },
  {
   "cell_type": "code",
   "execution_count": null,
   "id": "73cf0ab2",
   "metadata": {},
   "outputs": [],
   "source": [
    "\n",
    "Distribution of two data samples are equal or not.\n",
    "Assumption\n",
    "a)Each data sample's observation are independent and distributed.\n",
    "b)Observations in each data samples can be ranked.\n",
    "Hypothesis\n",
    "H0: the distribution of two samples are equal .\n",
    "H1: the distribution of two samples are not equal."
   ]
  },
  {
   "cell_type": "code",
   "execution_count": null,
   "id": "ad7bf028",
   "metadata": {},
   "outputs": [],
   "source": [
    "# Example of the Mann-Whitney U Test\n",
    "from scipy.stats import mannwhitneyu\n",
    "data1 = [0.873, 2.817, 0.121, -0.945, -0.055, -1.436, 0.360, -1.478, -1.637, -1.869]\n",
    "data2 = [1.142, -0.432, -0.938, -0.729, -0.846, -0.157, 0.500, 1.183, -1.075, -0.169]\n"
   ]
  },
  {
   "cell_type": "code",
   "execution_count": null,
   "id": "98af2730",
   "metadata": {},
   "outputs": [],
   "source": []
  },
  {
   "cell_type": "code",
   "execution_count": null,
   "id": "2b7cb063",
   "metadata": {},
   "outputs": [],
   "source": []
  },
  {
   "cell_type": "code",
   "execution_count": null,
   "id": "2ddb55b6",
   "metadata": {},
   "outputs": [],
   "source": []
  },
  {
   "cell_type": "code",
   "execution_count": null,
   "id": "b28b193a",
   "metadata": {},
   "outputs": [],
   "source": []
  },
  {
   "cell_type": "markdown",
   "id": "8f8c4bfd",
   "metadata": {},
   "source": [
    "# Correlation tests"
   ]
  },
  {
   "cell_type": "code",
   "execution_count": null,
   "id": "a66eb468",
   "metadata": {},
   "outputs": [],
   "source": [
    "Correlation tests check whether variables are related without hypothesizing a \n",
    "cause-and-effect relationship.\n",
    "\n",
    "These can be used to test whether two variables you want to use in (for example\n",
    "independent variables) a multiple regression test are autocorrelated."
   ]
  },
  {
   "cell_type": "code",
   "execution_count": null,
   "id": "80c9c9b3",
   "metadata": {},
   "outputs": [],
   "source": [
    "Parametric Test:-parametric tests make many assumptions about the data- \n",
    "linear relationship,Homegenity.\n",
    "\n",
    "pearson's correlation test:- Parametric test\n",
    "how are two independet variables are related."
   ]
  },
  {
   "cell_type": "code",
   "execution_count": null,
   "id": "dd146678",
   "metadata": {},
   "outputs": [],
   "source": [
    "nonparametric test:-\n",
    "Non-parametric tests don’t make as many assumptions about the data, \n",
    "and are useful when one or more of the common statistical assumptions \n",
    "are violated. However, the inferences they make aren’t as strong as \n",
    "with parametric tests."
   ]
  },
  {
   "cell_type": "code",
   "execution_count": null,
   "id": "434579aa",
   "metadata": {},
   "outputs": [],
   "source": [
    "Spearman’s r:- can be use for non parametric data in place of Pearson's r correlation test."
   ]
  },
  {
   "cell_type": "markdown",
   "id": "8794132c",
   "metadata": {},
   "source": [
    "# Pearson’s chi-squared statistical"
   ]
  },
  {
   "cell_type": "markdown",
   "id": "99f3a2ee",
   "metadata": {},
   "source": [
    "# feature selection using chi-squared test"
   ]
  },
  {
   "cell_type": "code",
   "execution_count": null,
   "id": "b346460f",
   "metadata": {},
   "outputs": [],
   "source": [
    "A common problem in applied machine learning is determining whether input features \n",
    "are relevant to the outcome to be predicted.\n",
    "\n",
    "This is the problem of feature selection.\n",
    "\n",
    "In the case of classification problems where input variables are also categorical, \n",
    "we can use statistical tests to determine whether the output variable is dependent or \n",
    "independent of the input variables. If independent, then the input variable is a \n",
    "candidate for a feature that may be irrelevant to the problem and removed from the dataset.\n",
    "\n",
    "The Pearson’s chi-squared statistical hypothesis is an example of a test for independence \n",
    "between categorical variables."
   ]
  },
  {
   "cell_type": "code",
   "execution_count": null,
   "id": "8548c16c",
   "metadata": {},
   "outputs": [],
   "source": [
    "#its a discrete variables like for example\n",
    "import pandas as pd\n",
    "data = pd.DataFrame({\n",
    "\"y1\": [1,1,1,1,1,1,1,1,0,1,0,0],\n",
    "\"y2\":[1,1,1,1,1,1,1,1,0,1,1,0],\n",
    "\"y3\": [0,1,0,0,0,1,0,0,0,1,1,0],\n",
    "\"y4\": [0,1,1,1,0,0,1,1,0,0,1,0],\n",
    "\n",
    "})\n"
   ]
  },
  {
   "cell_type": "code",
   "execution_count": null,
   "id": "71e0ae17",
   "metadata": {},
   "outputs": [],
   "source": [
    "data.head()"
   ]
  },
  {
   "cell_type": "code",
   "execution_count": null,
   "id": "082e180e",
   "metadata": {},
   "outputs": [],
   "source": []
  },
  {
   "cell_type": "code",
   "execution_count": null,
   "id": "9de07892",
   "metadata": {},
   "outputs": [],
   "source": []
  },
  {
   "cell_type": "code",
   "execution_count": null,
   "id": "5fc13185",
   "metadata": {},
   "outputs": [],
   "source": []
  },
  {
   "cell_type": "code",
   "execution_count": null,
   "id": "8be65e3e",
   "metadata": {},
   "outputs": [],
   "source": []
  },
  {
   "cell_type": "code",
   "execution_count": null,
   "id": "f9971da7",
   "metadata": {},
   "outputs": [],
   "source": [
    "# use Pearson’s chi-squared statistical hypothesis\n",
    "# before that we have to create Contingency tables"
   ]
  },
  {
   "cell_type": "code",
   "execution_count": null,
   "id": "66866ef2",
   "metadata": {},
   "outputs": [],
   "source": [
    "A contingency table is a multi-way table that describes a data set in which \n",
    "each observation belongs to one category for each of several variables."
   ]
  },
  {
   "cell_type": "code",
   "execution_count": null,
   "id": "78d53010",
   "metadata": {},
   "outputs": [],
   "source": []
  },
  {
   "cell_type": "code",
   "execution_count": null,
   "id": "7594a657",
   "metadata": {},
   "outputs": [],
   "source": [
    "import numpy as np\n",
    "import pandas as pd\n",
    "from scipy.stats import chi2_contingency\n",
    "import scipy"
   ]
  },
  {
   "cell_type": "code",
   "execution_count": null,
   "id": "906e7ebd",
   "metadata": {},
   "outputs": [],
   "source": [
    "stat, p, dof, expected = chi2_contingency(tab)"
   ]
  },
  {
   "cell_type": "code",
   "execution_count": null,
   "id": "65661a75",
   "metadata": {},
   "outputs": [],
   "source": [
    "print(\"stat \\n\",stat)"
   ]
  },
  {
   "cell_type": "code",
   "execution_count": null,
   "id": "0a41aae5",
   "metadata": {},
   "outputs": [],
   "source": [
    "print(\"P \\n\",p)"
   ]
  },
  {
   "cell_type": "code",
   "execution_count": null,
   "id": "9468a8e6",
   "metadata": {},
   "outputs": [],
   "source": [
    "if p > 0.05:\n",
    "    print('Probably independent')"
   ]
  },
  {
   "cell_type": "code",
   "execution_count": null,
   "id": "48b3fafd",
   "metadata": {},
   "outputs": [],
   "source": [
    "print(\"expected \\n\",expected)"
   ]
  },
  {
   "cell_type": "code",
   "execution_count": null,
   "id": "439c3c46",
   "metadata": {},
   "outputs": [],
   "source": []
  },
  {
   "cell_type": "code",
   "execution_count": null,
   "id": "29d538c0",
   "metadata": {},
   "outputs": [],
   "source": []
  },
  {
   "cell_type": "code",
   "execution_count": null,
   "id": "d809dd00",
   "metadata": {},
   "outputs": [],
   "source": []
  },
  {
   "attachments": {
    "flowchart-for-choosing-a-statistical-test-993x1024.png": {
     "image/png": "[encoded data removed]"
    }
   },
   "cell_type": "markdown",
   "id": "7472020b",
   "metadata": {},
   "source": [
    "![flowchart-for-choosing-a-statistical-test-993x1024.png](attachment:flowchart-for-choosing-a-statistical-test-993x1024.png)"
   ]
  },
  {
   "cell_type": "code",
   "execution_count": null,
   "id": "8665d576",
   "metadata": {},
   "outputs": [],
   "source": []
  }
 ],
 "metadata": {
  "kernelspec": {
   "display_name": "Python 3 (ipykernel)",
   "language": "python",
   "name": "python3"
  },
  "language_info": {
   "codemirror_mode": {
    "name": "ipython",
    "version": 3
   },
   "file_extension": ".py",
   "mimetype": "text/x-python",
   "name": "python",
   "nbconvert_exporter": "python",
   "pygments_lexer": "ipython3",
   "version": "3.11.8"
  }
 },
 "nbformat": 4,
 "nbformat_minor": 5
}
