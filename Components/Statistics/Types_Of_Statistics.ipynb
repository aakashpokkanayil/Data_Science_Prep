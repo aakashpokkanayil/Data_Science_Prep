{
 "cells": [
  {
   "cell_type": "markdown",
   "id": "6a44acae",
   "metadata": {},
   "source": [
    "# Types Of Statistics"
   ]
  },
  {
   "cell_type": "markdown",
   "id": "8947e450",
   "metadata": {},
   "source": [
    "1. **Descriptive Statistics:** **Descriptive Statistics** mainly summerizes the data \n",
    "\n",
    "    a. it involves **Collection, Organization, summarization, and presentation** of data.\n",
    "    \n",
    "    b. its main purpose is to **provide clear and consize summary of features** in our dataset.\n",
    "\n",
    "\n",
    "2. **Inferential Statistics:** In **Inferential Statistics** we will make **Inferences or Predictions** about the population data with the basis of study (Descriptive also included) which we done on sample data."
   ]
  },
  {
   "cell_type": "code",
   "execution_count": null,
   "id": "cbf2ef3f",
   "metadata": {},
   "outputs": [],
   "source": []
  },
  {
   "cell_type": "code",
   "execution_count": null,
   "id": "bdbf7543",
   "metadata": {},
   "outputs": [],
   "source": []
  },
  {
   "cell_type": "code",
   "execution_count": null,
   "id": "677ef708",
   "metadata": {},
   "outputs": [],
   "source": []
  }
 ],
 "metadata": {
  "kernelspec": {
   "display_name": "anaconda-2022.05-py39",
   "language": "python",
   "name": "conda-env-anaconda-2022.05-py39-py"
  },
  "language_info": {
   "codemirror_mode": {
    "name": "ipython",
    "version": 3
   },
   "file_extension": ".py",
   "mimetype": "text/x-python",
   "name": "python",
   "nbconvert_exporter": "python",
   "pygments_lexer": "ipython3",
   "version": "3.9.12"
  }
 },
 "nbformat": 4,
 "nbformat_minor": 5
}
