{
 "cells": [
  {
   "cell_type": "markdown",
   "metadata": {},
   "source": [
    "[hypo_pdf_1](hypothesis_test.pdf)"
   ]
  },
  {
   "cell_type": "markdown",
   "metadata": {},
   "source": [
    "[Hypothesis_testing_2](Hypothesis_testing_2.pdf)"
   ]
  },
  {
   "cell_type": "markdown",
   "metadata": {},
   "source": []
  }
 ],
 "metadata": {
  "language_info": {
   "name": "python"
  }
 },
 "nbformat": 4,
 "nbformat_minor": 2
}
